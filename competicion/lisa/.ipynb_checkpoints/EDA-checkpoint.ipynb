{
 "cells": [
  {
   "cell_type": "code",
   "execution_count": 8,
   "metadata": {},
   "outputs": [],
   "source": [
    "import pandas as pd\n",
    "import numpy as np\n",
    "from sklearn.preprocessing import OrdinalEncoder\n",
    "from sklearn.model_selection import train_test_split\n",
    "import matplotlib.pyplot as plt \n",
    "from datetime import datetime\n",
    "\n",
    "\n",
    "#import geopandas as gpd\n",
    "#import geoplot as gplt\n",
    "#import mapclassify\n",
    "import matplotlib.pyplot as plt\n",
    "from matplotlib import colors, cm\n",
    "import numpy as np # linear algebra\n",
    "import pandas as pd # data processing, CSV file I/O (e.g. pd.read_csv)\n",
    "import plotly.express as px\n",
    "import re\n",
    "import seaborn as sns\n",
    "#!pip3 install seaborn\n",
    "from plotly.offline import plot\n",
    "from plotly.graph_objs import *"
   ]
  },
  {
   "cell_type": "markdown",
   "metadata": {},
   "source": [
    "# DATAFRAME 4"
   ]
  },
  {
   "cell_type": "markdown",
   "metadata": {},
   "source": [
    "# ----------------------------------------------------------------------------------------------------------------------------------------------------------------------------------"
   ]
  },
  {
   "cell_type": "code",
   "execution_count": 9,
   "metadata": {},
   "outputs": [
    {
     "data": {
      "text/plain": [
       "PERIOD        object\n",
       "REPORTER      object\n",
       "PARTNER       object\n",
       "PRODUCT       object\n",
       "FLOW          object\n",
       "INDICATORS    object\n",
       "Value         object\n",
       "dtype: object"
      ]
     },
     "execution_count": 9,
     "metadata": {},
     "output_type": "execute_result"
    }
   ],
   "source": [
    "df4 = pd.read_csv('./../../../competicion/datasets/Dataset4.- Comercio Exterior de España.txt', delimiter='|')\n",
    "# df4 = pd.read_csv('Dataset4.- Comercio Exterior de Espa§a.txt', delimiter='|')\n",
    "df4.dtypes"
   ]
  },
  {
   "cell_type": "code",
   "execution_count": 10,
   "metadata": {},
   "outputs": [
    {
     "name": "stdout",
     "output_type": "stream",
     "text": [
      "There are 360976 rows and 7 columns\n"
     ]
    }
   ],
   "source": [
    "nRow, nCol = df4.shape\n",
    "print(f'There are {nRow} rows and {nCol} columns')"
   ]
  },
  {
   "cell_type": "code",
   "execution_count": 11,
   "metadata": {},
   "outputs": [
    {
     "data": {
      "text/html": [
       "<div>\n",
       "<style scoped>\n",
       "    .dataframe tbody tr th:only-of-type {\n",
       "        vertical-align: middle;\n",
       "    }\n",
       "\n",
       "    .dataframe tbody tr th {\n",
       "        vertical-align: top;\n",
       "    }\n",
       "\n",
       "    .dataframe thead th {\n",
       "        text-align: right;\n",
       "    }\n",
       "</style>\n",
       "<table border=\"1\" class=\"dataframe\">\n",
       "  <thead>\n",
       "    <tr style=\"text-align: right;\">\n",
       "      <th></th>\n",
       "      <th>PERIOD</th>\n",
       "      <th>REPORTER</th>\n",
       "      <th>PARTNER</th>\n",
       "      <th>PRODUCT</th>\n",
       "      <th>FLOW</th>\n",
       "      <th>INDICATORS</th>\n",
       "      <th>Value</th>\n",
       "    </tr>\n",
       "  </thead>\n",
       "  <tbody>\n",
       "    <tr>\n",
       "      <th>227506</th>\n",
       "      <td>Dec. 2018</td>\n",
       "      <td>Lithuania</td>\n",
       "      <td>ES</td>\n",
       "      <td>Fresh or dried grapefruit(2000-2500)|Fresh or ...</td>\n",
       "      <td>EXPORT</td>\n",
       "      <td>VALUE_IN_EUROS</td>\n",
       "      <td>:</td>\n",
       "    </tr>\n",
       "    <tr>\n",
       "      <th>283692</th>\n",
       "      <td>May. 2019</td>\n",
       "      <td>Portugal</td>\n",
       "      <td>ES</td>\n",
       "      <td>Bananas, fresh (excl. plantains)(2012-2500)</td>\n",
       "      <td>IMPORT</td>\n",
       "      <td>VALUE_IN_EUROS</td>\n",
       "      <td>6019643</td>\n",
       "    </tr>\n",
       "    <tr>\n",
       "      <th>101067</th>\n",
       "      <td>Mar. 2018</td>\n",
       "      <td>Estonia</td>\n",
       "      <td>ES</td>\n",
       "      <td>Fresh strawberries(2000-2500)</td>\n",
       "      <td>EXPORT</td>\n",
       "      <td>QUANTITY_IN_100KG</td>\n",
       "      <td>:</td>\n",
       "    </tr>\n",
       "    <tr>\n",
       "      <th>31775</th>\n",
       "      <td>May. 2019</td>\n",
       "      <td>Bulgaria</td>\n",
       "      <td>ES</td>\n",
       "      <td>Fresh or chilled leguminous vegetables, shelle...</td>\n",
       "      <td>EXPORT</td>\n",
       "      <td>QUANTITY_IN_100KG</td>\n",
       "      <td>:</td>\n",
       "    </tr>\n",
       "    <tr>\n",
       "      <th>183918</th>\n",
       "      <td>Jul. 2018</td>\n",
       "      <td>Ireland (Eire)</td>\n",
       "      <td>ES</td>\n",
       "      <td>Fresh or chilled asparagus(1988-2500)</td>\n",
       "      <td>EXPORT</td>\n",
       "      <td>VALUE_IN_EUROS</td>\n",
       "      <td>:</td>\n",
       "    </tr>\n",
       "  </tbody>\n",
       "</table>\n",
       "</div>"
      ],
      "text/plain": [
       "           PERIOD        REPORTER PARTNER  \\\n",
       "227506  Dec. 2018       Lithuania      ES   \n",
       "283692  May. 2019        Portugal      ES   \n",
       "101067  Mar. 2018         Estonia      ES   \n",
       "31775   May. 2019        Bulgaria      ES   \n",
       "183918  Jul. 2018  Ireland (Eire)      ES   \n",
       "\n",
       "                                                  PRODUCT    FLOW  \\\n",
       "227506  Fresh or dried grapefruit(2000-2500)|Fresh or ...  EXPORT   \n",
       "283692        Bananas, fresh (excl. plantains)(2012-2500)  IMPORT   \n",
       "101067                      Fresh strawberries(2000-2500)  EXPORT   \n",
       "31775   Fresh or chilled leguminous vegetables, shelle...  EXPORT   \n",
       "183918              Fresh or chilled asparagus(1988-2500)  EXPORT   \n",
       "\n",
       "               INDICATORS    Value  \n",
       "227506     VALUE_IN_EUROS        :  \n",
       "283692     VALUE_IN_EUROS  6019643  \n",
       "101067  QUANTITY_IN_100KG        :  \n",
       "31775   QUANTITY_IN_100KG        :  \n",
       "183918     VALUE_IN_EUROS        :  "
      ]
     },
     "execution_count": 11,
     "metadata": {},
     "output_type": "execute_result"
    }
   ],
   "source": [
    "df4.sample(5)"
   ]
  },
  {
   "cell_type": "code",
   "execution_count": 12,
   "metadata": {},
   "outputs": [],
   "source": [
    "def function(valor):\n",
    "    if len(valor)!= 9:\n",
    "        return valor[5:]\n",
    "    else:\n",
    "        return valor\n",
    "\n",
    "df4['Aux'] = df4['PERIOD'].map(function)"
   ]
  },
  {
   "cell_type": "code",
   "execution_count": 13,
   "metadata": {},
   "outputs": [
    {
     "data": {
      "text/html": [
       "<div>\n",
       "<style scoped>\n",
       "    .dataframe tbody tr th:only-of-type {\n",
       "        vertical-align: middle;\n",
       "    }\n",
       "\n",
       "    .dataframe tbody tr th {\n",
       "        vertical-align: top;\n",
       "    }\n",
       "\n",
       "    .dataframe thead th {\n",
       "        text-align: right;\n",
       "    }\n",
       "</style>\n",
       "<table border=\"1\" class=\"dataframe\">\n",
       "  <thead>\n",
       "    <tr style=\"text-align: right;\">\n",
       "      <th></th>\n",
       "      <th>PERIOD</th>\n",
       "      <th>REPORTER</th>\n",
       "      <th>PARTNER</th>\n",
       "      <th>PRODUCT</th>\n",
       "      <th>FLOW</th>\n",
       "      <th>INDICATORS</th>\n",
       "      <th>Value</th>\n",
       "      <th>Aux</th>\n",
       "    </tr>\n",
       "  </thead>\n",
       "  <tbody>\n",
       "    <tr>\n",
       "      <th>97378</th>\n",
       "      <td>Jun. 2018</td>\n",
       "      <td>Estonia</td>\n",
       "      <td>ES</td>\n",
       "      <td>Fresh or chilled sweet peppers(1988-2500)</td>\n",
       "      <td>EXPORT</td>\n",
       "      <td>VALUE_IN_EUROS</td>\n",
       "      <td>:</td>\n",
       "      <td>Jun. 2018</td>\n",
       "    </tr>\n",
       "    <tr>\n",
       "      <th>317043</th>\n",
       "      <td>Jul. 2019</td>\n",
       "      <td>Slovakia</td>\n",
       "      <td>ES</td>\n",
       "      <td>Fresh or chilled witloof chicory(1988-2500)</td>\n",
       "      <td>EXPORT</td>\n",
       "      <td>QUANTITY_IN_100KG</td>\n",
       "      <td>:</td>\n",
       "      <td>Jul. 2019</td>\n",
       "    </tr>\n",
       "    <tr>\n",
       "      <th>71689</th>\n",
       "      <td>Apr. 2020</td>\n",
       "      <td>Czechia</td>\n",
       "      <td>ES</td>\n",
       "      <td>Fresh or chilled sweet peppers(1988-2500)</td>\n",
       "      <td>IMPORT</td>\n",
       "      <td>QUANTITY_IN_100KG</td>\n",
       "      <td>13353</td>\n",
       "      <td>Apr. 2020</td>\n",
       "    </tr>\n",
       "    <tr>\n",
       "      <th>133072</th>\n",
       "      <td>Mar. 2018</td>\n",
       "      <td>France (incl. Saint Barthélemy 'BL' -&gt; 2012| i...</td>\n",
       "      <td>ES</td>\n",
       "      <td>Fresh or chilled carrots and turnips(1988-2500)</td>\n",
       "      <td>IMPORT</td>\n",
       "      <td>VALUE_IN_EUROS</td>\n",
       "      <td>2269122</td>\n",
       "      <td>Mar. 2018</td>\n",
       "    </tr>\n",
       "    <tr>\n",
       "      <th>237059</th>\n",
       "      <td>Apr. 2020</td>\n",
       "      <td>Luxembourg</td>\n",
       "      <td>ES</td>\n",
       "      <td>Fresh or chilled courgettes(2012-2500)</td>\n",
       "      <td>EXPORT</td>\n",
       "      <td>QUANTITY_IN_100KG</td>\n",
       "      <td>:</td>\n",
       "      <td>Apr. 2020</td>\n",
       "    </tr>\n",
       "  </tbody>\n",
       "</table>\n",
       "</div>"
      ],
      "text/plain": [
       "           PERIOD                                           REPORTER PARTNER  \\\n",
       "97378   Jun. 2018                                            Estonia      ES   \n",
       "317043  Jul. 2019                                           Slovakia      ES   \n",
       "71689   Apr. 2020                                            Czechia      ES   \n",
       "133072  Mar. 2018  France (incl. Saint Barthélemy 'BL' -> 2012| i...      ES   \n",
       "237059  Apr. 2020                                         Luxembourg      ES   \n",
       "\n",
       "                                                PRODUCT    FLOW  \\\n",
       "97378         Fresh or chilled sweet peppers(1988-2500)  EXPORT   \n",
       "317043      Fresh or chilled witloof chicory(1988-2500)  EXPORT   \n",
       "71689         Fresh or chilled sweet peppers(1988-2500)  IMPORT   \n",
       "133072  Fresh or chilled carrots and turnips(1988-2500)  IMPORT   \n",
       "237059           Fresh or chilled courgettes(2012-2500)  EXPORT   \n",
       "\n",
       "               INDICATORS    Value        Aux  \n",
       "97378      VALUE_IN_EUROS        :  Jun. 2018  \n",
       "317043  QUANTITY_IN_100KG        :  Jul. 2019  \n",
       "71689   QUANTITY_IN_100KG    13353  Apr. 2020  \n",
       "133072     VALUE_IN_EUROS  2269122  Mar. 2018  \n",
       "237059  QUANTITY_IN_100KG        :  Apr. 2020  "
      ]
     },
     "execution_count": 13,
     "metadata": {},
     "output_type": "execute_result"
    }
   ],
   "source": [
    "df4.sample(5)"
   ]
  },
  {
   "cell_type": "code",
   "execution_count": 14,
   "metadata": {},
   "outputs": [
    {
     "name": "stdout",
     "output_type": "stream",
     "text": [
      "<class 'pandas.core.frame.DataFrame'>\n",
      "RangeIndex: 360976 entries, 0 to 360975\n",
      "Data columns (total 8 columns):\n",
      " #   Column      Non-Null Count   Dtype \n",
      "---  ------      --------------   ----- \n",
      " 0   PERIOD      360976 non-null  object\n",
      " 1   REPORTER    360976 non-null  object\n",
      " 2   PARTNER     360976 non-null  object\n",
      " 3   PRODUCT     360976 non-null  object\n",
      " 4   FLOW        360976 non-null  object\n",
      " 5   INDICATORS  360976 non-null  object\n",
      " 6   Value       360976 non-null  object\n",
      " 7   Aux         360976 non-null  object\n",
      "dtypes: object(8)\n",
      "memory usage: 22.0+ MB\n"
     ]
    }
   ],
   "source": [
    "df4.info()"
   ]
  },
  {
   "cell_type": "code",
   "execution_count": 15,
   "metadata": {},
   "outputs": [
    {
     "data": {
      "text/html": [
       "<div>\n",
       "<style scoped>\n",
       "    .dataframe tbody tr th:only-of-type {\n",
       "        vertical-align: middle;\n",
       "    }\n",
       "\n",
       "    .dataframe tbody tr th {\n",
       "        vertical-align: top;\n",
       "    }\n",
       "\n",
       "    .dataframe thead th {\n",
       "        text-align: right;\n",
       "    }\n",
       "</style>\n",
       "<table border=\"1\" class=\"dataframe\">\n",
       "  <thead>\n",
       "    <tr style=\"text-align: right;\">\n",
       "      <th></th>\n",
       "      <th>PERIOD</th>\n",
       "      <th>REPORTER</th>\n",
       "      <th>PARTNER</th>\n",
       "      <th>PRODUCT</th>\n",
       "      <th>FLOW</th>\n",
       "      <th>INDICATORS</th>\n",
       "      <th>Value</th>\n",
       "      <th>Aux</th>\n",
       "    </tr>\n",
       "  </thead>\n",
       "  <tbody>\n",
       "    <tr>\n",
       "      <th>185810</th>\n",
       "      <td>Oct. 2020</td>\n",
       "      <td>Ireland (Eire)</td>\n",
       "      <td>ES</td>\n",
       "      <td>Fresh or chilled fennel(2012-2500)</td>\n",
       "      <td>EXPORT</td>\n",
       "      <td>VALUE_IN_EUROS</td>\n",
       "      <td>0.0</td>\n",
       "      <td>Oct. 2020</td>\n",
       "    </tr>\n",
       "    <tr>\n",
       "      <th>242566</th>\n",
       "      <td>Oct. 2020</td>\n",
       "      <td>Luxembourg</td>\n",
       "      <td>ES</td>\n",
       "      <td>Fresh redcurrants(2012-2500)|Fresh red currant...</td>\n",
       "      <td>EXPORT</td>\n",
       "      <td>VALUE_IN_EUROS</td>\n",
       "      <td>0.0</td>\n",
       "      <td>Oct. 2020</td>\n",
       "    </tr>\n",
       "    <tr>\n",
       "      <th>45474</th>\n",
       "      <td>Jul. 2020</td>\n",
       "      <td>Croatia</td>\n",
       "      <td>ES</td>\n",
       "      <td>Fresh or chilled olives for oil production(201...</td>\n",
       "      <td>EXPORT</td>\n",
       "      <td>VALUE_IN_EUROS</td>\n",
       "      <td>0.0</td>\n",
       "      <td>Jul. 2020</td>\n",
       "    </tr>\n",
       "    <tr>\n",
       "      <th>71842</th>\n",
       "      <td>May. 2020</td>\n",
       "      <td>Czechia</td>\n",
       "      <td>ES</td>\n",
       "      <td>Fresh or chilled sweetcorn(2012-2500)</td>\n",
       "      <td>EXPORT</td>\n",
       "      <td>VALUE_IN_EUROS</td>\n",
       "      <td>0.0</td>\n",
       "      <td>May. 2020</td>\n",
       "    </tr>\n",
       "    <tr>\n",
       "      <th>259944</th>\n",
       "      <td>Sep. 2018</td>\n",
       "      <td>Netherlands</td>\n",
       "      <td>ES</td>\n",
       "      <td>Fresh blackcurrants(2012-2500)|Fresh black cur...</td>\n",
       "      <td>IMPORT</td>\n",
       "      <td>VALUE_IN_EUROS</td>\n",
       "      <td>0.0</td>\n",
       "      <td>Sep. 2018</td>\n",
       "    </tr>\n",
       "  </tbody>\n",
       "</table>\n",
       "</div>"
      ],
      "text/plain": [
       "           PERIOD        REPORTER PARTNER  \\\n",
       "185810  Oct. 2020  Ireland (Eire)      ES   \n",
       "242566  Oct. 2020      Luxembourg      ES   \n",
       "45474   Jul. 2020         Croatia      ES   \n",
       "71842   May. 2020         Czechia      ES   \n",
       "259944  Sep. 2018     Netherlands      ES   \n",
       "\n",
       "                                                  PRODUCT    FLOW  \\\n",
       "185810                 Fresh or chilled fennel(2012-2500)  EXPORT   \n",
       "242566  Fresh redcurrants(2012-2500)|Fresh red currant...  EXPORT   \n",
       "45474   Fresh or chilled olives for oil production(201...  EXPORT   \n",
       "71842               Fresh or chilled sweetcorn(2012-2500)  EXPORT   \n",
       "259944  Fresh blackcurrants(2012-2500)|Fresh black cur...  IMPORT   \n",
       "\n",
       "            INDICATORS  Value        Aux  \n",
       "185810  VALUE_IN_EUROS    0.0  Oct. 2020  \n",
       "242566  VALUE_IN_EUROS    0.0  Oct. 2020  \n",
       "45474   VALUE_IN_EUROS    0.0  Jul. 2020  \n",
       "71842   VALUE_IN_EUROS    0.0  May. 2020  \n",
       "259944  VALUE_IN_EUROS    0.0  Sep. 2018  "
      ]
     },
     "execution_count": 15,
     "metadata": {},
     "output_type": "execute_result"
    }
   ],
   "source": [
    "def function(valor):\n",
    "    if valor == ':' :\n",
    "        return 0\n",
    "    else:\n",
    "        valor=valor.replace(\" \", \"\")\n",
    "        return float(valor)\n",
    "\n",
    "df4['Value'] = df4['Value'].map(function)\n",
    "df4.sample(5)"
   ]
  },
  {
   "cell_type": "markdown",
   "metadata": {},
   "source": [
    "<h3> Parte de Vlad para la busqueda de otras cosillas interesantes"
   ]
  },
  {
   "cell_type": "code",
   "execution_count": 67,
   "metadata": {},
   "outputs": [
    {
     "data": {
      "text/html": [
       "<div>\n",
       "<style scoped>\n",
       "    .dataframe tbody tr th:only-of-type {\n",
       "        vertical-align: middle;\n",
       "    }\n",
       "\n",
       "    .dataframe tbody tr th {\n",
       "        vertical-align: top;\n",
       "    }\n",
       "\n",
       "    .dataframe thead th {\n",
       "        text-align: right;\n",
       "    }\n",
       "</style>\n",
       "<table border=\"1\" class=\"dataframe\">\n",
       "  <thead>\n",
       "    <tr style=\"text-align: right;\">\n",
       "      <th></th>\n",
       "      <th>PERIOD</th>\n",
       "      <th>REPORTER</th>\n",
       "      <th>PARTNER</th>\n",
       "      <th>PRODUCT</th>\n",
       "      <th>FLOW</th>\n",
       "      <th>INDICATORS</th>\n",
       "      <th>Value</th>\n",
       "      <th>Aux</th>\n",
       "      <th>Date</th>\n",
       "      <th>MONTH</th>\n",
       "      <th>YEAR</th>\n",
       "    </tr>\n",
       "  </thead>\n",
       "  <tbody>\n",
       "    <tr>\n",
       "      <th>16</th>\n",
       "      <td>May. 2018</td>\n",
       "      <td>Austria</td>\n",
       "      <td>ES</td>\n",
       "      <td>Bananas, fresh (excl. plantains)(2012-2500)</td>\n",
       "      <td>IMPORT</td>\n",
       "      <td>VALUE_IN_EUROS</td>\n",
       "      <td>1058.0</td>\n",
       "      <td>May. 2018</td>\n",
       "      <td>2018-05-01</td>\n",
       "      <td>5</td>\n",
       "      <td>2018</td>\n",
       "    </tr>\n",
       "    <tr>\n",
       "      <th>17</th>\n",
       "      <td>May. 2018</td>\n",
       "      <td>Austria</td>\n",
       "      <td>ES</td>\n",
       "      <td>Bananas, fresh (excl. plantains)(2012-2500)</td>\n",
       "      <td>IMPORT</td>\n",
       "      <td>QUANTITY_IN_100KG</td>\n",
       "      <td>4.0</td>\n",
       "      <td>May. 2018</td>\n",
       "      <td>2018-05-01</td>\n",
       "      <td>5</td>\n",
       "      <td>2018</td>\n",
       "    </tr>\n",
       "    <tr>\n",
       "      <th>54</th>\n",
       "      <td>Jan. 2019</td>\n",
       "      <td>Austria</td>\n",
       "      <td>ES</td>\n",
       "      <td>Bananas, fresh (excl. plantains)(2012-2500)</td>\n",
       "      <td>EXPORT</td>\n",
       "      <td>VALUE_IN_EUROS</td>\n",
       "      <td>56680.0</td>\n",
       "      <td>Jan. 2019</td>\n",
       "      <td>2019-01-01</td>\n",
       "      <td>1</td>\n",
       "      <td>2019</td>\n",
       "    </tr>\n",
       "    <tr>\n",
       "      <th>55</th>\n",
       "      <td>Jan. 2019</td>\n",
       "      <td>Austria</td>\n",
       "      <td>ES</td>\n",
       "      <td>Bananas, fresh (excl. plantains)(2012-2500)</td>\n",
       "      <td>EXPORT</td>\n",
       "      <td>QUANTITY_IN_100KG</td>\n",
       "      <td>609.0</td>\n",
       "      <td>Jan. 2019</td>\n",
       "      <td>2019-01-01</td>\n",
       "      <td>1</td>\n",
       "      <td>2019</td>\n",
       "    </tr>\n",
       "    <tr>\n",
       "      <th>296</th>\n",
       "      <td>Jan. 2018</td>\n",
       "      <td>Austria</td>\n",
       "      <td>ES</td>\n",
       "      <td>Cucumbers, fresh or chilled(1998-2500)</td>\n",
       "      <td>IMPORT</td>\n",
       "      <td>VALUE_IN_EUROS</td>\n",
       "      <td>2294716.0</td>\n",
       "      <td>Jan. 2018</td>\n",
       "      <td>2018-01-01</td>\n",
       "      <td>1</td>\n",
       "      <td>2018</td>\n",
       "    </tr>\n",
       "  </tbody>\n",
       "</table>\n",
       "</div>"
      ],
      "text/plain": [
       "        PERIOD REPORTER PARTNER                                      PRODUCT  \\\n",
       "16   May. 2018  Austria      ES  Bananas, fresh (excl. plantains)(2012-2500)   \n",
       "17   May. 2018  Austria      ES  Bananas, fresh (excl. plantains)(2012-2500)   \n",
       "54   Jan. 2019  Austria      ES  Bananas, fresh (excl. plantains)(2012-2500)   \n",
       "55   Jan. 2019  Austria      ES  Bananas, fresh (excl. plantains)(2012-2500)   \n",
       "296  Jan. 2018  Austria      ES       Cucumbers, fresh or chilled(1998-2500)   \n",
       "\n",
       "       FLOW         INDICATORS      Value        Aux       Date  MONTH  YEAR  \n",
       "16   IMPORT     VALUE_IN_EUROS     1058.0  May. 2018 2018-05-01      5  2018  \n",
       "17   IMPORT  QUANTITY_IN_100KG        4.0  May. 2018 2018-05-01      5  2018  \n",
       "54   EXPORT     VALUE_IN_EUROS    56680.0  Jan. 2019 2019-01-01      1  2019  \n",
       "55   EXPORT  QUANTITY_IN_100KG      609.0  Jan. 2019 2019-01-01      1  2019  \n",
       "296  IMPORT     VALUE_IN_EUROS  2294716.0  Jan. 2018 2018-01-01      1  2018  "
      ]
     },
     "execution_count": 67,
     "metadata": {},
     "output_type": "execute_result"
    }
   ],
   "source": [
    "m = {\n",
    "    'Jan': 1,\n",
    "    'Feb': 2,\n",
    "    'Mar': 3,\n",
    "    'Apr': 4,\n",
    "    'May': 5,\n",
    "    'Jun': 6,\n",
    "    'Jul': 7,\n",
    "    'Aug': 8,\n",
    "    'Sep': 9,\n",
    "    'Oct': 10,\n",
    "    'Nov': 11,\n",
    "    'Dec': 12\n",
    "}\n",
    "data = df4[(df4.PERIOD != 'Jan.-Dec. 2018')&\n",
    "          (df4.PERIOD != 'Jan.-Dec. 2019')&\n",
    "          (df4.PERIOD != 'Jan.-Dec. 2020')].copy()\n",
    "data['MONTH'] = data['PERIOD'].apply(lambda r: m[r.split('.')[0]])\n",
    "data['YEAR'] = data['PERIOD'].apply(lambda r: int(r.split('.')[1]))\n",
    "data = data[data.Value > 0.0]\n",
    "data.head()\n",
    "#data.PERIOD.unique()"
   ]
  },
  {
   "cell_type": "code",
   "execution_count": 74,
   "metadata": {},
   "outputs": [],
   "source": [
    "imp_num = []; exp_num = []\n",
    "imp_val = []; exp_val = []\n",
    "x = []\n",
    "for y,m in sorted(set(zip(data.YEAR, data.MONTH))):\n",
    "    d = data[(data.YEAR == y) & (data.MONTH == m)]\n",
    "    x.append(str(y)+'-'+str(m))\n",
    "    \n",
    "    # Imports and Exports progress\n",
    "    imp_num.append(d[d.FLOW == 'IMPORT'].FLOW.count())\n",
    "    exp_num.append(d[d.FLOW == 'EXPORT'].FLOW.count())\n",
    "    \n",
    "    # Values for each export\n",
    "    imp_val.append(d[d.FLOW == 'IMPORT'].Value.sum())\n",
    "    exp_val.append(d[d.FLOW == 'EXPORT'].Value.sum())"
   ]
  },
  {
   "cell_type": "code",
   "execution_count": 77,
   "metadata": {},
   "outputs": [
    {
     "data": {
      "application/vnd.plotly.v1+json": {
       "config": {
        "plotlyServerURL": "https://plot.ly"
       },
       "data": [
        {
         "mode": "lines",
         "name": "IMPORTS",
         "type": "scatter",
         "x": [
          "2018-1",
          "2018-2",
          "2018-3",
          "2018-4",
          "2018-5",
          "2018-6",
          "2018-7",
          "2018-8",
          "2018-9",
          "2018-10",
          "2018-11",
          "2018-12",
          "2019-1",
          "2019-2",
          "2019-3",
          "2019-4",
          "2019-5",
          "2019-6",
          "2019-7",
          "2019-8",
          "2019-9",
          "2019-10",
          "2019-11",
          "2019-12",
          "2020-1",
          "2020-2",
          "2020-3",
          "2020-4",
          "2020-5",
          "2020-6",
          "2020-7",
          "2020-8",
          "2020-9",
          "2020-10",
          "2020-11",
          "2020-12"
         ],
         "y": [
          2428,
          2410,
          2448,
          2521,
          2585,
          2434,
          2206,
          2128,
          2214,
          2452,
          2481,
          2528,
          2517,
          2575,
          2600,
          2651,
          2706,
          2548,
          2360,
          2192,
          2317,
          2542,
          2599,
          2580,
          2547,
          2590,
          2564,
          2584,
          2643,
          2543,
          2333,
          2231,
          2368,
          2533,
          2544,
          10
         ]
        },
        {
         "mode": "lines",
         "name": "EXPORTS",
         "type": "scatter",
         "x": [
          "2018-1",
          "2018-2",
          "2018-3",
          "2018-4",
          "2018-5",
          "2018-6",
          "2018-7",
          "2018-8",
          "2018-9",
          "2018-10",
          "2018-11",
          "2018-12",
          "2019-1",
          "2019-2",
          "2019-3",
          "2019-4",
          "2019-5",
          "2019-6",
          "2019-7",
          "2019-8",
          "2019-9",
          "2019-10",
          "2019-11",
          "2019-12",
          "2020-1",
          "2020-2",
          "2020-3",
          "2020-4",
          "2020-5",
          "2020-6",
          "2020-7",
          "2020-8",
          "2020-9",
          "2020-10",
          "2020-11",
          "2020-12"
         ],
         "y": [
          995,
          967,
          1021,
          1036,
          1094,
          1088,
          1070,
          1040,
          1057,
          1081,
          1069,
          1031,
          991,
          990,
          999,
          970,
          1061,
          1044,
          1060,
          1001,
          1035,
          1092,
          1038,
          1020,
          992,
          1006,
          998,
          972,
          1058,
          1031,
          1067,
          1005,
          1019,
          1039,
          1016,
          6
         ]
        }
       ],
       "layout": {
        "template": {
         "data": {
          "bar": [
           {
            "error_x": {
             "color": "#2a3f5f"
            },
            "error_y": {
             "color": "#2a3f5f"
            },
            "marker": {
             "line": {
              "color": "#E5ECF6",
              "width": 0.5
             }
            },
            "type": "bar"
           }
          ],
          "barpolar": [
           {
            "marker": {
             "line": {
              "color": "#E5ECF6",
              "width": 0.5
             }
            },
            "type": "barpolar"
           }
          ],
          "carpet": [
           {
            "aaxis": {
             "endlinecolor": "#2a3f5f",
             "gridcolor": "white",
             "linecolor": "white",
             "minorgridcolor": "white",
             "startlinecolor": "#2a3f5f"
            },
            "baxis": {
             "endlinecolor": "#2a3f5f",
             "gridcolor": "white",
             "linecolor": "white",
             "minorgridcolor": "white",
             "startlinecolor": "#2a3f5f"
            },
            "type": "carpet"
           }
          ],
          "choropleth": [
           {
            "colorbar": {
             "outlinewidth": 0,
             "ticks": ""
            },
            "type": "choropleth"
           }
          ],
          "contour": [
           {
            "colorbar": {
             "outlinewidth": 0,
             "ticks": ""
            },
            "colorscale": [
             [
              0,
              "#0d0887"
             ],
             [
              0.1111111111111111,
              "#46039f"
             ],
             [
              0.2222222222222222,
              "#7201a8"
             ],
             [
              0.3333333333333333,
              "#9c179e"
             ],
             [
              0.4444444444444444,
              "#bd3786"
             ],
             [
              0.5555555555555556,
              "#d8576b"
             ],
             [
              0.6666666666666666,
              "#ed7953"
             ],
             [
              0.7777777777777778,
              "#fb9f3a"
             ],
             [
              0.8888888888888888,
              "#fdca26"
             ],
             [
              1,
              "#f0f921"
             ]
            ],
            "type": "contour"
           }
          ],
          "contourcarpet": [
           {
            "colorbar": {
             "outlinewidth": 0,
             "ticks": ""
            },
            "type": "contourcarpet"
           }
          ],
          "heatmap": [
           {
            "colorbar": {
             "outlinewidth": 0,
             "ticks": ""
            },
            "colorscale": [
             [
              0,
              "#0d0887"
             ],
             [
              0.1111111111111111,
              "#46039f"
             ],
             [
              0.2222222222222222,
              "#7201a8"
             ],
             [
              0.3333333333333333,
              "#9c179e"
             ],
             [
              0.4444444444444444,
              "#bd3786"
             ],
             [
              0.5555555555555556,
              "#d8576b"
             ],
             [
              0.6666666666666666,
              "#ed7953"
             ],
             [
              0.7777777777777778,
              "#fb9f3a"
             ],
             [
              0.8888888888888888,
              "#fdca26"
             ],
             [
              1,
              "#f0f921"
             ]
            ],
            "type": "heatmap"
           }
          ],
          "heatmapgl": [
           {
            "colorbar": {
             "outlinewidth": 0,
             "ticks": ""
            },
            "colorscale": [
             [
              0,
              "#0d0887"
             ],
             [
              0.1111111111111111,
              "#46039f"
             ],
             [
              0.2222222222222222,
              "#7201a8"
             ],
             [
              0.3333333333333333,
              "#9c179e"
             ],
             [
              0.4444444444444444,
              "#bd3786"
             ],
             [
              0.5555555555555556,
              "#d8576b"
             ],
             [
              0.6666666666666666,
              "#ed7953"
             ],
             [
              0.7777777777777778,
              "#fb9f3a"
             ],
             [
              0.8888888888888888,
              "#fdca26"
             ],
             [
              1,
              "#f0f921"
             ]
            ],
            "type": "heatmapgl"
           }
          ],
          "histogram": [
           {
            "marker": {
             "colorbar": {
              "outlinewidth": 0,
              "ticks": ""
             }
            },
            "type": "histogram"
           }
          ],
          "histogram2d": [
           {
            "colorbar": {
             "outlinewidth": 0,
             "ticks": ""
            },
            "colorscale": [
             [
              0,
              "#0d0887"
             ],
             [
              0.1111111111111111,
              "#46039f"
             ],
             [
              0.2222222222222222,
              "#7201a8"
             ],
             [
              0.3333333333333333,
              "#9c179e"
             ],
             [
              0.4444444444444444,
              "#bd3786"
             ],
             [
              0.5555555555555556,
              "#d8576b"
             ],
             [
              0.6666666666666666,
              "#ed7953"
             ],
             [
              0.7777777777777778,
              "#fb9f3a"
             ],
             [
              0.8888888888888888,
              "#fdca26"
             ],
             [
              1,
              "#f0f921"
             ]
            ],
            "type": "histogram2d"
           }
          ],
          "histogram2dcontour": [
           {
            "colorbar": {
             "outlinewidth": 0,
             "ticks": ""
            },
            "colorscale": [
             [
              0,
              "#0d0887"
             ],
             [
              0.1111111111111111,
              "#46039f"
             ],
             [
              0.2222222222222222,
              "#7201a8"
             ],
             [
              0.3333333333333333,
              "#9c179e"
             ],
             [
              0.4444444444444444,
              "#bd3786"
             ],
             [
              0.5555555555555556,
              "#d8576b"
             ],
             [
              0.6666666666666666,
              "#ed7953"
             ],
             [
              0.7777777777777778,
              "#fb9f3a"
             ],
             [
              0.8888888888888888,
              "#fdca26"
             ],
             [
              1,
              "#f0f921"
             ]
            ],
            "type": "histogram2dcontour"
           }
          ],
          "mesh3d": [
           {
            "colorbar": {
             "outlinewidth": 0,
             "ticks": ""
            },
            "type": "mesh3d"
           }
          ],
          "parcoords": [
           {
            "line": {
             "colorbar": {
              "outlinewidth": 0,
              "ticks": ""
             }
            },
            "type": "parcoords"
           }
          ],
          "pie": [
           {
            "automargin": true,
            "type": "pie"
           }
          ],
          "scatter": [
           {
            "marker": {
             "colorbar": {
              "outlinewidth": 0,
              "ticks": ""
             }
            },
            "type": "scatter"
           }
          ],
          "scatter3d": [
           {
            "line": {
             "colorbar": {
              "outlinewidth": 0,
              "ticks": ""
             }
            },
            "marker": {
             "colorbar": {
              "outlinewidth": 0,
              "ticks": ""
             }
            },
            "type": "scatter3d"
           }
          ],
          "scattercarpet": [
           {
            "marker": {
             "colorbar": {
              "outlinewidth": 0,
              "ticks": ""
             }
            },
            "type": "scattercarpet"
           }
          ],
          "scattergeo": [
           {
            "marker": {
             "colorbar": {
              "outlinewidth": 0,
              "ticks": ""
             }
            },
            "type": "scattergeo"
           }
          ],
          "scattergl": [
           {
            "marker": {
             "colorbar": {
              "outlinewidth": 0,
              "ticks": ""
             }
            },
            "type": "scattergl"
           }
          ],
          "scattermapbox": [
           {
            "marker": {
             "colorbar": {
              "outlinewidth": 0,
              "ticks": ""
             }
            },
            "type": "scattermapbox"
           }
          ],
          "scatterpolar": [
           {
            "marker": {
             "colorbar": {
              "outlinewidth": 0,
              "ticks": ""
             }
            },
            "type": "scatterpolar"
           }
          ],
          "scatterpolargl": [
           {
            "marker": {
             "colorbar": {
              "outlinewidth": 0,
              "ticks": ""
             }
            },
            "type": "scatterpolargl"
           }
          ],
          "scatterternary": [
           {
            "marker": {
             "colorbar": {
              "outlinewidth": 0,
              "ticks": ""
             }
            },
            "type": "scatterternary"
           }
          ],
          "surface": [
           {
            "colorbar": {
             "outlinewidth": 0,
             "ticks": ""
            },
            "colorscale": [
             [
              0,
              "#0d0887"
             ],
             [
              0.1111111111111111,
              "#46039f"
             ],
             [
              0.2222222222222222,
              "#7201a8"
             ],
             [
              0.3333333333333333,
              "#9c179e"
             ],
             [
              0.4444444444444444,
              "#bd3786"
             ],
             [
              0.5555555555555556,
              "#d8576b"
             ],
             [
              0.6666666666666666,
              "#ed7953"
             ],
             [
              0.7777777777777778,
              "#fb9f3a"
             ],
             [
              0.8888888888888888,
              "#fdca26"
             ],
             [
              1,
              "#f0f921"
             ]
            ],
            "type": "surface"
           }
          ],
          "table": [
           {
            "cells": {
             "fill": {
              "color": "#EBF0F8"
             },
             "line": {
              "color": "white"
             }
            },
            "header": {
             "fill": {
              "color": "#C8D4E3"
             },
             "line": {
              "color": "white"
             }
            },
            "type": "table"
           }
          ]
         },
         "layout": {
          "annotationdefaults": {
           "arrowcolor": "#2a3f5f",
           "arrowhead": 0,
           "arrowwidth": 1
          },
          "autotypenumbers": "strict",
          "coloraxis": {
           "colorbar": {
            "outlinewidth": 0,
            "ticks": ""
           }
          },
          "colorscale": {
           "diverging": [
            [
             0,
             "#8e0152"
            ],
            [
             0.1,
             "#c51b7d"
            ],
            [
             0.2,
             "#de77ae"
            ],
            [
             0.3,
             "#f1b6da"
            ],
            [
             0.4,
             "#fde0ef"
            ],
            [
             0.5,
             "#f7f7f7"
            ],
            [
             0.6,
             "#e6f5d0"
            ],
            [
             0.7,
             "#b8e186"
            ],
            [
             0.8,
             "#7fbc41"
            ],
            [
             0.9,
             "#4d9221"
            ],
            [
             1,
             "#276419"
            ]
           ],
           "sequential": [
            [
             0,
             "#0d0887"
            ],
            [
             0.1111111111111111,
             "#46039f"
            ],
            [
             0.2222222222222222,
             "#7201a8"
            ],
            [
             0.3333333333333333,
             "#9c179e"
            ],
            [
             0.4444444444444444,
             "#bd3786"
            ],
            [
             0.5555555555555556,
             "#d8576b"
            ],
            [
             0.6666666666666666,
             "#ed7953"
            ],
            [
             0.7777777777777778,
             "#fb9f3a"
            ],
            [
             0.8888888888888888,
             "#fdca26"
            ],
            [
             1,
             "#f0f921"
            ]
           ],
           "sequentialminus": [
            [
             0,
             "#0d0887"
            ],
            [
             0.1111111111111111,
             "#46039f"
            ],
            [
             0.2222222222222222,
             "#7201a8"
            ],
            [
             0.3333333333333333,
             "#9c179e"
            ],
            [
             0.4444444444444444,
             "#bd3786"
            ],
            [
             0.5555555555555556,
             "#d8576b"
            ],
            [
             0.6666666666666666,
             "#ed7953"
            ],
            [
             0.7777777777777778,
             "#fb9f3a"
            ],
            [
             0.8888888888888888,
             "#fdca26"
            ],
            [
             1,
             "#f0f921"
            ]
           ]
          },
          "colorway": [
           "#636efa",
           "#EF553B",
           "#00cc96",
           "#ab63fa",
           "#FFA15A",
           "#19d3f3",
           "#FF6692",
           "#B6E880",
           "#FF97FF",
           "#FECB52"
          ],
          "font": {
           "color": "#2a3f5f"
          },
          "geo": {
           "bgcolor": "white",
           "lakecolor": "white",
           "landcolor": "#E5ECF6",
           "showlakes": true,
           "showland": true,
           "subunitcolor": "white"
          },
          "hoverlabel": {
           "align": "left"
          },
          "hovermode": "closest",
          "mapbox": {
           "style": "light"
          },
          "paper_bgcolor": "white",
          "plot_bgcolor": "#E5ECF6",
          "polar": {
           "angularaxis": {
            "gridcolor": "white",
            "linecolor": "white",
            "ticks": ""
           },
           "bgcolor": "#E5ECF6",
           "radialaxis": {
            "gridcolor": "white",
            "linecolor": "white",
            "ticks": ""
           }
          },
          "scene": {
           "xaxis": {
            "backgroundcolor": "#E5ECF6",
            "gridcolor": "white",
            "gridwidth": 2,
            "linecolor": "white",
            "showbackground": true,
            "ticks": "",
            "zerolinecolor": "white"
           },
           "yaxis": {
            "backgroundcolor": "#E5ECF6",
            "gridcolor": "white",
            "gridwidth": 2,
            "linecolor": "white",
            "showbackground": true,
            "ticks": "",
            "zerolinecolor": "white"
           },
           "zaxis": {
            "backgroundcolor": "#E5ECF6",
            "gridcolor": "white",
            "gridwidth": 2,
            "linecolor": "white",
            "showbackground": true,
            "ticks": "",
            "zerolinecolor": "white"
           }
          },
          "shapedefaults": {
           "line": {
            "color": "#2a3f5f"
           }
          },
          "ternary": {
           "aaxis": {
            "gridcolor": "white",
            "linecolor": "white",
            "ticks": ""
           },
           "baxis": {
            "gridcolor": "white",
            "linecolor": "white",
            "ticks": ""
           },
           "bgcolor": "#E5ECF6",
           "caxis": {
            "gridcolor": "white",
            "linecolor": "white",
            "ticks": ""
           }
          },
          "title": {
           "x": 0.05
          },
          "xaxis": {
           "automargin": true,
           "gridcolor": "white",
           "linecolor": "white",
           "ticks": "",
           "title": {
            "standoff": 15
           },
           "zerolinecolor": "white",
           "zerolinewidth": 2
          },
          "yaxis": {
           "automargin": true,
           "gridcolor": "white",
           "linecolor": "white",
           "ticks": "",
           "title": {
            "standoff": 15
           },
           "zerolinecolor": "white",
           "zerolinewidth": 2
          }
         }
        },
        "title": {
         "text": "Relacion entre los imports y exports en general"
        }
       }
      },
      "text/html": [
       "<div>                            <div id=\"317e8065-b72d-4936-ad2d-92361bc533cc\" class=\"plotly-graph-div\" style=\"height:525px; width:100%;\"></div>            <script type=\"text/javascript\">                require([\"plotly\"], function(Plotly) {                    window.PLOTLYENV=window.PLOTLYENV || {};                                    if (document.getElementById(\"317e8065-b72d-4936-ad2d-92361bc533cc\")) {                    Plotly.newPlot(                        \"317e8065-b72d-4936-ad2d-92361bc533cc\",                        [{\"mode\": \"lines\", \"name\": \"IMPORTS\", \"type\": \"scatter\", \"x\": [\"2018-1\", \"2018-2\", \"2018-3\", \"2018-4\", \"2018-5\", \"2018-6\", \"2018-7\", \"2018-8\", \"2018-9\", \"2018-10\", \"2018-11\", \"2018-12\", \"2019-1\", \"2019-2\", \"2019-3\", \"2019-4\", \"2019-5\", \"2019-6\", \"2019-7\", \"2019-8\", \"2019-9\", \"2019-10\", \"2019-11\", \"2019-12\", \"2020-1\", \"2020-2\", \"2020-3\", \"2020-4\", \"2020-5\", \"2020-6\", \"2020-7\", \"2020-8\", \"2020-9\", \"2020-10\", \"2020-11\", \"2020-12\"], \"y\": [2428, 2410, 2448, 2521, 2585, 2434, 2206, 2128, 2214, 2452, 2481, 2528, 2517, 2575, 2600, 2651, 2706, 2548, 2360, 2192, 2317, 2542, 2599, 2580, 2547, 2590, 2564, 2584, 2643, 2543, 2333, 2231, 2368, 2533, 2544, 10]}, {\"mode\": \"lines\", \"name\": \"EXPORTS\", \"type\": \"scatter\", \"x\": [\"2018-1\", \"2018-2\", \"2018-3\", \"2018-4\", \"2018-5\", \"2018-6\", \"2018-7\", \"2018-8\", \"2018-9\", \"2018-10\", \"2018-11\", \"2018-12\", \"2019-1\", \"2019-2\", \"2019-3\", \"2019-4\", \"2019-5\", \"2019-6\", \"2019-7\", \"2019-8\", \"2019-9\", \"2019-10\", \"2019-11\", \"2019-12\", \"2020-1\", \"2020-2\", \"2020-3\", \"2020-4\", \"2020-5\", \"2020-6\", \"2020-7\", \"2020-8\", \"2020-9\", \"2020-10\", \"2020-11\", \"2020-12\"], \"y\": [995, 967, 1021, 1036, 1094, 1088, 1070, 1040, 1057, 1081, 1069, 1031, 991, 990, 999, 970, 1061, 1044, 1060, 1001, 1035, 1092, 1038, 1020, 992, 1006, 998, 972, 1058, 1031, 1067, 1005, 1019, 1039, 1016, 6]}],                        {\"template\": {\"data\": {\"bar\": [{\"error_x\": {\"color\": \"#2a3f5f\"}, \"error_y\": {\"color\": \"#2a3f5f\"}, \"marker\": {\"line\": {\"color\": \"#E5ECF6\", \"width\": 0.5}}, \"type\": \"bar\"}], \"barpolar\": [{\"marker\": {\"line\": {\"color\": \"#E5ECF6\", \"width\": 0.5}}, \"type\": \"barpolar\"}], \"carpet\": [{\"aaxis\": {\"endlinecolor\": \"#2a3f5f\", \"gridcolor\": \"white\", \"linecolor\": \"white\", \"minorgridcolor\": \"white\", \"startlinecolor\": \"#2a3f5f\"}, \"baxis\": {\"endlinecolor\": \"#2a3f5f\", \"gridcolor\": \"white\", \"linecolor\": \"white\", \"minorgridcolor\": \"white\", \"startlinecolor\": \"#2a3f5f\"}, \"type\": \"carpet\"}], \"choropleth\": [{\"colorbar\": {\"outlinewidth\": 0, \"ticks\": \"\"}, \"type\": \"choropleth\"}], \"contour\": [{\"colorbar\": {\"outlinewidth\": 0, \"ticks\": \"\"}, \"colorscale\": [[0.0, \"#0d0887\"], [0.1111111111111111, \"#46039f\"], [0.2222222222222222, \"#7201a8\"], [0.3333333333333333, \"#9c179e\"], [0.4444444444444444, \"#bd3786\"], [0.5555555555555556, \"#d8576b\"], [0.6666666666666666, \"#ed7953\"], [0.7777777777777778, \"#fb9f3a\"], [0.8888888888888888, \"#fdca26\"], [1.0, \"#f0f921\"]], \"type\": \"contour\"}], \"contourcarpet\": [{\"colorbar\": {\"outlinewidth\": 0, \"ticks\": \"\"}, \"type\": \"contourcarpet\"}], \"heatmap\": [{\"colorbar\": {\"outlinewidth\": 0, \"ticks\": \"\"}, \"colorscale\": [[0.0, \"#0d0887\"], [0.1111111111111111, \"#46039f\"], [0.2222222222222222, \"#7201a8\"], [0.3333333333333333, \"#9c179e\"], [0.4444444444444444, \"#bd3786\"], [0.5555555555555556, \"#d8576b\"], [0.6666666666666666, \"#ed7953\"], [0.7777777777777778, \"#fb9f3a\"], [0.8888888888888888, \"#fdca26\"], [1.0, \"#f0f921\"]], \"type\": \"heatmap\"}], \"heatmapgl\": [{\"colorbar\": {\"outlinewidth\": 0, \"ticks\": \"\"}, \"colorscale\": [[0.0, \"#0d0887\"], [0.1111111111111111, \"#46039f\"], [0.2222222222222222, \"#7201a8\"], [0.3333333333333333, \"#9c179e\"], [0.4444444444444444, \"#bd3786\"], [0.5555555555555556, \"#d8576b\"], [0.6666666666666666, \"#ed7953\"], [0.7777777777777778, \"#fb9f3a\"], [0.8888888888888888, \"#fdca26\"], [1.0, \"#f0f921\"]], \"type\": \"heatmapgl\"}], \"histogram\": [{\"marker\": {\"colorbar\": {\"outlinewidth\": 0, \"ticks\": \"\"}}, \"type\": \"histogram\"}], \"histogram2d\": [{\"colorbar\": {\"outlinewidth\": 0, \"ticks\": \"\"}, \"colorscale\": [[0.0, \"#0d0887\"], [0.1111111111111111, \"#46039f\"], [0.2222222222222222, \"#7201a8\"], [0.3333333333333333, \"#9c179e\"], [0.4444444444444444, \"#bd3786\"], [0.5555555555555556, \"#d8576b\"], [0.6666666666666666, \"#ed7953\"], [0.7777777777777778, \"#fb9f3a\"], [0.8888888888888888, \"#fdca26\"], [1.0, \"#f0f921\"]], \"type\": \"histogram2d\"}], \"histogram2dcontour\": [{\"colorbar\": {\"outlinewidth\": 0, \"ticks\": \"\"}, \"colorscale\": [[0.0, \"#0d0887\"], [0.1111111111111111, \"#46039f\"], [0.2222222222222222, \"#7201a8\"], [0.3333333333333333, \"#9c179e\"], [0.4444444444444444, \"#bd3786\"], [0.5555555555555556, \"#d8576b\"], [0.6666666666666666, \"#ed7953\"], [0.7777777777777778, \"#fb9f3a\"], [0.8888888888888888, \"#fdca26\"], [1.0, \"#f0f921\"]], \"type\": \"histogram2dcontour\"}], \"mesh3d\": [{\"colorbar\": {\"outlinewidth\": 0, \"ticks\": \"\"}, \"type\": \"mesh3d\"}], \"parcoords\": [{\"line\": {\"colorbar\": {\"outlinewidth\": 0, \"ticks\": \"\"}}, \"type\": \"parcoords\"}], \"pie\": [{\"automargin\": true, \"type\": \"pie\"}], \"scatter\": [{\"marker\": {\"colorbar\": {\"outlinewidth\": 0, \"ticks\": \"\"}}, \"type\": \"scatter\"}], \"scatter3d\": [{\"line\": {\"colorbar\": {\"outlinewidth\": 0, \"ticks\": \"\"}}, \"marker\": {\"colorbar\": {\"outlinewidth\": 0, \"ticks\": \"\"}}, \"type\": \"scatter3d\"}], \"scattercarpet\": [{\"marker\": {\"colorbar\": {\"outlinewidth\": 0, \"ticks\": \"\"}}, \"type\": \"scattercarpet\"}], \"scattergeo\": [{\"marker\": {\"colorbar\": {\"outlinewidth\": 0, \"ticks\": \"\"}}, \"type\": \"scattergeo\"}], \"scattergl\": [{\"marker\": {\"colorbar\": {\"outlinewidth\": 0, \"ticks\": \"\"}}, \"type\": \"scattergl\"}], \"scattermapbox\": [{\"marker\": {\"colorbar\": {\"outlinewidth\": 0, \"ticks\": \"\"}}, \"type\": \"scattermapbox\"}], \"scatterpolar\": [{\"marker\": {\"colorbar\": {\"outlinewidth\": 0, \"ticks\": \"\"}}, \"type\": \"scatterpolar\"}], \"scatterpolargl\": [{\"marker\": {\"colorbar\": {\"outlinewidth\": 0, \"ticks\": \"\"}}, \"type\": \"scatterpolargl\"}], \"scatterternary\": [{\"marker\": {\"colorbar\": {\"outlinewidth\": 0, \"ticks\": \"\"}}, \"type\": \"scatterternary\"}], \"surface\": [{\"colorbar\": {\"outlinewidth\": 0, \"ticks\": \"\"}, \"colorscale\": [[0.0, \"#0d0887\"], [0.1111111111111111, \"#46039f\"], [0.2222222222222222, \"#7201a8\"], [0.3333333333333333, \"#9c179e\"], [0.4444444444444444, \"#bd3786\"], [0.5555555555555556, \"#d8576b\"], [0.6666666666666666, \"#ed7953\"], [0.7777777777777778, \"#fb9f3a\"], [0.8888888888888888, \"#fdca26\"], [1.0, \"#f0f921\"]], \"type\": \"surface\"}], \"table\": [{\"cells\": {\"fill\": {\"color\": \"#EBF0F8\"}, \"line\": {\"color\": \"white\"}}, \"header\": {\"fill\": {\"color\": \"#C8D4E3\"}, \"line\": {\"color\": \"white\"}}, \"type\": \"table\"}]}, \"layout\": {\"annotationdefaults\": {\"arrowcolor\": \"#2a3f5f\", \"arrowhead\": 0, \"arrowwidth\": 1}, \"autotypenumbers\": \"strict\", \"coloraxis\": {\"colorbar\": {\"outlinewidth\": 0, \"ticks\": \"\"}}, \"colorscale\": {\"diverging\": [[0, \"#8e0152\"], [0.1, \"#c51b7d\"], [0.2, \"#de77ae\"], [0.3, \"#f1b6da\"], [0.4, \"#fde0ef\"], [0.5, \"#f7f7f7\"], [0.6, \"#e6f5d0\"], [0.7, \"#b8e186\"], [0.8, \"#7fbc41\"], [0.9, \"#4d9221\"], [1, \"#276419\"]], \"sequential\": [[0.0, \"#0d0887\"], [0.1111111111111111, \"#46039f\"], [0.2222222222222222, \"#7201a8\"], [0.3333333333333333, \"#9c179e\"], [0.4444444444444444, \"#bd3786\"], [0.5555555555555556, \"#d8576b\"], [0.6666666666666666, \"#ed7953\"], [0.7777777777777778, \"#fb9f3a\"], [0.8888888888888888, \"#fdca26\"], [1.0, \"#f0f921\"]], \"sequentialminus\": [[0.0, \"#0d0887\"], [0.1111111111111111, \"#46039f\"], [0.2222222222222222, \"#7201a8\"], [0.3333333333333333, \"#9c179e\"], [0.4444444444444444, \"#bd3786\"], [0.5555555555555556, \"#d8576b\"], [0.6666666666666666, \"#ed7953\"], [0.7777777777777778, \"#fb9f3a\"], [0.8888888888888888, \"#fdca26\"], [1.0, \"#f0f921\"]]}, \"colorway\": [\"#636efa\", \"#EF553B\", \"#00cc96\", \"#ab63fa\", \"#FFA15A\", \"#19d3f3\", \"#FF6692\", \"#B6E880\", \"#FF97FF\", \"#FECB52\"], \"font\": {\"color\": \"#2a3f5f\"}, \"geo\": {\"bgcolor\": \"white\", \"lakecolor\": \"white\", \"landcolor\": \"#E5ECF6\", \"showlakes\": true, \"showland\": true, \"subunitcolor\": \"white\"}, \"hoverlabel\": {\"align\": \"left\"}, \"hovermode\": \"closest\", \"mapbox\": {\"style\": \"light\"}, \"paper_bgcolor\": \"white\", \"plot_bgcolor\": \"#E5ECF6\", \"polar\": {\"angularaxis\": {\"gridcolor\": \"white\", \"linecolor\": \"white\", \"ticks\": \"\"}, \"bgcolor\": \"#E5ECF6\", \"radialaxis\": {\"gridcolor\": \"white\", \"linecolor\": \"white\", \"ticks\": \"\"}}, \"scene\": {\"xaxis\": {\"backgroundcolor\": \"#E5ECF6\", \"gridcolor\": \"white\", \"gridwidth\": 2, \"linecolor\": \"white\", \"showbackground\": true, \"ticks\": \"\", \"zerolinecolor\": \"white\"}, \"yaxis\": {\"backgroundcolor\": \"#E5ECF6\", \"gridcolor\": \"white\", \"gridwidth\": 2, \"linecolor\": \"white\", \"showbackground\": true, \"ticks\": \"\", \"zerolinecolor\": \"white\"}, \"zaxis\": {\"backgroundcolor\": \"#E5ECF6\", \"gridcolor\": \"white\", \"gridwidth\": 2, \"linecolor\": \"white\", \"showbackground\": true, \"ticks\": \"\", \"zerolinecolor\": \"white\"}}, \"shapedefaults\": {\"line\": {\"color\": \"#2a3f5f\"}}, \"ternary\": {\"aaxis\": {\"gridcolor\": \"white\", \"linecolor\": \"white\", \"ticks\": \"\"}, \"baxis\": {\"gridcolor\": \"white\", \"linecolor\": \"white\", \"ticks\": \"\"}, \"bgcolor\": \"#E5ECF6\", \"caxis\": {\"gridcolor\": \"white\", \"linecolor\": \"white\", \"ticks\": \"\"}}, \"title\": {\"x\": 0.05}, \"xaxis\": {\"automargin\": true, \"gridcolor\": \"white\", \"linecolor\": \"white\", \"ticks\": \"\", \"title\": {\"standoff\": 15}, \"zerolinecolor\": \"white\", \"zerolinewidth\": 2}, \"yaxis\": {\"automargin\": true, \"gridcolor\": \"white\", \"linecolor\": \"white\", \"ticks\": \"\", \"title\": {\"standoff\": 15}, \"zerolinecolor\": \"white\", \"zerolinewidth\": 2}}}, \"title\": {\"text\": \"Relacion entre los imports y exports en general\"}},                        {\"responsive\": true}                    ).then(function(){\n",
       "                            \n",
       "var gd = document.getElementById('317e8065-b72d-4936-ad2d-92361bc533cc');\n",
       "var x = new MutationObserver(function (mutations, observer) {{\n",
       "        var display = window.getComputedStyle(gd).display;\n",
       "        if (!display || display === 'none') {{\n",
       "            console.log([gd, 'removed!']);\n",
       "            Plotly.purge(gd);\n",
       "            observer.disconnect();\n",
       "        }}\n",
       "}});\n",
       "\n",
       "// Listen for the removal of the full notebook cells\n",
       "var notebookContainer = gd.closest('#notebook-container');\n",
       "if (notebookContainer) {{\n",
       "    x.observe(notebookContainer, {childList: true});\n",
       "}}\n",
       "\n",
       "// Listen for the clearing of the current output cell\n",
       "var outputEl = gd.closest('.output');\n",
       "if (outputEl) {{\n",
       "    x.observe(outputEl, {childList: true});\n",
       "}}\n",
       "\n",
       "                        })                };                });            </script>        </div>"
      ]
     },
     "metadata": {},
     "output_type": "display_data"
    }
   ],
   "source": [
    "# vamos a evr con los datos que tenemos si hay algun cambio en la relacion de importes con el precio ganado o \n",
    "# sigue mas o menos proporcional\n",
    "\n",
    "import plotly.graph_objects as go\n",
    "\n",
    "fig = go.Figure()\n",
    "fig.add_trace(go.Scatter(x= x, y= imp_num,\n",
    "                    mode='lines',\n",
    "                    name='IMPORTS'))\n",
    "fig.add_trace(go.Scatter(x= x, y= exp_num,\n",
    "                    mode='lines',\n",
    "                    name='EXPORTS'))\n",
    "fig.update_layout(\n",
    "    title= 'Relacion entre los imports y exports en general'\n",
    ")\n",
    "fig.show()"
   ]
  },
  {
   "cell_type": "code",
   "execution_count": 80,
   "metadata": {},
   "outputs": [
    {
     "data": {
      "application/vnd.plotly.v1+json": {
       "config": {
        "plotlyServerURL": "https://plot.ly"
       },
       "data": [
        {
         "mode": "lines",
         "name": "VALOR EN IMPORTS",
         "type": "scatter",
         "x": [
          "2018-1",
          "2018-2",
          "2018-3",
          "2018-4",
          "2018-5",
          "2018-6",
          "2018-7",
          "2018-8",
          "2018-9",
          "2018-10",
          "2018-11",
          "2018-12",
          "2019-1",
          "2019-2",
          "2019-3",
          "2019-4",
          "2019-5",
          "2019-6",
          "2019-7",
          "2019-8",
          "2019-9",
          "2019-10",
          "2019-11",
          "2019-12",
          "2020-1",
          "2020-2",
          "2020-3",
          "2020-4",
          "2020-5",
          "2020-6",
          "2020-7",
          "2020-8",
          "2020-9",
          "2020-10",
          "2020-11",
          "2020-12"
         ],
         "y": [
          2076534644,
          1895311457,
          1948401196,
          1808923202,
          2025703564,
          1752821705,
          1346923800,
          1147878593,
          995416285,
          1134724020,
          1653557019,
          1912094495,
          2055788232,
          2000549675,
          2029444045,
          1889563548,
          1891938397,
          1833556214,
          1488273560,
          1091917425,
          924798787,
          1189927502,
          1701886841,
          2085686487,
          2261842327,
          2157340351,
          2341003023,
          2330981255,
          2137839721,
          1921168340,
          1456553674,
          1165983207,
          1069041041,
          1429333709,
          1871419166,
          355724
         ]
        },
        {
         "mode": "lines",
         "name": "VALOR EN EXPORTS",
         "type": "scatter",
         "x": [
          "2018-1",
          "2018-2",
          "2018-3",
          "2018-4",
          "2018-5",
          "2018-6",
          "2018-7",
          "2018-8",
          "2018-9",
          "2018-10",
          "2018-11",
          "2018-12",
          "2019-1",
          "2019-2",
          "2019-3",
          "2019-4",
          "2019-5",
          "2019-6",
          "2019-7",
          "2019-8",
          "2019-9",
          "2019-10",
          "2019-11",
          "2019-12",
          "2020-1",
          "2020-2",
          "2020-3",
          "2020-4",
          "2020-5",
          "2020-6",
          "2020-7",
          "2020-8",
          "2020-9",
          "2020-10",
          "2020-11",
          "2020-12"
         ],
         "y": [
          193021891,
          186936141,
          208725827,
          208973444,
          237760120,
          198263586,
          177708910,
          213559715,
          252559556,
          276278846,
          213342218,
          214988039,
          218778638,
          228429094,
          247350842,
          248234941,
          210182239,
          175904229,
          187808703,
          210922537,
          250747190,
          281418489,
          243220819,
          213669590,
          217663671,
          215204418,
          254045448,
          248514420,
          218573685,
          175695562,
          228623833,
          269817566,
          288646860,
          289064597,
          225038352,
          1258580
         ]
        }
       ],
       "layout": {
        "template": {
         "data": {
          "bar": [
           {
            "error_x": {
             "color": "#2a3f5f"
            },
            "error_y": {
             "color": "#2a3f5f"
            },
            "marker": {
             "line": {
              "color": "#E5ECF6",
              "width": 0.5
             }
            },
            "type": "bar"
           }
          ],
          "barpolar": [
           {
            "marker": {
             "line": {
              "color": "#E5ECF6",
              "width": 0.5
             }
            },
            "type": "barpolar"
           }
          ],
          "carpet": [
           {
            "aaxis": {
             "endlinecolor": "#2a3f5f",
             "gridcolor": "white",
             "linecolor": "white",
             "minorgridcolor": "white",
             "startlinecolor": "#2a3f5f"
            },
            "baxis": {
             "endlinecolor": "#2a3f5f",
             "gridcolor": "white",
             "linecolor": "white",
             "minorgridcolor": "white",
             "startlinecolor": "#2a3f5f"
            },
            "type": "carpet"
           }
          ],
          "choropleth": [
           {
            "colorbar": {
             "outlinewidth": 0,
             "ticks": ""
            },
            "type": "choropleth"
           }
          ],
          "contour": [
           {
            "colorbar": {
             "outlinewidth": 0,
             "ticks": ""
            },
            "colorscale": [
             [
              0,
              "#0d0887"
             ],
             [
              0.1111111111111111,
              "#46039f"
             ],
             [
              0.2222222222222222,
              "#7201a8"
             ],
             [
              0.3333333333333333,
              "#9c179e"
             ],
             [
              0.4444444444444444,
              "#bd3786"
             ],
             [
              0.5555555555555556,
              "#d8576b"
             ],
             [
              0.6666666666666666,
              "#ed7953"
             ],
             [
              0.7777777777777778,
              "#fb9f3a"
             ],
             [
              0.8888888888888888,
              "#fdca26"
             ],
             [
              1,
              "#f0f921"
             ]
            ],
            "type": "contour"
           }
          ],
          "contourcarpet": [
           {
            "colorbar": {
             "outlinewidth": 0,
             "ticks": ""
            },
            "type": "contourcarpet"
           }
          ],
          "heatmap": [
           {
            "colorbar": {
             "outlinewidth": 0,
             "ticks": ""
            },
            "colorscale": [
             [
              0,
              "#0d0887"
             ],
             [
              0.1111111111111111,
              "#46039f"
             ],
             [
              0.2222222222222222,
              "#7201a8"
             ],
             [
              0.3333333333333333,
              "#9c179e"
             ],
             [
              0.4444444444444444,
              "#bd3786"
             ],
             [
              0.5555555555555556,
              "#d8576b"
             ],
             [
              0.6666666666666666,
              "#ed7953"
             ],
             [
              0.7777777777777778,
              "#fb9f3a"
             ],
             [
              0.8888888888888888,
              "#fdca26"
             ],
             [
              1,
              "#f0f921"
             ]
            ],
            "type": "heatmap"
           }
          ],
          "heatmapgl": [
           {
            "colorbar": {
             "outlinewidth": 0,
             "ticks": ""
            },
            "colorscale": [
             [
              0,
              "#0d0887"
             ],
             [
              0.1111111111111111,
              "#46039f"
             ],
             [
              0.2222222222222222,
              "#7201a8"
             ],
             [
              0.3333333333333333,
              "#9c179e"
             ],
             [
              0.4444444444444444,
              "#bd3786"
             ],
             [
              0.5555555555555556,
              "#d8576b"
             ],
             [
              0.6666666666666666,
              "#ed7953"
             ],
             [
              0.7777777777777778,
              "#fb9f3a"
             ],
             [
              0.8888888888888888,
              "#fdca26"
             ],
             [
              1,
              "#f0f921"
             ]
            ],
            "type": "heatmapgl"
           }
          ],
          "histogram": [
           {
            "marker": {
             "colorbar": {
              "outlinewidth": 0,
              "ticks": ""
             }
            },
            "type": "histogram"
           }
          ],
          "histogram2d": [
           {
            "colorbar": {
             "outlinewidth": 0,
             "ticks": ""
            },
            "colorscale": [
             [
              0,
              "#0d0887"
             ],
             [
              0.1111111111111111,
              "#46039f"
             ],
             [
              0.2222222222222222,
              "#7201a8"
             ],
             [
              0.3333333333333333,
              "#9c179e"
             ],
             [
              0.4444444444444444,
              "#bd3786"
             ],
             [
              0.5555555555555556,
              "#d8576b"
             ],
             [
              0.6666666666666666,
              "#ed7953"
             ],
             [
              0.7777777777777778,
              "#fb9f3a"
             ],
             [
              0.8888888888888888,
              "#fdca26"
             ],
             [
              1,
              "#f0f921"
             ]
            ],
            "type": "histogram2d"
           }
          ],
          "histogram2dcontour": [
           {
            "colorbar": {
             "outlinewidth": 0,
             "ticks": ""
            },
            "colorscale": [
             [
              0,
              "#0d0887"
             ],
             [
              0.1111111111111111,
              "#46039f"
             ],
             [
              0.2222222222222222,
              "#7201a8"
             ],
             [
              0.3333333333333333,
              "#9c179e"
             ],
             [
              0.4444444444444444,
              "#bd3786"
             ],
             [
              0.5555555555555556,
              "#d8576b"
             ],
             [
              0.6666666666666666,
              "#ed7953"
             ],
             [
              0.7777777777777778,
              "#fb9f3a"
             ],
             [
              0.8888888888888888,
              "#fdca26"
             ],
             [
              1,
              "#f0f921"
             ]
            ],
            "type": "histogram2dcontour"
           }
          ],
          "mesh3d": [
           {
            "colorbar": {
             "outlinewidth": 0,
             "ticks": ""
            },
            "type": "mesh3d"
           }
          ],
          "parcoords": [
           {
            "line": {
             "colorbar": {
              "outlinewidth": 0,
              "ticks": ""
             }
            },
            "type": "parcoords"
           }
          ],
          "pie": [
           {
            "automargin": true,
            "type": "pie"
           }
          ],
          "scatter": [
           {
            "marker": {
             "colorbar": {
              "outlinewidth": 0,
              "ticks": ""
             }
            },
            "type": "scatter"
           }
          ],
          "scatter3d": [
           {
            "line": {
             "colorbar": {
              "outlinewidth": 0,
              "ticks": ""
             }
            },
            "marker": {
             "colorbar": {
              "outlinewidth": 0,
              "ticks": ""
             }
            },
            "type": "scatter3d"
           }
          ],
          "scattercarpet": [
           {
            "marker": {
             "colorbar": {
              "outlinewidth": 0,
              "ticks": ""
             }
            },
            "type": "scattercarpet"
           }
          ],
          "scattergeo": [
           {
            "marker": {
             "colorbar": {
              "outlinewidth": 0,
              "ticks": ""
             }
            },
            "type": "scattergeo"
           }
          ],
          "scattergl": [
           {
            "marker": {
             "colorbar": {
              "outlinewidth": 0,
              "ticks": ""
             }
            },
            "type": "scattergl"
           }
          ],
          "scattermapbox": [
           {
            "marker": {
             "colorbar": {
              "outlinewidth": 0,
              "ticks": ""
             }
            },
            "type": "scattermapbox"
           }
          ],
          "scatterpolar": [
           {
            "marker": {
             "colorbar": {
              "outlinewidth": 0,
              "ticks": ""
             }
            },
            "type": "scatterpolar"
           }
          ],
          "scatterpolargl": [
           {
            "marker": {
             "colorbar": {
              "outlinewidth": 0,
              "ticks": ""
             }
            },
            "type": "scatterpolargl"
           }
          ],
          "scatterternary": [
           {
            "marker": {
             "colorbar": {
              "outlinewidth": 0,
              "ticks": ""
             }
            },
            "type": "scatterternary"
           }
          ],
          "surface": [
           {
            "colorbar": {
             "outlinewidth": 0,
             "ticks": ""
            },
            "colorscale": [
             [
              0,
              "#0d0887"
             ],
             [
              0.1111111111111111,
              "#46039f"
             ],
             [
              0.2222222222222222,
              "#7201a8"
             ],
             [
              0.3333333333333333,
              "#9c179e"
             ],
             [
              0.4444444444444444,
              "#bd3786"
             ],
             [
              0.5555555555555556,
              "#d8576b"
             ],
             [
              0.6666666666666666,
              "#ed7953"
             ],
             [
              0.7777777777777778,
              "#fb9f3a"
             ],
             [
              0.8888888888888888,
              "#fdca26"
             ],
             [
              1,
              "#f0f921"
             ]
            ],
            "type": "surface"
           }
          ],
          "table": [
           {
            "cells": {
             "fill": {
              "color": "#EBF0F8"
             },
             "line": {
              "color": "white"
             }
            },
            "header": {
             "fill": {
              "color": "#C8D4E3"
             },
             "line": {
              "color": "white"
             }
            },
            "type": "table"
           }
          ]
         },
         "layout": {
          "annotationdefaults": {
           "arrowcolor": "#2a3f5f",
           "arrowhead": 0,
           "arrowwidth": 1
          },
          "autotypenumbers": "strict",
          "coloraxis": {
           "colorbar": {
            "outlinewidth": 0,
            "ticks": ""
           }
          },
          "colorscale": {
           "diverging": [
            [
             0,
             "#8e0152"
            ],
            [
             0.1,
             "#c51b7d"
            ],
            [
             0.2,
             "#de77ae"
            ],
            [
             0.3,
             "#f1b6da"
            ],
            [
             0.4,
             "#fde0ef"
            ],
            [
             0.5,
             "#f7f7f7"
            ],
            [
             0.6,
             "#e6f5d0"
            ],
            [
             0.7,
             "#b8e186"
            ],
            [
             0.8,
             "#7fbc41"
            ],
            [
             0.9,
             "#4d9221"
            ],
            [
             1,
             "#276419"
            ]
           ],
           "sequential": [
            [
             0,
             "#0d0887"
            ],
            [
             0.1111111111111111,
             "#46039f"
            ],
            [
             0.2222222222222222,
             "#7201a8"
            ],
            [
             0.3333333333333333,
             "#9c179e"
            ],
            [
             0.4444444444444444,
             "#bd3786"
            ],
            [
             0.5555555555555556,
             "#d8576b"
            ],
            [
             0.6666666666666666,
             "#ed7953"
            ],
            [
             0.7777777777777778,
             "#fb9f3a"
            ],
            [
             0.8888888888888888,
             "#fdca26"
            ],
            [
             1,
             "#f0f921"
            ]
           ],
           "sequentialminus": [
            [
             0,
             "#0d0887"
            ],
            [
             0.1111111111111111,
             "#46039f"
            ],
            [
             0.2222222222222222,
             "#7201a8"
            ],
            [
             0.3333333333333333,
             "#9c179e"
            ],
            [
             0.4444444444444444,
             "#bd3786"
            ],
            [
             0.5555555555555556,
             "#d8576b"
            ],
            [
             0.6666666666666666,
             "#ed7953"
            ],
            [
             0.7777777777777778,
             "#fb9f3a"
            ],
            [
             0.8888888888888888,
             "#fdca26"
            ],
            [
             1,
             "#f0f921"
            ]
           ]
          },
          "colorway": [
           "#636efa",
           "#EF553B",
           "#00cc96",
           "#ab63fa",
           "#FFA15A",
           "#19d3f3",
           "#FF6692",
           "#B6E880",
           "#FF97FF",
           "#FECB52"
          ],
          "font": {
           "color": "#2a3f5f"
          },
          "geo": {
           "bgcolor": "white",
           "lakecolor": "white",
           "landcolor": "#E5ECF6",
           "showlakes": true,
           "showland": true,
           "subunitcolor": "white"
          },
          "hoverlabel": {
           "align": "left"
          },
          "hovermode": "closest",
          "mapbox": {
           "style": "light"
          },
          "paper_bgcolor": "white",
          "plot_bgcolor": "#E5ECF6",
          "polar": {
           "angularaxis": {
            "gridcolor": "white",
            "linecolor": "white",
            "ticks": ""
           },
           "bgcolor": "#E5ECF6",
           "radialaxis": {
            "gridcolor": "white",
            "linecolor": "white",
            "ticks": ""
           }
          },
          "scene": {
           "xaxis": {
            "backgroundcolor": "#E5ECF6",
            "gridcolor": "white",
            "gridwidth": 2,
            "linecolor": "white",
            "showbackground": true,
            "ticks": "",
            "zerolinecolor": "white"
           },
           "yaxis": {
            "backgroundcolor": "#E5ECF6",
            "gridcolor": "white",
            "gridwidth": 2,
            "linecolor": "white",
            "showbackground": true,
            "ticks": "",
            "zerolinecolor": "white"
           },
           "zaxis": {
            "backgroundcolor": "#E5ECF6",
            "gridcolor": "white",
            "gridwidth": 2,
            "linecolor": "white",
            "showbackground": true,
            "ticks": "",
            "zerolinecolor": "white"
           }
          },
          "shapedefaults": {
           "line": {
            "color": "#2a3f5f"
           }
          },
          "ternary": {
           "aaxis": {
            "gridcolor": "white",
            "linecolor": "white",
            "ticks": ""
           },
           "baxis": {
            "gridcolor": "white",
            "linecolor": "white",
            "ticks": ""
           },
           "bgcolor": "#E5ECF6",
           "caxis": {
            "gridcolor": "white",
            "linecolor": "white",
            "ticks": ""
           }
          },
          "title": {
           "x": 0.05
          },
          "xaxis": {
           "automargin": true,
           "gridcolor": "white",
           "linecolor": "white",
           "ticks": "",
           "title": {
            "standoff": 15
           },
           "zerolinecolor": "white",
           "zerolinewidth": 2
          },
          "yaxis": {
           "automargin": true,
           "gridcolor": "white",
           "linecolor": "white",
           "ticks": "",
           "title": {
            "standoff": 15
           },
           "zerolinecolor": "white",
           "zerolinewidth": 2
          }
         }
        },
        "title": {
         "text": "Relacion entre los valores de imports y exports en general"
        }
       }
      },
      "text/html": [
       "<div>                            <div id=\"d7a27a58-46a1-4ac6-9a6e-44f36bd7baa8\" class=\"plotly-graph-div\" style=\"height:525px; width:100%;\"></div>            <script type=\"text/javascript\">                require([\"plotly\"], function(Plotly) {                    window.PLOTLYENV=window.PLOTLYENV || {};                                    if (document.getElementById(\"d7a27a58-46a1-4ac6-9a6e-44f36bd7baa8\")) {                    Plotly.newPlot(                        \"d7a27a58-46a1-4ac6-9a6e-44f36bd7baa8\",                        [{\"mode\": \"lines\", \"name\": \"VALOR EN IMPORTS\", \"type\": \"scatter\", \"x\": [\"2018-1\", \"2018-2\", \"2018-3\", \"2018-4\", \"2018-5\", \"2018-6\", \"2018-7\", \"2018-8\", \"2018-9\", \"2018-10\", \"2018-11\", \"2018-12\", \"2019-1\", \"2019-2\", \"2019-3\", \"2019-4\", \"2019-5\", \"2019-6\", \"2019-7\", \"2019-8\", \"2019-9\", \"2019-10\", \"2019-11\", \"2019-12\", \"2020-1\", \"2020-2\", \"2020-3\", \"2020-4\", \"2020-5\", \"2020-6\", \"2020-7\", \"2020-8\", \"2020-9\", \"2020-10\", \"2020-11\", \"2020-12\"], \"y\": [2076534644.0, 1895311457.0, 1948401196.0, 1808923202.0, 2025703564.0, 1752821705.0, 1346923800.0, 1147878593.0, 995416285.0, 1134724020.0, 1653557019.0, 1912094495.0, 2055788232.0, 2000549675.0, 2029444045.0, 1889563548.0, 1891938397.0, 1833556214.0, 1488273560.0, 1091917425.0, 924798787.0, 1189927502.0, 1701886841.0, 2085686487.0, 2261842327.0, 2157340351.0, 2341003023.0, 2330981255.0, 2137839721.0, 1921168340.0, 1456553674.0, 1165983207.0, 1069041041.0, 1429333709.0, 1871419166.0, 355724.0]}, {\"mode\": \"lines\", \"name\": \"VALOR EN EXPORTS\", \"type\": \"scatter\", \"x\": [\"2018-1\", \"2018-2\", \"2018-3\", \"2018-4\", \"2018-5\", \"2018-6\", \"2018-7\", \"2018-8\", \"2018-9\", \"2018-10\", \"2018-11\", \"2018-12\", \"2019-1\", \"2019-2\", \"2019-3\", \"2019-4\", \"2019-5\", \"2019-6\", \"2019-7\", \"2019-8\", \"2019-9\", \"2019-10\", \"2019-11\", \"2019-12\", \"2020-1\", \"2020-2\", \"2020-3\", \"2020-4\", \"2020-5\", \"2020-6\", \"2020-7\", \"2020-8\", \"2020-9\", \"2020-10\", \"2020-11\", \"2020-12\"], \"y\": [193021891.0, 186936141.0, 208725827.0, 208973444.0, 237760120.0, 198263586.0, 177708910.0, 213559715.0, 252559556.0, 276278846.0, 213342218.0, 214988039.0, 218778638.0, 228429094.0, 247350842.0, 248234941.0, 210182239.0, 175904229.0, 187808703.0, 210922537.0, 250747190.0, 281418489.0, 243220819.0, 213669590.0, 217663671.0, 215204418.0, 254045448.0, 248514420.0, 218573685.0, 175695562.0, 228623833.0, 269817566.0, 288646860.0, 289064597.0, 225038352.0, 1258580.0]}],                        {\"template\": {\"data\": {\"bar\": [{\"error_x\": {\"color\": \"#2a3f5f\"}, \"error_y\": {\"color\": \"#2a3f5f\"}, \"marker\": {\"line\": {\"color\": \"#E5ECF6\", \"width\": 0.5}}, \"type\": \"bar\"}], \"barpolar\": [{\"marker\": {\"line\": {\"color\": \"#E5ECF6\", \"width\": 0.5}}, \"type\": \"barpolar\"}], \"carpet\": [{\"aaxis\": {\"endlinecolor\": \"#2a3f5f\", \"gridcolor\": \"white\", \"linecolor\": \"white\", \"minorgridcolor\": \"white\", \"startlinecolor\": \"#2a3f5f\"}, \"baxis\": {\"endlinecolor\": \"#2a3f5f\", \"gridcolor\": \"white\", \"linecolor\": \"white\", \"minorgridcolor\": \"white\", \"startlinecolor\": \"#2a3f5f\"}, \"type\": \"carpet\"}], \"choropleth\": [{\"colorbar\": {\"outlinewidth\": 0, \"ticks\": \"\"}, \"type\": \"choropleth\"}], \"contour\": [{\"colorbar\": {\"outlinewidth\": 0, \"ticks\": \"\"}, \"colorscale\": [[0.0, \"#0d0887\"], [0.1111111111111111, \"#46039f\"], [0.2222222222222222, \"#7201a8\"], [0.3333333333333333, \"#9c179e\"], [0.4444444444444444, \"#bd3786\"], [0.5555555555555556, \"#d8576b\"], [0.6666666666666666, \"#ed7953\"], [0.7777777777777778, \"#fb9f3a\"], [0.8888888888888888, \"#fdca26\"], [1.0, \"#f0f921\"]], \"type\": \"contour\"}], \"contourcarpet\": [{\"colorbar\": {\"outlinewidth\": 0, \"ticks\": \"\"}, \"type\": \"contourcarpet\"}], \"heatmap\": [{\"colorbar\": {\"outlinewidth\": 0, \"ticks\": \"\"}, \"colorscale\": [[0.0, \"#0d0887\"], [0.1111111111111111, \"#46039f\"], [0.2222222222222222, \"#7201a8\"], [0.3333333333333333, \"#9c179e\"], [0.4444444444444444, \"#bd3786\"], [0.5555555555555556, \"#d8576b\"], [0.6666666666666666, \"#ed7953\"], [0.7777777777777778, \"#fb9f3a\"], [0.8888888888888888, \"#fdca26\"], [1.0, \"#f0f921\"]], \"type\": \"heatmap\"}], \"heatmapgl\": [{\"colorbar\": {\"outlinewidth\": 0, \"ticks\": \"\"}, \"colorscale\": [[0.0, \"#0d0887\"], [0.1111111111111111, \"#46039f\"], [0.2222222222222222, \"#7201a8\"], [0.3333333333333333, \"#9c179e\"], [0.4444444444444444, \"#bd3786\"], [0.5555555555555556, \"#d8576b\"], [0.6666666666666666, \"#ed7953\"], [0.7777777777777778, \"#fb9f3a\"], [0.8888888888888888, \"#fdca26\"], [1.0, \"#f0f921\"]], \"type\": \"heatmapgl\"}], \"histogram\": [{\"marker\": {\"colorbar\": {\"outlinewidth\": 0, \"ticks\": \"\"}}, \"type\": \"histogram\"}], \"histogram2d\": [{\"colorbar\": {\"outlinewidth\": 0, \"ticks\": \"\"}, \"colorscale\": [[0.0, \"#0d0887\"], [0.1111111111111111, \"#46039f\"], [0.2222222222222222, \"#7201a8\"], [0.3333333333333333, \"#9c179e\"], [0.4444444444444444, \"#bd3786\"], [0.5555555555555556, \"#d8576b\"], [0.6666666666666666, \"#ed7953\"], [0.7777777777777778, \"#fb9f3a\"], [0.8888888888888888, \"#fdca26\"], [1.0, \"#f0f921\"]], \"type\": \"histogram2d\"}], \"histogram2dcontour\": [{\"colorbar\": {\"outlinewidth\": 0, \"ticks\": \"\"}, \"colorscale\": [[0.0, \"#0d0887\"], [0.1111111111111111, \"#46039f\"], [0.2222222222222222, \"#7201a8\"], [0.3333333333333333, \"#9c179e\"], [0.4444444444444444, \"#bd3786\"], [0.5555555555555556, \"#d8576b\"], [0.6666666666666666, \"#ed7953\"], [0.7777777777777778, \"#fb9f3a\"], [0.8888888888888888, \"#fdca26\"], [1.0, \"#f0f921\"]], \"type\": \"histogram2dcontour\"}], \"mesh3d\": [{\"colorbar\": {\"outlinewidth\": 0, \"ticks\": \"\"}, \"type\": \"mesh3d\"}], \"parcoords\": [{\"line\": {\"colorbar\": {\"outlinewidth\": 0, \"ticks\": \"\"}}, \"type\": \"parcoords\"}], \"pie\": [{\"automargin\": true, \"type\": \"pie\"}], \"scatter\": [{\"marker\": {\"colorbar\": {\"outlinewidth\": 0, \"ticks\": \"\"}}, \"type\": \"scatter\"}], \"scatter3d\": [{\"line\": {\"colorbar\": {\"outlinewidth\": 0, \"ticks\": \"\"}}, \"marker\": {\"colorbar\": {\"outlinewidth\": 0, \"ticks\": \"\"}}, \"type\": \"scatter3d\"}], \"scattercarpet\": [{\"marker\": {\"colorbar\": {\"outlinewidth\": 0, \"ticks\": \"\"}}, \"type\": \"scattercarpet\"}], \"scattergeo\": [{\"marker\": {\"colorbar\": {\"outlinewidth\": 0, \"ticks\": \"\"}}, \"type\": \"scattergeo\"}], \"scattergl\": [{\"marker\": {\"colorbar\": {\"outlinewidth\": 0, \"ticks\": \"\"}}, \"type\": \"scattergl\"}], \"scattermapbox\": [{\"marker\": {\"colorbar\": {\"outlinewidth\": 0, \"ticks\": \"\"}}, \"type\": \"scattermapbox\"}], \"scatterpolar\": [{\"marker\": {\"colorbar\": {\"outlinewidth\": 0, \"ticks\": \"\"}}, \"type\": \"scatterpolar\"}], \"scatterpolargl\": [{\"marker\": {\"colorbar\": {\"outlinewidth\": 0, \"ticks\": \"\"}}, \"type\": \"scatterpolargl\"}], \"scatterternary\": [{\"marker\": {\"colorbar\": {\"outlinewidth\": 0, \"ticks\": \"\"}}, \"type\": \"scatterternary\"}], \"surface\": [{\"colorbar\": {\"outlinewidth\": 0, \"ticks\": \"\"}, \"colorscale\": [[0.0, \"#0d0887\"], [0.1111111111111111, \"#46039f\"], [0.2222222222222222, \"#7201a8\"], [0.3333333333333333, \"#9c179e\"], [0.4444444444444444, \"#bd3786\"], [0.5555555555555556, \"#d8576b\"], [0.6666666666666666, \"#ed7953\"], [0.7777777777777778, \"#fb9f3a\"], [0.8888888888888888, \"#fdca26\"], [1.0, \"#f0f921\"]], \"type\": \"surface\"}], \"table\": [{\"cells\": {\"fill\": {\"color\": \"#EBF0F8\"}, \"line\": {\"color\": \"white\"}}, \"header\": {\"fill\": {\"color\": \"#C8D4E3\"}, \"line\": {\"color\": \"white\"}}, \"type\": \"table\"}]}, \"layout\": {\"annotationdefaults\": {\"arrowcolor\": \"#2a3f5f\", \"arrowhead\": 0, \"arrowwidth\": 1}, \"autotypenumbers\": \"strict\", \"coloraxis\": {\"colorbar\": {\"outlinewidth\": 0, \"ticks\": \"\"}}, \"colorscale\": {\"diverging\": [[0, \"#8e0152\"], [0.1, \"#c51b7d\"], [0.2, \"#de77ae\"], [0.3, \"#f1b6da\"], [0.4, \"#fde0ef\"], [0.5, \"#f7f7f7\"], [0.6, \"#e6f5d0\"], [0.7, \"#b8e186\"], [0.8, \"#7fbc41\"], [0.9, \"#4d9221\"], [1, \"#276419\"]], \"sequential\": [[0.0, \"#0d0887\"], [0.1111111111111111, \"#46039f\"], [0.2222222222222222, \"#7201a8\"], [0.3333333333333333, \"#9c179e\"], [0.4444444444444444, \"#bd3786\"], [0.5555555555555556, \"#d8576b\"], [0.6666666666666666, \"#ed7953\"], [0.7777777777777778, \"#fb9f3a\"], [0.8888888888888888, \"#fdca26\"], [1.0, \"#f0f921\"]], \"sequentialminus\": [[0.0, \"#0d0887\"], [0.1111111111111111, \"#46039f\"], [0.2222222222222222, \"#7201a8\"], [0.3333333333333333, \"#9c179e\"], [0.4444444444444444, \"#bd3786\"], [0.5555555555555556, \"#d8576b\"], [0.6666666666666666, \"#ed7953\"], [0.7777777777777778, \"#fb9f3a\"], [0.8888888888888888, \"#fdca26\"], [1.0, \"#f0f921\"]]}, \"colorway\": [\"#636efa\", \"#EF553B\", \"#00cc96\", \"#ab63fa\", \"#FFA15A\", \"#19d3f3\", \"#FF6692\", \"#B6E880\", \"#FF97FF\", \"#FECB52\"], \"font\": {\"color\": \"#2a3f5f\"}, \"geo\": {\"bgcolor\": \"white\", \"lakecolor\": \"white\", \"landcolor\": \"#E5ECF6\", \"showlakes\": true, \"showland\": true, \"subunitcolor\": \"white\"}, \"hoverlabel\": {\"align\": \"left\"}, \"hovermode\": \"closest\", \"mapbox\": {\"style\": \"light\"}, \"paper_bgcolor\": \"white\", \"plot_bgcolor\": \"#E5ECF6\", \"polar\": {\"angularaxis\": {\"gridcolor\": \"white\", \"linecolor\": \"white\", \"ticks\": \"\"}, \"bgcolor\": \"#E5ECF6\", \"radialaxis\": {\"gridcolor\": \"white\", \"linecolor\": \"white\", \"ticks\": \"\"}}, \"scene\": {\"xaxis\": {\"backgroundcolor\": \"#E5ECF6\", \"gridcolor\": \"white\", \"gridwidth\": 2, \"linecolor\": \"white\", \"showbackground\": true, \"ticks\": \"\", \"zerolinecolor\": \"white\"}, \"yaxis\": {\"backgroundcolor\": \"#E5ECF6\", \"gridcolor\": \"white\", \"gridwidth\": 2, \"linecolor\": \"white\", \"showbackground\": true, \"ticks\": \"\", \"zerolinecolor\": \"white\"}, \"zaxis\": {\"backgroundcolor\": \"#E5ECF6\", \"gridcolor\": \"white\", \"gridwidth\": 2, \"linecolor\": \"white\", \"showbackground\": true, \"ticks\": \"\", \"zerolinecolor\": \"white\"}}, \"shapedefaults\": {\"line\": {\"color\": \"#2a3f5f\"}}, \"ternary\": {\"aaxis\": {\"gridcolor\": \"white\", \"linecolor\": \"white\", \"ticks\": \"\"}, \"baxis\": {\"gridcolor\": \"white\", \"linecolor\": \"white\", \"ticks\": \"\"}, \"bgcolor\": \"#E5ECF6\", \"caxis\": {\"gridcolor\": \"white\", \"linecolor\": \"white\", \"ticks\": \"\"}}, \"title\": {\"x\": 0.05}, \"xaxis\": {\"automargin\": true, \"gridcolor\": \"white\", \"linecolor\": \"white\", \"ticks\": \"\", \"title\": {\"standoff\": 15}, \"zerolinecolor\": \"white\", \"zerolinewidth\": 2}, \"yaxis\": {\"automargin\": true, \"gridcolor\": \"white\", \"linecolor\": \"white\", \"ticks\": \"\", \"title\": {\"standoff\": 15}, \"zerolinecolor\": \"white\", \"zerolinewidth\": 2}}}, \"title\": {\"text\": \"Relacion entre los valores de imports y exports en general\"}},                        {\"responsive\": true}                    ).then(function(){\n",
       "                            \n",
       "var gd = document.getElementById('d7a27a58-46a1-4ac6-9a6e-44f36bd7baa8');\n",
       "var x = new MutationObserver(function (mutations, observer) {{\n",
       "        var display = window.getComputedStyle(gd).display;\n",
       "        if (!display || display === 'none') {{\n",
       "            console.log([gd, 'removed!']);\n",
       "            Plotly.purge(gd);\n",
       "            observer.disconnect();\n",
       "        }}\n",
       "}});\n",
       "\n",
       "// Listen for the removal of the full notebook cells\n",
       "var notebookContainer = gd.closest('#notebook-container');\n",
       "if (notebookContainer) {{\n",
       "    x.observe(notebookContainer, {childList: true});\n",
       "}}\n",
       "\n",
       "// Listen for the clearing of the current output cell\n",
       "var outputEl = gd.closest('.output');\n",
       "if (outputEl) {{\n",
       "    x.observe(outputEl, {childList: true});\n",
       "}}\n",
       "\n",
       "                        })                };                });            </script>        </div>"
      ]
     },
     "metadata": {},
     "output_type": "display_data"
    }
   ],
   "source": [
    "# vamos a evr con los datos que tenemos si hay algun cambio en la relacion de importes con el precio ganado o \n",
    "# sigue mas o menos proporcional\n",
    "\n",
    "import plotly.graph_objects as go\n",
    "\n",
    "fig = go.Figure()\n",
    "fig.add_trace(go.Scatter(x= x, y= imp_val,\n",
    "                    mode='lines',\n",
    "                    name='VALOR EN IMPORTS'))\n",
    "fig.add_trace(go.Scatter(x= x, y= exp_val,\n",
    "                    mode='lines',\n",
    "                    name='VALOR EN EXPORTS'))\n",
    "fig.update_layout(\n",
    "    title= 'Relacion entre los valores de imports y exports en general'\n",
    ")\n",
    "fig.show()\n",
    "# Curioso caso, cuando no importamos, exportamos, \n",
    "# no se refleja muy bien la cantidad de importaciones y exportaciones, y que si comprobamos el dataset\n",
    "# vemos que esta en una medida mas o menos normalizado."
   ]
  },
  {
   "cell_type": "code",
   "execution_count": null,
   "metadata": {},
   "outputs": [],
   "source": []
  },
  {
   "cell_type": "markdown",
   "metadata": {},
   "source": [
    "<h3> -----------------FIN de la parte de Vlad --------------------------"
   ]
  },
  {
   "cell_type": "markdown",
   "metadata": {},
   "source": [
    "### Intento de analisis de aquellas filas que presentan valores anuales:"
   ]
  },
  {
   "cell_type": "code",
   "execution_count": 16,
   "metadata": {},
   "outputs": [
    {
     "name": "stdout",
     "output_type": "stream",
     "text": [
      "There are 19712 rows and 8 columns\n"
     ]
    },
    {
     "data": {
      "text/html": [
       "<div>\n",
       "<style scoped>\n",
       "    .dataframe tbody tr th:only-of-type {\n",
       "        vertical-align: middle;\n",
       "    }\n",
       "\n",
       "    .dataframe tbody tr th {\n",
       "        vertical-align: top;\n",
       "    }\n",
       "\n",
       "    .dataframe thead th {\n",
       "        text-align: right;\n",
       "    }\n",
       "</style>\n",
       "<table border=\"1\" class=\"dataframe\">\n",
       "  <thead>\n",
       "    <tr style=\"text-align: right;\">\n",
       "      <th></th>\n",
       "      <th>PERIOD</th>\n",
       "      <th>REPORTER</th>\n",
       "      <th>PARTNER</th>\n",
       "      <th>PRODUCT</th>\n",
       "      <th>FLOW</th>\n",
       "      <th>INDICATORS</th>\n",
       "      <th>Value</th>\n",
       "      <th>Aux</th>\n",
       "    </tr>\n",
       "  </thead>\n",
       "  <tbody>\n",
       "    <tr>\n",
       "      <th>48</th>\n",
       "      <td>Jan.-Dec. 2018</td>\n",
       "      <td>Austria</td>\n",
       "      <td>ES</td>\n",
       "      <td>Bananas, fresh (excl. plantains)(2012-2500)</td>\n",
       "      <td>IMPORT</td>\n",
       "      <td>VALUE_IN_EUROS</td>\n",
       "      <td>1058.0</td>\n",
       "      <td>Dec. 2018</td>\n",
       "    </tr>\n",
       "    <tr>\n",
       "      <th>49</th>\n",
       "      <td>Jan.-Dec. 2018</td>\n",
       "      <td>Austria</td>\n",
       "      <td>ES</td>\n",
       "      <td>Bananas, fresh (excl. plantains)(2012-2500)</td>\n",
       "      <td>IMPORT</td>\n",
       "      <td>QUANTITY_IN_100KG</td>\n",
       "      <td>4.0</td>\n",
       "      <td>Dec. 2018</td>\n",
       "    </tr>\n",
       "    <tr>\n",
       "      <th>50</th>\n",
       "      <td>Jan.-Dec. 2018</td>\n",
       "      <td>Austria</td>\n",
       "      <td>ES</td>\n",
       "      <td>Bananas, fresh (excl. plantains)(2012-2500)</td>\n",
       "      <td>EXPORT</td>\n",
       "      <td>VALUE_IN_EUROS</td>\n",
       "      <td>0.0</td>\n",
       "      <td>Dec. 2018</td>\n",
       "    </tr>\n",
       "    <tr>\n",
       "      <th>51</th>\n",
       "      <td>Jan.-Dec. 2018</td>\n",
       "      <td>Austria</td>\n",
       "      <td>ES</td>\n",
       "      <td>Bananas, fresh (excl. plantains)(2012-2500)</td>\n",
       "      <td>EXPORT</td>\n",
       "      <td>QUANTITY_IN_100KG</td>\n",
       "      <td>0.0</td>\n",
       "      <td>Dec. 2018</td>\n",
       "    </tr>\n",
       "    <tr>\n",
       "      <th>100</th>\n",
       "      <td>Jan.-Dec. 2019</td>\n",
       "      <td>Austria</td>\n",
       "      <td>ES</td>\n",
       "      <td>Bananas, fresh (excl. plantains)(2012-2500)</td>\n",
       "      <td>IMPORT</td>\n",
       "      <td>VALUE_IN_EUROS</td>\n",
       "      <td>0.0</td>\n",
       "      <td>Dec. 2019</td>\n",
       "    </tr>\n",
       "    <tr>\n",
       "      <th>...</th>\n",
       "      <td>...</td>\n",
       "      <td>...</td>\n",
       "      <td>...</td>\n",
       "      <td>...</td>\n",
       "      <td>...</td>\n",
       "      <td>...</td>\n",
       "      <td>...</td>\n",
       "      <td>...</td>\n",
       "    </tr>\n",
       "    <tr>\n",
       "      <th>360879</th>\n",
       "      <td>Jan.-Dec. 2018</td>\n",
       "      <td>Sweden</td>\n",
       "      <td>ES</td>\n",
       "      <td>White and red cabbages, fresh or chilled(1988-...</td>\n",
       "      <td>EXPORT</td>\n",
       "      <td>QUANTITY_IN_100KG</td>\n",
       "      <td>0.0</td>\n",
       "      <td>Dec. 2018</td>\n",
       "    </tr>\n",
       "    <tr>\n",
       "      <th>360928</th>\n",
       "      <td>Jan.-Dec. 2019</td>\n",
       "      <td>Sweden</td>\n",
       "      <td>ES</td>\n",
       "      <td>White and red cabbages, fresh or chilled(1988-...</td>\n",
       "      <td>IMPORT</td>\n",
       "      <td>VALUE_IN_EUROS</td>\n",
       "      <td>483.0</td>\n",
       "      <td>Dec. 2019</td>\n",
       "    </tr>\n",
       "    <tr>\n",
       "      <th>360929</th>\n",
       "      <td>Jan.-Dec. 2019</td>\n",
       "      <td>Sweden</td>\n",
       "      <td>ES</td>\n",
       "      <td>White and red cabbages, fresh or chilled(1988-...</td>\n",
       "      <td>IMPORT</td>\n",
       "      <td>QUANTITY_IN_100KG</td>\n",
       "      <td>4.0</td>\n",
       "      <td>Dec. 2019</td>\n",
       "    </tr>\n",
       "    <tr>\n",
       "      <th>360930</th>\n",
       "      <td>Jan.-Dec. 2019</td>\n",
       "      <td>Sweden</td>\n",
       "      <td>ES</td>\n",
       "      <td>White and red cabbages, fresh or chilled(1988-...</td>\n",
       "      <td>EXPORT</td>\n",
       "      <td>VALUE_IN_EUROS</td>\n",
       "      <td>31.0</td>\n",
       "      <td>Dec. 2019</td>\n",
       "    </tr>\n",
       "    <tr>\n",
       "      <th>360931</th>\n",
       "      <td>Jan.-Dec. 2019</td>\n",
       "      <td>Sweden</td>\n",
       "      <td>ES</td>\n",
       "      <td>White and red cabbages, fresh or chilled(1988-...</td>\n",
       "      <td>EXPORT</td>\n",
       "      <td>QUANTITY_IN_100KG</td>\n",
       "      <td>0.0</td>\n",
       "      <td>Dec. 2019</td>\n",
       "    </tr>\n",
       "  </tbody>\n",
       "</table>\n",
       "<p>19712 rows × 8 columns</p>\n",
       "</div>"
      ],
      "text/plain": [
       "                PERIOD REPORTER PARTNER  \\\n",
       "48      Jan.-Dec. 2018  Austria      ES   \n",
       "49      Jan.-Dec. 2018  Austria      ES   \n",
       "50      Jan.-Dec. 2018  Austria      ES   \n",
       "51      Jan.-Dec. 2018  Austria      ES   \n",
       "100     Jan.-Dec. 2019  Austria      ES   \n",
       "...                ...      ...     ...   \n",
       "360879  Jan.-Dec. 2018   Sweden      ES   \n",
       "360928  Jan.-Dec. 2019   Sweden      ES   \n",
       "360929  Jan.-Dec. 2019   Sweden      ES   \n",
       "360930  Jan.-Dec. 2019   Sweden      ES   \n",
       "360931  Jan.-Dec. 2019   Sweden      ES   \n",
       "\n",
       "                                                  PRODUCT    FLOW  \\\n",
       "48            Bananas, fresh (excl. plantains)(2012-2500)  IMPORT   \n",
       "49            Bananas, fresh (excl. plantains)(2012-2500)  IMPORT   \n",
       "50            Bananas, fresh (excl. plantains)(2012-2500)  EXPORT   \n",
       "51            Bananas, fresh (excl. plantains)(2012-2500)  EXPORT   \n",
       "100           Bananas, fresh (excl. plantains)(2012-2500)  IMPORT   \n",
       "...                                                   ...     ...   \n",
       "360879  White and red cabbages, fresh or chilled(1988-...  EXPORT   \n",
       "360928  White and red cabbages, fresh or chilled(1988-...  IMPORT   \n",
       "360929  White and red cabbages, fresh or chilled(1988-...  IMPORT   \n",
       "360930  White and red cabbages, fresh or chilled(1988-...  EXPORT   \n",
       "360931  White and red cabbages, fresh or chilled(1988-...  EXPORT   \n",
       "\n",
       "               INDICATORS   Value        Aux  \n",
       "48         VALUE_IN_EUROS  1058.0  Dec. 2018  \n",
       "49      QUANTITY_IN_100KG     4.0  Dec. 2018  \n",
       "50         VALUE_IN_EUROS     0.0  Dec. 2018  \n",
       "51      QUANTITY_IN_100KG     0.0  Dec. 2018  \n",
       "100        VALUE_IN_EUROS     0.0  Dec. 2019  \n",
       "...                   ...     ...        ...  \n",
       "360879  QUANTITY_IN_100KG     0.0  Dec. 2018  \n",
       "360928     VALUE_IN_EUROS   483.0  Dec. 2019  \n",
       "360929  QUANTITY_IN_100KG     4.0  Dec. 2019  \n",
       "360930     VALUE_IN_EUROS    31.0  Dec. 2019  \n",
       "360931  QUANTITY_IN_100KG     0.0  Dec. 2019  \n",
       "\n",
       "[19712 rows x 8 columns]"
      ]
     },
     "execution_count": 16,
     "metadata": {},
     "output_type": "execute_result"
    }
   ],
   "source": [
    "anuales=df4[df4[\"PERIOD\"].apply(lambda x: len(x)!=9)]\n",
    "anuales.sample(5)\n",
    "nRow, nCol = anuales.shape\n",
    "print(f'There are {nRow} rows and {nCol} columns')\n",
    "anuales"
   ]
  },
  {
   "cell_type": "code",
   "execution_count": 17,
   "metadata": {},
   "outputs": [],
   "source": [
    "agrupa = anuales.groupby(['PERIOD'])"
   ]
  },
  {
   "cell_type": "code",
   "execution_count": 18,
   "metadata": {},
   "outputs": [
    {
     "name": "stdout",
     "output_type": "stream",
     "text": [
      "                REPORTER  PARTNER  PRODUCT  FLOW  INDICATORS  Value   Aux\n",
      "PERIOD                                                                   \n",
      "Jan.-Dec. 2018      9744     9744     9744  9744        9744   9744  9744\n",
      "Jan.-Dec. 2019      9744     9744     9744  9744        9744   9744  9744\n",
      "Jan.-Dec. 2020       224      224      224   224         224    224   224\n"
     ]
    },
    {
     "data": {
      "text/plain": [
       "<matplotlib.axes._subplots.AxesSubplot at 0x10f144a90d0>"
      ]
     },
     "execution_count": 18,
     "metadata": {},
     "output_type": "execute_result"
    },
    {
     "data": {
      "image/png": "[encoded data removed]",
      "text/plain": [
       "<Figure size 432x288 with 1 Axes>"
      ]
     },
     "metadata": {
      "needs_background": "light"
     },
     "output_type": "display_data"
    }
   ],
   "source": [
    "print(agrupa.count())\n",
    "anuales.groupby('PERIOD').mean()[\"Value\"].plot(kind='bar')"
   ]
  },
  {
   "cell_type": "code",
   "execution_count": 19,
   "metadata": {},
   "outputs": [
    {
     "data": {
      "text/plain": [
       "array([0.])"
      ]
     },
     "execution_count": 19,
     "metadata": {},
     "output_type": "execute_result"
    }
   ],
   "source": [
    "# Por qué pasa eso?\n",
    "\n",
    "periodo2020 = df4.loc[df4['PERIOD'] == \"Jan.-Dec. 2020\"]\n",
    "periodo2020['Value'].unique() "
   ]
  },
  {
   "cell_type": "markdown",
   "metadata": {},
   "source": [
    "Mustra las filas del dataset en las que falte algún valor"
   ]
  },
  {
   "cell_type": "code",
   "execution_count": 20,
   "metadata": {},
   "outputs": [
    {
     "data": {
      "text/plain": [
       "PERIOD        0\n",
       "REPORTER      0\n",
       "PARTNER       0\n",
       "PRODUCT       0\n",
       "FLOW          0\n",
       "INDICATORS    0\n",
       "Value         0\n",
       "Aux           0\n",
       "dtype: int64"
      ]
     },
     "execution_count": 20,
     "metadata": {},
     "output_type": "execute_result"
    }
   ],
   "source": [
    "#df.isnull().sample(10)\n",
    "df4.loc[df4.isnull().any(axis='columns')]\n",
    "df4.isnull().sum()"
   ]
  },
  {
   "cell_type": "markdown",
   "metadata": {},
   "source": [
    "Sacar las fechas en formato datetime:"
   ]
  },
  {
   "cell_type": "code",
   "execution_count": 21,
   "metadata": {},
   "outputs": [
    {
     "data": {
      "text/html": [
       "<div>\n",
       "<style scoped>\n",
       "    .dataframe tbody tr th:only-of-type {\n",
       "        vertical-align: middle;\n",
       "    }\n",
       "\n",
       "    .dataframe tbody tr th {\n",
       "        vertical-align: top;\n",
       "    }\n",
       "\n",
       "    .dataframe thead th {\n",
       "        text-align: right;\n",
       "    }\n",
       "</style>\n",
       "<table border=\"1\" class=\"dataframe\">\n",
       "  <thead>\n",
       "    <tr style=\"text-align: right;\">\n",
       "      <th></th>\n",
       "      <th>PERIOD</th>\n",
       "      <th>REPORTER</th>\n",
       "      <th>PARTNER</th>\n",
       "      <th>PRODUCT</th>\n",
       "      <th>FLOW</th>\n",
       "      <th>INDICATORS</th>\n",
       "      <th>Value</th>\n",
       "      <th>Aux</th>\n",
       "      <th>Date</th>\n",
       "    </tr>\n",
       "  </thead>\n",
       "  <tbody>\n",
       "    <tr>\n",
       "      <th>0</th>\n",
       "      <td>Jan. 2018</td>\n",
       "      <td>Austria</td>\n",
       "      <td>ES</td>\n",
       "      <td>Bananas, fresh (excl. plantains)(2012-2500)</td>\n",
       "      <td>IMPORT</td>\n",
       "      <td>VALUE_IN_EUROS</td>\n",
       "      <td>0.0</td>\n",
       "      <td>Jan. 2018</td>\n",
       "      <td>2018-01-01</td>\n",
       "    </tr>\n",
       "    <tr>\n",
       "      <th>1</th>\n",
       "      <td>Jan. 2018</td>\n",
       "      <td>Austria</td>\n",
       "      <td>ES</td>\n",
       "      <td>Bananas, fresh (excl. plantains)(2012-2500)</td>\n",
       "      <td>IMPORT</td>\n",
       "      <td>QUANTITY_IN_100KG</td>\n",
       "      <td>0.0</td>\n",
       "      <td>Jan. 2018</td>\n",
       "      <td>2018-01-01</td>\n",
       "    </tr>\n",
       "    <tr>\n",
       "      <th>2</th>\n",
       "      <td>Jan. 2018</td>\n",
       "      <td>Austria</td>\n",
       "      <td>ES</td>\n",
       "      <td>Bananas, fresh (excl. plantains)(2012-2500)</td>\n",
       "      <td>EXPORT</td>\n",
       "      <td>VALUE_IN_EUROS</td>\n",
       "      <td>0.0</td>\n",
       "      <td>Jan. 2018</td>\n",
       "      <td>2018-01-01</td>\n",
       "    </tr>\n",
       "    <tr>\n",
       "      <th>3</th>\n",
       "      <td>Jan. 2018</td>\n",
       "      <td>Austria</td>\n",
       "      <td>ES</td>\n",
       "      <td>Bananas, fresh (excl. plantains)(2012-2500)</td>\n",
       "      <td>EXPORT</td>\n",
       "      <td>QUANTITY_IN_100KG</td>\n",
       "      <td>0.0</td>\n",
       "      <td>Jan. 2018</td>\n",
       "      <td>2018-01-01</td>\n",
       "    </tr>\n",
       "    <tr>\n",
       "      <th>4</th>\n",
       "      <td>Feb. 2018</td>\n",
       "      <td>Austria</td>\n",
       "      <td>ES</td>\n",
       "      <td>Bananas, fresh (excl. plantains)(2012-2500)</td>\n",
       "      <td>IMPORT</td>\n",
       "      <td>VALUE_IN_EUROS</td>\n",
       "      <td>0.0</td>\n",
       "      <td>Feb. 2018</td>\n",
       "      <td>2018-02-01</td>\n",
       "    </tr>\n",
       "  </tbody>\n",
       "</table>\n",
       "</div>"
      ],
      "text/plain": [
       "      PERIOD REPORTER PARTNER                                      PRODUCT  \\\n",
       "0  Jan. 2018  Austria      ES  Bananas, fresh (excl. plantains)(2012-2500)   \n",
       "1  Jan. 2018  Austria      ES  Bananas, fresh (excl. plantains)(2012-2500)   \n",
       "2  Jan. 2018  Austria      ES  Bananas, fresh (excl. plantains)(2012-2500)   \n",
       "3  Jan. 2018  Austria      ES  Bananas, fresh (excl. plantains)(2012-2500)   \n",
       "4  Feb. 2018  Austria      ES  Bananas, fresh (excl. plantains)(2012-2500)   \n",
       "\n",
       "     FLOW         INDICATORS  Value        Aux       Date  \n",
       "0  IMPORT     VALUE_IN_EUROS    0.0  Jan. 2018 2018-01-01  \n",
       "1  IMPORT  QUANTITY_IN_100KG    0.0  Jan. 2018 2018-01-01  \n",
       "2  EXPORT     VALUE_IN_EUROS    0.0  Jan. 2018 2018-01-01  \n",
       "3  EXPORT  QUANTITY_IN_100KG    0.0  Jan. 2018 2018-01-01  \n",
       "4  IMPORT     VALUE_IN_EUROS    0.0  Feb. 2018 2018-02-01  "
      ]
     },
     "execution_count": 21,
     "metadata": {},
     "output_type": "execute_result"
    }
   ],
   "source": [
    "months= {'Jan.': '1' , 'Feb.': '2' , 'Mar.': '3', 'Apr.': '4', 'May.': '5', 'Jun.': '6', 'Jul.': '7', 'Aug.': '8', 'Sep.': '9', 'Oct.': '10' , 'Nov.':'11', 'Dec.':'12'}\n",
    "def stringPeriodToDate(valor):\n",
    "    if valor[0:4] not in months.keys():\n",
    "        pass\n",
    "    else: \n",
    "        valor= months[valor[0:4]]+'/'+valor[5:]\n",
    "        return datetime.strptime(valor, '%m/%Y')\n",
    "        \n",
    "df4['Date'] = df4['Aux'].map(stringPeriodToDate) \n",
    "df4.head(5)"
   ]
  },
  {
   "cell_type": "markdown",
   "metadata": {},
   "source": [
    "Agrupa filas por columna 'FLOW' para ver que tenemos casos balanceados de importaciones y exportaciones:"
   ]
  },
  {
   "cell_type": "code",
   "execution_count": 22,
   "metadata": {},
   "outputs": [
    {
     "data": {
      "text/html": [
       "<div>\n",
       "<style scoped>\n",
       "    .dataframe tbody tr th:only-of-type {\n",
       "        vertical-align: middle;\n",
       "    }\n",
       "\n",
       "    .dataframe tbody tr th {\n",
       "        vertical-align: top;\n",
       "    }\n",
       "\n",
       "    .dataframe thead th {\n",
       "        text-align: right;\n",
       "    }\n",
       "</style>\n",
       "<table border=\"1\" class=\"dataframe\">\n",
       "  <thead>\n",
       "    <tr style=\"text-align: right;\">\n",
       "      <th></th>\n",
       "      <th>PERIOD</th>\n",
       "      <th>REPORTER</th>\n",
       "      <th>PARTNER</th>\n",
       "      <th>PRODUCT</th>\n",
       "      <th>INDICATORS</th>\n",
       "      <th>Value</th>\n",
       "      <th>Aux</th>\n",
       "      <th>Date</th>\n",
       "    </tr>\n",
       "    <tr>\n",
       "      <th>FLOW</th>\n",
       "      <th></th>\n",
       "      <th></th>\n",
       "      <th></th>\n",
       "      <th></th>\n",
       "      <th></th>\n",
       "      <th></th>\n",
       "      <th></th>\n",
       "      <th></th>\n",
       "    </tr>\n",
       "  </thead>\n",
       "  <tbody>\n",
       "    <tr>\n",
       "      <th>EXPORT</th>\n",
       "      <td>180488</td>\n",
       "      <td>180488</td>\n",
       "      <td>180488</td>\n",
       "      <td>180488</td>\n",
       "      <td>180488</td>\n",
       "      <td>180488</td>\n",
       "      <td>180488</td>\n",
       "      <td>180488</td>\n",
       "    </tr>\n",
       "    <tr>\n",
       "      <th>IMPORT</th>\n",
       "      <td>180488</td>\n",
       "      <td>180488</td>\n",
       "      <td>180488</td>\n",
       "      <td>180488</td>\n",
       "      <td>180488</td>\n",
       "      <td>180488</td>\n",
       "      <td>180488</td>\n",
       "      <td>180488</td>\n",
       "    </tr>\n",
       "  </tbody>\n",
       "</table>\n",
       "</div>"
      ],
      "text/plain": [
       "        PERIOD  REPORTER  PARTNER  PRODUCT  INDICATORS   Value     Aux    Date\n",
       "FLOW                                                                          \n",
       "EXPORT  180488    180488   180488   180488      180488  180488  180488  180488\n",
       "IMPORT  180488    180488   180488   180488      180488  180488  180488  180488"
      ]
     },
     "execution_count": 22,
     "metadata": {},
     "output_type": "execute_result"
    }
   ],
   "source": [
    "df4.groupby('FLOW').count()"
   ]
  },
  {
   "cell_type": "markdown",
   "metadata": {},
   "source": [
    "Cuantos partners hay?"
   ]
  },
  {
   "cell_type": "code",
   "execution_count": 23,
   "metadata": {},
   "outputs": [
    {
     "data": {
      "text/plain": [
       "count     360976\n",
       "unique         1\n",
       "top           ES\n",
       "freq      360976\n",
       "Name: PARTNER, dtype: object"
      ]
     },
     "execution_count": 23,
     "metadata": {},
     "output_type": "execute_result"
    }
   ],
   "source": [
    "df4['PARTNER'].describe()"
   ]
  },
  {
   "cell_type": "markdown",
   "metadata": {},
   "source": [
    "Cuantos reporters hay?"
   ]
  },
  {
   "cell_type": "code",
   "execution_count": 24,
   "metadata": {},
   "outputs": [
    {
     "data": {
      "text/plain": [
       "count      360976\n",
       "unique         28\n",
       "top       Croatia\n",
       "freq        12892\n",
       "Name: REPORTER, dtype: object"
      ]
     },
     "execution_count": 24,
     "metadata": {},
     "output_type": "execute_result"
    }
   ],
   "source": [
    "df4['REPORTER'].describe()"
   ]
  },
  {
   "cell_type": "markdown",
   "metadata": {},
   "source": [
    "# Vamos a quitar los faltantes a lo loco"
   ]
  },
  {
   "cell_type": "code",
   "execution_count": 25,
   "metadata": {},
   "outputs": [],
   "source": [
    "df4Completo=df4.dropna(axis='rows', how='any', inplace=False) # Borra las filas que tengan al menos un valor faltante"
   ]
  },
  {
   "cell_type": "markdown",
   "metadata": {},
   "source": [
    "(Si se no se especifica la opción `inplace=True`, en lugar de borrar los datos del dataframe original, se devuelve un nuevo dataframe sin las filas/columnas con datos faltantes)"
   ]
  },
  {
   "cell_type": "code",
   "execution_count": 26,
   "metadata": {},
   "outputs": [
    {
     "data": {
      "text/html": [
       "<div>\n",
       "<style scoped>\n",
       "    .dataframe tbody tr th:only-of-type {\n",
       "        vertical-align: middle;\n",
       "    }\n",
       "\n",
       "    .dataframe tbody tr th {\n",
       "        vertical-align: top;\n",
       "    }\n",
       "\n",
       "    .dataframe thead th {\n",
       "        text-align: right;\n",
       "    }\n",
       "</style>\n",
       "<table border=\"1\" class=\"dataframe\">\n",
       "  <thead>\n",
       "    <tr style=\"text-align: right;\">\n",
       "      <th></th>\n",
       "      <th>PERIOD</th>\n",
       "      <th>REPORTER</th>\n",
       "      <th>PARTNER</th>\n",
       "      <th>PRODUCT</th>\n",
       "      <th>FLOW</th>\n",
       "      <th>INDICATORS</th>\n",
       "      <th>Value</th>\n",
       "      <th>Aux</th>\n",
       "      <th>Date</th>\n",
       "    </tr>\n",
       "  </thead>\n",
       "  <tbody>\n",
       "    <tr>\n",
       "      <th>44156</th>\n",
       "      <td>Feb. 2018</td>\n",
       "      <td>Croatia</td>\n",
       "      <td>ES</td>\n",
       "      <td>Fresh or chilled fruits of genus Capsicum or P...</td>\n",
       "      <td>IMPORT</td>\n",
       "      <td>VALUE_IN_EUROS</td>\n",
       "      <td>10373.0</td>\n",
       "      <td>Feb. 2018</td>\n",
       "      <td>2018-02-01</td>\n",
       "    </tr>\n",
       "    <tr>\n",
       "      <th>265772</th>\n",
       "      <td>Aug. 2019</td>\n",
       "      <td>Netherlands</td>\n",
       "      <td>ES</td>\n",
       "      <td>Fresh or dried citrus fruit (excl. oranges, le...</td>\n",
       "      <td>IMPORT</td>\n",
       "      <td>VALUE_IN_EUROS</td>\n",
       "      <td>15956.0</td>\n",
       "      <td>Aug. 2019</td>\n",
       "      <td>2019-08-01</td>\n",
       "    </tr>\n",
       "    <tr>\n",
       "      <th>356032</th>\n",
       "      <td>Dec. 2019</td>\n",
       "      <td>Sweden</td>\n",
       "      <td>ES</td>\n",
       "      <td>Fresh or dried citrus fruit (excl. oranges, le...</td>\n",
       "      <td>IMPORT</td>\n",
       "      <td>VALUE_IN_EUROS</td>\n",
       "      <td>115785.0</td>\n",
       "      <td>Dec. 2019</td>\n",
       "      <td>2019-12-01</td>\n",
       "    </tr>\n",
       "    <tr>\n",
       "      <th>326794</th>\n",
       "      <td>Jan. 2019</td>\n",
       "      <td>Slovenia</td>\n",
       "      <td>ES</td>\n",
       "      <td>Fresh or chilled celery (excl. celeriac)(1988-...</td>\n",
       "      <td>EXPORT</td>\n",
       "      <td>VALUE_IN_EUROS</td>\n",
       "      <td>0.0</td>\n",
       "      <td>Jan. 2019</td>\n",
       "      <td>2019-01-01</td>\n",
       "    </tr>\n",
       "    <tr>\n",
       "      <th>222000</th>\n",
       "      <td>Jul. 2018</td>\n",
       "      <td>Lithuania</td>\n",
       "      <td>ES</td>\n",
       "      <td>Fresh kiwifruit(2000-2500)|Fresh kiwifruit(199...</td>\n",
       "      <td>IMPORT</td>\n",
       "      <td>VALUE_IN_EUROS</td>\n",
       "      <td>0.0</td>\n",
       "      <td>Jul. 2018</td>\n",
       "      <td>2018-07-01</td>\n",
       "    </tr>\n",
       "    <tr>\n",
       "      <th>101396</th>\n",
       "      <td>Dec. 2018</td>\n",
       "      <td>Estonia</td>\n",
       "      <td>ES</td>\n",
       "      <td>Fresh table grapes(1998-2500)</td>\n",
       "      <td>IMPORT</td>\n",
       "      <td>VALUE_IN_EUROS</td>\n",
       "      <td>64456.0</td>\n",
       "      <td>Dec. 2018</td>\n",
       "      <td>2018-12-01</td>\n",
       "    </tr>\n",
       "    <tr>\n",
       "      <th>64462</th>\n",
       "      <td>Jan. 2018</td>\n",
       "      <td>Czechia</td>\n",
       "      <td>ES</td>\n",
       "      <td>Bananas, fresh (excl. plantains)(2012-2500)</td>\n",
       "      <td>EXPORT</td>\n",
       "      <td>VALUE_IN_EUROS</td>\n",
       "      <td>0.0</td>\n",
       "      <td>Jan. 2018</td>\n",
       "      <td>2018-01-01</td>\n",
       "    </tr>\n",
       "    <tr>\n",
       "      <th>103735</th>\n",
       "      <td>Feb. 2018</td>\n",
       "      <td>European Union - 27 countries (AT, BE, BG, CY,...</td>\n",
       "      <td>ES</td>\n",
       "      <td>Dried apples(1988-2500)</td>\n",
       "      <td>EXPORT</td>\n",
       "      <td>QUANTITY_IN_100KG</td>\n",
       "      <td>897.0</td>\n",
       "      <td>Feb. 2018</td>\n",
       "      <td>2018-02-01</td>\n",
       "    </tr>\n",
       "    <tr>\n",
       "      <th>306752</th>\n",
       "      <td>May. 2018</td>\n",
       "      <td>Romania</td>\n",
       "      <td>ES</td>\n",
       "      <td>Fresh raspberries(1988-2500)</td>\n",
       "      <td>IMPORT</td>\n",
       "      <td>VALUE_IN_EUROS</td>\n",
       "      <td>27525.0</td>\n",
       "      <td>May. 2018</td>\n",
       "      <td>2018-05-01</td>\n",
       "    </tr>\n",
       "    <tr>\n",
       "      <th>275173</th>\n",
       "      <td>Jan. 2018</td>\n",
       "      <td>Poland</td>\n",
       "      <td>ES</td>\n",
       "      <td>Fresh or chilled celery (excl. celeriac)(1988-...</td>\n",
       "      <td>IMPORT</td>\n",
       "      <td>QUANTITY_IN_100KG</td>\n",
       "      <td>4702.0</td>\n",
       "      <td>Jan. 2018</td>\n",
       "      <td>2018-01-01</td>\n",
       "    </tr>\n",
       "  </tbody>\n",
       "</table>\n",
       "</div>"
      ],
      "text/plain": [
       "           PERIOD                                           REPORTER PARTNER  \\\n",
       "44156   Feb. 2018                                            Croatia      ES   \n",
       "265772  Aug. 2019                                        Netherlands      ES   \n",
       "356032  Dec. 2019                                             Sweden      ES   \n",
       "326794  Jan. 2019                                           Slovenia      ES   \n",
       "222000  Jul. 2018                                          Lithuania      ES   \n",
       "101396  Dec. 2018                                            Estonia      ES   \n",
       "64462   Jan. 2018                                            Czechia      ES   \n",
       "103735  Feb. 2018  European Union - 27 countries (AT, BE, BG, CY,...      ES   \n",
       "306752  May. 2018                                            Romania      ES   \n",
       "275173  Jan. 2018                                             Poland      ES   \n",
       "\n",
       "                                                  PRODUCT    FLOW  \\\n",
       "44156   Fresh or chilled fruits of genus Capsicum or P...  IMPORT   \n",
       "265772  Fresh or dried citrus fruit (excl. oranges, le...  IMPORT   \n",
       "356032  Fresh or dried citrus fruit (excl. oranges, le...  IMPORT   \n",
       "326794  Fresh or chilled celery (excl. celeriac)(1988-...  EXPORT   \n",
       "222000  Fresh kiwifruit(2000-2500)|Fresh kiwifruit(199...  IMPORT   \n",
       "101396                      Fresh table grapes(1998-2500)  IMPORT   \n",
       "64462         Bananas, fresh (excl. plantains)(2012-2500)  EXPORT   \n",
       "103735                            Dried apples(1988-2500)  EXPORT   \n",
       "306752                       Fresh raspberries(1988-2500)  IMPORT   \n",
       "275173  Fresh or chilled celery (excl. celeriac)(1988-...  IMPORT   \n",
       "\n",
       "               INDICATORS     Value        Aux       Date  \n",
       "44156      VALUE_IN_EUROS   10373.0  Feb. 2018 2018-02-01  \n",
       "265772     VALUE_IN_EUROS   15956.0  Aug. 2019 2019-08-01  \n",
       "356032     VALUE_IN_EUROS  115785.0  Dec. 2019 2019-12-01  \n",
       "326794     VALUE_IN_EUROS       0.0  Jan. 2019 2019-01-01  \n",
       "222000     VALUE_IN_EUROS       0.0  Jul. 2018 2018-07-01  \n",
       "101396     VALUE_IN_EUROS   64456.0  Dec. 2018 2018-12-01  \n",
       "64462      VALUE_IN_EUROS       0.0  Jan. 2018 2018-01-01  \n",
       "103735  QUANTITY_IN_100KG     897.0  Feb. 2018 2018-02-01  \n",
       "306752     VALUE_IN_EUROS   27525.0  May. 2018 2018-05-01  \n",
       "275173  QUANTITY_IN_100KG    4702.0  Jan. 2018 2018-01-01  "
      ]
     },
     "execution_count": 26,
     "metadata": {},
     "output_type": "execute_result"
    }
   ],
   "source": [
    "df4Completo.sample(10)"
   ]
  },
  {
   "cell_type": "code",
   "execution_count": 27,
   "metadata": {},
   "outputs": [
    {
     "data": {
      "text/plain": [
       "count                                                360976\n",
       "unique                                                   87\n",
       "top       Fresh or chilled new potatoes from 1 January t...\n",
       "freq                                                   4368\n",
       "Name: PRODUCT, dtype: object"
      ]
     },
     "execution_count": 27,
     "metadata": {},
     "output_type": "execute_result"
    }
   ],
   "source": [
    "df4['PRODUCT'].describe()"
   ]
  },
  {
   "cell_type": "markdown",
   "metadata": {},
   "source": [
    "# DATAFRAME 3"
   ]
  },
  {
   "cell_type": "markdown",
   "metadata": {},
   "source": [
    "# ----------------------------------------------------------------------------------------------------------------------------------------------------------------------------------"
   ]
  },
  {
   "cell_type": "code",
   "execution_count": 29,
   "metadata": {},
   "outputs": [
    {
     "data": {
      "text/html": [
       "<div>\n",
       "<style scoped>\n",
       "    .dataframe tbody tr th:only-of-type {\n",
       "        vertical-align: middle;\n",
       "    }\n",
       "\n",
       "    .dataframe tbody tr th {\n",
       "        vertical-align: top;\n",
       "    }\n",
       "\n",
       "    .dataframe thead th {\n",
       "        text-align: right;\n",
       "    }\n",
       "</style>\n",
       "<table border=\"1\" class=\"dataframe\">\n",
       "  <thead>\n",
       "    <tr style=\"text-align: right;\">\n",
       "      <th></th>\n",
       "      <th>product</th>\n",
       "      <th>origen</th>\n",
       "      <th>Unidad</th>\n",
       "      <th>familia</th>\n",
       "      <th>YEAR</th>\n",
       "      <th>MONTH</th>\n",
       "      <th>price_mean</th>\n",
       "      <th>Volumen</th>\n",
       "    </tr>\n",
       "  </thead>\n",
       "  <tbody>\n",
       "    <tr>\n",
       "      <th>25032</th>\n",
       "      <td>MANGOS</td>\n",
       "      <td>TENERIFE</td>\n",
       "      <td>kg</td>\n",
       "      <td>FRUTAS EXÃTICAS</td>\n",
       "      <td>2018</td>\n",
       "      <td>7</td>\n",
       "      <td>2,657142857</td>\n",
       "      <td>15506</td>\n",
       "    </tr>\n",
       "    <tr>\n",
       "      <th>21931</th>\n",
       "      <td>LECHUGA ICEBERG</td>\n",
       "      <td>CATELLON</td>\n",
       "      <td>kg</td>\n",
       "      <td>HORTALIZAS HOJA</td>\n",
       "      <td>2020</td>\n",
       "      <td>5</td>\n",
       "      <td>0,485714286</td>\n",
       "      <td>1014</td>\n",
       "    </tr>\n",
       "    <tr>\n",
       "      <th>16293</th>\n",
       "      <td>FRUTAS MELÃN SIN DETERMINAR</td>\n",
       "      <td>ALMERIA</td>\n",
       "      <td>kg</td>\n",
       "      <td>FRUTAS OTRAS</td>\n",
       "      <td>2018</td>\n",
       "      <td>3</td>\n",
       "      <td>1</td>\n",
       "      <td>10099</td>\n",
       "    </tr>\n",
       "    <tr>\n",
       "      <th>36248</th>\n",
       "      <td>RÃBANOS</td>\n",
       "      <td>ALEMANIA</td>\n",
       "      <td>kg</td>\n",
       "      <td>HORTALIZAS RAÃZ</td>\n",
       "      <td>2019</td>\n",
       "      <td>9</td>\n",
       "      <td>0,484210526</td>\n",
       "      <td>99196</td>\n",
       "    </tr>\n",
       "    <tr>\n",
       "      <th>3190</th>\n",
       "      <td>BERENJENA LARGA</td>\n",
       "      <td>MURCIA</td>\n",
       "      <td>kg</td>\n",
       "      <td>HORTALIZAS FRUTO</td>\n",
       "      <td>2020</td>\n",
       "      <td>3</td>\n",
       "      <td>0,725</td>\n",
       "      <td>11188</td>\n",
       "    </tr>\n",
       "    <tr>\n",
       "      <th>17966</th>\n",
       "      <td>FRUTAS PLÃTANOS IMPORTACIÃN</td>\n",
       "      <td>FRANCIA</td>\n",
       "      <td>kg</td>\n",
       "      <td>FRUTAS OTRAS</td>\n",
       "      <td>2019</td>\n",
       "      <td>12</td>\n",
       "      <td>0,8</td>\n",
       "      <td>97256</td>\n",
       "    </tr>\n",
       "    <tr>\n",
       "      <th>11048</th>\n",
       "      <td>ESPINACAS</td>\n",
       "      <td>ZARAGOZA</td>\n",
       "      <td>kg</td>\n",
       "      <td>HORTALIZAS HOJA</td>\n",
       "      <td>2018</td>\n",
       "      <td>7</td>\n",
       "      <td>0,64</td>\n",
       "      <td>2128</td>\n",
       "    </tr>\n",
       "    <tr>\n",
       "      <th>12490</th>\n",
       "      <td>FRUTAS FRAMBUESA</td>\n",
       "      <td>SANTANDER</td>\n",
       "      <td>kg</td>\n",
       "      <td>FRUTAS OTRAS</td>\n",
       "      <td>2019</td>\n",
       "      <td>6</td>\n",
       "      <td>6</td>\n",
       "      <td>18760</td>\n",
       "    </tr>\n",
       "    <tr>\n",
       "      <th>6708</th>\n",
       "      <td>CEBOLLA TIERNA</td>\n",
       "      <td>HUESCA</td>\n",
       "      <td>kg</td>\n",
       "      <td>HORTALIZAS BULBOS</td>\n",
       "      <td>2019</td>\n",
       "      <td>8</td>\n",
       "      <td>0,521428571</td>\n",
       "      <td>6913</td>\n",
       "    </tr>\n",
       "    <tr>\n",
       "      <th>36641</th>\n",
       "      <td>SECO ALMENDRAS</td>\n",
       "      <td>MURCIA</td>\n",
       "      <td>kg</td>\n",
       "      <td>FRUTAS FRUTO</td>\n",
       "      <td>2019</td>\n",
       "      <td>11</td>\n",
       "      <td>3,8</td>\n",
       "      <td>353</td>\n",
       "    </tr>\n",
       "  </tbody>\n",
       "</table>\n",
       "</div>"
      ],
      "text/plain": [
       "                             product     origen Unidad            familia  \\\n",
       "25032                         MANGOS   TENERIFE     kg   FRUTAS EXÃTICAS   \n",
       "21931                LECHUGA ICEBERG   CATELLON     kg    HORTALIZAS HOJA   \n",
       "16293   FRUTAS MELÃN SIN DETERMINAR    ALMERIA     kg       FRUTAS OTRAS   \n",
       "36248                       RÃBANOS   ALEMANIA     kg   HORTALIZAS RAÃZ   \n",
       "3190                 BERENJENA LARGA     MURCIA     kg   HORTALIZAS FRUTO   \n",
       "17966  FRUTAS PLÃTANOS IMPORTACIÃN    FRANCIA     kg       FRUTAS OTRAS   \n",
       "11048                      ESPINACAS   ZARAGOZA     kg    HORTALIZAS HOJA   \n",
       "12490               FRUTAS FRAMBUESA  SANTANDER     kg       FRUTAS OTRAS   \n",
       "6708                  CEBOLLA TIERNA     HUESCA     kg  HORTALIZAS BULBOS   \n",
       "36641                 SECO ALMENDRAS     MURCIA     kg       FRUTAS FRUTO   \n",
       "\n",
       "       YEAR  MONTH   price_mean  Volumen  \n",
       "25032  2018      7  2,657142857    15506  \n",
       "21931  2020      5  0,485714286     1014  \n",
       "16293  2018      3            1    10099  \n",
       "36248  2019      9  0,484210526    99196  \n",
       "3190   2020      3        0,725    11188  \n",
       "17966  2019     12          0,8    97256  \n",
       "11048  2018      7         0,64     2128  \n",
       "12490  2019      6            6    18760  \n",
       "6708   2019      8  0,521428571     6913  \n",
       "36641  2019     11          3,8      353  "
      ]
     },
     "execution_count": 29,
     "metadata": {},
     "output_type": "execute_result"
    }
   ],
   "source": [
    "df3 = pd.read_csv('./../../../competicion/datasets/Dataset3b_Datos_MercaBarna.txt', delimiter='|')\n",
    "#df3 = pd.read_csv('Dataset3b_Datos_MercaBarna.txt', delimiter='|', encoding ='utf-8', decimal=',')\n",
    "df3.dtypes\n",
    "df3.sample(10)"
   ]
  },
  {
   "cell_type": "code",
   "execution_count": 30,
   "metadata": {},
   "outputs": [
    {
     "name": "stdout",
     "output_type": "stream",
     "text": [
      "There are 41862 rows and 8 columns\n"
     ]
    }
   ],
   "source": [
    "nRow, nCol = df3.shape\n",
    "print(f'There are {nRow} rows and {nCol} columns')"
   ]
  },
  {
   "cell_type": "code",
   "execution_count": 31,
   "metadata": {},
   "outputs": [
    {
     "name": "stdout",
     "output_type": "stream",
     "text": [
      "<class 'pandas.core.frame.DataFrame'>\n",
      "RangeIndex: 41862 entries, 0 to 41861\n",
      "Data columns (total 8 columns):\n",
      " #   Column      Non-Null Count  Dtype \n",
      "---  ------      --------------  ----- \n",
      " 0   product     41862 non-null  object\n",
      " 1   origen      41862 non-null  object\n",
      " 2   Unidad      41862 non-null  object\n",
      " 3   familia     41862 non-null  object\n",
      " 4   YEAR        41862 non-null  int64 \n",
      " 5   MONTH       41862 non-null  int64 \n",
      " 6   price_mean  41862 non-null  object\n",
      " 7   Volumen     41862 non-null  int64 \n",
      "dtypes: int64(3), object(5)\n",
      "memory usage: 2.6+ MB\n"
     ]
    }
   ],
   "source": [
    "df3.info()"
   ]
  },
  {
   "cell_type": "code",
   "execution_count": 32,
   "metadata": {},
   "outputs": [
    {
     "data": {
      "text/html": [
       "<div>\n",
       "<style scoped>\n",
       "    .dataframe tbody tr th:only-of-type {\n",
       "        vertical-align: middle;\n",
       "    }\n",
       "\n",
       "    .dataframe tbody tr th {\n",
       "        vertical-align: top;\n",
       "    }\n",
       "\n",
       "    .dataframe thead th {\n",
       "        text-align: right;\n",
       "    }\n",
       "</style>\n",
       "<table border=\"1\" class=\"dataframe\">\n",
       "  <thead>\n",
       "    <tr style=\"text-align: right;\">\n",
       "      <th></th>\n",
       "      <th>product</th>\n",
       "      <th>origen</th>\n",
       "      <th>Unidad</th>\n",
       "      <th>familia</th>\n",
       "      <th>YEAR</th>\n",
       "      <th>MONTH</th>\n",
       "      <th>price_mean</th>\n",
       "      <th>Volumen</th>\n",
       "      <th>Internacionales</th>\n",
       "    </tr>\n",
       "  </thead>\n",
       "  <tbody>\n",
       "    <tr>\n",
       "      <th>17817</th>\n",
       "      <td>FRUTAS PLÃTANOS IMPORTACIÃN</td>\n",
       "      <td>CAMERUN</td>\n",
       "      <td>kg</td>\n",
       "      <td>FRUTAS OTRAS</td>\n",
       "      <td>2019</td>\n",
       "      <td>10</td>\n",
       "      <td>0,940909091</td>\n",
       "      <td>130687</td>\n",
       "      <td>si</td>\n",
       "    </tr>\n",
       "    <tr>\n",
       "      <th>35538</th>\n",
       "      <td>PUERROS</td>\n",
       "      <td>CADIZ</td>\n",
       "      <td>kg</td>\n",
       "      <td>HORTALIZAS BULBOS</td>\n",
       "      <td>2020</td>\n",
       "      <td>4</td>\n",
       "      <td>1,15</td>\n",
       "      <td>41870</td>\n",
       "      <td>no</td>\n",
       "    </tr>\n",
       "    <tr>\n",
       "      <th>36752</th>\n",
       "      <td>SECO CASTAÃAS</td>\n",
       "      <td>CHINA</td>\n",
       "      <td>kg</td>\n",
       "      <td>FRUTAS FRUTO</td>\n",
       "      <td>2020</td>\n",
       "      <td>10</td>\n",
       "      <td>4,5</td>\n",
       "      <td>90224</td>\n",
       "      <td>si</td>\n",
       "    </tr>\n",
       "    <tr>\n",
       "      <th>16579</th>\n",
       "      <td>FRUTAS MELÃN SIN DETERMINAR</td>\n",
       "      <td>OTROS AFRICA</td>\n",
       "      <td>kg</td>\n",
       "      <td>FRUTAS OTRAS</td>\n",
       "      <td>2020</td>\n",
       "      <td>11</td>\n",
       "      <td>0,6</td>\n",
       "      <td>652</td>\n",
       "      <td>si</td>\n",
       "    </tr>\n",
       "    <tr>\n",
       "      <th>21460</th>\n",
       "      <td>JUDÃAS SIN DETERMINAR</td>\n",
       "      <td>BARCELONA</td>\n",
       "      <td>kg</td>\n",
       "      <td>HORTALIZAS VAINA</td>\n",
       "      <td>2018</td>\n",
       "      <td>7</td>\n",
       "      <td>2,890909091</td>\n",
       "      <td>19423</td>\n",
       "      <td>no</td>\n",
       "    </tr>\n",
       "    <tr>\n",
       "      <th>12261</th>\n",
       "      <td>FRUTAS FRAMBUESA</td>\n",
       "      <td>CADIZ</td>\n",
       "      <td>kg</td>\n",
       "      <td>FRUTAS OTRAS</td>\n",
       "      <td>2018</td>\n",
       "      <td>10</td>\n",
       "      <td>6</td>\n",
       "      <td>707</td>\n",
       "      <td>no</td>\n",
       "    </tr>\n",
       "    <tr>\n",
       "      <th>41017</th>\n",
       "      <td>VERDURAS OTRAS</td>\n",
       "      <td>LERIDA</td>\n",
       "      <td>kg</td>\n",
       "      <td>HORTALIZAS OTROS</td>\n",
       "      <td>2018</td>\n",
       "      <td>4</td>\n",
       "      <td>0,7</td>\n",
       "      <td>5124</td>\n",
       "      <td>no</td>\n",
       "    </tr>\n",
       "    <tr>\n",
       "      <th>11017</th>\n",
       "      <td>ESPINACAS</td>\n",
       "      <td>VALENCIA</td>\n",
       "      <td>kg</td>\n",
       "      <td>HORTALIZAS HOJA</td>\n",
       "      <td>2019</td>\n",
       "      <td>5</td>\n",
       "      <td>0,656818182</td>\n",
       "      <td>6168</td>\n",
       "      <td>no</td>\n",
       "    </tr>\n",
       "    <tr>\n",
       "      <th>22313</th>\n",
       "      <td>LECHUGA LARGA</td>\n",
       "      <td>HUELVA</td>\n",
       "      <td>kg</td>\n",
       "      <td>HORTALIZAS HOJA</td>\n",
       "      <td>2019</td>\n",
       "      <td>12</td>\n",
       "      <td>0,45</td>\n",
       "      <td>820</td>\n",
       "      <td>no</td>\n",
       "    </tr>\n",
       "    <tr>\n",
       "      <th>28531</th>\n",
       "      <td>NABO</td>\n",
       "      <td>SEGOVIA</td>\n",
       "      <td>kg</td>\n",
       "      <td>HORTALIZAS RAÃZ</td>\n",
       "      <td>2020</td>\n",
       "      <td>11</td>\n",
       "      <td>0,8</td>\n",
       "      <td>87778</td>\n",
       "      <td>no</td>\n",
       "    </tr>\n",
       "    <tr>\n",
       "      <th>28902</th>\n",
       "      <td>NARANJA</td>\n",
       "      <td>SEVILLA</td>\n",
       "      <td>kg</td>\n",
       "      <td>FRUTAS CÃTRICOS</td>\n",
       "      <td>2018</td>\n",
       "      <td>7</td>\n",
       "      <td>0,8</td>\n",
       "      <td>156825</td>\n",
       "      <td>no</td>\n",
       "    </tr>\n",
       "    <tr>\n",
       "      <th>21996</th>\n",
       "      <td>LECHUGA ICEBERG</td>\n",
       "      <td>LERIDA</td>\n",
       "      <td>kg</td>\n",
       "      <td>HORTALIZAS HOJA</td>\n",
       "      <td>2018</td>\n",
       "      <td>12</td>\n",
       "      <td>0,3375</td>\n",
       "      <td>2775</td>\n",
       "      <td>no</td>\n",
       "    </tr>\n",
       "    <tr>\n",
       "      <th>3075</th>\n",
       "      <td>BERENJENA LARGA</td>\n",
       "      <td>GERONA</td>\n",
       "      <td>kg</td>\n",
       "      <td>HORTALIZAS FRUTO</td>\n",
       "      <td>2019</td>\n",
       "      <td>3</td>\n",
       "      <td>0,633333333</td>\n",
       "      <td>1852</td>\n",
       "      <td>no</td>\n",
       "    </tr>\n",
       "    <tr>\n",
       "      <th>2305</th>\n",
       "      <td>APIOS</td>\n",
       "      <td>ARGENTINA</td>\n",
       "      <td>kg</td>\n",
       "      <td>HORTALIZAS HOJA</td>\n",
       "      <td>2018</td>\n",
       "      <td>6</td>\n",
       "      <td>0,5</td>\n",
       "      <td>225</td>\n",
       "      <td>si</td>\n",
       "    </tr>\n",
       "    <tr>\n",
       "      <th>4207</th>\n",
       "      <td>CALABACÃN</td>\n",
       "      <td>BARCELONA</td>\n",
       "      <td>kg</td>\n",
       "      <td>HORTALIZAS FRUTO</td>\n",
       "      <td>2019</td>\n",
       "      <td>10</td>\n",
       "      <td>0,6625</td>\n",
       "      <td>17056</td>\n",
       "      <td>no</td>\n",
       "    </tr>\n",
       "  </tbody>\n",
       "</table>\n",
       "</div>"
      ],
      "text/plain": [
       "                             product        origen Unidad            familia  \\\n",
       "17817  FRUTAS PLÃTANOS IMPORTACIÃN       CAMERUN     kg       FRUTAS OTRAS   \n",
       "35538                        PUERROS         CADIZ     kg  HORTALIZAS BULBOS   \n",
       "36752                 SECO CASTAÃAS         CHINA     kg       FRUTAS FRUTO   \n",
       "16579   FRUTAS MELÃN SIN DETERMINAR  OTROS AFRICA     kg       FRUTAS OTRAS   \n",
       "21460         JUDÃAS SIN DETERMINAR     BARCELONA     kg   HORTALIZAS VAINA   \n",
       "12261               FRUTAS FRAMBUESA         CADIZ     kg       FRUTAS OTRAS   \n",
       "41017                 VERDURAS OTRAS        LERIDA     kg   HORTALIZAS OTROS   \n",
       "11017                      ESPINACAS      VALENCIA     kg    HORTALIZAS HOJA   \n",
       "22313                  LECHUGA LARGA        HUELVA     kg    HORTALIZAS HOJA   \n",
       "28531                           NABO       SEGOVIA     kg   HORTALIZAS RAÃZ   \n",
       "28902                        NARANJA       SEVILLA     kg   FRUTAS CÃTRICOS   \n",
       "21996                LECHUGA ICEBERG        LERIDA     kg    HORTALIZAS HOJA   \n",
       "3075                 BERENJENA LARGA        GERONA     kg   HORTALIZAS FRUTO   \n",
       "2305                           APIOS     ARGENTINA     kg    HORTALIZAS HOJA   \n",
       "4207                      CALABACÃN     BARCELONA     kg   HORTALIZAS FRUTO   \n",
       "\n",
       "       YEAR  MONTH   price_mean  Volumen Internacionales  \n",
       "17817  2019     10  0,940909091   130687              si  \n",
       "35538  2020      4         1,15    41870              no  \n",
       "36752  2020     10          4,5    90224              si  \n",
       "16579  2020     11          0,6      652              si  \n",
       "21460  2018      7  2,890909091    19423              no  \n",
       "12261  2018     10            6      707              no  \n",
       "41017  2018      4          0,7     5124              no  \n",
       "11017  2019      5  0,656818182     6168              no  \n",
       "22313  2019     12         0,45      820              no  \n",
       "28531  2020     11          0,8    87778              no  \n",
       "28902  2018      7          0,8   156825              no  \n",
       "21996  2018     12       0,3375     2775              no  \n",
       "3075   2019      3  0,633333333     1852              no  \n",
       "2305   2018      6          0,5      225              si  \n",
       "4207   2019     10       0,6625    17056              no  "
      ]
     },
     "execution_count": 32,
     "metadata": {},
     "output_type": "execute_result"
    }
   ],
   "source": [
    "df3['origen'].unique()\n",
    "internacionales= ['FRANCIA','ITALIA', 'ALEMANIA','CHILE', 'CHINA', 'ECUADOR', 'MARRUECOS', 'OTROS AMERICA', 'USA',  \n",
    "                  'BRASIL', 'CANADA', 'COLOMBIA', 'COSTA MARFIL', 'GRAN BRETAÑA', 'HOLANDA', 'KENIA', 'MEJICO', \n",
    "                  'OCEANIA', 'OTROS AFRICA', 'PORTUGAL', 'SUDAFRICA', 'SUIZA', 'ARGENTINA',\n",
    "                  'LUXEMBURGO', 'TURQUIA', 'BELGICA', 'COSTA RICA', 'DINAMARCA', 'TUNEZ', 'ISRAEL',\n",
    "                  'TAILANDIA', 'NUEVA ZELANDA', 'OTROS ASIA', 'ANDORRA', 'GRECIA','IRLANDA', \n",
    "                  'URUGUAY', 'OTROS EUROPA',\n",
    "                 'AUSTRIA', 'CUBA', 'SUECIA', 'CAMERUN', 'ISLANDIA','COREA']\n",
    "def intern(x):\n",
    "    for i in internacionales :\n",
    "        if x == i:\n",
    "            return 'si'\n",
    "    return 'no'\n",
    "\n",
    "df3['Internacionales'] = df3['origen'].map(intern) \n",
    "df3.sample(15)"
   ]
  },
  {
   "cell_type": "code",
   "execution_count": 33,
   "metadata": {},
   "outputs": [
    {
     "ename": "DataError",
     "evalue": "No numeric types to aggregate",
     "output_type": "error",
     "traceback": [
      "\u001b[1;31m---------------------------------------------------------------------------\u001b[0m",
      "\u001b[1;31mDataError\u001b[0m                                 Traceback (most recent call last)",
      "\u001b[1;32m<ipython-input-33-2a0e3823f23b>\u001b[0m in \u001b[0;36m<module>\u001b[1;34m\u001b[0m\n\u001b[0;32m      1\u001b[0m \u001b[0mgroupIntern\u001b[0m \u001b[1;33m=\u001b[0m \u001b[0mdf3\u001b[0m\u001b[1;33m.\u001b[0m\u001b[0mgroupby\u001b[0m\u001b[1;33m(\u001b[0m\u001b[1;33m[\u001b[0m\u001b[1;34m'Internacionales'\u001b[0m\u001b[1;33m]\u001b[0m\u001b[1;33m)\u001b[0m\u001b[1;33m\u001b[0m\u001b[1;33m\u001b[0m\u001b[0m\n\u001b[1;32m----> 2\u001b[1;33m \u001b[0mgroupIntern\u001b[0m\u001b[1;33m[\u001b[0m\u001b[1;34m'price_mean'\u001b[0m\u001b[1;33m]\u001b[0m\u001b[1;33m.\u001b[0m\u001b[0mmean\u001b[0m\u001b[1;33m(\u001b[0m\u001b[1;33m)\u001b[0m\u001b[1;33m\u001b[0m\u001b[1;33m\u001b[0m\u001b[0m\n\u001b[0m",
      "\u001b[1;32mc:\\users\\trigo\\appdata\\local\\programs\\python\\python38\\lib\\site-packages\\pandas\\core\\groupby\\groupby.py\u001b[0m in \u001b[0;36mmean\u001b[1;34m(self, *args, **kwargs)\u001b[0m\n\u001b[0;32m   1223\u001b[0m         \"\"\"\n\u001b[0;32m   1224\u001b[0m         \u001b[0mnv\u001b[0m\u001b[1;33m.\u001b[0m\u001b[0mvalidate_groupby_func\u001b[0m\u001b[1;33m(\u001b[0m\u001b[1;34m\"mean\"\u001b[0m\u001b[1;33m,\u001b[0m \u001b[0margs\u001b[0m\u001b[1;33m,\u001b[0m \u001b[0mkwargs\u001b[0m\u001b[1;33m,\u001b[0m \u001b[1;33m[\u001b[0m\u001b[1;34m\"numeric_only\"\u001b[0m\u001b[1;33m]\u001b[0m\u001b[1;33m)\u001b[0m\u001b[1;33m\u001b[0m\u001b[1;33m\u001b[0m\u001b[0m\n\u001b[1;32m-> 1225\u001b[1;33m         return self._cython_agg_general(\n\u001b[0m\u001b[0;32m   1226\u001b[0m             \u001b[1;34m\"mean\"\u001b[0m\u001b[1;33m,\u001b[0m \u001b[0malt\u001b[0m\u001b[1;33m=\u001b[0m\u001b[1;32mlambda\u001b[0m \u001b[0mx\u001b[0m\u001b[1;33m,\u001b[0m \u001b[0maxis\u001b[0m\u001b[1;33m:\u001b[0m \u001b[0mSeries\u001b[0m\u001b[1;33m(\u001b[0m\u001b[0mx\u001b[0m\u001b[1;33m)\u001b[0m\u001b[1;33m.\u001b[0m\u001b[0mmean\u001b[0m\u001b[1;33m(\u001b[0m\u001b[1;33m**\u001b[0m\u001b[0mkwargs\u001b[0m\u001b[1;33m)\u001b[0m\u001b[1;33m,\u001b[0m \u001b[1;33m**\u001b[0m\u001b[0mkwargs\u001b[0m\u001b[1;33m\u001b[0m\u001b[1;33m\u001b[0m\u001b[0m\n\u001b[0;32m   1227\u001b[0m         )\n",
      "\u001b[1;32mc:\\users\\trigo\\appdata\\local\\programs\\python\\python38\\lib\\site-packages\\pandas\\core\\groupby\\groupby.py\u001b[0m in \u001b[0;36m_cython_agg_general\u001b[1;34m(self, how, alt, numeric_only, min_count)\u001b[0m\n\u001b[0;32m    906\u001b[0m \u001b[1;33m\u001b[0m\u001b[0m\n\u001b[0;32m    907\u001b[0m         \u001b[1;32mif\u001b[0m \u001b[0mlen\u001b[0m\u001b[1;33m(\u001b[0m\u001b[0moutput\u001b[0m\u001b[1;33m)\u001b[0m \u001b[1;33m==\u001b[0m \u001b[1;36m0\u001b[0m\u001b[1;33m:\u001b[0m\u001b[1;33m\u001b[0m\u001b[1;33m\u001b[0m\u001b[0m\n\u001b[1;32m--> 908\u001b[1;33m             \u001b[1;32mraise\u001b[0m \u001b[0mDataError\u001b[0m\u001b[1;33m(\u001b[0m\u001b[1;34m\"No numeric types to aggregate\"\u001b[0m\u001b[1;33m)\u001b[0m\u001b[1;33m\u001b[0m\u001b[1;33m\u001b[0m\u001b[0m\n\u001b[0m\u001b[0;32m    909\u001b[0m \u001b[1;33m\u001b[0m\u001b[0m\n\u001b[0;32m    910\u001b[0m         \u001b[1;32mreturn\u001b[0m \u001b[0mself\u001b[0m\u001b[1;33m.\u001b[0m\u001b[0m_wrap_aggregated_output\u001b[0m\u001b[1;33m(\u001b[0m\u001b[0moutput\u001b[0m\u001b[1;33m)\u001b[0m\u001b[1;33m\u001b[0m\u001b[1;33m\u001b[0m\u001b[0m\n",
      "\u001b[1;31mDataError\u001b[0m: No numeric types to aggregate"
     ]
    }
   ],
   "source": [
    "groupIntern = df3.groupby(['Internacionales'])\n",
    "groupIntern['price_mean'].mean()"
   ]
  },
  {
   "cell_type": "code",
   "execution_count": 34,
   "metadata": {},
   "outputs": [
    {
     "data": {
      "text/plain": [
       "Internacionales\n",
       "no     74793.865432\n",
       "si    101582.466316\n",
       "Name: Volumen, dtype: float64"
      ]
     },
     "execution_count": 34,
     "metadata": {},
     "output_type": "execute_result"
    }
   ],
   "source": [
    "groupIntern['Volumen'].mean()"
   ]
  },
  {
   "cell_type": "code",
   "execution_count": 35,
   "metadata": {},
   "outputs": [
    {
     "data": {
      "text/plain": [
       "<matplotlib.axes._subplots.AxesSubplot at 0x10f123b3b80>"
      ]
     },
     "execution_count": 35,
     "metadata": {},
     "output_type": "execute_result"
    },
    {
     "data": {
      "image/png": "[encoded data removed]",
      "text/plain": [
       "<Figure size 432x288 with 1 Axes>"
      ]
     },
     "metadata": {
      "needs_background": "light"
     },
     "output_type": "display_data"
    }
   ],
   "source": [
    "groupIntern.mean()[\"Volumen\"].plot(kind='bar')"
   ]
  },
  {
   "cell_type": "code",
   "execution_count": 36,
   "metadata": {},
   "outputs": [
    {
     "ename": "KeyError",
     "evalue": "'price_mean'",
     "output_type": "error",
     "traceback": [
      "\u001b[1;31m---------------------------------------------------------------------------\u001b[0m",
      "\u001b[1;31mKeyError\u001b[0m                                  Traceback (most recent call last)",
      "\u001b[1;32mc:\\users\\trigo\\appdata\\local\\programs\\python\\python38\\lib\\site-packages\\pandas\\core\\indexes\\base.py\u001b[0m in \u001b[0;36mget_loc\u001b[1;34m(self, key, method, tolerance)\u001b[0m\n\u001b[0;32m   2645\u001b[0m             \u001b[1;32mtry\u001b[0m\u001b[1;33m:\u001b[0m\u001b[1;33m\u001b[0m\u001b[1;33m\u001b[0m\u001b[0m\n\u001b[1;32m-> 2646\u001b[1;33m                 \u001b[1;32mreturn\u001b[0m \u001b[0mself\u001b[0m\u001b[1;33m.\u001b[0m\u001b[0m_engine\u001b[0m\u001b[1;33m.\u001b[0m\u001b[0mget_loc\u001b[0m\u001b[1;33m(\u001b[0m\u001b[0mkey\u001b[0m\u001b[1;33m)\u001b[0m\u001b[1;33m\u001b[0m\u001b[1;33m\u001b[0m\u001b[0m\n\u001b[0m\u001b[0;32m   2647\u001b[0m             \u001b[1;32mexcept\u001b[0m \u001b[0mKeyError\u001b[0m\u001b[1;33m:\u001b[0m\u001b[1;33m\u001b[0m\u001b[1;33m\u001b[0m\u001b[0m\n",
      "\u001b[1;32mpandas\\_libs\\index.pyx\u001b[0m in \u001b[0;36mpandas._libs.index.IndexEngine.get_loc\u001b[1;34m()\u001b[0m\n",
      "\u001b[1;32mpandas\\_libs\\index.pyx\u001b[0m in \u001b[0;36mpandas._libs.index.IndexEngine.get_loc\u001b[1;34m()\u001b[0m\n",
      "\u001b[1;32mpandas\\_libs\\hashtable_class_helper.pxi\u001b[0m in \u001b[0;36mpandas._libs.hashtable.PyObjectHashTable.get_item\u001b[1;34m()\u001b[0m\n",
      "\u001b[1;32mpandas\\_libs\\hashtable_class_helper.pxi\u001b[0m in \u001b[0;36mpandas._libs.hashtable.PyObjectHashTable.get_item\u001b[1;34m()\u001b[0m\n",
      "\u001b[1;31mKeyError\u001b[0m: 'price_mean'",
      "\nDuring handling of the above exception, another exception occurred:\n",
      "\u001b[1;31mKeyError\u001b[0m                                  Traceback (most recent call last)",
      "\u001b[1;32m<ipython-input-36-6680bca10a92>\u001b[0m in \u001b[0;36m<module>\u001b[1;34m\u001b[0m\n\u001b[1;32m----> 1\u001b[1;33m \u001b[0mgroupIntern\u001b[0m\u001b[1;33m.\u001b[0m\u001b[0mmean\u001b[0m\u001b[1;33m(\u001b[0m\u001b[1;33m)\u001b[0m\u001b[1;33m[\u001b[0m\u001b[1;34m\"price_mean\"\u001b[0m\u001b[1;33m]\u001b[0m\u001b[1;33m.\u001b[0m\u001b[0mplot\u001b[0m\u001b[1;33m(\u001b[0m\u001b[0mkind\u001b[0m\u001b[1;33m=\u001b[0m\u001b[1;34m'bar'\u001b[0m\u001b[1;33m)\u001b[0m\u001b[1;33m\u001b[0m\u001b[1;33m\u001b[0m\u001b[0m\n\u001b[0m",
      "\u001b[1;32mc:\\users\\trigo\\appdata\\local\\programs\\python\\python38\\lib\\site-packages\\pandas\\core\\frame.py\u001b[0m in \u001b[0;36m__getitem__\u001b[1;34m(self, key)\u001b[0m\n\u001b[0;32m   2798\u001b[0m             \u001b[1;32mif\u001b[0m \u001b[0mself\u001b[0m\u001b[1;33m.\u001b[0m\u001b[0mcolumns\u001b[0m\u001b[1;33m.\u001b[0m\u001b[0mnlevels\u001b[0m \u001b[1;33m>\u001b[0m \u001b[1;36m1\u001b[0m\u001b[1;33m:\u001b[0m\u001b[1;33m\u001b[0m\u001b[1;33m\u001b[0m\u001b[0m\n\u001b[0;32m   2799\u001b[0m                 \u001b[1;32mreturn\u001b[0m \u001b[0mself\u001b[0m\u001b[1;33m.\u001b[0m\u001b[0m_getitem_multilevel\u001b[0m\u001b[1;33m(\u001b[0m\u001b[0mkey\u001b[0m\u001b[1;33m)\u001b[0m\u001b[1;33m\u001b[0m\u001b[1;33m\u001b[0m\u001b[0m\n\u001b[1;32m-> 2800\u001b[1;33m             \u001b[0mindexer\u001b[0m \u001b[1;33m=\u001b[0m \u001b[0mself\u001b[0m\u001b[1;33m.\u001b[0m\u001b[0mcolumns\u001b[0m\u001b[1;33m.\u001b[0m\u001b[0mget_loc\u001b[0m\u001b[1;33m(\u001b[0m\u001b[0mkey\u001b[0m\u001b[1;33m)\u001b[0m\u001b[1;33m\u001b[0m\u001b[1;33m\u001b[0m\u001b[0m\n\u001b[0m\u001b[0;32m   2801\u001b[0m             \u001b[1;32mif\u001b[0m \u001b[0mis_integer\u001b[0m\u001b[1;33m(\u001b[0m\u001b[0mindexer\u001b[0m\u001b[1;33m)\u001b[0m\u001b[1;33m:\u001b[0m\u001b[1;33m\u001b[0m\u001b[1;33m\u001b[0m\u001b[0m\n\u001b[0;32m   2802\u001b[0m                 \u001b[0mindexer\u001b[0m \u001b[1;33m=\u001b[0m \u001b[1;33m[\u001b[0m\u001b[0mindexer\u001b[0m\u001b[1;33m]\u001b[0m\u001b[1;33m\u001b[0m\u001b[1;33m\u001b[0m\u001b[0m\n",
      "\u001b[1;32mc:\\users\\trigo\\appdata\\local\\programs\\python\\python38\\lib\\site-packages\\pandas\\core\\indexes\\base.py\u001b[0m in \u001b[0;36mget_loc\u001b[1;34m(self, key, method, tolerance)\u001b[0m\n\u001b[0;32m   2646\u001b[0m                 \u001b[1;32mreturn\u001b[0m \u001b[0mself\u001b[0m\u001b[1;33m.\u001b[0m\u001b[0m_engine\u001b[0m\u001b[1;33m.\u001b[0m\u001b[0mget_loc\u001b[0m\u001b[1;33m(\u001b[0m\u001b[0mkey\u001b[0m\u001b[1;33m)\u001b[0m\u001b[1;33m\u001b[0m\u001b[1;33m\u001b[0m\u001b[0m\n\u001b[0;32m   2647\u001b[0m             \u001b[1;32mexcept\u001b[0m \u001b[0mKeyError\u001b[0m\u001b[1;33m:\u001b[0m\u001b[1;33m\u001b[0m\u001b[1;33m\u001b[0m\u001b[0m\n\u001b[1;32m-> 2648\u001b[1;33m                 \u001b[1;32mreturn\u001b[0m \u001b[0mself\u001b[0m\u001b[1;33m.\u001b[0m\u001b[0m_engine\u001b[0m\u001b[1;33m.\u001b[0m\u001b[0mget_loc\u001b[0m\u001b[1;33m(\u001b[0m\u001b[0mself\u001b[0m\u001b[1;33m.\u001b[0m\u001b[0m_maybe_cast_indexer\u001b[0m\u001b[1;33m(\u001b[0m\u001b[0mkey\u001b[0m\u001b[1;33m)\u001b[0m\u001b[1;33m)\u001b[0m\u001b[1;33m\u001b[0m\u001b[1;33m\u001b[0m\u001b[0m\n\u001b[0m\u001b[0;32m   2649\u001b[0m         \u001b[0mindexer\u001b[0m \u001b[1;33m=\u001b[0m \u001b[0mself\u001b[0m\u001b[1;33m.\u001b[0m\u001b[0mget_indexer\u001b[0m\u001b[1;33m(\u001b[0m\u001b[1;33m[\u001b[0m\u001b[0mkey\u001b[0m\u001b[1;33m]\u001b[0m\u001b[1;33m,\u001b[0m \u001b[0mmethod\u001b[0m\u001b[1;33m=\u001b[0m\u001b[0mmethod\u001b[0m\u001b[1;33m,\u001b[0m \u001b[0mtolerance\u001b[0m\u001b[1;33m=\u001b[0m\u001b[0mtolerance\u001b[0m\u001b[1;33m)\u001b[0m\u001b[1;33m\u001b[0m\u001b[1;33m\u001b[0m\u001b[0m\n\u001b[0;32m   2650\u001b[0m         \u001b[1;32mif\u001b[0m \u001b[0mindexer\u001b[0m\u001b[1;33m.\u001b[0m\u001b[0mndim\u001b[0m \u001b[1;33m>\u001b[0m \u001b[1;36m1\u001b[0m \u001b[1;32mor\u001b[0m \u001b[0mindexer\u001b[0m\u001b[1;33m.\u001b[0m\u001b[0msize\u001b[0m \u001b[1;33m>\u001b[0m \u001b[1;36m1\u001b[0m\u001b[1;33m:\u001b[0m\u001b[1;33m\u001b[0m\u001b[1;33m\u001b[0m\u001b[0m\n",
      "\u001b[1;32mpandas\\_libs\\index.pyx\u001b[0m in \u001b[0;36mpandas._libs.index.IndexEngine.get_loc\u001b[1;34m()\u001b[0m\n",
      "\u001b[1;32mpandas\\_libs\\index.pyx\u001b[0m in \u001b[0;36mpandas._libs.index.IndexEngine.get_loc\u001b[1;34m()\u001b[0m\n",
      "\u001b[1;32mpandas\\_libs\\hashtable_class_helper.pxi\u001b[0m in \u001b[0;36mpandas._libs.hashtable.PyObjectHashTable.get_item\u001b[1;34m()\u001b[0m\n",
      "\u001b[1;32mpandas\\_libs\\hashtable_class_helper.pxi\u001b[0m in \u001b[0;36mpandas._libs.hashtable.PyObjectHashTable.get_item\u001b[1;34m()\u001b[0m\n",
      "\u001b[1;31mKeyError\u001b[0m: 'price_mean'"
     ]
    }
   ],
   "source": [
    "groupIntern.mean()[\"price_mean\"].plot(kind='bar')"
   ]
  },
  {
   "cell_type": "markdown",
   "metadata": {},
   "source": [
    "# ----------------------------------------------------------------------------------------"
   ]
  },
  {
   "cell_type": "code",
   "execution_count": 37,
   "metadata": {},
   "outputs": [
    {
     "data": {
      "text/html": [
       "<div>\n",
       "<style scoped>\n",
       "    .dataframe tbody tr th:only-of-type {\n",
       "        vertical-align: middle;\n",
       "    }\n",
       "\n",
       "    .dataframe tbody tr th {\n",
       "        vertical-align: top;\n",
       "    }\n",
       "\n",
       "    .dataframe thead th {\n",
       "        text-align: right;\n",
       "    }\n",
       "</style>\n",
       "<table border=\"1\" class=\"dataframe\">\n",
       "  <thead>\n",
       "    <tr style=\"text-align: right;\">\n",
       "      <th></th>\n",
       "      <th>product</th>\n",
       "      <th>origen</th>\n",
       "      <th>Unidad</th>\n",
       "      <th>familia</th>\n",
       "      <th>YEAR</th>\n",
       "      <th>MONTH</th>\n",
       "      <th>price_mean</th>\n",
       "      <th>Volumen</th>\n",
       "      <th>Internacionales</th>\n",
       "      <th>Fecha</th>\n",
       "    </tr>\n",
       "  </thead>\n",
       "  <tbody>\n",
       "    <tr>\n",
       "      <th>0</th>\n",
       "      <td>ACEITUNAS</td>\n",
       "      <td>BARCELONA</td>\n",
       "      <td>kg</td>\n",
       "      <td>FRUTAS HUESO</td>\n",
       "      <td>2018</td>\n",
       "      <td>4</td>\n",
       "      <td>3,8</td>\n",
       "      <td>12</td>\n",
       "      <td>no</td>\n",
       "      <td>4/2018</td>\n",
       "    </tr>\n",
       "    <tr>\n",
       "      <th>1</th>\n",
       "      <td>ACEITUNAS</td>\n",
       "      <td>BARCELONA</td>\n",
       "      <td>kg</td>\n",
       "      <td>FRUTAS HUESO</td>\n",
       "      <td>2018</td>\n",
       "      <td>5</td>\n",
       "      <td>3,8</td>\n",
       "      <td>5</td>\n",
       "      <td>no</td>\n",
       "      <td>5/2018</td>\n",
       "    </tr>\n",
       "    <tr>\n",
       "      <th>2</th>\n",
       "      <td>ACEITUNAS</td>\n",
       "      <td>BARCELONA</td>\n",
       "      <td>kg</td>\n",
       "      <td>FRUTAS HUESO</td>\n",
       "      <td>2018</td>\n",
       "      <td>6</td>\n",
       "      <td>3,8</td>\n",
       "      <td>10</td>\n",
       "      <td>no</td>\n",
       "      <td>6/2018</td>\n",
       "    </tr>\n",
       "    <tr>\n",
       "      <th>3</th>\n",
       "      <td>ACEITUNAS</td>\n",
       "      <td>BARCELONA</td>\n",
       "      <td>kg</td>\n",
       "      <td>FRUTAS HUESO</td>\n",
       "      <td>2018</td>\n",
       "      <td>7</td>\n",
       "      <td>3,8</td>\n",
       "      <td>4</td>\n",
       "      <td>no</td>\n",
       "      <td>7/2018</td>\n",
       "    </tr>\n",
       "    <tr>\n",
       "      <th>4</th>\n",
       "      <td>ACEITUNAS</td>\n",
       "      <td>BARCELONA</td>\n",
       "      <td>kg</td>\n",
       "      <td>FRUTAS HUESO</td>\n",
       "      <td>2018</td>\n",
       "      <td>8</td>\n",
       "      <td>3,8</td>\n",
       "      <td>12</td>\n",
       "      <td>no</td>\n",
       "      <td>8/2018</td>\n",
       "    </tr>\n",
       "    <tr>\n",
       "      <th>...</th>\n",
       "      <td>...</td>\n",
       "      <td>...</td>\n",
       "      <td>...</td>\n",
       "      <td>...</td>\n",
       "      <td>...</td>\n",
       "      <td>...</td>\n",
       "      <td>...</td>\n",
       "      <td>...</td>\n",
       "      <td>...</td>\n",
       "      <td>...</td>\n",
       "    </tr>\n",
       "    <tr>\n",
       "      <th>41857</th>\n",
       "      <td>ZANAHORIA</td>\n",
       "      <td>VALLADOLID</td>\n",
       "      <td>kg</td>\n",
       "      <td>HORTALIZAS RAÃZ</td>\n",
       "      <td>2020</td>\n",
       "      <td>11</td>\n",
       "      <td>0,4625</td>\n",
       "      <td>444376</td>\n",
       "      <td>no</td>\n",
       "      <td>11/2020</td>\n",
       "    </tr>\n",
       "    <tr>\n",
       "      <th>41858</th>\n",
       "      <td>ZANAHORIA</td>\n",
       "      <td>ZARAGOZA</td>\n",
       "      <td>kg</td>\n",
       "      <td>HORTALIZAS RAÃZ</td>\n",
       "      <td>2019</td>\n",
       "      <td>8</td>\n",
       "      <td>0,505</td>\n",
       "      <td>374</td>\n",
       "      <td>no</td>\n",
       "      <td>8/2019</td>\n",
       "    </tr>\n",
       "    <tr>\n",
       "      <th>41859</th>\n",
       "      <td>ZANAHORIA</td>\n",
       "      <td>ZARAGOZA</td>\n",
       "      <td>kg</td>\n",
       "      <td>HORTALIZAS RAÃZ</td>\n",
       "      <td>2019</td>\n",
       "      <td>9</td>\n",
       "      <td>0,55</td>\n",
       "      <td>122</td>\n",
       "      <td>no</td>\n",
       "      <td>9/2019</td>\n",
       "    </tr>\n",
       "    <tr>\n",
       "      <th>41860</th>\n",
       "      <td>ZANAHORIA</td>\n",
       "      <td>ZARAGOZA</td>\n",
       "      <td>kg</td>\n",
       "      <td>HORTALIZAS RAÃZ</td>\n",
       "      <td>2019</td>\n",
       "      <td>10</td>\n",
       "      <td>0,55</td>\n",
       "      <td>127</td>\n",
       "      <td>no</td>\n",
       "      <td>10/2019</td>\n",
       "    </tr>\n",
       "    <tr>\n",
       "      <th>41861</th>\n",
       "      <td>ZANAHORIA</td>\n",
       "      <td>ZARAGOZA</td>\n",
       "      <td>kg</td>\n",
       "      <td>HORTALIZAS RAÃZ</td>\n",
       "      <td>2020</td>\n",
       "      <td>8</td>\n",
       "      <td>0,5</td>\n",
       "      <td>120</td>\n",
       "      <td>no</td>\n",
       "      <td>8/2020</td>\n",
       "    </tr>\n",
       "  </tbody>\n",
       "</table>\n",
       "<p>41862 rows × 10 columns</p>\n",
       "</div>"
      ],
      "text/plain": [
       "         product      origen Unidad           familia  YEAR  MONTH price_mean  \\\n",
       "0      ACEITUNAS   BARCELONA     kg      FRUTAS HUESO  2018      4        3,8   \n",
       "1      ACEITUNAS   BARCELONA     kg      FRUTAS HUESO  2018      5        3,8   \n",
       "2      ACEITUNAS   BARCELONA     kg      FRUTAS HUESO  2018      6        3,8   \n",
       "3      ACEITUNAS   BARCELONA     kg      FRUTAS HUESO  2018      7        3,8   \n",
       "4      ACEITUNAS   BARCELONA     kg      FRUTAS HUESO  2018      8        3,8   \n",
       "...          ...         ...    ...               ...   ...    ...        ...   \n",
       "41857  ZANAHORIA  VALLADOLID     kg  HORTALIZAS RAÃZ  2020     11     0,4625   \n",
       "41858  ZANAHORIA    ZARAGOZA     kg  HORTALIZAS RAÃZ  2019      8      0,505   \n",
       "41859  ZANAHORIA    ZARAGOZA     kg  HORTALIZAS RAÃZ  2019      9       0,55   \n",
       "41860  ZANAHORIA    ZARAGOZA     kg  HORTALIZAS RAÃZ  2019     10       0,55   \n",
       "41861  ZANAHORIA    ZARAGOZA     kg  HORTALIZAS RAÃZ  2020      8        0,5   \n",
       "\n",
       "       Volumen Internacionales    Fecha  \n",
       "0           12              no   4/2018  \n",
       "1            5              no   5/2018  \n",
       "2           10              no   6/2018  \n",
       "3            4              no   7/2018  \n",
       "4           12              no   8/2018  \n",
       "...        ...             ...      ...  \n",
       "41857   444376              no  11/2020  \n",
       "41858      374              no   8/2019  \n",
       "41859      122              no   9/2019  \n",
       "41860      127              no  10/2019  \n",
       "41861      120              no   8/2020  \n",
       "\n",
       "[41862 rows x 10 columns]"
      ]
     },
     "execution_count": 37,
     "metadata": {},
     "output_type": "execute_result"
    }
   ],
   "source": [
    "df3['Fecha'] = (df3['MONTH'].astype(str) + \"/\" + df3['YEAR'].astype(str))\n",
    "df3"
   ]
  },
  {
   "cell_type": "code",
   "execution_count": 38,
   "metadata": {},
   "outputs": [
    {
     "data": {
      "text/html": [
       "<div>\n",
       "<style scoped>\n",
       "    .dataframe tbody tr th:only-of-type {\n",
       "        vertical-align: middle;\n",
       "    }\n",
       "\n",
       "    .dataframe tbody tr th {\n",
       "        vertical-align: top;\n",
       "    }\n",
       "\n",
       "    .dataframe thead th {\n",
       "        text-align: right;\n",
       "    }\n",
       "</style>\n",
       "<table border=\"1\" class=\"dataframe\">\n",
       "  <thead>\n",
       "    <tr style=\"text-align: right;\">\n",
       "      <th></th>\n",
       "      <th>product</th>\n",
       "      <th>origen</th>\n",
       "      <th>Unidad</th>\n",
       "      <th>familia</th>\n",
       "      <th>YEAR</th>\n",
       "      <th>MONTH</th>\n",
       "      <th>price_mean</th>\n",
       "      <th>Volumen</th>\n",
       "      <th>Internacionales</th>\n",
       "      <th>Fecha</th>\n",
       "    </tr>\n",
       "  </thead>\n",
       "  <tbody>\n",
       "    <tr>\n",
       "      <th>24140</th>\n",
       "      <td>MANDARINA CLEMENTINA</td>\n",
       "      <td>MURCIA</td>\n",
       "      <td>kg</td>\n",
       "      <td>FRUTAS CÃTRICOS</td>\n",
       "      <td>2018</td>\n",
       "      <td>1</td>\n",
       "      <td>0,702380952</td>\n",
       "      <td>901810</td>\n",
       "      <td>no</td>\n",
       "      <td>1/2018</td>\n",
       "    </tr>\n",
       "    <tr>\n",
       "      <th>7066</th>\n",
       "      <td>CEREZAS</td>\n",
       "      <td>CHILE</td>\n",
       "      <td>kg</td>\n",
       "      <td>FRUTAS HUESO</td>\n",
       "      <td>2018</td>\n",
       "      <td>1</td>\n",
       "      <td>10,61538462</td>\n",
       "      <td>6338</td>\n",
       "      <td>si</td>\n",
       "      <td>1/2018</td>\n",
       "    </tr>\n",
       "  </tbody>\n",
       "</table>\n",
       "</div>"
      ],
      "text/plain": [
       "                    product  origen Unidad           familia  YEAR  MONTH  \\\n",
       "24140  MANDARINA CLEMENTINA  MURCIA     kg  FRUTAS CÃTRICOS  2018      1   \n",
       "7066                CEREZAS   CHILE     kg      FRUTAS HUESO  2018      1   \n",
       "\n",
       "        price_mean  Volumen Internacionales   Fecha  \n",
       "24140  0,702380952   901810              no  1/2018  \n",
       "7066   10,61538462     6338              si  1/2018  "
      ]
     },
     "execution_count": 38,
     "metadata": {},
     "output_type": "execute_result"
    }
   ],
   "source": [
    "df3= df3.sort_values(by = \"Fecha\")\n",
    "df3.head(2)"
   ]
  },
  {
   "cell_type": "code",
   "execution_count": 39,
   "metadata": {},
   "outputs": [],
   "source": [
    "df3['Fecha'] = df3['Fecha'].map(lambda x : datetime.strptime(x, '%m/%Y'))"
   ]
  },
  {
   "cell_type": "code",
   "execution_count": 40,
   "metadata": {},
   "outputs": [
    {
     "data": {
      "text/html": [
       "<div>\n",
       "<style scoped>\n",
       "    .dataframe tbody tr th:only-of-type {\n",
       "        vertical-align: middle;\n",
       "    }\n",
       "\n",
       "    .dataframe tbody tr th {\n",
       "        vertical-align: top;\n",
       "    }\n",
       "\n",
       "    .dataframe thead th {\n",
       "        text-align: right;\n",
       "    }\n",
       "</style>\n",
       "<table border=\"1\" class=\"dataframe\">\n",
       "  <thead>\n",
       "    <tr style=\"text-align: right;\">\n",
       "      <th></th>\n",
       "      <th>product</th>\n",
       "      <th>origen</th>\n",
       "      <th>Unidad</th>\n",
       "      <th>familia</th>\n",
       "      <th>YEAR</th>\n",
       "      <th>MONTH</th>\n",
       "      <th>price_mean</th>\n",
       "      <th>Volumen</th>\n",
       "      <th>Internacionales</th>\n",
       "      <th>Fecha</th>\n",
       "    </tr>\n",
       "  </thead>\n",
       "  <tbody>\n",
       "    <tr>\n",
       "      <th>24140</th>\n",
       "      <td>MANDARINA CLEMENTINA</td>\n",
       "      <td>MURCIA</td>\n",
       "      <td>kg</td>\n",
       "      <td>FRUTAS CÃTRICOS</td>\n",
       "      <td>2018</td>\n",
       "      <td>1</td>\n",
       "      <td>0,702380952</td>\n",
       "      <td>901810</td>\n",
       "      <td>no</td>\n",
       "      <td>2018-01-01</td>\n",
       "    </tr>\n",
       "    <tr>\n",
       "      <th>7066</th>\n",
       "      <td>CEREZAS</td>\n",
       "      <td>CHILE</td>\n",
       "      <td>kg</td>\n",
       "      <td>FRUTAS HUESO</td>\n",
       "      <td>2018</td>\n",
       "      <td>1</td>\n",
       "      <td>10,61538462</td>\n",
       "      <td>6338</td>\n",
       "      <td>si</td>\n",
       "      <td>2018-01-01</td>\n",
       "    </tr>\n",
       "  </tbody>\n",
       "</table>\n",
       "</div>"
      ],
      "text/plain": [
       "                    product  origen Unidad           familia  YEAR  MONTH  \\\n",
       "24140  MANDARINA CLEMENTINA  MURCIA     kg  FRUTAS CÃTRICOS  2018      1   \n",
       "7066                CEREZAS   CHILE     kg      FRUTAS HUESO  2018      1   \n",
       "\n",
       "        price_mean  Volumen Internacionales      Fecha  \n",
       "24140  0,702380952   901810              no 2018-01-01  \n",
       "7066   10,61538462     6338              si 2018-01-01  "
      ]
     },
     "execution_count": 40,
     "metadata": {},
     "output_type": "execute_result"
    }
   ],
   "source": [
    "df3.head(2)"
   ]
  },
  {
   "cell_type": "code",
   "execution_count": 41,
   "metadata": {},
   "outputs": [],
   "source": [
    "g2018= df3.loc[df3['Fecha'] <  \"2019-01-01\"]\n",
    "g2019= df3[(df3['Fecha'] > '2018-12-01') & (df3['Fecha'] < '2020-01-01')]\n",
    "g2020= df3.loc[df3['Fecha'] >  \"2019-12-01\"]"
   ]
  },
  {
   "cell_type": "code",
   "execution_count": 42,
   "metadata": {},
   "outputs": [
    {
     "data": {
      "text/html": [
       "<div>\n",
       "<style scoped>\n",
       "    .dataframe tbody tr th:only-of-type {\n",
       "        vertical-align: middle;\n",
       "    }\n",
       "\n",
       "    .dataframe tbody tr th {\n",
       "        vertical-align: top;\n",
       "    }\n",
       "\n",
       "    .dataframe thead th {\n",
       "        text-align: right;\n",
       "    }\n",
       "</style>\n",
       "<table border=\"1\" class=\"dataframe\">\n",
       "  <thead>\n",
       "    <tr style=\"text-align: right;\">\n",
       "      <th></th>\n",
       "      <th>product</th>\n",
       "      <th>origen</th>\n",
       "      <th>Unidad</th>\n",
       "      <th>familia</th>\n",
       "      <th>YEAR</th>\n",
       "      <th>MONTH</th>\n",
       "      <th>price_mean</th>\n",
       "      <th>Volumen</th>\n",
       "      <th>Internacionales</th>\n",
       "      <th>Fecha</th>\n",
       "    </tr>\n",
       "  </thead>\n",
       "  <tbody>\n",
       "    <tr>\n",
       "      <th>1343</th>\n",
       "      <td>AJOS TIERNOS</td>\n",
       "      <td>CIUDAD REAL</td>\n",
       "      <td>kg</td>\n",
       "      <td>HORTALIZAS BULBOS</td>\n",
       "      <td>2020</td>\n",
       "      <td>10</td>\n",
       "      <td>0,75</td>\n",
       "      <td>378</td>\n",
       "      <td>no</td>\n",
       "      <td>2020-10-01</td>\n",
       "    </tr>\n",
       "    <tr>\n",
       "      <th>41227</th>\n",
       "      <td>VERDURAS OTRAS</td>\n",
       "      <td>NAVARRA</td>\n",
       "      <td>kg</td>\n",
       "      <td>HORTALIZAS OTROS</td>\n",
       "      <td>2020</td>\n",
       "      <td>8</td>\n",
       "      <td>0,7</td>\n",
       "      <td>18073</td>\n",
       "      <td>no</td>\n",
       "      <td>2020-08-01</td>\n",
       "    </tr>\n",
       "  </tbody>\n",
       "</table>\n",
       "</div>"
      ],
      "text/plain": [
       "              product       origen Unidad            familia  YEAR  MONTH  \\\n",
       "1343     AJOS TIERNOS  CIUDAD REAL     kg  HORTALIZAS BULBOS  2020     10   \n",
       "41227  VERDURAS OTRAS      NAVARRA     kg   HORTALIZAS OTROS  2020      8   \n",
       "\n",
       "      price_mean  Volumen Internacionales      Fecha  \n",
       "1343        0,75      378              no 2020-10-01  \n",
       "41227        0,7    18073              no 2020-08-01  "
      ]
     },
     "execution_count": 42,
     "metadata": {},
     "output_type": "execute_result"
    }
   ],
   "source": [
    "g2020.sample(2)"
   ]
  },
  {
   "cell_type": "code",
   "execution_count": 43,
   "metadata": {},
   "outputs": [
    {
     "ename": "DataError",
     "evalue": "No numeric types to aggregate",
     "output_type": "error",
     "traceback": [
      "\u001b[1;31m---------------------------------------------------------------------------\u001b[0m",
      "\u001b[1;31mDataError\u001b[0m                                 Traceback (most recent call last)",
      "\u001b[1;32m<ipython-input-43-8e683dcfba25>\u001b[0m in \u001b[0;36m<module>\u001b[1;34m\u001b[0m\n\u001b[0;32m      4\u001b[0m \u001b[0mplt\u001b[0m\u001b[1;33m.\u001b[0m\u001b[0mtitle\u001b[0m\u001b[1;33m(\u001b[0m\u001b[1;34m'2018'\u001b[0m\u001b[1;33m)\u001b[0m\u001b[1;33m\u001b[0m\u001b[1;33m\u001b[0m\u001b[0m\n\u001b[0;32m      5\u001b[0m \u001b[0mplt\u001b[0m\u001b[1;33m.\u001b[0m\u001b[0mylabel\u001b[0m\u001b[1;33m(\u001b[0m\u001b[1;34m'Volumen'\u001b[0m\u001b[1;33m)\u001b[0m\u001b[1;33m\u001b[0m\u001b[1;33m\u001b[0m\u001b[0m\n\u001b[1;32m----> 6\u001b[1;33m \u001b[0mg2018\u001b[0m\u001b[1;33m.\u001b[0m\u001b[0mgroupby\u001b[0m\u001b[1;33m(\u001b[0m\u001b[1;33m[\u001b[0m\u001b[1;34m'Fecha'\u001b[0m\u001b[1;33m]\u001b[0m\u001b[1;33m)\u001b[0m\u001b[1;33m[\u001b[0m\u001b[1;34m'price_mean'\u001b[0m\u001b[1;33m]\u001b[0m\u001b[1;33m.\u001b[0m\u001b[0mmean\u001b[0m\u001b[1;33m(\u001b[0m\u001b[1;33m)\u001b[0m\u001b[1;33m.\u001b[0m\u001b[0mplot\u001b[0m\u001b[1;33m(\u001b[0m\u001b[1;33m)\u001b[0m\u001b[1;33m\u001b[0m\u001b[1;33m\u001b[0m\u001b[0m\n\u001b[0m\u001b[0;32m      7\u001b[0m \u001b[1;33m\u001b[0m\u001b[0m\n\u001b[0;32m      8\u001b[0m \u001b[0mplt\u001b[0m\u001b[1;33m.\u001b[0m\u001b[0msubplot\u001b[0m\u001b[1;33m(\u001b[0m\u001b[1;36m3\u001b[0m\u001b[1;33m,\u001b[0m \u001b[1;36m1\u001b[0m\u001b[1;33m,\u001b[0m \u001b[1;36m2\u001b[0m\u001b[1;33m)\u001b[0m \u001b[1;31m# Gráfica 2 de un total de 2x2 gráficas\u001b[0m\u001b[1;33m\u001b[0m\u001b[1;33m\u001b[0m\u001b[0m\n",
      "\u001b[1;32mc:\\users\\trigo\\appdata\\local\\programs\\python\\python38\\lib\\site-packages\\pandas\\core\\groupby\\groupby.py\u001b[0m in \u001b[0;36mmean\u001b[1;34m(self, *args, **kwargs)\u001b[0m\n\u001b[0;32m   1223\u001b[0m         \"\"\"\n\u001b[0;32m   1224\u001b[0m         \u001b[0mnv\u001b[0m\u001b[1;33m.\u001b[0m\u001b[0mvalidate_groupby_func\u001b[0m\u001b[1;33m(\u001b[0m\u001b[1;34m\"mean\"\u001b[0m\u001b[1;33m,\u001b[0m \u001b[0margs\u001b[0m\u001b[1;33m,\u001b[0m \u001b[0mkwargs\u001b[0m\u001b[1;33m,\u001b[0m \u001b[1;33m[\u001b[0m\u001b[1;34m\"numeric_only\"\u001b[0m\u001b[1;33m]\u001b[0m\u001b[1;33m)\u001b[0m\u001b[1;33m\u001b[0m\u001b[1;33m\u001b[0m\u001b[0m\n\u001b[1;32m-> 1225\u001b[1;33m         return self._cython_agg_general(\n\u001b[0m\u001b[0;32m   1226\u001b[0m             \u001b[1;34m\"mean\"\u001b[0m\u001b[1;33m,\u001b[0m \u001b[0malt\u001b[0m\u001b[1;33m=\u001b[0m\u001b[1;32mlambda\u001b[0m \u001b[0mx\u001b[0m\u001b[1;33m,\u001b[0m \u001b[0maxis\u001b[0m\u001b[1;33m:\u001b[0m \u001b[0mSeries\u001b[0m\u001b[1;33m(\u001b[0m\u001b[0mx\u001b[0m\u001b[1;33m)\u001b[0m\u001b[1;33m.\u001b[0m\u001b[0mmean\u001b[0m\u001b[1;33m(\u001b[0m\u001b[1;33m**\u001b[0m\u001b[0mkwargs\u001b[0m\u001b[1;33m)\u001b[0m\u001b[1;33m,\u001b[0m \u001b[1;33m**\u001b[0m\u001b[0mkwargs\u001b[0m\u001b[1;33m\u001b[0m\u001b[1;33m\u001b[0m\u001b[0m\n\u001b[0;32m   1227\u001b[0m         )\n",
      "\u001b[1;32mc:\\users\\trigo\\appdata\\local\\programs\\python\\python38\\lib\\site-packages\\pandas\\core\\groupby\\groupby.py\u001b[0m in \u001b[0;36m_cython_agg_general\u001b[1;34m(self, how, alt, numeric_only, min_count)\u001b[0m\n\u001b[0;32m    906\u001b[0m \u001b[1;33m\u001b[0m\u001b[0m\n\u001b[0;32m    907\u001b[0m         \u001b[1;32mif\u001b[0m \u001b[0mlen\u001b[0m\u001b[1;33m(\u001b[0m\u001b[0moutput\u001b[0m\u001b[1;33m)\u001b[0m \u001b[1;33m==\u001b[0m \u001b[1;36m0\u001b[0m\u001b[1;33m:\u001b[0m\u001b[1;33m\u001b[0m\u001b[1;33m\u001b[0m\u001b[0m\n\u001b[1;32m--> 908\u001b[1;33m             \u001b[1;32mraise\u001b[0m \u001b[0mDataError\u001b[0m\u001b[1;33m(\u001b[0m\u001b[1;34m\"No numeric types to aggregate\"\u001b[0m\u001b[1;33m)\u001b[0m\u001b[1;33m\u001b[0m\u001b[1;33m\u001b[0m\u001b[0m\n\u001b[0m\u001b[0;32m    909\u001b[0m \u001b[1;33m\u001b[0m\u001b[0m\n\u001b[0;32m    910\u001b[0m         \u001b[1;32mreturn\u001b[0m \u001b[0mself\u001b[0m\u001b[1;33m.\u001b[0m\u001b[0m_wrap_aggregated_output\u001b[0m\u001b[1;33m(\u001b[0m\u001b[0moutput\u001b[0m\u001b[1;33m)\u001b[0m\u001b[1;33m\u001b[0m\u001b[1;33m\u001b[0m\u001b[0m\n",
      "\u001b[1;31mDataError\u001b[0m: No numeric types to aggregate"
     ]
    },
    {
     "data": {
      "image/png": "[encoded data removed]",
      "text/plain": [
       "<Figure size 720x720 with 1 Axes>"
      ]
     },
     "metadata": {
      "needs_background": "light"
     },
     "output_type": "display_data"
    }
   ],
   "source": [
    "fig = plt.figure()\n",
    "fig.set_size_inches(10,10)\n",
    "plt.subplot(3, 1, 1) # Gráfica 1 de un total de 2x2 gráficas\n",
    "plt.title('2018')\n",
    "plt.ylabel('Volumen')\n",
    "g2018.groupby(['Fecha'])['price_mean'].mean().plot()\n",
    "\n",
    "plt.subplot(3, 1, 2) # Gráfica 2 de un total de 2x2 gráficas\n",
    "plt.title('2019')\n",
    "g2019.groupby(['Fecha'])['price_mean'].sum().plot()\n",
    "\n",
    "plt.subplot(3, 1, 3) # Gráfica 3 de un total de 2x2 gráficas\n",
    "plt.title('2020')\n",
    "g2020.groupby(['Fecha'])['price_mean'].sum().plot()\n"
   ]
  },
  {
   "cell_type": "markdown",
   "metadata": {},
   "source": [
    "# DATAFRAME 5"
   ]
  },
  {
   "cell_type": "markdown",
   "metadata": {},
   "source": [
    "# ----------------------------------------------------------------------------------------------------------------------------------------------------------------------------------"
   ]
  },
  {
   "cell_type": "code",
   "execution_count": null,
   "metadata": {},
   "outputs": [],
   "source": [
    "df5 = pd.read_csv('Dataset5_Coronavirus_cases.txt', delimiter='|', encoding ='utf-8', decimal=',')\n",
    "df5.dtypes\n",
    "df5.sample(10)"
   ]
  },
  {
   "cell_type": "code",
   "execution_count": 44,
   "metadata": {},
   "outputs": [
    {
     "ename": "NameError",
     "evalue": "name 'df5' is not defined",
     "output_type": "error",
     "traceback": [
      "\u001b[1;31m---------------------------------------------------------------------------\u001b[0m",
      "\u001b[1;31mNameError\u001b[0m                                 Traceback (most recent call last)",
      "\u001b[1;32m<ipython-input-44-b71c0f009836>\u001b[0m in \u001b[0;36m<module>\u001b[1;34m\u001b[0m\n\u001b[0;32m      1\u001b[0m \u001b[1;32mfrom\u001b[0m \u001b[0mpandas_profiling\u001b[0m \u001b[1;32mimport\u001b[0m \u001b[0mProfileReport\u001b[0m\u001b[1;33m\u001b[0m\u001b[1;33m\u001b[0m\u001b[0m\n\u001b[1;32m----> 2\u001b[1;33m \u001b[0mprof\u001b[0m \u001b[1;33m=\u001b[0m \u001b[0mProfileReport\u001b[0m\u001b[1;33m(\u001b[0m\u001b[0mdf5\u001b[0m\u001b[1;33m)\u001b[0m\u001b[1;33m\u001b[0m\u001b[1;33m\u001b[0m\u001b[0m\n\u001b[0m\u001b[0;32m      3\u001b[0m \u001b[0mprof\u001b[0m\u001b[1;33m.\u001b[0m\u001b[0mto_file\u001b[0m\u001b[1;33m(\u001b[0m\u001b[0moutput_file\u001b[0m\u001b[1;33m=\u001b[0m\u001b[1;34m'report.html'\u001b[0m\u001b[1;33m)\u001b[0m\u001b[1;33m\u001b[0m\u001b[1;33m\u001b[0m\u001b[0m\n",
      "\u001b[1;31mNameError\u001b[0m: name 'df5' is not defined"
     ]
    }
   ],
   "source": [
    "from pandas_profiling import ProfileReport\n",
    "prof = ProfileReport(df5)\n",
    "prof.to_file(output_file='report.html')"
   ]
  },
  {
   "cell_type": "code",
   "execution_count": null,
   "metadata": {},
   "outputs": [],
   "source": [
    "#!pip3 install pandas_profiling"
   ]
  },
  {
   "cell_type": "code",
   "execution_count": null,
   "metadata": {},
   "outputs": [],
   "source": [
    "df5.info()"
   ]
  },
  {
   "cell_type": "code",
   "execution_count": null,
   "metadata": {},
   "outputs": [],
   "source": [
    "df5['Fecha'] = (df5['day'].astype(str) + \"/\" + df5['month'].astype(str) + \"/\" + df5['year'].astype(str))\n",
    "df5= df5.sort_values(by = \"Fecha\")\n",
    "df5['Fecha'] = df5['Fecha'].map(lambda x : datetime.strptime(x, '%d/%m/%Y'))"
   ]
  },
  {
   "cell_type": "markdown",
   "metadata": {},
   "source": [
    "Se quitan los outliers"
   ]
  },
  {
   "cell_type": "code",
   "execution_count": null,
   "metadata": {},
   "outputs": [],
   "source": [
    "df5 = df5.drop(df5[df5['cases'] < 0].index)\n",
    "df5 = df5.drop(df5[df5['deaths'] < 0].index)"
   ]
  },
  {
   "cell_type": "code",
   "execution_count": null,
   "metadata": {},
   "outputs": [],
   "source": [
    "spain= df5.loc[df5['countriesAndTerritories'] == 'Spain']"
   ]
  },
  {
   "cell_type": "code",
   "execution_count": null,
   "metadata": {},
   "outputs": [],
   "source": [
    "import seaborn as sns\n",
    "sns.boxplot(x=spain.cases)"
   ]
  },
  {
   "cell_type": "code",
   "execution_count": null,
   "metadata": {},
   "outputs": [],
   "source": [
    "fig = px.bar(spain, x=\"Fecha\", y=\"cases\", title='Casos por covid')\n",
    "fig.show()"
   ]
  },
  {
   "cell_type": "code",
   "execution_count": null,
   "metadata": {},
   "outputs": [],
   "source": [
    "fig = px.bar(spain, x=\"Fecha\", y=\"deaths\", title='Muertes por covid')\n",
    "fig.add_trace()\n",
    "fig.show()"
   ]
  },
  {
   "cell_type": "code",
   "execution_count": null,
   "metadata": {},
   "outputs": [],
   "source": [
    "fig = plt.figure()\n",
    "fig.set_size_inches(10,10)\n",
    "g2020.groupby(['Fecha'])['price_mean'].sum().plot()\n"
   ]
  },
  {
   "cell_type": "code",
   "execution_count": null,
   "metadata": {},
   "outputs": [],
   "source": []
  }
 ],
 "metadata": {
  "kernelspec": {
   "display_name": "Python 3",
   "language": "python",
   "name": "python3"
  },
  "language_info": {
   "codemirror_mode": {
    "name": "ipython",
    "version": 3
   },
   "file_extension": ".py",
   "mimetype": "text/x-python",
   "name": "python",
   "nbconvert_exporter": "python",
   "pygments_lexer": "ipython3",
   "version": "3.8.3"
  }
 },
 "nbformat": 4,
 "nbformat_minor": 4
}
