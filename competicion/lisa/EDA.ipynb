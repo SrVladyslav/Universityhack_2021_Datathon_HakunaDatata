{
 "cells": [
  {
   "cell_type": "code",
   "execution_count": 2,
   "metadata": {},
   "outputs": [],
   "source": [
    "import pandas as pd\n",
    "import numpy as np\n",
    "from sklearn.preprocessing import OrdinalEncoder\n",
    "from sklearn.model_selection import train_test_split\n",
    "import matplotlib.pyplot as plt \n",
    "from datetime import datetime\n",
    "\n",
    "\n",
    "#import geopandas as gpd\n",
    "#import geoplot as gplt\n",
    "#import mapclassify\n",
    "import matplotlib.pyplot as plt\n",
    "from matplotlib import colors, cm\n",
    "import numpy as np # linear algebra\n",
    "import pandas as pd # data processing, CSV file I/O (e.g. pd.read_csv)\n",
    "import plotly.express as px\n",
    "import re\n",
    "import seaborn as sns\n",
    "#!pip3 install seaborn\n",
    "from plotly.offline import plot\n",
    "from plotly.graph_objs import *"
   ]
  },
  {
   "cell_type": "markdown",
   "metadata": {},
   "source": [
    "# DATAFRAME 4"
   ]
  },
  {
   "cell_type": "markdown",
   "metadata": {},
   "source": [
    "# ----------------------------------------------------------------------------------------------------------------------------------------------------------------------------------"
   ]
  },
  {
   "cell_type": "code",
   "execution_count": 2,
   "metadata": {},
   "outputs": [
    {
     "data": {
      "text/plain": [
       "PERIOD        object\n",
       "REPORTER      object\n",
       "PARTNER       object\n",
       "PRODUCT       object\n",
       "FLOW          object\n",
       "INDICATORS    object\n",
       "Value         object\n",
       "dtype: object"
      ]
     },
     "execution_count": 2,
     "metadata": {},
     "output_type": "execute_result"
    }
   ],
   "source": [
    "df4 = pd.read_csv('Dataset4.- Comercio Exterior de Espa§a.txt', delimiter='|')\n",
    "df4.dtypes"
   ]
  },
  {
   "cell_type": "code",
   "execution_count": 3,
   "metadata": {},
   "outputs": [
    {
     "name": "stdout",
     "output_type": "stream",
     "text": [
      "There are 360976 rows and 7 columns\n"
     ]
    }
   ],
   "source": [
    "nRow, nCol = df4.shape\n",
    "print(f'There are {nRow} rows and {nCol} columns')"
   ]
  },
  {
   "cell_type": "code",
   "execution_count": 4,
   "metadata": {},
   "outputs": [
    {
     "data": {
      "text/html": [
       "<div>\n",
       "<style scoped>\n",
       "    .dataframe tbody tr th:only-of-type {\n",
       "        vertical-align: middle;\n",
       "    }\n",
       "\n",
       "    .dataframe tbody tr th {\n",
       "        vertical-align: top;\n",
       "    }\n",
       "\n",
       "    .dataframe thead th {\n",
       "        text-align: right;\n",
       "    }\n",
       "</style>\n",
       "<table border=\"1\" class=\"dataframe\">\n",
       "  <thead>\n",
       "    <tr style=\"text-align: right;\">\n",
       "      <th></th>\n",
       "      <th>PERIOD</th>\n",
       "      <th>REPORTER</th>\n",
       "      <th>PARTNER</th>\n",
       "      <th>PRODUCT</th>\n",
       "      <th>FLOW</th>\n",
       "      <th>INDICATORS</th>\n",
       "      <th>Value</th>\n",
       "    </tr>\n",
       "  </thead>\n",
       "  <tbody>\n",
       "    <tr>\n",
       "      <th>42599</th>\n",
       "      <td>Jun. 2019</td>\n",
       "      <td>Croatia</td>\n",
       "      <td>ES</td>\n",
       "      <td>Fresh or chilled cabbage lettuce(2000-2500)</td>\n",
       "      <td>EXPORT</td>\n",
       "      <td>QUANTITY_IN_100KG</td>\n",
       "      <td>:</td>\n",
       "    </tr>\n",
       "    <tr>\n",
       "      <th>248290</th>\n",
       "      <td>Sep. 2019</td>\n",
       "      <td>Malta</td>\n",
       "      <td>ES</td>\n",
       "      <td>Fresh nectarines(1998-2500)|Nectarines, fresh(...</td>\n",
       "      <td>EXPORT</td>\n",
       "      <td>VALUE_IN_EUROS</td>\n",
       "      <td>:</td>\n",
       "    </tr>\n",
       "    <tr>\n",
       "      <th>214685</th>\n",
       "      <td>Apr. 2020</td>\n",
       "      <td>Latvia</td>\n",
       "      <td>ES</td>\n",
       "      <td>Fresh or dried grapefruit(2000-2500)|Fresh or ...</td>\n",
       "      <td>IMPORT</td>\n",
       "      <td>QUANTITY_IN_100KG</td>\n",
       "      <td>726</td>\n",
       "    </tr>\n",
       "    <tr>\n",
       "      <th>164050</th>\n",
       "      <td>Apr. 2018</td>\n",
       "      <td>Greece</td>\n",
       "      <td>ES</td>\n",
       "      <td>Fresh pawpaws \"papayas\"(1988-2500)</td>\n",
       "      <td>EXPORT</td>\n",
       "      <td>VALUE_IN_EUROS</td>\n",
       "      <td>:</td>\n",
       "    </tr>\n",
       "    <tr>\n",
       "      <th>108305</th>\n",
       "      <td>Sep. 2020</td>\n",
       "      <td>European Union - 27 countries (AT, BE, BG, CY,...</td>\n",
       "      <td>ES</td>\n",
       "      <td>Fresh or chilled edible mushrooms (excl. chant...</td>\n",
       "      <td>IMPORT</td>\n",
       "      <td>QUANTITY_IN_100KG</td>\n",
       "      <td>3605</td>\n",
       "    </tr>\n",
       "  </tbody>\n",
       "</table>\n",
       "</div>"
      ],
      "text/plain": [
       "           PERIOD                                           REPORTER PARTNER  \\\n",
       "42599   Jun. 2019                                            Croatia      ES   \n",
       "248290  Sep. 2019                                              Malta      ES   \n",
       "214685  Apr. 2020                                             Latvia      ES   \n",
       "164050  Apr. 2018                                             Greece      ES   \n",
       "108305  Sep. 2020  European Union - 27 countries (AT, BE, BG, CY,...      ES   \n",
       "\n",
       "                                                  PRODUCT    FLOW  \\\n",
       "42599         Fresh or chilled cabbage lettuce(2000-2500)  EXPORT   \n",
       "248290  Fresh nectarines(1998-2500)|Nectarines, fresh(...  EXPORT   \n",
       "214685  Fresh or dried grapefruit(2000-2500)|Fresh or ...  IMPORT   \n",
       "164050                 Fresh pawpaws \"papayas\"(1988-2500)  EXPORT   \n",
       "108305  Fresh or chilled edible mushrooms (excl. chant...  IMPORT   \n",
       "\n",
       "               INDICATORS Value  \n",
       "42599   QUANTITY_IN_100KG     :  \n",
       "248290     VALUE_IN_EUROS     :  \n",
       "214685  QUANTITY_IN_100KG   726  \n",
       "164050     VALUE_IN_EUROS     :  \n",
       "108305  QUANTITY_IN_100KG  3605  "
      ]
     },
     "execution_count": 4,
     "metadata": {},
     "output_type": "execute_result"
    }
   ],
   "source": [
    "df4.sample(5)"
   ]
  },
  {
   "cell_type": "code",
   "execution_count": 5,
   "metadata": {},
   "outputs": [],
   "source": [
    "def function(valor):\n",
    "    if len(valor)!= 9:\n",
    "        return valor[5:]\n",
    "    else:\n",
    "        return valor\n",
    "\n",
    "df4['Aux'] = df4['PERIOD'].map(function)"
   ]
  },
  {
   "cell_type": "code",
   "execution_count": 6,
   "metadata": {},
   "outputs": [
    {
     "data": {
      "text/html": [
       "<div>\n",
       "<style scoped>\n",
       "    .dataframe tbody tr th:only-of-type {\n",
       "        vertical-align: middle;\n",
       "    }\n",
       "\n",
       "    .dataframe tbody tr th {\n",
       "        vertical-align: top;\n",
       "    }\n",
       "\n",
       "    .dataframe thead th {\n",
       "        text-align: right;\n",
       "    }\n",
       "</style>\n",
       "<table border=\"1\" class=\"dataframe\">\n",
       "  <thead>\n",
       "    <tr style=\"text-align: right;\">\n",
       "      <th></th>\n",
       "      <th>PERIOD</th>\n",
       "      <th>REPORTER</th>\n",
       "      <th>PARTNER</th>\n",
       "      <th>PRODUCT</th>\n",
       "      <th>FLOW</th>\n",
       "      <th>INDICATORS</th>\n",
       "      <th>Value</th>\n",
       "      <th>Aux</th>\n",
       "    </tr>\n",
       "  </thead>\n",
       "  <tbody>\n",
       "    <tr>\n",
       "      <th>94655</th>\n",
       "      <td>Apr. 2020</td>\n",
       "      <td>Estonia</td>\n",
       "      <td>ES</td>\n",
       "      <td>Fresh or chilled cauliflowers and headed brocc...</td>\n",
       "      <td>EXPORT</td>\n",
       "      <td>QUANTITY_IN_100KG</td>\n",
       "      <td>:</td>\n",
       "      <td>Apr. 2020</td>\n",
       "    </tr>\n",
       "    <tr>\n",
       "      <th>193220</th>\n",
       "      <td>Sep. 2020</td>\n",
       "      <td>Ireland (Eire)</td>\n",
       "      <td>ES</td>\n",
       "      <td>Tomatoes, fresh or chilled(1998-2500)</td>\n",
       "      <td>IMPORT</td>\n",
       "      <td>VALUE_IN_EUROS</td>\n",
       "      <td>434882</td>\n",
       "      <td>Sep. 2020</td>\n",
       "    </tr>\n",
       "    <tr>\n",
       "      <th>280406</th>\n",
       "      <td>Dec. 2018</td>\n",
       "      <td>Poland</td>\n",
       "      <td>ES</td>\n",
       "      <td>Fresh pears (excl. perry pears in bulk from 1 ...</td>\n",
       "      <td>EXPORT</td>\n",
       "      <td>VALUE_IN_EUROS</td>\n",
       "      <td>:</td>\n",
       "      <td>Dec. 2018</td>\n",
       "    </tr>\n",
       "    <tr>\n",
       "      <th>298755</th>\n",
       "      <td>May. 2018</td>\n",
       "      <td>Romania</td>\n",
       "      <td>ES</td>\n",
       "      <td>Fresh cherries (excl. sour cherries)(2012-2500)</td>\n",
       "      <td>EXPORT</td>\n",
       "      <td>QUANTITY_IN_100KG</td>\n",
       "      <td>:</td>\n",
       "      <td>May. 2018</td>\n",
       "    </tr>\n",
       "    <tr>\n",
       "      <th>356012</th>\n",
       "      <td>Jul. 2019</td>\n",
       "      <td>Sweden</td>\n",
       "      <td>ES</td>\n",
       "      <td>Fresh or dried citrus fruit (excl. oranges, le...</td>\n",
       "      <td>IMPORT</td>\n",
       "      <td>VALUE_IN_EUROS</td>\n",
       "      <td>15196</td>\n",
       "      <td>Jul. 2019</td>\n",
       "    </tr>\n",
       "  </tbody>\n",
       "</table>\n",
       "</div>"
      ],
      "text/plain": [
       "           PERIOD        REPORTER PARTNER  \\\n",
       "94655   Apr. 2020         Estonia      ES   \n",
       "193220  Sep. 2020  Ireland (Eire)      ES   \n",
       "280406  Dec. 2018          Poland      ES   \n",
       "298755  May. 2018         Romania      ES   \n",
       "356012  Jul. 2019          Sweden      ES   \n",
       "\n",
       "                                                  PRODUCT    FLOW  \\\n",
       "94655   Fresh or chilled cauliflowers and headed brocc...  EXPORT   \n",
       "193220              Tomatoes, fresh or chilled(1998-2500)  IMPORT   \n",
       "280406  Fresh pears (excl. perry pears in bulk from 1 ...  EXPORT   \n",
       "298755    Fresh cherries (excl. sour cherries)(2012-2500)  EXPORT   \n",
       "356012  Fresh or dried citrus fruit (excl. oranges, le...  IMPORT   \n",
       "\n",
       "               INDICATORS   Value        Aux  \n",
       "94655   QUANTITY_IN_100KG       :  Apr. 2020  \n",
       "193220     VALUE_IN_EUROS  434882  Sep. 2020  \n",
       "280406     VALUE_IN_EUROS       :  Dec. 2018  \n",
       "298755  QUANTITY_IN_100KG       :  May. 2018  \n",
       "356012     VALUE_IN_EUROS   15196  Jul. 2019  "
      ]
     },
     "execution_count": 6,
     "metadata": {},
     "output_type": "execute_result"
    }
   ],
   "source": [
    "df4.sample(5)"
   ]
  },
  {
   "cell_type": "code",
   "execution_count": 7,
   "metadata": {},
   "outputs": [
    {
     "name": "stdout",
     "output_type": "stream",
     "text": [
      "<class 'pandas.core.frame.DataFrame'>\n",
      "RangeIndex: 360976 entries, 0 to 360975\n",
      "Data columns (total 8 columns):\n",
      " #   Column      Non-Null Count   Dtype \n",
      "---  ------      --------------   ----- \n",
      " 0   PERIOD      360976 non-null  object\n",
      " 1   REPORTER    360976 non-null  object\n",
      " 2   PARTNER     360976 non-null  object\n",
      " 3   PRODUCT     360976 non-null  object\n",
      " 4   FLOW        360976 non-null  object\n",
      " 5   INDICATORS  360976 non-null  object\n",
      " 6   Value       360976 non-null  object\n",
      " 7   Aux         360976 non-null  object\n",
      "dtypes: object(8)\n",
      "memory usage: 22.0+ MB\n"
     ]
    }
   ],
   "source": [
    "df4.info()"
   ]
  },
  {
   "cell_type": "code",
   "execution_count": 8,
   "metadata": {},
   "outputs": [
    {
     "data": {
      "text/html": [
       "<div>\n",
       "<style scoped>\n",
       "    .dataframe tbody tr th:only-of-type {\n",
       "        vertical-align: middle;\n",
       "    }\n",
       "\n",
       "    .dataframe tbody tr th {\n",
       "        vertical-align: top;\n",
       "    }\n",
       "\n",
       "    .dataframe thead th {\n",
       "        text-align: right;\n",
       "    }\n",
       "</style>\n",
       "<table border=\"1\" class=\"dataframe\">\n",
       "  <thead>\n",
       "    <tr style=\"text-align: right;\">\n",
       "      <th></th>\n",
       "      <th>PERIOD</th>\n",
       "      <th>REPORTER</th>\n",
       "      <th>PARTNER</th>\n",
       "      <th>PRODUCT</th>\n",
       "      <th>FLOW</th>\n",
       "      <th>INDICATORS</th>\n",
       "      <th>Value</th>\n",
       "      <th>Aux</th>\n",
       "    </tr>\n",
       "  </thead>\n",
       "  <tbody>\n",
       "    <tr>\n",
       "      <th>199111</th>\n",
       "      <td>Jan. 2020</td>\n",
       "      <td>Italy (incl. San Marino 'SM' -&gt; 1993)</td>\n",
       "      <td>ES</td>\n",
       "      <td>Fresh or chilled gherkins(1988-2500)</td>\n",
       "      <td>EXPORT</td>\n",
       "      <td>QUANTITY_IN_100KG</td>\n",
       "      <td>0.0</td>\n",
       "      <td>Jan. 2020</td>\n",
       "    </tr>\n",
       "    <tr>\n",
       "      <th>21994</th>\n",
       "      <td>Apr. 2019</td>\n",
       "      <td>Belgium (incl. Luxembourg 'LU' -&gt; 1998)</td>\n",
       "      <td>ES</td>\n",
       "      <td>Fresh or dried pineapples(1988-2500)</td>\n",
       "      <td>EXPORT</td>\n",
       "      <td>VALUE_IN_EUROS</td>\n",
       "      <td>106962.0</td>\n",
       "      <td>Apr. 2019</td>\n",
       "    </tr>\n",
       "    <tr>\n",
       "      <th>212752</th>\n",
       "      <td>Apr. 2020</td>\n",
       "      <td>Latvia</td>\n",
       "      <td>ES</td>\n",
       "      <td>Fresh or chilled new potatoes from 1 January t...</td>\n",
       "      <td>IMPORT</td>\n",
       "      <td>VALUE_IN_EUROS</td>\n",
       "      <td>0.0</td>\n",
       "      <td>Apr. 2020</td>\n",
       "    </tr>\n",
       "    <tr>\n",
       "      <th>350812</th>\n",
       "      <td>Apr. 2019</td>\n",
       "      <td>Sweden</td>\n",
       "      <td>ES</td>\n",
       "      <td>Fresh grapes (excl. table grapes)(2000-2500)</td>\n",
       "      <td>IMPORT</td>\n",
       "      <td>VALUE_IN_EUROS</td>\n",
       "      <td>0.0</td>\n",
       "      <td>Apr. 2019</td>\n",
       "    </tr>\n",
       "    <tr>\n",
       "      <th>95421</th>\n",
       "      <td>Nov. 2020</td>\n",
       "      <td>Estonia</td>\n",
       "      <td>ES</td>\n",
       "      <td>Fresh or chilled edible mushrooms (excl. chant...</td>\n",
       "      <td>IMPORT</td>\n",
       "      <td>QUANTITY_IN_100KG</td>\n",
       "      <td>0.0</td>\n",
       "      <td>Nov. 2020</td>\n",
       "    </tr>\n",
       "  </tbody>\n",
       "</table>\n",
       "</div>"
      ],
      "text/plain": [
       "           PERIOD                                 REPORTER PARTNER  \\\n",
       "199111  Jan. 2020    Italy (incl. San Marino 'SM' -> 1993)      ES   \n",
       "21994   Apr. 2019  Belgium (incl. Luxembourg 'LU' -> 1998)      ES   \n",
       "212752  Apr. 2020                                   Latvia      ES   \n",
       "350812  Apr. 2019                                   Sweden      ES   \n",
       "95421   Nov. 2020                                  Estonia      ES   \n",
       "\n",
       "                                                  PRODUCT    FLOW  \\\n",
       "199111               Fresh or chilled gherkins(1988-2500)  EXPORT   \n",
       "21994                Fresh or dried pineapples(1988-2500)  EXPORT   \n",
       "212752  Fresh or chilled new potatoes from 1 January t...  IMPORT   \n",
       "350812       Fresh grapes (excl. table grapes)(2000-2500)  IMPORT   \n",
       "95421   Fresh or chilled edible mushrooms (excl. chant...  IMPORT   \n",
       "\n",
       "               INDICATORS     Value        Aux  \n",
       "199111  QUANTITY_IN_100KG       0.0  Jan. 2020  \n",
       "21994      VALUE_IN_EUROS  106962.0  Apr. 2019  \n",
       "212752     VALUE_IN_EUROS       0.0  Apr. 2020  \n",
       "350812     VALUE_IN_EUROS       0.0  Apr. 2019  \n",
       "95421   QUANTITY_IN_100KG       0.0  Nov. 2020  "
      ]
     },
     "execution_count": 8,
     "metadata": {},
     "output_type": "execute_result"
    }
   ],
   "source": [
    "def function(valor):\n",
    "    if valor == ':' :\n",
    "        return 0\n",
    "    else:\n",
    "        valor=valor.replace(\" \", \"\")\n",
    "        return float(valor)\n",
    "\n",
    "df4['Value'] = df4['Value'].map(function)\n",
    "df4.sample(5)"
   ]
  },
  {
   "cell_type": "markdown",
   "metadata": {},
   "source": [
    "### Intento de analisis de aquellas filas que presentan valores anuales:"
   ]
  },
  {
   "cell_type": "code",
   "execution_count": 9,
   "metadata": {},
   "outputs": [
    {
     "name": "stdout",
     "output_type": "stream",
     "text": [
      "There are 19712 rows and 8 columns\n"
     ]
    },
    {
     "data": {
      "text/html": [
       "<div>\n",
       "<style scoped>\n",
       "    .dataframe tbody tr th:only-of-type {\n",
       "        vertical-align: middle;\n",
       "    }\n",
       "\n",
       "    .dataframe tbody tr th {\n",
       "        vertical-align: top;\n",
       "    }\n",
       "\n",
       "    .dataframe thead th {\n",
       "        text-align: right;\n",
       "    }\n",
       "</style>\n",
       "<table border=\"1\" class=\"dataframe\">\n",
       "  <thead>\n",
       "    <tr style=\"text-align: right;\">\n",
       "      <th></th>\n",
       "      <th>PERIOD</th>\n",
       "      <th>REPORTER</th>\n",
       "      <th>PARTNER</th>\n",
       "      <th>PRODUCT</th>\n",
       "      <th>FLOW</th>\n",
       "      <th>INDICATORS</th>\n",
       "      <th>Value</th>\n",
       "      <th>Aux</th>\n",
       "    </tr>\n",
       "  </thead>\n",
       "  <tbody>\n",
       "    <tr>\n",
       "      <th>48</th>\n",
       "      <td>Jan.-Dec. 2018</td>\n",
       "      <td>Austria</td>\n",
       "      <td>ES</td>\n",
       "      <td>Bananas, fresh (excl. plantains)(2012-2500)</td>\n",
       "      <td>IMPORT</td>\n",
       "      <td>VALUE_IN_EUROS</td>\n",
       "      <td>1058.0</td>\n",
       "      <td>Dec. 2018</td>\n",
       "    </tr>\n",
       "    <tr>\n",
       "      <th>49</th>\n",
       "      <td>Jan.-Dec. 2018</td>\n",
       "      <td>Austria</td>\n",
       "      <td>ES</td>\n",
       "      <td>Bananas, fresh (excl. plantains)(2012-2500)</td>\n",
       "      <td>IMPORT</td>\n",
       "      <td>QUANTITY_IN_100KG</td>\n",
       "      <td>4.0</td>\n",
       "      <td>Dec. 2018</td>\n",
       "    </tr>\n",
       "    <tr>\n",
       "      <th>50</th>\n",
       "      <td>Jan.-Dec. 2018</td>\n",
       "      <td>Austria</td>\n",
       "      <td>ES</td>\n",
       "      <td>Bananas, fresh (excl. plantains)(2012-2500)</td>\n",
       "      <td>EXPORT</td>\n",
       "      <td>VALUE_IN_EUROS</td>\n",
       "      <td>0.0</td>\n",
       "      <td>Dec. 2018</td>\n",
       "    </tr>\n",
       "    <tr>\n",
       "      <th>51</th>\n",
       "      <td>Jan.-Dec. 2018</td>\n",
       "      <td>Austria</td>\n",
       "      <td>ES</td>\n",
       "      <td>Bananas, fresh (excl. plantains)(2012-2500)</td>\n",
       "      <td>EXPORT</td>\n",
       "      <td>QUANTITY_IN_100KG</td>\n",
       "      <td>0.0</td>\n",
       "      <td>Dec. 2018</td>\n",
       "    </tr>\n",
       "    <tr>\n",
       "      <th>100</th>\n",
       "      <td>Jan.-Dec. 2019</td>\n",
       "      <td>Austria</td>\n",
       "      <td>ES</td>\n",
       "      <td>Bananas, fresh (excl. plantains)(2012-2500)</td>\n",
       "      <td>IMPORT</td>\n",
       "      <td>VALUE_IN_EUROS</td>\n",
       "      <td>0.0</td>\n",
       "      <td>Dec. 2019</td>\n",
       "    </tr>\n",
       "    <tr>\n",
       "      <th>...</th>\n",
       "      <td>...</td>\n",
       "      <td>...</td>\n",
       "      <td>...</td>\n",
       "      <td>...</td>\n",
       "      <td>...</td>\n",
       "      <td>...</td>\n",
       "      <td>...</td>\n",
       "      <td>...</td>\n",
       "    </tr>\n",
       "    <tr>\n",
       "      <th>360879</th>\n",
       "      <td>Jan.-Dec. 2018</td>\n",
       "      <td>Sweden</td>\n",
       "      <td>ES</td>\n",
       "      <td>White and red cabbages, fresh or chilled(1988-...</td>\n",
       "      <td>EXPORT</td>\n",
       "      <td>QUANTITY_IN_100KG</td>\n",
       "      <td>0.0</td>\n",
       "      <td>Dec. 2018</td>\n",
       "    </tr>\n",
       "    <tr>\n",
       "      <th>360928</th>\n",
       "      <td>Jan.-Dec. 2019</td>\n",
       "      <td>Sweden</td>\n",
       "      <td>ES</td>\n",
       "      <td>White and red cabbages, fresh or chilled(1988-...</td>\n",
       "      <td>IMPORT</td>\n",
       "      <td>VALUE_IN_EUROS</td>\n",
       "      <td>483.0</td>\n",
       "      <td>Dec. 2019</td>\n",
       "    </tr>\n",
       "    <tr>\n",
       "      <th>360929</th>\n",
       "      <td>Jan.-Dec. 2019</td>\n",
       "      <td>Sweden</td>\n",
       "      <td>ES</td>\n",
       "      <td>White and red cabbages, fresh or chilled(1988-...</td>\n",
       "      <td>IMPORT</td>\n",
       "      <td>QUANTITY_IN_100KG</td>\n",
       "      <td>4.0</td>\n",
       "      <td>Dec. 2019</td>\n",
       "    </tr>\n",
       "    <tr>\n",
       "      <th>360930</th>\n",
       "      <td>Jan.-Dec. 2019</td>\n",
       "      <td>Sweden</td>\n",
       "      <td>ES</td>\n",
       "      <td>White and red cabbages, fresh or chilled(1988-...</td>\n",
       "      <td>EXPORT</td>\n",
       "      <td>VALUE_IN_EUROS</td>\n",
       "      <td>31.0</td>\n",
       "      <td>Dec. 2019</td>\n",
       "    </tr>\n",
       "    <tr>\n",
       "      <th>360931</th>\n",
       "      <td>Jan.-Dec. 2019</td>\n",
       "      <td>Sweden</td>\n",
       "      <td>ES</td>\n",
       "      <td>White and red cabbages, fresh or chilled(1988-...</td>\n",
       "      <td>EXPORT</td>\n",
       "      <td>QUANTITY_IN_100KG</td>\n",
       "      <td>0.0</td>\n",
       "      <td>Dec. 2019</td>\n",
       "    </tr>\n",
       "  </tbody>\n",
       "</table>\n",
       "<p>19712 rows × 8 columns</p>\n",
       "</div>"
      ],
      "text/plain": [
       "                PERIOD REPORTER PARTNER  \\\n",
       "48      Jan.-Dec. 2018  Austria      ES   \n",
       "49      Jan.-Dec. 2018  Austria      ES   \n",
       "50      Jan.-Dec. 2018  Austria      ES   \n",
       "51      Jan.-Dec. 2018  Austria      ES   \n",
       "100     Jan.-Dec. 2019  Austria      ES   \n",
       "...                ...      ...     ...   \n",
       "360879  Jan.-Dec. 2018   Sweden      ES   \n",
       "360928  Jan.-Dec. 2019   Sweden      ES   \n",
       "360929  Jan.-Dec. 2019   Sweden      ES   \n",
       "360930  Jan.-Dec. 2019   Sweden      ES   \n",
       "360931  Jan.-Dec. 2019   Sweden      ES   \n",
       "\n",
       "                                                  PRODUCT    FLOW  \\\n",
       "48            Bananas, fresh (excl. plantains)(2012-2500)  IMPORT   \n",
       "49            Bananas, fresh (excl. plantains)(2012-2500)  IMPORT   \n",
       "50            Bananas, fresh (excl. plantains)(2012-2500)  EXPORT   \n",
       "51            Bananas, fresh (excl. plantains)(2012-2500)  EXPORT   \n",
       "100           Bananas, fresh (excl. plantains)(2012-2500)  IMPORT   \n",
       "...                                                   ...     ...   \n",
       "360879  White and red cabbages, fresh or chilled(1988-...  EXPORT   \n",
       "360928  White and red cabbages, fresh or chilled(1988-...  IMPORT   \n",
       "360929  White and red cabbages, fresh or chilled(1988-...  IMPORT   \n",
       "360930  White and red cabbages, fresh or chilled(1988-...  EXPORT   \n",
       "360931  White and red cabbages, fresh or chilled(1988-...  EXPORT   \n",
       "\n",
       "               INDICATORS   Value        Aux  \n",
       "48         VALUE_IN_EUROS  1058.0  Dec. 2018  \n",
       "49      QUANTITY_IN_100KG     4.0  Dec. 2018  \n",
       "50         VALUE_IN_EUROS     0.0  Dec. 2018  \n",
       "51      QUANTITY_IN_100KG     0.0  Dec. 2018  \n",
       "100        VALUE_IN_EUROS     0.0  Dec. 2019  \n",
       "...                   ...     ...        ...  \n",
       "360879  QUANTITY_IN_100KG     0.0  Dec. 2018  \n",
       "360928     VALUE_IN_EUROS   483.0  Dec. 2019  \n",
       "360929  QUANTITY_IN_100KG     4.0  Dec. 2019  \n",
       "360930     VALUE_IN_EUROS    31.0  Dec. 2019  \n",
       "360931  QUANTITY_IN_100KG     0.0  Dec. 2019  \n",
       "\n",
       "[19712 rows x 8 columns]"
      ]
     },
     "execution_count": 9,
     "metadata": {},
     "output_type": "execute_result"
    }
   ],
   "source": [
    "anuales=df4[df4[\"PERIOD\"].apply(lambda x: len(x)!=9)]\n",
    "anuales.sample(5)\n",
    "nRow, nCol = anuales.shape\n",
    "print(f'There are {nRow} rows and {nCol} columns')\n",
    "anuales"
   ]
  },
  {
   "cell_type": "code",
   "execution_count": 10,
   "metadata": {},
   "outputs": [],
   "source": [
    "agrupa = anuales.groupby(['PERIOD'])"
   ]
  },
  {
   "cell_type": "code",
   "execution_count": 11,
   "metadata": {},
   "outputs": [
    {
     "name": "stdout",
     "output_type": "stream",
     "text": [
      "                REPORTER  PARTNER  PRODUCT  FLOW  INDICATORS  Value   Aux\n",
      "PERIOD                                                                   \n",
      "Jan.-Dec. 2018      9744     9744     9744  9744        9744   9744  9744\n",
      "Jan.-Dec. 2019      9744     9744     9744  9744        9744   9744  9744\n",
      "Jan.-Dec. 2020       224      224      224   224         224    224   224\n"
     ]
    },
    {
     "data": {
      "text/plain": [
       "<AxesSubplot:xlabel='PERIOD'>"
      ]
     },
     "execution_count": 11,
     "metadata": {},
     "output_type": "execute_result"
    },
    {
     "data": {
      "image/png": "[encoded data removed]",
      "text/plain": [
       "<Figure size 432x288 with 1 Axes>"
      ]
     },
     "metadata": {
      "needs_background": "light"
     },
     "output_type": "display_data"
    }
   ],
   "source": [
    "print(agrupa.count())\n",
    "anuales.groupby('PERIOD').mean()[\"Value\"].plot(kind='bar')"
   ]
  },
  {
   "cell_type": "code",
   "execution_count": 12,
   "metadata": {},
   "outputs": [
    {
     "data": {
      "text/plain": [
       "array([0.])"
      ]
     },
     "execution_count": 12,
     "metadata": {},
     "output_type": "execute_result"
    }
   ],
   "source": [
    "# Por qué pasa eso?\n",
    "\n",
    "periodo2020 = df4.loc[df4['PERIOD'] == \"Jan.-Dec. 2020\"]\n",
    "periodo2020['Value'].unique() "
   ]
  },
  {
   "cell_type": "markdown",
   "metadata": {},
   "source": [
    "Mustra las filas del dataset en las que falte algún valor"
   ]
  },
  {
   "cell_type": "code",
   "execution_count": 13,
   "metadata": {},
   "outputs": [
    {
     "data": {
      "text/plain": [
       "PERIOD        0\n",
       "REPORTER      0\n",
       "PARTNER       0\n",
       "PRODUCT       0\n",
       "FLOW          0\n",
       "INDICATORS    0\n",
       "Value         0\n",
       "Aux           0\n",
       "dtype: int64"
      ]
     },
     "execution_count": 13,
     "metadata": {},
     "output_type": "execute_result"
    }
   ],
   "source": [
    "#df.isnull().sample(10)\n",
    "df4.loc[df4.isnull().any(axis='columns')]\n",
    "df4.isnull().sum()"
   ]
  },
  {
   "cell_type": "markdown",
   "metadata": {},
   "source": [
    "Sacar las fechas en formato datetime:"
   ]
  },
  {
   "cell_type": "code",
   "execution_count": 14,
   "metadata": {},
   "outputs": [
    {
     "data": {
      "text/html": [
       "<div>\n",
       "<style scoped>\n",
       "    .dataframe tbody tr th:only-of-type {\n",
       "        vertical-align: middle;\n",
       "    }\n",
       "\n",
       "    .dataframe tbody tr th {\n",
       "        vertical-align: top;\n",
       "    }\n",
       "\n",
       "    .dataframe thead th {\n",
       "        text-align: right;\n",
       "    }\n",
       "</style>\n",
       "<table border=\"1\" class=\"dataframe\">\n",
       "  <thead>\n",
       "    <tr style=\"text-align: right;\">\n",
       "      <th></th>\n",
       "      <th>PERIOD</th>\n",
       "      <th>REPORTER</th>\n",
       "      <th>PARTNER</th>\n",
       "      <th>PRODUCT</th>\n",
       "      <th>FLOW</th>\n",
       "      <th>INDICATORS</th>\n",
       "      <th>Value</th>\n",
       "      <th>Aux</th>\n",
       "      <th>Date</th>\n",
       "    </tr>\n",
       "  </thead>\n",
       "  <tbody>\n",
       "    <tr>\n",
       "      <th>0</th>\n",
       "      <td>Jan. 2018</td>\n",
       "      <td>Austria</td>\n",
       "      <td>ES</td>\n",
       "      <td>Bananas, fresh (excl. plantains)(2012-2500)</td>\n",
       "      <td>IMPORT</td>\n",
       "      <td>VALUE_IN_EUROS</td>\n",
       "      <td>0.0</td>\n",
       "      <td>Jan. 2018</td>\n",
       "      <td>2018-01-01</td>\n",
       "    </tr>\n",
       "    <tr>\n",
       "      <th>1</th>\n",
       "      <td>Jan. 2018</td>\n",
       "      <td>Austria</td>\n",
       "      <td>ES</td>\n",
       "      <td>Bananas, fresh (excl. plantains)(2012-2500)</td>\n",
       "      <td>IMPORT</td>\n",
       "      <td>QUANTITY_IN_100KG</td>\n",
       "      <td>0.0</td>\n",
       "      <td>Jan. 2018</td>\n",
       "      <td>2018-01-01</td>\n",
       "    </tr>\n",
       "    <tr>\n",
       "      <th>2</th>\n",
       "      <td>Jan. 2018</td>\n",
       "      <td>Austria</td>\n",
       "      <td>ES</td>\n",
       "      <td>Bananas, fresh (excl. plantains)(2012-2500)</td>\n",
       "      <td>EXPORT</td>\n",
       "      <td>VALUE_IN_EUROS</td>\n",
       "      <td>0.0</td>\n",
       "      <td>Jan. 2018</td>\n",
       "      <td>2018-01-01</td>\n",
       "    </tr>\n",
       "    <tr>\n",
       "      <th>3</th>\n",
       "      <td>Jan. 2018</td>\n",
       "      <td>Austria</td>\n",
       "      <td>ES</td>\n",
       "      <td>Bananas, fresh (excl. plantains)(2012-2500)</td>\n",
       "      <td>EXPORT</td>\n",
       "      <td>QUANTITY_IN_100KG</td>\n",
       "      <td>0.0</td>\n",
       "      <td>Jan. 2018</td>\n",
       "      <td>2018-01-01</td>\n",
       "    </tr>\n",
       "    <tr>\n",
       "      <th>4</th>\n",
       "      <td>Feb. 2018</td>\n",
       "      <td>Austria</td>\n",
       "      <td>ES</td>\n",
       "      <td>Bananas, fresh (excl. plantains)(2012-2500)</td>\n",
       "      <td>IMPORT</td>\n",
       "      <td>VALUE_IN_EUROS</td>\n",
       "      <td>0.0</td>\n",
       "      <td>Feb. 2018</td>\n",
       "      <td>2018-02-01</td>\n",
       "    </tr>\n",
       "  </tbody>\n",
       "</table>\n",
       "</div>"
      ],
      "text/plain": [
       "      PERIOD REPORTER PARTNER                                      PRODUCT  \\\n",
       "0  Jan. 2018  Austria      ES  Bananas, fresh (excl. plantains)(2012-2500)   \n",
       "1  Jan. 2018  Austria      ES  Bananas, fresh (excl. plantains)(2012-2500)   \n",
       "2  Jan. 2018  Austria      ES  Bananas, fresh (excl. plantains)(2012-2500)   \n",
       "3  Jan. 2018  Austria      ES  Bananas, fresh (excl. plantains)(2012-2500)   \n",
       "4  Feb. 2018  Austria      ES  Bananas, fresh (excl. plantains)(2012-2500)   \n",
       "\n",
       "     FLOW         INDICATORS  Value        Aux       Date  \n",
       "0  IMPORT     VALUE_IN_EUROS    0.0  Jan. 2018 2018-01-01  \n",
       "1  IMPORT  QUANTITY_IN_100KG    0.0  Jan. 2018 2018-01-01  \n",
       "2  EXPORT     VALUE_IN_EUROS    0.0  Jan. 2018 2018-01-01  \n",
       "3  EXPORT  QUANTITY_IN_100KG    0.0  Jan. 2018 2018-01-01  \n",
       "4  IMPORT     VALUE_IN_EUROS    0.0  Feb. 2018 2018-02-01  "
      ]
     },
     "execution_count": 14,
     "metadata": {},
     "output_type": "execute_result"
    }
   ],
   "source": [
    "months= {'Jan.': '1' , 'Feb.': '2' , 'Mar.': '3', 'Apr.': '4', 'May.': '5', 'Jun.': '6', 'Jul.': '7', 'Aug.': '8', 'Sep.': '9', 'Oct.': '10' , 'Nov.':'11', 'Dec.':'12'}\n",
    "def stringPeriodToDate(valor):\n",
    "    if valor[0:4] not in months.keys():\n",
    "        pass\n",
    "    else: \n",
    "        valor= months[valor[0:4]]+'/'+valor[5:]\n",
    "        return datetime.strptime(valor, '%m/%Y')\n",
    "        \n",
    "df4['Date'] = df4['Aux'].map(stringPeriodToDate) \n",
    "df4.head(5)"
   ]
  },
  {
   "cell_type": "markdown",
   "metadata": {},
   "source": [
    "Agrupa filas por columna 'FLOW' para ver que tenemos casos balanceados de importaciones y exportaciones:"
   ]
  },
  {
   "cell_type": "code",
   "execution_count": 15,
   "metadata": {},
   "outputs": [
    {
     "data": {
      "text/html": [
       "<div>\n",
       "<style scoped>\n",
       "    .dataframe tbody tr th:only-of-type {\n",
       "        vertical-align: middle;\n",
       "    }\n",
       "\n",
       "    .dataframe tbody tr th {\n",
       "        vertical-align: top;\n",
       "    }\n",
       "\n",
       "    .dataframe thead th {\n",
       "        text-align: right;\n",
       "    }\n",
       "</style>\n",
       "<table border=\"1\" class=\"dataframe\">\n",
       "  <thead>\n",
       "    <tr style=\"text-align: right;\">\n",
       "      <th></th>\n",
       "      <th>PERIOD</th>\n",
       "      <th>REPORTER</th>\n",
       "      <th>PARTNER</th>\n",
       "      <th>PRODUCT</th>\n",
       "      <th>INDICATORS</th>\n",
       "      <th>Value</th>\n",
       "      <th>Aux</th>\n",
       "      <th>Date</th>\n",
       "    </tr>\n",
       "    <tr>\n",
       "      <th>FLOW</th>\n",
       "      <th></th>\n",
       "      <th></th>\n",
       "      <th></th>\n",
       "      <th></th>\n",
       "      <th></th>\n",
       "      <th></th>\n",
       "      <th></th>\n",
       "      <th></th>\n",
       "    </tr>\n",
       "  </thead>\n",
       "  <tbody>\n",
       "    <tr>\n",
       "      <th>EXPORT</th>\n",
       "      <td>180488</td>\n",
       "      <td>180488</td>\n",
       "      <td>180488</td>\n",
       "      <td>180488</td>\n",
       "      <td>180488</td>\n",
       "      <td>180488</td>\n",
       "      <td>180488</td>\n",
       "      <td>180488</td>\n",
       "    </tr>\n",
       "    <tr>\n",
       "      <th>IMPORT</th>\n",
       "      <td>180488</td>\n",
       "      <td>180488</td>\n",
       "      <td>180488</td>\n",
       "      <td>180488</td>\n",
       "      <td>180488</td>\n",
       "      <td>180488</td>\n",
       "      <td>180488</td>\n",
       "      <td>180488</td>\n",
       "    </tr>\n",
       "  </tbody>\n",
       "</table>\n",
       "</div>"
      ],
      "text/plain": [
       "        PERIOD  REPORTER  PARTNER  PRODUCT  INDICATORS   Value     Aux    Date\n",
       "FLOW                                                                          \n",
       "EXPORT  180488    180488   180488   180488      180488  180488  180488  180488\n",
       "IMPORT  180488    180488   180488   180488      180488  180488  180488  180488"
      ]
     },
     "execution_count": 15,
     "metadata": {},
     "output_type": "execute_result"
    }
   ],
   "source": [
    "df4.groupby('FLOW').count()"
   ]
  },
  {
   "cell_type": "markdown",
   "metadata": {},
   "source": [
    "Cuantos partners hay?"
   ]
  },
  {
   "cell_type": "code",
   "execution_count": 16,
   "metadata": {},
   "outputs": [
    {
     "data": {
      "text/plain": [
       "count     360976\n",
       "unique         1\n",
       "top           ES\n",
       "freq      360976\n",
       "Name: PARTNER, dtype: object"
      ]
     },
     "execution_count": 16,
     "metadata": {},
     "output_type": "execute_result"
    }
   ],
   "source": [
    "df4['PARTNER'].describe()"
   ]
  },
  {
   "cell_type": "markdown",
   "metadata": {},
   "source": [
    "Cuantos reporters hay?"
   ]
  },
  {
   "cell_type": "code",
   "execution_count": 17,
   "metadata": {},
   "outputs": [
    {
     "data": {
      "text/plain": [
       "count        360976\n",
       "unique           28\n",
       "top       Lithuania\n",
       "freq          12892\n",
       "Name: REPORTER, dtype: object"
      ]
     },
     "execution_count": 17,
     "metadata": {},
     "output_type": "execute_result"
    }
   ],
   "source": [
    "df4['REPORTER'].describe()"
   ]
  },
  {
   "cell_type": "markdown",
   "metadata": {},
   "source": [
    "# Vamos a quitar los faltantes a lo loco"
   ]
  },
  {
   "cell_type": "code",
   "execution_count": 18,
   "metadata": {},
   "outputs": [],
   "source": [
    "df4Completo=df4.dropna(axis='rows', how='any', inplace=False) # Borra las filas que tengan al menos un valor faltante"
   ]
  },
  {
   "cell_type": "markdown",
   "metadata": {},
   "source": [
    "(Si se no se especifica la opción `inplace=True`, en lugar de borrar los datos del dataframe original, se devuelve un nuevo dataframe sin las filas/columnas con datos faltantes)"
   ]
  },
  {
   "cell_type": "code",
   "execution_count": 19,
   "metadata": {},
   "outputs": [
    {
     "data": {
      "text/html": [
       "<div>\n",
       "<style scoped>\n",
       "    .dataframe tbody tr th:only-of-type {\n",
       "        vertical-align: middle;\n",
       "    }\n",
       "\n",
       "    .dataframe tbody tr th {\n",
       "        vertical-align: top;\n",
       "    }\n",
       "\n",
       "    .dataframe thead th {\n",
       "        text-align: right;\n",
       "    }\n",
       "</style>\n",
       "<table border=\"1\" class=\"dataframe\">\n",
       "  <thead>\n",
       "    <tr style=\"text-align: right;\">\n",
       "      <th></th>\n",
       "      <th>PERIOD</th>\n",
       "      <th>REPORTER</th>\n",
       "      <th>PARTNER</th>\n",
       "      <th>PRODUCT</th>\n",
       "      <th>FLOW</th>\n",
       "      <th>INDICATORS</th>\n",
       "      <th>Value</th>\n",
       "      <th>Aux</th>\n",
       "      <th>Date</th>\n",
       "    </tr>\n",
       "  </thead>\n",
       "  <tbody>\n",
       "    <tr>\n",
       "      <th>209426</th>\n",
       "      <td>Dec. 2018</td>\n",
       "      <td>Latvia</td>\n",
       "      <td>ES</td>\n",
       "      <td>Fresh navel oranges(2017-2500)</td>\n",
       "      <td>EXPORT</td>\n",
       "      <td>VALUE_IN_EUROS</td>\n",
       "      <td>0.0</td>\n",
       "      <td>Dec. 2018</td>\n",
       "      <td>2018-12-01</td>\n",
       "    </tr>\n",
       "    <tr>\n",
       "      <th>146454</th>\n",
       "      <td>Jan. 2019</td>\n",
       "      <td>Germany (incl. German Democratic Republic 'DD'...</td>\n",
       "      <td>ES</td>\n",
       "      <td>Fresh or chilled chanterelles(2002-2500)</td>\n",
       "      <td>EXPORT</td>\n",
       "      <td>VALUE_IN_EUROS</td>\n",
       "      <td>0.0</td>\n",
       "      <td>Jan. 2019</td>\n",
       "      <td>2019-01-01</td>\n",
       "    </tr>\n",
       "    <tr>\n",
       "      <th>48360</th>\n",
       "      <td>Feb. 2019</td>\n",
       "      <td>Croatia</td>\n",
       "      <td>ES</td>\n",
       "      <td>Fresh pears (excl. perry pears in bulk from 1 ...</td>\n",
       "      <td>IMPORT</td>\n",
       "      <td>VALUE_IN_EUROS</td>\n",
       "      <td>0.0</td>\n",
       "      <td>Feb. 2019</td>\n",
       "      <td>2019-02-01</td>\n",
       "    </tr>\n",
       "    <tr>\n",
       "      <th>167029</th>\n",
       "      <td>Jul. 2018</td>\n",
       "      <td>Greece</td>\n",
       "      <td>ES</td>\n",
       "      <td>Shallots, fresh or chilled(1988-2500)</td>\n",
       "      <td>IMPORT</td>\n",
       "      <td>QUANTITY_IN_100KG</td>\n",
       "      <td>0.0</td>\n",
       "      <td>Jul. 2018</td>\n",
       "      <td>2018-07-01</td>\n",
       "    </tr>\n",
       "    <tr>\n",
       "      <th>258933</th>\n",
       "      <td>Feb. 2019</td>\n",
       "      <td>Netherlands</td>\n",
       "      <td>ES</td>\n",
       "      <td>Dried pawpaws(1988-2500)</td>\n",
       "      <td>IMPORT</td>\n",
       "      <td>QUANTITY_IN_100KG</td>\n",
       "      <td>0.0</td>\n",
       "      <td>Feb. 2019</td>\n",
       "      <td>2019-02-01</td>\n",
       "    </tr>\n",
       "    <tr>\n",
       "      <th>225024</th>\n",
       "      <td>Oct. 2019</td>\n",
       "      <td>Lithuania</td>\n",
       "      <td>ES</td>\n",
       "      <td>Fresh or chilled globe artichokes(2012-2500)</td>\n",
       "      <td>IMPORT</td>\n",
       "      <td>VALUE_IN_EUROS</td>\n",
       "      <td>0.0</td>\n",
       "      <td>Oct. 2019</td>\n",
       "      <td>2019-10-01</td>\n",
       "    </tr>\n",
       "    <tr>\n",
       "      <th>138522</th>\n",
       "      <td>May. 2020</td>\n",
       "      <td>France (incl. Saint Barthélemy 'BL' -&gt; 2012| i...</td>\n",
       "      <td>ES</td>\n",
       "      <td>Fresh peaches (excl. nectarines)(1998-2500)|Pe...</td>\n",
       "      <td>EXPORT</td>\n",
       "      <td>VALUE_IN_EUROS</td>\n",
       "      <td>241018.0</td>\n",
       "      <td>May. 2020</td>\n",
       "      <td>2020-05-01</td>\n",
       "    </tr>\n",
       "    <tr>\n",
       "      <th>132283</th>\n",
       "      <td>Jan. 2020</td>\n",
       "      <td>France (incl. Saint Barthélemy 'BL' -&gt; 2012| i...</td>\n",
       "      <td>ES</td>\n",
       "      <td>Fresh nectarines(1998-2500)|Nectarines, fresh(...</td>\n",
       "      <td>EXPORT</td>\n",
       "      <td>QUANTITY_IN_100KG</td>\n",
       "      <td>0.0</td>\n",
       "      <td>Jan. 2020</td>\n",
       "      <td>2020-01-01</td>\n",
       "    </tr>\n",
       "    <tr>\n",
       "      <th>286131</th>\n",
       "      <td>Sep. 2020</td>\n",
       "      <td>Portugal</td>\n",
       "      <td>ES</td>\n",
       "      <td>Fresh durians(2002-2500)</td>\n",
       "      <td>EXPORT</td>\n",
       "      <td>QUANTITY_IN_100KG</td>\n",
       "      <td>0.0</td>\n",
       "      <td>Sep. 2020</td>\n",
       "      <td>2020-09-01</td>\n",
       "    </tr>\n",
       "    <tr>\n",
       "      <th>114871</th>\n",
       "      <td>Sep. 2018</td>\n",
       "      <td>European Union - 27 countries (AT, BE, BG, CY,...</td>\n",
       "      <td>ES</td>\n",
       "      <td>Onions, fresh or chilled (excl. sets)(1988-2500)</td>\n",
       "      <td>EXPORT</td>\n",
       "      <td>QUANTITY_IN_100KG</td>\n",
       "      <td>32381.0</td>\n",
       "      <td>Sep. 2018</td>\n",
       "      <td>2018-09-01</td>\n",
       "    </tr>\n",
       "  </tbody>\n",
       "</table>\n",
       "</div>"
      ],
      "text/plain": [
       "           PERIOD                                           REPORTER PARTNER  \\\n",
       "209426  Dec. 2018                                             Latvia      ES   \n",
       "146454  Jan. 2019  Germany (incl. German Democratic Republic 'DD'...      ES   \n",
       "48360   Feb. 2019                                            Croatia      ES   \n",
       "167029  Jul. 2018                                             Greece      ES   \n",
       "258933  Feb. 2019                                        Netherlands      ES   \n",
       "225024  Oct. 2019                                          Lithuania      ES   \n",
       "138522  May. 2020  France (incl. Saint Barthélemy 'BL' -> 2012| i...      ES   \n",
       "132283  Jan. 2020  France (incl. Saint Barthélemy 'BL' -> 2012| i...      ES   \n",
       "286131  Sep. 2020                                           Portugal      ES   \n",
       "114871  Sep. 2018  European Union - 27 countries (AT, BE, BG, CY,...      ES   \n",
       "\n",
       "                                                  PRODUCT    FLOW  \\\n",
       "209426                     Fresh navel oranges(2017-2500)  EXPORT   \n",
       "146454           Fresh or chilled chanterelles(2002-2500)  EXPORT   \n",
       "48360   Fresh pears (excl. perry pears in bulk from 1 ...  IMPORT   \n",
       "167029              Shallots, fresh or chilled(1988-2500)  IMPORT   \n",
       "258933                           Dried pawpaws(1988-2500)  IMPORT   \n",
       "225024       Fresh or chilled globe artichokes(2012-2500)  IMPORT   \n",
       "138522  Fresh peaches (excl. nectarines)(1998-2500)|Pe...  EXPORT   \n",
       "132283  Fresh nectarines(1998-2500)|Nectarines, fresh(...  EXPORT   \n",
       "286131                           Fresh durians(2002-2500)  EXPORT   \n",
       "114871   Onions, fresh or chilled (excl. sets)(1988-2500)  EXPORT   \n",
       "\n",
       "               INDICATORS     Value        Aux       Date  \n",
       "209426     VALUE_IN_EUROS       0.0  Dec. 2018 2018-12-01  \n",
       "146454     VALUE_IN_EUROS       0.0  Jan. 2019 2019-01-01  \n",
       "48360      VALUE_IN_EUROS       0.0  Feb. 2019 2019-02-01  \n",
       "167029  QUANTITY_IN_100KG       0.0  Jul. 2018 2018-07-01  \n",
       "258933  QUANTITY_IN_100KG       0.0  Feb. 2019 2019-02-01  \n",
       "225024     VALUE_IN_EUROS       0.0  Oct. 2019 2019-10-01  \n",
       "138522     VALUE_IN_EUROS  241018.0  May. 2020 2020-05-01  \n",
       "132283  QUANTITY_IN_100KG       0.0  Jan. 2020 2020-01-01  \n",
       "286131  QUANTITY_IN_100KG       0.0  Sep. 2020 2020-09-01  \n",
       "114871  QUANTITY_IN_100KG   32381.0  Sep. 2018 2018-09-01  "
      ]
     },
     "execution_count": 19,
     "metadata": {},
     "output_type": "execute_result"
    }
   ],
   "source": [
    "df4Completo.sample(10)"
   ]
  },
  {
   "cell_type": "code",
   "execution_count": 20,
   "metadata": {},
   "outputs": [
    {
     "data": {
      "text/plain": [
       "count                                                360976\n",
       "unique                                                   87\n",
       "top       Fresh or chilled new potatoes from 1 January t...\n",
       "freq                                                   4368\n",
       "Name: PRODUCT, dtype: object"
      ]
     },
     "execution_count": 20,
     "metadata": {},
     "output_type": "execute_result"
    }
   ],
   "source": [
    "df4['PRODUCT'].describe()"
   ]
  },
  {
   "cell_type": "markdown",
   "metadata": {},
   "source": [
    "# DATAFRAME 3"
   ]
  },
  {
   "cell_type": "markdown",
   "metadata": {},
   "source": [
    "# ----------------------------------------------------------------------------------------------------------------------------------------------------------------------------------"
   ]
  },
  {
   "cell_type": "code",
   "execution_count": 3,
   "metadata": {},
   "outputs": [
    {
     "data": {
      "text/html": [
       "<div>\n",
       "<style scoped>\n",
       "    .dataframe tbody tr th:only-of-type {\n",
       "        vertical-align: middle;\n",
       "    }\n",
       "\n",
       "    .dataframe tbody tr th {\n",
       "        vertical-align: top;\n",
       "    }\n",
       "\n",
       "    .dataframe thead th {\n",
       "        text-align: right;\n",
       "    }\n",
       "</style>\n",
       "<table border=\"1\" class=\"dataframe\">\n",
       "  <thead>\n",
       "    <tr style=\"text-align: right;\">\n",
       "      <th></th>\n",
       "      <th>product</th>\n",
       "      <th>origen</th>\n",
       "      <th>Unidad</th>\n",
       "      <th>familia</th>\n",
       "      <th>YEAR</th>\n",
       "      <th>MONTH</th>\n",
       "      <th>price_mean</th>\n",
       "      <th>Volumen</th>\n",
       "    </tr>\n",
       "  </thead>\n",
       "  <tbody>\n",
       "    <tr>\n",
       "      <th>10502</th>\n",
       "      <td>ESCAROLA</td>\n",
       "      <td>BARCELONA</td>\n",
       "      <td>kg</td>\n",
       "      <td>HORTALIZAS HOJA</td>\n",
       "      <td>2020</td>\n",
       "      <td>10</td>\n",
       "      <td>0.750000</td>\n",
       "      <td>43557</td>\n",
       "    </tr>\n",
       "    <tr>\n",
       "      <th>797</th>\n",
       "      <td>AJOS SECOS</td>\n",
       "      <td>ALICANTE</td>\n",
       "      <td>kg</td>\n",
       "      <td>HORTALIZAS BULBOS</td>\n",
       "      <td>2018</td>\n",
       "      <td>1</td>\n",
       "      <td>1.775000</td>\n",
       "      <td>3270</td>\n",
       "    </tr>\n",
       "    <tr>\n",
       "      <th>20719</th>\n",
       "      <td>JUDÃA BOBI</td>\n",
       "      <td>SEGOVIA</td>\n",
       "      <td>kg</td>\n",
       "      <td>HORTALIZAS VAINA</td>\n",
       "      <td>2018</td>\n",
       "      <td>9</td>\n",
       "      <td>2.300000</td>\n",
       "      <td>2600</td>\n",
       "    </tr>\n",
       "    <tr>\n",
       "      <th>22483</th>\n",
       "      <td>LECHUGA SIN DETERMINAR</td>\n",
       "      <td>ALICANTE</td>\n",
       "      <td>kg</td>\n",
       "      <td>HORTALIZAS HOJA</td>\n",
       "      <td>2018</td>\n",
       "      <td>2</td>\n",
       "      <td>0.600000</td>\n",
       "      <td>36972</td>\n",
       "    </tr>\n",
       "    <tr>\n",
       "      <th>22519</th>\n",
       "      <td>LECHUGA SIN DETERMINAR</td>\n",
       "      <td>ALMERIA</td>\n",
       "      <td>kg</td>\n",
       "      <td>HORTALIZAS HOJA</td>\n",
       "      <td>2018</td>\n",
       "      <td>3</td>\n",
       "      <td>0.600000</td>\n",
       "      <td>204224</td>\n",
       "    </tr>\n",
       "    <tr>\n",
       "      <th>5203</th>\n",
       "      <td>CALÃOTS</td>\n",
       "      <td>BARCELONA</td>\n",
       "      <td>kg</td>\n",
       "      <td>HORTALIZAS BULBOS</td>\n",
       "      <td>2020</td>\n",
       "      <td>5</td>\n",
       "      <td>0.076667</td>\n",
       "      <td>7125</td>\n",
       "    </tr>\n",
       "    <tr>\n",
       "      <th>14935</th>\n",
       "      <td>FRUTAS GROSELLA</td>\n",
       "      <td>ITALIA</td>\n",
       "      <td>kg</td>\n",
       "      <td>FRUTAS OTRAS</td>\n",
       "      <td>2019</td>\n",
       "      <td>9</td>\n",
       "      <td>11.000000</td>\n",
       "      <td>676</td>\n",
       "    </tr>\n",
       "    <tr>\n",
       "      <th>3317</th>\n",
       "      <td>BERENJENA LARGA</td>\n",
       "      <td>VALLADOLID</td>\n",
       "      <td>kg</td>\n",
       "      <td>HORTALIZAS FRUTO</td>\n",
       "      <td>2020</td>\n",
       "      <td>9</td>\n",
       "      <td>1.200000</td>\n",
       "      <td>8769</td>\n",
       "    </tr>\n",
       "    <tr>\n",
       "      <th>39467</th>\n",
       "      <td>VARIOS</td>\n",
       "      <td>ALMERIA</td>\n",
       "      <td>kg</td>\n",
       "      <td>OTROS OTROS</td>\n",
       "      <td>2019</td>\n",
       "      <td>10</td>\n",
       "      <td>1.500000</td>\n",
       "      <td>67159</td>\n",
       "    </tr>\n",
       "    <tr>\n",
       "      <th>10195</th>\n",
       "      <td>ENDÃBIAS</td>\n",
       "      <td>BELGICA</td>\n",
       "      <td>kg</td>\n",
       "      <td>HORTALIZAS TALLOS</td>\n",
       "      <td>2018</td>\n",
       "      <td>12</td>\n",
       "      <td>0.850000</td>\n",
       "      <td>15005</td>\n",
       "    </tr>\n",
       "  </tbody>\n",
       "</table>\n",
       "</div>"
      ],
      "text/plain": [
       "                      product      origen Unidad            familia  YEAR  \\\n",
       "10502                ESCAROLA   BARCELONA     kg    HORTALIZAS HOJA  2020   \n",
       "797                AJOS SECOS    ALICANTE     kg  HORTALIZAS BULBOS  2018   \n",
       "20719             JUDÃA BOBI     SEGOVIA     kg   HORTALIZAS VAINA  2018   \n",
       "22483  LECHUGA SIN DETERMINAR    ALICANTE     kg    HORTALIZAS HOJA  2018   \n",
       "22519  LECHUGA SIN DETERMINAR     ALMERIA     kg    HORTALIZAS HOJA  2018   \n",
       "5203                 CALÃOTS   BARCELONA     kg  HORTALIZAS BULBOS  2020   \n",
       "14935         FRUTAS GROSELLA      ITALIA     kg       FRUTAS OTRAS  2019   \n",
       "3317          BERENJENA LARGA  VALLADOLID     kg   HORTALIZAS FRUTO  2020   \n",
       "39467                  VARIOS     ALMERIA     kg        OTROS OTROS  2019   \n",
       "10195               ENDÃBIAS     BELGICA     kg  HORTALIZAS TALLOS  2018   \n",
       "\n",
       "       MONTH  price_mean  Volumen  \n",
       "10502     10    0.750000    43557  \n",
       "797        1    1.775000     3270  \n",
       "20719      9    2.300000     2600  \n",
       "22483      2    0.600000    36972  \n",
       "22519      3    0.600000   204224  \n",
       "5203       5    0.076667     7125  \n",
       "14935      9   11.000000      676  \n",
       "3317       9    1.200000     8769  \n",
       "39467     10    1.500000    67159  \n",
       "10195     12    0.850000    15005  "
      ]
     },
     "execution_count": 3,
     "metadata": {},
     "output_type": "execute_result"
    }
   ],
   "source": [
    "df3 = pd.read_csv('Dataset3b_Datos_MercaBarna.txt', delimiter='|', encoding ='utf-8', decimal=',')\n",
    "df3.dtypes\n",
    "df3.sample(10)"
   ]
  },
  {
   "cell_type": "code",
   "execution_count": 4,
   "metadata": {},
   "outputs": [
    {
     "name": "stdout",
     "output_type": "stream",
     "text": [
      "There are 41862 rows and 8 columns\n"
     ]
    }
   ],
   "source": [
    "nRow, nCol = df3.shape\n",
    "print(f'There are {nRow} rows and {nCol} columns')"
   ]
  },
  {
   "cell_type": "code",
   "execution_count": 23,
   "metadata": {},
   "outputs": [
    {
     "name": "stdout",
     "output_type": "stream",
     "text": [
      "<class 'pandas.core.frame.DataFrame'>\n",
      "RangeIndex: 41862 entries, 0 to 41861\n",
      "Data columns (total 8 columns):\n",
      " #   Column      Non-Null Count  Dtype  \n",
      "---  ------      --------------  -----  \n",
      " 0   product     41862 non-null  object \n",
      " 1   origen      41862 non-null  object \n",
      " 2   Unidad      41862 non-null  object \n",
      " 3   familia     41862 non-null  object \n",
      " 4   YEAR        41862 non-null  int64  \n",
      " 5   MONTH       41862 non-null  int64  \n",
      " 6   price_mean  41862 non-null  float64\n",
      " 7   Volumen     41862 non-null  int64  \n",
      "dtypes: float64(1), int64(3), object(4)\n",
      "memory usage: 2.6+ MB\n"
     ]
    }
   ],
   "source": [
    "df3.info()"
   ]
  },
  {
   "cell_type": "code",
   "execution_count": 9,
   "metadata": {},
   "outputs": [
    {
     "data": {
      "text/html": [
       "<div>\n",
       "<style scoped>\n",
       "    .dataframe tbody tr th:only-of-type {\n",
       "        vertical-align: middle;\n",
       "    }\n",
       "\n",
       "    .dataframe tbody tr th {\n",
       "        vertical-align: top;\n",
       "    }\n",
       "\n",
       "    .dataframe thead th {\n",
       "        text-align: right;\n",
       "    }\n",
       "</style>\n",
       "<table border=\"1\" class=\"dataframe\">\n",
       "  <thead>\n",
       "    <tr style=\"text-align: right;\">\n",
       "      <th></th>\n",
       "      <th>product</th>\n",
       "      <th>origen</th>\n",
       "      <th>Unidad</th>\n",
       "      <th>familia</th>\n",
       "      <th>YEAR</th>\n",
       "      <th>MONTH</th>\n",
       "      <th>price_mean</th>\n",
       "      <th>Volumen</th>\n",
       "      <th>Internacionales</th>\n",
       "    </tr>\n",
       "  </thead>\n",
       "  <tbody>\n",
       "    <tr>\n",
       "      <th>34501</th>\n",
       "      <td>PIMIENTO VERDE ITALIANO</td>\n",
       "      <td>GRANADA</td>\n",
       "      <td>kg</td>\n",
       "      <td>HORTALIZAS FRUTO</td>\n",
       "      <td>2020</td>\n",
       "      <td>6</td>\n",
       "      <td>0.963158</td>\n",
       "      <td>66173</td>\n",
       "      <td>no</td>\n",
       "    </tr>\n",
       "    <tr>\n",
       "      <th>36618</th>\n",
       "      <td>SECO ALMENDRAS</td>\n",
       "      <td>GERONA</td>\n",
       "      <td>kg</td>\n",
       "      <td>FRUTAS FRUTO</td>\n",
       "      <td>2018</td>\n",
       "      <td>11</td>\n",
       "      <td>3.800000</td>\n",
       "      <td>2</td>\n",
       "      <td>no</td>\n",
       "    </tr>\n",
       "    <tr>\n",
       "      <th>1028</th>\n",
       "      <td>AJOS SECOS</td>\n",
       "      <td>GERONA</td>\n",
       "      <td>kg</td>\n",
       "      <td>HORTALIZAS BULBOS</td>\n",
       "      <td>2019</td>\n",
       "      <td>5</td>\n",
       "      <td>1.880952</td>\n",
       "      <td>24125</td>\n",
       "      <td>no</td>\n",
       "    </tr>\n",
       "    <tr>\n",
       "      <th>29682</th>\n",
       "      <td>NÃSCALOS</td>\n",
       "      <td>HUESCA</td>\n",
       "      <td>kg</td>\n",
       "      <td>OTROS SETAS</td>\n",
       "      <td>2019</td>\n",
       "      <td>11</td>\n",
       "      <td>6.875000</td>\n",
       "      <td>1190</td>\n",
       "      <td>no</td>\n",
       "    </tr>\n",
       "    <tr>\n",
       "      <th>8771</th>\n",
       "      <td>COLES</td>\n",
       "      <td>CATELLON</td>\n",
       "      <td>kg</td>\n",
       "      <td>HORTALIZAS HOJA</td>\n",
       "      <td>2018</td>\n",
       "      <td>12</td>\n",
       "      <td>0.670588</td>\n",
       "      <td>46990</td>\n",
       "      <td>no</td>\n",
       "    </tr>\n",
       "    <tr>\n",
       "      <th>33951</th>\n",
       "      <td>PIMIENTO ROJO</td>\n",
       "      <td>FRANCIA</td>\n",
       "      <td>kg</td>\n",
       "      <td>HORTALIZAS FRUTO</td>\n",
       "      <td>2018</td>\n",
       "      <td>5</td>\n",
       "      <td>1.050000</td>\n",
       "      <td>8</td>\n",
       "      <td>si</td>\n",
       "    </tr>\n",
       "    <tr>\n",
       "      <th>7303</th>\n",
       "      <td>CHAMPIÃONES</td>\n",
       "      <td>ALBACETE</td>\n",
       "      <td>kg</td>\n",
       "      <td>OTROS SETAS</td>\n",
       "      <td>2020</td>\n",
       "      <td>3</td>\n",
       "      <td>1.650000</td>\n",
       "      <td>85312</td>\n",
       "      <td>no</td>\n",
       "    </tr>\n",
       "    <tr>\n",
       "      <th>18207</th>\n",
       "      <td>FRUTAS SANDÃA CON GRANA</td>\n",
       "      <td>BRASIL</td>\n",
       "      <td>kg</td>\n",
       "      <td>FRUTAS OTRAS</td>\n",
       "      <td>2020</td>\n",
       "      <td>8</td>\n",
       "      <td>0.487500</td>\n",
       "      <td>651565</td>\n",
       "      <td>si</td>\n",
       "    </tr>\n",
       "    <tr>\n",
       "      <th>10987</th>\n",
       "      <td>ESPINACAS</td>\n",
       "      <td>SEVILLA</td>\n",
       "      <td>kg</td>\n",
       "      <td>HORTALIZAS HOJA</td>\n",
       "      <td>2020</td>\n",
       "      <td>2</td>\n",
       "      <td>0.700000</td>\n",
       "      <td>3810</td>\n",
       "      <td>no</td>\n",
       "    </tr>\n",
       "    <tr>\n",
       "      <th>32654</th>\n",
       "      <td>PERA DE VERANO</td>\n",
       "      <td>HUESCA</td>\n",
       "      <td>kg</td>\n",
       "      <td>FRUTAS SEMILLA</td>\n",
       "      <td>2019</td>\n",
       "      <td>8</td>\n",
       "      <td>1.300000</td>\n",
       "      <td>82548</td>\n",
       "      <td>no</td>\n",
       "    </tr>\n",
       "    <tr>\n",
       "      <th>39824</th>\n",
       "      <td>VARIOS</td>\n",
       "      <td>GRANADA</td>\n",
       "      <td>kg</td>\n",
       "      <td>OTROS OTROS</td>\n",
       "      <td>2020</td>\n",
       "      <td>5</td>\n",
       "      <td>1.500000</td>\n",
       "      <td>403</td>\n",
       "      <td>no</td>\n",
       "    </tr>\n",
       "    <tr>\n",
       "      <th>28090</th>\n",
       "      <td>MEMBRILLO</td>\n",
       "      <td>BADAJOZ</td>\n",
       "      <td>kg</td>\n",
       "      <td>FRUTAS SEMILLA</td>\n",
       "      <td>2019</td>\n",
       "      <td>9</td>\n",
       "      <td>0.850000</td>\n",
       "      <td>13109</td>\n",
       "      <td>no</td>\n",
       "    </tr>\n",
       "    <tr>\n",
       "      <th>5468</th>\n",
       "      <td>CARACOLES</td>\n",
       "      <td>LERIDA</td>\n",
       "      <td>kg</td>\n",
       "      <td>OTROS OTROS</td>\n",
       "      <td>2020</td>\n",
       "      <td>4</td>\n",
       "      <td>6.000000</td>\n",
       "      <td>10</td>\n",
       "      <td>no</td>\n",
       "    </tr>\n",
       "    <tr>\n",
       "      <th>3112</th>\n",
       "      <td>BERENJENA LARGA</td>\n",
       "      <td>LERIDA</td>\n",
       "      <td>kg</td>\n",
       "      <td>HORTALIZAS FRUTO</td>\n",
       "      <td>2018</td>\n",
       "      <td>8</td>\n",
       "      <td>0.580000</td>\n",
       "      <td>1796</td>\n",
       "      <td>no</td>\n",
       "    </tr>\n",
       "    <tr>\n",
       "      <th>37436</th>\n",
       "      <td>SETAS SIN DETERMINAR</td>\n",
       "      <td>LERIDA</td>\n",
       "      <td>kg</td>\n",
       "      <td>OTROS SETAS</td>\n",
       "      <td>2018</td>\n",
       "      <td>2</td>\n",
       "      <td>10.000000</td>\n",
       "      <td>846</td>\n",
       "      <td>no</td>\n",
       "    </tr>\n",
       "  </tbody>\n",
       "</table>\n",
       "</div>"
      ],
      "text/plain": [
       "                        product    origen Unidad            familia  YEAR  \\\n",
       "34501   PIMIENTO VERDE ITALIANO   GRANADA     kg   HORTALIZAS FRUTO  2020   \n",
       "36618            SECO ALMENDRAS    GERONA     kg       FRUTAS FRUTO  2018   \n",
       "1028                 AJOS SECOS    GERONA     kg  HORTALIZAS BULBOS  2019   \n",
       "29682                 NÃSCALOS    HUESCA     kg        OTROS SETAS  2019   \n",
       "8771                      COLES  CATELLON     kg    HORTALIZAS HOJA  2018   \n",
       "33951             PIMIENTO ROJO   FRANCIA     kg   HORTALIZAS FRUTO  2018   \n",
       "7303               CHAMPIÃONES  ALBACETE     kg        OTROS SETAS  2020   \n",
       "18207  FRUTAS SANDÃA CON GRANA    BRASIL     kg       FRUTAS OTRAS  2020   \n",
       "10987                 ESPINACAS   SEVILLA     kg    HORTALIZAS HOJA  2020   \n",
       "32654            PERA DE VERANO    HUESCA     kg     FRUTAS SEMILLA  2019   \n",
       "39824                    VARIOS   GRANADA     kg        OTROS OTROS  2020   \n",
       "28090                 MEMBRILLO   BADAJOZ     kg     FRUTAS SEMILLA  2019   \n",
       "5468                  CARACOLES    LERIDA     kg        OTROS OTROS  2020   \n",
       "3112            BERENJENA LARGA    LERIDA     kg   HORTALIZAS FRUTO  2018   \n",
       "37436      SETAS SIN DETERMINAR    LERIDA     kg        OTROS SETAS  2018   \n",
       "\n",
       "       MONTH  price_mean  Volumen Internacionales  \n",
       "34501      6    0.963158    66173              no  \n",
       "36618     11    3.800000        2              no  \n",
       "1028       5    1.880952    24125              no  \n",
       "29682     11    6.875000     1190              no  \n",
       "8771      12    0.670588    46990              no  \n",
       "33951      5    1.050000        8              si  \n",
       "7303       3    1.650000    85312              no  \n",
       "18207      8    0.487500   651565              si  \n",
       "10987      2    0.700000     3810              no  \n",
       "32654      8    1.300000    82548              no  \n",
       "39824      5    1.500000      403              no  \n",
       "28090      9    0.850000    13109              no  \n",
       "5468       4    6.000000       10              no  \n",
       "3112       8    0.580000     1796              no  \n",
       "37436      2   10.000000      846              no  "
      ]
     },
     "execution_count": 9,
     "metadata": {},
     "output_type": "execute_result"
    }
   ],
   "source": [
    "df3['origen'].unique()\n",
    "internacionales= ['FRANCIA','ITALIA', 'ALEMANIA','CHILE', 'CHINA', 'ECUADOR', 'MARRUECOS', 'OTROS AMERICA', 'USA',  \n",
    "                  'BRASIL', 'CANADA', 'COLOMBIA', 'COSTA MARFIL', 'GRAN BRETAÑA', 'HOLANDA', 'KENIA', 'MEJICO', \n",
    "                  'OCEANIA', 'OTROS AFRICA', 'PORTUGAL', 'SUDAFRICA', 'SUIZA', 'ARGENTINA',\n",
    "                  'LUXEMBURGO', 'TURQUIA', 'BELGICA', 'COSTA RICA', 'DINAMARCA', 'TUNEZ', 'ISRAEL',\n",
    "                  'TAILANDIA', 'NUEVA ZELANDA', 'OTROS ASIA', 'ANDORRA', 'GRECIA','IRLANDA', \n",
    "                  'URUGUAY', 'OTROS EUROPA',\n",
    "                 'AUSTRIA', 'CUBA', 'SUECIA', 'CAMERUN', 'ISLANDIA','COREA']\n",
    "def intern(x):\n",
    "    for i in internacionales :\n",
    "        if x == i:\n",
    "            return 'si'\n",
    "    return 'no'\n",
    "\n",
    "df3['Internacionales'] = df3['origen'].map(intern) \n",
    "df3.sample(15)"
   ]
  },
  {
   "cell_type": "code",
   "execution_count": 10,
   "metadata": {},
   "outputs": [
    {
     "data": {
      "text/plain": [
       "Internacionales\n",
       "no    1.711941\n",
       "si    1.834479\n",
       "Name: price_mean, dtype: float64"
      ]
     },
     "execution_count": 10,
     "metadata": {},
     "output_type": "execute_result"
    }
   ],
   "source": [
    "groupIntern = df3.groupby(['Internacionales'])\n",
    "groupIntern['price_mean'].mean()"
   ]
  },
  {
   "cell_type": "code",
   "execution_count": 11,
   "metadata": {},
   "outputs": [
    {
     "data": {
      "text/plain": [
       "Internacionales\n",
       "no     74793.865432\n",
       "si    101582.466316\n",
       "Name: Volumen, dtype: float64"
      ]
     },
     "execution_count": 11,
     "metadata": {},
     "output_type": "execute_result"
    }
   ],
   "source": [
    "groupIntern['Volumen'].mean()"
   ]
  },
  {
   "cell_type": "code",
   "execution_count": 12,
   "metadata": {},
   "outputs": [
    {
     "data": {
      "text/plain": [
       "<AxesSubplot:xlabel='Internacionales'>"
      ]
     },
     "execution_count": 12,
     "metadata": {},
     "output_type": "execute_result"
    },
    {
     "data": {
      "image/png": "[encoded data removed]",
      "text/plain": [
       "<Figure size 432x288 with 1 Axes>"
      ]
     },
     "metadata": {
      "needs_background": "light"
     },
     "output_type": "display_data"
    }
   ],
   "source": [
    "groupIntern.mean()[\"Volumen\"].plot(kind='bar')"
   ]
  },
  {
   "cell_type": "code",
   "execution_count": 13,
   "metadata": {},
   "outputs": [
    {
     "data": {
      "text/plain": [
       "<AxesSubplot:xlabel='Internacionales'>"
      ]
     },
     "execution_count": 13,
     "metadata": {},
     "output_type": "execute_result"
    },
    {
     "data": {
      "image/png": "[encoded data removed]",
      "text/plain": [
       "<Figure size 432x288 with 1 Axes>"
      ]
     },
     "metadata": {
      "needs_background": "light"
     },
     "output_type": "display_data"
    }
   ],
   "source": [
    "groupIntern.mean()[\"price_mean\"].plot(kind='bar')"
   ]
  },
  {
   "cell_type": "markdown",
   "metadata": {},
   "source": [
    "# ----------------------------------------------------------------------------------------"
   ]
  },
  {
   "cell_type": "code",
   "execution_count": 29,
   "metadata": {},
   "outputs": [
    {
     "data": {
      "text/html": [
       "<div>\n",
       "<style scoped>\n",
       "    .dataframe tbody tr th:only-of-type {\n",
       "        vertical-align: middle;\n",
       "    }\n",
       "\n",
       "    .dataframe tbody tr th {\n",
       "        vertical-align: top;\n",
       "    }\n",
       "\n",
       "    .dataframe thead th {\n",
       "        text-align: right;\n",
       "    }\n",
       "</style>\n",
       "<table border=\"1\" class=\"dataframe\">\n",
       "  <thead>\n",
       "    <tr style=\"text-align: right;\">\n",
       "      <th></th>\n",
       "      <th>product</th>\n",
       "      <th>origen</th>\n",
       "      <th>Unidad</th>\n",
       "      <th>familia</th>\n",
       "      <th>YEAR</th>\n",
       "      <th>MONTH</th>\n",
       "      <th>price_mean</th>\n",
       "      <th>Volumen</th>\n",
       "      <th>Internacionales</th>\n",
       "      <th>Fecha</th>\n",
       "    </tr>\n",
       "  </thead>\n",
       "  <tbody>\n",
       "    <tr>\n",
       "      <th>0</th>\n",
       "      <td>ACEITUNAS</td>\n",
       "      <td>BARCELONA</td>\n",
       "      <td>kg</td>\n",
       "      <td>FRUTAS HUESO</td>\n",
       "      <td>2018</td>\n",
       "      <td>4</td>\n",
       "      <td>3.8000</td>\n",
       "      <td>12</td>\n",
       "      <td>no</td>\n",
       "      <td>4/2018</td>\n",
       "    </tr>\n",
       "    <tr>\n",
       "      <th>1</th>\n",
       "      <td>ACEITUNAS</td>\n",
       "      <td>BARCELONA</td>\n",
       "      <td>kg</td>\n",
       "      <td>FRUTAS HUESO</td>\n",
       "      <td>2018</td>\n",
       "      <td>5</td>\n",
       "      <td>3.8000</td>\n",
       "      <td>5</td>\n",
       "      <td>no</td>\n",
       "      <td>5/2018</td>\n",
       "    </tr>\n",
       "    <tr>\n",
       "      <th>2</th>\n",
       "      <td>ACEITUNAS</td>\n",
       "      <td>BARCELONA</td>\n",
       "      <td>kg</td>\n",
       "      <td>FRUTAS HUESO</td>\n",
       "      <td>2018</td>\n",
       "      <td>6</td>\n",
       "      <td>3.8000</td>\n",
       "      <td>10</td>\n",
       "      <td>no</td>\n",
       "      <td>6/2018</td>\n",
       "    </tr>\n",
       "    <tr>\n",
       "      <th>3</th>\n",
       "      <td>ACEITUNAS</td>\n",
       "      <td>BARCELONA</td>\n",
       "      <td>kg</td>\n",
       "      <td>FRUTAS HUESO</td>\n",
       "      <td>2018</td>\n",
       "      <td>7</td>\n",
       "      <td>3.8000</td>\n",
       "      <td>4</td>\n",
       "      <td>no</td>\n",
       "      <td>7/2018</td>\n",
       "    </tr>\n",
       "    <tr>\n",
       "      <th>4</th>\n",
       "      <td>ACEITUNAS</td>\n",
       "      <td>BARCELONA</td>\n",
       "      <td>kg</td>\n",
       "      <td>FRUTAS HUESO</td>\n",
       "      <td>2018</td>\n",
       "      <td>8</td>\n",
       "      <td>3.8000</td>\n",
       "      <td>12</td>\n",
       "      <td>no</td>\n",
       "      <td>8/2018</td>\n",
       "    </tr>\n",
       "    <tr>\n",
       "      <th>...</th>\n",
       "      <td>...</td>\n",
       "      <td>...</td>\n",
       "      <td>...</td>\n",
       "      <td>...</td>\n",
       "      <td>...</td>\n",
       "      <td>...</td>\n",
       "      <td>...</td>\n",
       "      <td>...</td>\n",
       "      <td>...</td>\n",
       "      <td>...</td>\n",
       "    </tr>\n",
       "    <tr>\n",
       "      <th>41857</th>\n",
       "      <td>ZANAHORIA</td>\n",
       "      <td>VALLADOLID</td>\n",
       "      <td>kg</td>\n",
       "      <td>HORTALIZAS RAÃZ</td>\n",
       "      <td>2020</td>\n",
       "      <td>11</td>\n",
       "      <td>0.4625</td>\n",
       "      <td>444376</td>\n",
       "      <td>no</td>\n",
       "      <td>11/2020</td>\n",
       "    </tr>\n",
       "    <tr>\n",
       "      <th>41858</th>\n",
       "      <td>ZANAHORIA</td>\n",
       "      <td>ZARAGOZA</td>\n",
       "      <td>kg</td>\n",
       "      <td>HORTALIZAS RAÃZ</td>\n",
       "      <td>2019</td>\n",
       "      <td>8</td>\n",
       "      <td>0.5050</td>\n",
       "      <td>374</td>\n",
       "      <td>no</td>\n",
       "      <td>8/2019</td>\n",
       "    </tr>\n",
       "    <tr>\n",
       "      <th>41859</th>\n",
       "      <td>ZANAHORIA</td>\n",
       "      <td>ZARAGOZA</td>\n",
       "      <td>kg</td>\n",
       "      <td>HORTALIZAS RAÃZ</td>\n",
       "      <td>2019</td>\n",
       "      <td>9</td>\n",
       "      <td>0.5500</td>\n",
       "      <td>122</td>\n",
       "      <td>no</td>\n",
       "      <td>9/2019</td>\n",
       "    </tr>\n",
       "    <tr>\n",
       "      <th>41860</th>\n",
       "      <td>ZANAHORIA</td>\n",
       "      <td>ZARAGOZA</td>\n",
       "      <td>kg</td>\n",
       "      <td>HORTALIZAS RAÃZ</td>\n",
       "      <td>2019</td>\n",
       "      <td>10</td>\n",
       "      <td>0.5500</td>\n",
       "      <td>127</td>\n",
       "      <td>no</td>\n",
       "      <td>10/2019</td>\n",
       "    </tr>\n",
       "    <tr>\n",
       "      <th>41861</th>\n",
       "      <td>ZANAHORIA</td>\n",
       "      <td>ZARAGOZA</td>\n",
       "      <td>kg</td>\n",
       "      <td>HORTALIZAS RAÃZ</td>\n",
       "      <td>2020</td>\n",
       "      <td>8</td>\n",
       "      <td>0.5000</td>\n",
       "      <td>120</td>\n",
       "      <td>no</td>\n",
       "      <td>8/2020</td>\n",
       "    </tr>\n",
       "  </tbody>\n",
       "</table>\n",
       "<p>41862 rows × 10 columns</p>\n",
       "</div>"
      ],
      "text/plain": [
       "         product      origen Unidad           familia  YEAR  MONTH  \\\n",
       "0      ACEITUNAS   BARCELONA     kg      FRUTAS HUESO  2018      4   \n",
       "1      ACEITUNAS   BARCELONA     kg      FRUTAS HUESO  2018      5   \n",
       "2      ACEITUNAS   BARCELONA     kg      FRUTAS HUESO  2018      6   \n",
       "3      ACEITUNAS   BARCELONA     kg      FRUTAS HUESO  2018      7   \n",
       "4      ACEITUNAS   BARCELONA     kg      FRUTAS HUESO  2018      8   \n",
       "...          ...         ...    ...               ...   ...    ...   \n",
       "41857  ZANAHORIA  VALLADOLID     kg  HORTALIZAS RAÃZ  2020     11   \n",
       "41858  ZANAHORIA    ZARAGOZA     kg  HORTALIZAS RAÃZ  2019      8   \n",
       "41859  ZANAHORIA    ZARAGOZA     kg  HORTALIZAS RAÃZ  2019      9   \n",
       "41860  ZANAHORIA    ZARAGOZA     kg  HORTALIZAS RAÃZ  2019     10   \n",
       "41861  ZANAHORIA    ZARAGOZA     kg  HORTALIZAS RAÃZ  2020      8   \n",
       "\n",
       "       price_mean  Volumen Internacionales    Fecha  \n",
       "0          3.8000       12              no   4/2018  \n",
       "1          3.8000        5              no   5/2018  \n",
       "2          3.8000       10              no   6/2018  \n",
       "3          3.8000        4              no   7/2018  \n",
       "4          3.8000       12              no   8/2018  \n",
       "...           ...      ...             ...      ...  \n",
       "41857      0.4625   444376              no  11/2020  \n",
       "41858      0.5050      374              no   8/2019  \n",
       "41859      0.5500      122              no   9/2019  \n",
       "41860      0.5500      127              no  10/2019  \n",
       "41861      0.5000      120              no   8/2020  \n",
       "\n",
       "[41862 rows x 10 columns]"
      ]
     },
     "execution_count": 29,
     "metadata": {},
     "output_type": "execute_result"
    }
   ],
   "source": [
    "df3['Fecha'] = (df3['MONTH'].astype(str) + \"/\" + df3['YEAR'].astype(str))\n",
    "df3"
   ]
  },
  {
   "cell_type": "code",
   "execution_count": 30,
   "metadata": {},
   "outputs": [
    {
     "data": {
      "text/html": [
       "<div>\n",
       "<style scoped>\n",
       "    .dataframe tbody tr th:only-of-type {\n",
       "        vertical-align: middle;\n",
       "    }\n",
       "\n",
       "    .dataframe tbody tr th {\n",
       "        vertical-align: top;\n",
       "    }\n",
       "\n",
       "    .dataframe thead th {\n",
       "        text-align: right;\n",
       "    }\n",
       "</style>\n",
       "<table border=\"1\" class=\"dataframe\">\n",
       "  <thead>\n",
       "    <tr style=\"text-align: right;\">\n",
       "      <th></th>\n",
       "      <th>product</th>\n",
       "      <th>origen</th>\n",
       "      <th>Unidad</th>\n",
       "      <th>familia</th>\n",
       "      <th>YEAR</th>\n",
       "      <th>MONTH</th>\n",
       "      <th>price_mean</th>\n",
       "      <th>Volumen</th>\n",
       "      <th>Internacionales</th>\n",
       "      <th>Fecha</th>\n",
       "    </tr>\n",
       "  </thead>\n",
       "  <tbody>\n",
       "    <tr>\n",
       "      <th>24140</th>\n",
       "      <td>MANDARINA CLEMENTINA</td>\n",
       "      <td>MURCIA</td>\n",
       "      <td>kg</td>\n",
       "      <td>FRUTAS CÃTRICOS</td>\n",
       "      <td>2018</td>\n",
       "      <td>1</td>\n",
       "      <td>0.702381</td>\n",
       "      <td>901810</td>\n",
       "      <td>no</td>\n",
       "      <td>1/2018</td>\n",
       "    </tr>\n",
       "    <tr>\n",
       "      <th>7066</th>\n",
       "      <td>CEREZAS</td>\n",
       "      <td>CHILE</td>\n",
       "      <td>kg</td>\n",
       "      <td>FRUTAS HUESO</td>\n",
       "      <td>2018</td>\n",
       "      <td>1</td>\n",
       "      <td>10.615385</td>\n",
       "      <td>6338</td>\n",
       "      <td>no</td>\n",
       "      <td>1/2018</td>\n",
       "    </tr>\n",
       "  </tbody>\n",
       "</table>\n",
       "</div>"
      ],
      "text/plain": [
       "                    product  origen Unidad           familia  YEAR  MONTH  \\\n",
       "24140  MANDARINA CLEMENTINA  MURCIA     kg  FRUTAS CÃTRICOS  2018      1   \n",
       "7066                CEREZAS   CHILE     kg      FRUTAS HUESO  2018      1   \n",
       "\n",
       "       price_mean  Volumen Internacionales   Fecha  \n",
       "24140    0.702381   901810              no  1/2018  \n",
       "7066    10.615385     6338              no  1/2018  "
      ]
     },
     "execution_count": 30,
     "metadata": {},
     "output_type": "execute_result"
    }
   ],
   "source": [
    "df3= df3.sort_values(by = \"Fecha\")\n",
    "df3.head(2)"
   ]
  },
  {
   "cell_type": "code",
   "execution_count": 31,
   "metadata": {},
   "outputs": [],
   "source": [
    "df3['Fecha'] = df3['Fecha'].map(lambda x : datetime.strptime(x, '%m/%Y'))"
   ]
  },
  {
   "cell_type": "code",
   "execution_count": 32,
   "metadata": {},
   "outputs": [
    {
     "data": {
      "text/html": [
       "<div>\n",
       "<style scoped>\n",
       "    .dataframe tbody tr th:only-of-type {\n",
       "        vertical-align: middle;\n",
       "    }\n",
       "\n",
       "    .dataframe tbody tr th {\n",
       "        vertical-align: top;\n",
       "    }\n",
       "\n",
       "    .dataframe thead th {\n",
       "        text-align: right;\n",
       "    }\n",
       "</style>\n",
       "<table border=\"1\" class=\"dataframe\">\n",
       "  <thead>\n",
       "    <tr style=\"text-align: right;\">\n",
       "      <th></th>\n",
       "      <th>product</th>\n",
       "      <th>origen</th>\n",
       "      <th>Unidad</th>\n",
       "      <th>familia</th>\n",
       "      <th>YEAR</th>\n",
       "      <th>MONTH</th>\n",
       "      <th>price_mean</th>\n",
       "      <th>Volumen</th>\n",
       "      <th>Internacionales</th>\n",
       "      <th>Fecha</th>\n",
       "    </tr>\n",
       "  </thead>\n",
       "  <tbody>\n",
       "    <tr>\n",
       "      <th>24140</th>\n",
       "      <td>MANDARINA CLEMENTINA</td>\n",
       "      <td>MURCIA</td>\n",
       "      <td>kg</td>\n",
       "      <td>FRUTAS CÃTRICOS</td>\n",
       "      <td>2018</td>\n",
       "      <td>1</td>\n",
       "      <td>0.702381</td>\n",
       "      <td>901810</td>\n",
       "      <td>no</td>\n",
       "      <td>2018-01-01</td>\n",
       "    </tr>\n",
       "    <tr>\n",
       "      <th>7066</th>\n",
       "      <td>CEREZAS</td>\n",
       "      <td>CHILE</td>\n",
       "      <td>kg</td>\n",
       "      <td>FRUTAS HUESO</td>\n",
       "      <td>2018</td>\n",
       "      <td>1</td>\n",
       "      <td>10.615385</td>\n",
       "      <td>6338</td>\n",
       "      <td>no</td>\n",
       "      <td>2018-01-01</td>\n",
       "    </tr>\n",
       "  </tbody>\n",
       "</table>\n",
       "</div>"
      ],
      "text/plain": [
       "                    product  origen Unidad           familia  YEAR  MONTH  \\\n",
       "24140  MANDARINA CLEMENTINA  MURCIA     kg  FRUTAS CÃTRICOS  2018      1   \n",
       "7066                CEREZAS   CHILE     kg      FRUTAS HUESO  2018      1   \n",
       "\n",
       "       price_mean  Volumen Internacionales      Fecha  \n",
       "24140    0.702381   901810              no 2018-01-01  \n",
       "7066    10.615385     6338              no 2018-01-01  "
      ]
     },
     "execution_count": 32,
     "metadata": {},
     "output_type": "execute_result"
    }
   ],
   "source": [
    "df3.head(2)"
   ]
  },
  {
   "cell_type": "code",
   "execution_count": 33,
   "metadata": {},
   "outputs": [],
   "source": [
    "g2018= df3.loc[df3['Fecha'] <  \"2019-01-01\"]\n",
    "g2019= df3[(df3['Fecha'] > '2018-12-01') & (df3['Fecha'] < '2020-01-01')]\n",
    "g2020= df3.loc[df3['Fecha'] >  \"2019-12-01\"]"
   ]
  },
  {
   "cell_type": "code",
   "execution_count": 34,
   "metadata": {},
   "outputs": [
    {
     "data": {
      "text/html": [
       "<div>\n",
       "<style scoped>\n",
       "    .dataframe tbody tr th:only-of-type {\n",
       "        vertical-align: middle;\n",
       "    }\n",
       "\n",
       "    .dataframe tbody tr th {\n",
       "        vertical-align: top;\n",
       "    }\n",
       "\n",
       "    .dataframe thead th {\n",
       "        text-align: right;\n",
       "    }\n",
       "</style>\n",
       "<table border=\"1\" class=\"dataframe\">\n",
       "  <thead>\n",
       "    <tr style=\"text-align: right;\">\n",
       "      <th></th>\n",
       "      <th>product</th>\n",
       "      <th>origen</th>\n",
       "      <th>Unidad</th>\n",
       "      <th>familia</th>\n",
       "      <th>YEAR</th>\n",
       "      <th>MONTH</th>\n",
       "      <th>price_mean</th>\n",
       "      <th>Volumen</th>\n",
       "      <th>Internacionales</th>\n",
       "      <th>Fecha</th>\n",
       "    </tr>\n",
       "  </thead>\n",
       "  <tbody>\n",
       "    <tr>\n",
       "      <th>19192</th>\n",
       "      <td>FRUTAS UVA BLANCA</td>\n",
       "      <td>ZARAGOZA</td>\n",
       "      <td>kg</td>\n",
       "      <td>FRUTAS OTRAS</td>\n",
       "      <td>2020</td>\n",
       "      <td>10</td>\n",
       "      <td>1.6</td>\n",
       "      <td>6480</td>\n",
       "      <td>no</td>\n",
       "      <td>2020-10-01</td>\n",
       "    </tr>\n",
       "    <tr>\n",
       "      <th>24284</th>\n",
       "      <td>MANDARINA CLEMENTINA</td>\n",
       "      <td>VALENCIA</td>\n",
       "      <td>kg</td>\n",
       "      <td>FRUTAS CÃTRICOS</td>\n",
       "      <td>2020</td>\n",
       "      <td>9</td>\n",
       "      <td>1.8</td>\n",
       "      <td>400371</td>\n",
       "      <td>no</td>\n",
       "      <td>2020-09-01</td>\n",
       "    </tr>\n",
       "  </tbody>\n",
       "</table>\n",
       "</div>"
      ],
      "text/plain": [
       "                    product    origen Unidad           familia  YEAR  MONTH  \\\n",
       "19192     FRUTAS UVA BLANCA  ZARAGOZA     kg      FRUTAS OTRAS  2020     10   \n",
       "24284  MANDARINA CLEMENTINA  VALENCIA     kg  FRUTAS CÃTRICOS  2020      9   \n",
       "\n",
       "       price_mean  Volumen Internacionales      Fecha  \n",
       "19192         1.6     6480              no 2020-10-01  \n",
       "24284         1.8   400371              no 2020-09-01  "
      ]
     },
     "execution_count": 34,
     "metadata": {},
     "output_type": "execute_result"
    }
   ],
   "source": [
    "g2020.sample(2)"
   ]
  },
  {
   "cell_type": "code",
   "execution_count": 35,
   "metadata": {},
   "outputs": [
    {
     "data": {
      "text/plain": [
       "<AxesSubplot:title={'center':'2020'}, xlabel='Fecha'>"
      ]
     },
     "execution_count": 35,
     "metadata": {},
     "output_type": "execute_result"
    },
    {
     "data": {
      "image/png": "[encoded data removed]",
      "text/plain": [
       "<Figure size 720x720 with 3 Axes>"
      ]
     },
     "metadata": {
      "needs_background": "light"
     },
     "output_type": "display_data"
    }
   ],
   "source": [
    "fig = plt.figure()\n",
    "fig.set_size_inches(10,10)\n",
    "plt.subplot(3, 1, 1) # Gráfica 1 de un total de 2x2 gráficas\n",
    "plt.title('2018')\n",
    "plt.ylabel('Volumen')\n",
    "g2018.groupby(['Fecha'])['price_mean'].mean().plot()\n",
    "\n",
    "plt.subplot(3, 1, 2) # Gráfica 2 de un total de 2x2 gráficas\n",
    "plt.title('2019')\n",
    "g2019.groupby(['Fecha'])['price_mean'].sum().plot()\n",
    "\n",
    "plt.subplot(3, 1, 3) # Gráfica 3 de un total de 2x2 gráficas\n",
    "plt.title('2020')\n",
    "g2020.groupby(['Fecha'])['price_mean'].sum().plot()\n"
   ]
  },
  {
   "cell_type": "markdown",
   "metadata": {},
   "source": [
    "# DATAFRAME 5"
   ]
  },
  {
   "cell_type": "markdown",
   "metadata": {},
   "source": [
    "# ----------------------------------------------------------------------------------------------------------------------------------------------------------------------------------"
   ]
  },
  {
   "cell_type": "code",
   "execution_count": 36,
   "metadata": {},
   "outputs": [
    {
     "data": {
      "text/html": [
       "<div>\n",
       "<style scoped>\n",
       "    .dataframe tbody tr th:only-of-type {\n",
       "        vertical-align: middle;\n",
       "    }\n",
       "\n",
       "    .dataframe tbody tr th {\n",
       "        vertical-align: top;\n",
       "    }\n",
       "\n",
       "    .dataframe thead th {\n",
       "        text-align: right;\n",
       "    }\n",
       "</style>\n",
       "<table border=\"1\" class=\"dataframe\">\n",
       "  <thead>\n",
       "    <tr style=\"text-align: right;\">\n",
       "      <th></th>\n",
       "      <th>dateRep</th>\n",
       "      <th>day</th>\n",
       "      <th>month</th>\n",
       "      <th>year</th>\n",
       "      <th>cases</th>\n",
       "      <th>deaths</th>\n",
       "      <th>countriesAndTerritories</th>\n",
       "      <th>geoId</th>\n",
       "      <th>countryterritoryCode</th>\n",
       "      <th>popData2019</th>\n",
       "      <th>continentExp</th>\n",
       "      <th>Cumulative_number_for_14_days_of_COVID-19_cases_per_100000</th>\n",
       "    </tr>\n",
       "  </thead>\n",
       "  <tbody>\n",
       "    <tr>\n",
       "      <th>17634</th>\n",
       "      <td>04/03/2020</td>\n",
       "      <td>4</td>\n",
       "      <td>3</td>\n",
       "      <td>2020</td>\n",
       "      <td>1</td>\n",
       "      <td>0</td>\n",
       "      <td>Estonia</td>\n",
       "      <td>EE</td>\n",
       "      <td>EST</td>\n",
       "      <td>1.324820e+06</td>\n",
       "      <td>Europe</td>\n",
       "      <td>0.150964</td>\n",
       "    </tr>\n",
       "    <tr>\n",
       "      <th>2354</th>\n",
       "      <td>02/07/2020</td>\n",
       "      <td>2</td>\n",
       "      <td>7</td>\n",
       "      <td>2020</td>\n",
       "      <td>593</td>\n",
       "      <td>6</td>\n",
       "      <td>Armenia</td>\n",
       "      <td>AM</td>\n",
       "      <td>ARM</td>\n",
       "      <td>2.957728e+06</td>\n",
       "      <td>Europe</td>\n",
       "      <td>269.125491</td>\n",
       "    </tr>\n",
       "    <tr>\n",
       "      <th>58038</th>\n",
       "      <td>29/08/2020</td>\n",
       "      <td>29</td>\n",
       "      <td>8</td>\n",
       "      <td>2020</td>\n",
       "      <td>9</td>\n",
       "      <td>1</td>\n",
       "      <td>Yemen</td>\n",
       "      <td>YE</td>\n",
       "      <td>YEM</td>\n",
       "      <td>2.916192e+07</td>\n",
       "      <td>Asia</td>\n",
       "      <td>0.291476</td>\n",
       "    </tr>\n",
       "    <tr>\n",
       "      <th>11674</th>\n",
       "      <td>12/05/2020</td>\n",
       "      <td>12</td>\n",
       "      <td>5</td>\n",
       "      <td>2020</td>\n",
       "      <td>1</td>\n",
       "      <td>0</td>\n",
       "      <td>China</td>\n",
       "      <td>CN</td>\n",
       "      <td>CHN</td>\n",
       "      <td>1.433784e+09</td>\n",
       "      <td>Asia</td>\n",
       "      <td>0.005091</td>\n",
       "    </tr>\n",
       "    <tr>\n",
       "      <th>53807</th>\n",
       "      <td>11/10/2020</td>\n",
       "      <td>11</td>\n",
       "      <td>10</td>\n",
       "      <td>2020</td>\n",
       "      <td>3137</td>\n",
       "      <td>47</td>\n",
       "      <td>Tunisia</td>\n",
       "      <td>TN</td>\n",
       "      <td>TUN</td>\n",
       "      <td>1.169472e+07</td>\n",
       "      <td>Africa</td>\n",
       "      <td>137.506487</td>\n",
       "    </tr>\n",
       "    <tr>\n",
       "      <th>35444</th>\n",
       "      <td>16/10/2020</td>\n",
       "      <td>16</td>\n",
       "      <td>10</td>\n",
       "      <td>2020</td>\n",
       "      <td>652</td>\n",
       "      <td>16</td>\n",
       "      <td>Moldova</td>\n",
       "      <td>MD</td>\n",
       "      <td>MDA</td>\n",
       "      <td>4.043258e+06</td>\n",
       "      <td>Europe</td>\n",
       "      <td>272.354621</td>\n",
       "    </tr>\n",
       "    <tr>\n",
       "      <th>8905</th>\n",
       "      <td>01/05/2020</td>\n",
       "      <td>1</td>\n",
       "      <td>5</td>\n",
       "      <td>2020</td>\n",
       "      <td>4</td>\n",
       "      <td>0</td>\n",
       "      <td>Burkina_Faso</td>\n",
       "      <td>BF</td>\n",
       "      <td>BFA</td>\n",
       "      <td>2.032138e+07</td>\n",
       "      <td>Africa</td>\n",
       "      <td>0.501934</td>\n",
       "    </tr>\n",
       "    <tr>\n",
       "      <th>10304</th>\n",
       "      <td>27/05/2020</td>\n",
       "      <td>27</td>\n",
       "      <td>5</td>\n",
       "      <td>2020</td>\n",
       "      <td>0</td>\n",
       "      <td>1</td>\n",
       "      <td>Cape_Verde</td>\n",
       "      <td>CV</td>\n",
       "      <td>CPV</td>\n",
       "      <td>5.499360e+05</td>\n",
       "      <td>Africa</td>\n",
       "      <td>21.820721</td>\n",
       "    </tr>\n",
       "    <tr>\n",
       "      <th>11438</th>\n",
       "      <td>08/04/2020</td>\n",
       "      <td>8</td>\n",
       "      <td>4</td>\n",
       "      <td>2020</td>\n",
       "      <td>301</td>\n",
       "      <td>6</td>\n",
       "      <td>Chile</td>\n",
       "      <td>CL</td>\n",
       "      <td>CHL</td>\n",
       "      <td>1.895204e+07</td>\n",
       "      <td>America</td>\n",
       "      <td>22.129550</td>\n",
       "    </tr>\n",
       "    <tr>\n",
       "      <th>37704</th>\n",
       "      <td>04/06/2020</td>\n",
       "      <td>4</td>\n",
       "      <td>6</td>\n",
       "      <td>2020</td>\n",
       "      <td>0</td>\n",
       "      <td>0</td>\n",
       "      <td>Namibia</td>\n",
       "      <td>NaN</td>\n",
       "      <td>NAM</td>\n",
       "      <td>2.494524e+06</td>\n",
       "      <td>Africa</td>\n",
       "      <td>0.360790</td>\n",
       "    </tr>\n",
       "  </tbody>\n",
       "</table>\n",
       "</div>"
      ],
      "text/plain": [
       "          dateRep  day  month  year  cases  deaths countriesAndTerritories  \\\n",
       "17634  04/03/2020    4      3  2020      1       0                 Estonia   \n",
       "2354   02/07/2020    2      7  2020    593       6                 Armenia   \n",
       "58038  29/08/2020   29      8  2020      9       1                   Yemen   \n",
       "11674  12/05/2020   12      5  2020      1       0                   China   \n",
       "53807  11/10/2020   11     10  2020   3137      47                 Tunisia   \n",
       "35444  16/10/2020   16     10  2020    652      16                 Moldova   \n",
       "8905   01/05/2020    1      5  2020      4       0            Burkina_Faso   \n",
       "10304  27/05/2020   27      5  2020      0       1              Cape_Verde   \n",
       "11438  08/04/2020    8      4  2020    301       6                   Chile   \n",
       "37704  04/06/2020    4      6  2020      0       0                 Namibia   \n",
       "\n",
       "      geoId countryterritoryCode   popData2019 continentExp  \\\n",
       "17634    EE                  EST  1.324820e+06       Europe   \n",
       "2354     AM                  ARM  2.957728e+06       Europe   \n",
       "58038    YE                  YEM  2.916192e+07         Asia   \n",
       "11674    CN                  CHN  1.433784e+09         Asia   \n",
       "53807    TN                  TUN  1.169472e+07       Africa   \n",
       "35444    MD                  MDA  4.043258e+06       Europe   \n",
       "8905     BF                  BFA  2.032138e+07       Africa   \n",
       "10304    CV                  CPV  5.499360e+05       Africa   \n",
       "11438    CL                  CHL  1.895204e+07      America   \n",
       "37704   NaN                  NAM  2.494524e+06       Africa   \n",
       "\n",
       "       Cumulative_number_for_14_days_of_COVID-19_cases_per_100000  \n",
       "17634                                           0.150964           \n",
       "2354                                          269.125491           \n",
       "58038                                           0.291476           \n",
       "11674                                           0.005091           \n",
       "53807                                         137.506487           \n",
       "35444                                         272.354621           \n",
       "8905                                            0.501934           \n",
       "10304                                          21.820721           \n",
       "11438                                          22.129550           \n",
       "37704                                           0.360790           "
      ]
     },
     "execution_count": 36,
     "metadata": {},
     "output_type": "execute_result"
    }
   ],
   "source": [
    "df5 = pd.read_csv('Dataset5_Coronavirus_cases.txt', delimiter='|', encoding ='utf-8', decimal=',')\n",
    "df5.dtypes\n",
    "df5.sample(10)"
   ]
  },
  {
   "cell_type": "code",
   "execution_count": 37,
   "metadata": {},
   "outputs": [
    {
     "data": {
      "application/vnd.jupyter.widget-view+json": {
       "model_id": "a8f692dcccad4898ab0ec868ff6e0bdb",
       "version_major": 2,
       "version_minor": 0
      },
      "text/plain": [
       "HBox(children=(HTML(value='Summarize dataset'), FloatProgress(value=0.0, max=25.0), HTML(value='')))"
      ]
     },
     "metadata": {},
     "output_type": "display_data"
    },
    {
     "name": "stdout",
     "output_type": "stream",
     "text": [
      "\n"
     ]
    },
    {
     "ename": "KeyboardInterrupt",
     "evalue": "",
     "output_type": "error",
     "traceback": [
      "\u001b[0;31m---------------------------------------------------------------------------\u001b[0m",
      "\u001b[0;31mKeyboardInterrupt\u001b[0m                         Traceback (most recent call last)",
      "\u001b[0;32m<ipython-input-37-b71c0f009836>\u001b[0m in \u001b[0;36m<module>\u001b[0;34m\u001b[0m\n\u001b[1;32m      1\u001b[0m \u001b[0;32mfrom\u001b[0m \u001b[0mpandas_profiling\u001b[0m \u001b[0;32mimport\u001b[0m \u001b[0mProfileReport\u001b[0m\u001b[0;34m\u001b[0m\u001b[0;34m\u001b[0m\u001b[0m\n\u001b[1;32m      2\u001b[0m \u001b[0mprof\u001b[0m \u001b[0;34m=\u001b[0m \u001b[0mProfileReport\u001b[0m\u001b[0;34m(\u001b[0m\u001b[0mdf5\u001b[0m\u001b[0;34m)\u001b[0m\u001b[0;34m\u001b[0m\u001b[0;34m\u001b[0m\u001b[0m\n\u001b[0;32m----> 3\u001b[0;31m \u001b[0mprof\u001b[0m\u001b[0;34m.\u001b[0m\u001b[0mto_file\u001b[0m\u001b[0;34m(\u001b[0m\u001b[0moutput_file\u001b[0m\u001b[0;34m=\u001b[0m\u001b[0;34m'report.html'\u001b[0m\u001b[0;34m)\u001b[0m\u001b[0;34m\u001b[0m\u001b[0;34m\u001b[0m\u001b[0m\n\u001b[0m",
      "\u001b[0;32m/Library/Frameworks/Python.framework/Versions/3.8/lib/python3.8/site-packages/pandas_profiling/profile_report.py\u001b[0m in \u001b[0;36mto_file\u001b[0;34m(self, output_file, silent)\u001b[0m\n\u001b[1;32m    276\u001b[0m                 \u001b[0mcreate_html_assets\u001b[0m\u001b[0;34m(\u001b[0m\u001b[0moutput_file\u001b[0m\u001b[0;34m)\u001b[0m\u001b[0;34m\u001b[0m\u001b[0;34m\u001b[0m\u001b[0m\n\u001b[1;32m    277\u001b[0m \u001b[0;34m\u001b[0m\u001b[0m\n\u001b[0;32m--> 278\u001b[0;31m             \u001b[0mdata\u001b[0m \u001b[0;34m=\u001b[0m \u001b[0mself\u001b[0m\u001b[0;34m.\u001b[0m\u001b[0mto_html\u001b[0m\u001b[0;34m(\u001b[0m\u001b[0;34m)\u001b[0m\u001b[0;34m\u001b[0m\u001b[0;34m\u001b[0m\u001b[0m\n\u001b[0m\u001b[1;32m    279\u001b[0m \u001b[0;34m\u001b[0m\u001b[0m\n\u001b[1;32m    280\u001b[0m             \u001b[0;32mif\u001b[0m \u001b[0moutput_file\u001b[0m\u001b[0;34m.\u001b[0m\u001b[0msuffix\u001b[0m \u001b[0;34m!=\u001b[0m \u001b[0;34m\".html\"\u001b[0m\u001b[0;34m:\u001b[0m\u001b[0;34m\u001b[0m\u001b[0;34m\u001b[0m\u001b[0m\n",
      "\u001b[0;32m/Library/Frameworks/Python.framework/Versions/3.8/lib/python3.8/site-packages/pandas_profiling/profile_report.py\u001b[0m in \u001b[0;36mto_html\u001b[0;34m(self)\u001b[0m\n\u001b[1;32m    384\u001b[0m \u001b[0;34m\u001b[0m\u001b[0m\n\u001b[1;32m    385\u001b[0m         \"\"\"\n\u001b[0;32m--> 386\u001b[0;31m         \u001b[0;32mreturn\u001b[0m \u001b[0mself\u001b[0m\u001b[0;34m.\u001b[0m\u001b[0mhtml\u001b[0m\u001b[0;34m\u001b[0m\u001b[0;34m\u001b[0m\u001b[0m\n\u001b[0m\u001b[1;32m    387\u001b[0m \u001b[0;34m\u001b[0m\u001b[0m\n\u001b[1;32m    388\u001b[0m     \u001b[0;32mdef\u001b[0m \u001b[0mto_json\u001b[0m\u001b[0;34m(\u001b[0m\u001b[0mself\u001b[0m\u001b[0;34m)\u001b[0m \u001b[0;34m->\u001b[0m \u001b[0mstr\u001b[0m\u001b[0;34m:\u001b[0m\u001b[0;34m\u001b[0m\u001b[0;34m\u001b[0m\u001b[0m\n",
      "\u001b[0;32m/Library/Frameworks/Python.framework/Versions/3.8/lib/python3.8/site-packages/pandas_profiling/profile_report.py\u001b[0m in \u001b[0;36mhtml\u001b[0;34m(self)\u001b[0m\n\u001b[1;32m    199\u001b[0m     \u001b[0;32mdef\u001b[0m \u001b[0mhtml\u001b[0m\u001b[0;34m(\u001b[0m\u001b[0mself\u001b[0m\u001b[0;34m)\u001b[0m\u001b[0;34m:\u001b[0m\u001b[0;34m\u001b[0m\u001b[0;34m\u001b[0m\u001b[0m\n\u001b[1;32m    200\u001b[0m         \u001b[0;32mif\u001b[0m \u001b[0mself\u001b[0m\u001b[0;34m.\u001b[0m\u001b[0m_html\u001b[0m \u001b[0;32mis\u001b[0m \u001b[0;32mNone\u001b[0m\u001b[0;34m:\u001b[0m\u001b[0;34m\u001b[0m\u001b[0;34m\u001b[0m\u001b[0m\n\u001b[0;32m--> 201\u001b[0;31m             \u001b[0mself\u001b[0m\u001b[0;34m.\u001b[0m\u001b[0m_html\u001b[0m \u001b[0;34m=\u001b[0m \u001b[0mself\u001b[0m\u001b[0;34m.\u001b[0m\u001b[0m_render_html\u001b[0m\u001b[0;34m(\u001b[0m\u001b[0;34m)\u001b[0m\u001b[0;34m\u001b[0m\u001b[0;34m\u001b[0m\u001b[0m\n\u001b[0m\u001b[1;32m    202\u001b[0m         \u001b[0;32mreturn\u001b[0m \u001b[0mself\u001b[0m\u001b[0;34m.\u001b[0m\u001b[0m_html\u001b[0m\u001b[0;34m\u001b[0m\u001b[0;34m\u001b[0m\u001b[0m\n\u001b[1;32m    203\u001b[0m \u001b[0;34m\u001b[0m\u001b[0m\n",
      "\u001b[0;32m/Library/Frameworks/Python.framework/Versions/3.8/lib/python3.8/site-packages/pandas_profiling/profile_report.py\u001b[0m in \u001b[0;36m_render_html\u001b[0;34m(self)\u001b[0m\n\u001b[1;32m    306\u001b[0m         \u001b[0;32mfrom\u001b[0m \u001b[0mpandas_profiling\u001b[0m\u001b[0;34m.\u001b[0m\u001b[0mreport\u001b[0m\u001b[0;34m.\u001b[0m\u001b[0mpresentation\u001b[0m\u001b[0;34m.\u001b[0m\u001b[0mflavours\u001b[0m \u001b[0;32mimport\u001b[0m \u001b[0mHTMLReport\u001b[0m\u001b[0;34m\u001b[0m\u001b[0;34m\u001b[0m\u001b[0m\n\u001b[1;32m    307\u001b[0m \u001b[0;34m\u001b[0m\u001b[0m\n\u001b[0;32m--> 308\u001b[0;31m         \u001b[0mreport\u001b[0m \u001b[0;34m=\u001b[0m \u001b[0mself\u001b[0m\u001b[0;34m.\u001b[0m\u001b[0mreport\u001b[0m\u001b[0;34m\u001b[0m\u001b[0;34m\u001b[0m\u001b[0m\n\u001b[0m\u001b[1;32m    309\u001b[0m \u001b[0;34m\u001b[0m\u001b[0m\n\u001b[1;32m    310\u001b[0m         \u001b[0mdisable_progress_bar\u001b[0m \u001b[0;34m=\u001b[0m \u001b[0;32mnot\u001b[0m \u001b[0mconfig\u001b[0m\u001b[0;34m[\u001b[0m\u001b[0;34m\"progress_bar\"\u001b[0m\u001b[0;34m]\u001b[0m\u001b[0;34m.\u001b[0m\u001b[0mget\u001b[0m\u001b[0;34m(\u001b[0m\u001b[0mbool\u001b[0m\u001b[0;34m)\u001b[0m\u001b[0;34m\u001b[0m\u001b[0;34m\u001b[0m\u001b[0m\n",
      "\u001b[0;32m/Library/Frameworks/Python.framework/Versions/3.8/lib/python3.8/site-packages/pandas_profiling/profile_report.py\u001b[0m in \u001b[0;36mreport\u001b[0;34m(self)\u001b[0m\n\u001b[1;32m    193\u001b[0m     \u001b[0;32mdef\u001b[0m \u001b[0mreport\u001b[0m\u001b[0;34m(\u001b[0m\u001b[0mself\u001b[0m\u001b[0;34m)\u001b[0m\u001b[0;34m:\u001b[0m\u001b[0;34m\u001b[0m\u001b[0;34m\u001b[0m\u001b[0m\n\u001b[1;32m    194\u001b[0m         \u001b[0;32mif\u001b[0m \u001b[0mself\u001b[0m\u001b[0;34m.\u001b[0m\u001b[0m_report\u001b[0m \u001b[0;32mis\u001b[0m \u001b[0;32mNone\u001b[0m\u001b[0;34m:\u001b[0m\u001b[0;34m\u001b[0m\u001b[0;34m\u001b[0m\u001b[0m\n\u001b[0;32m--> 195\u001b[0;31m             \u001b[0mself\u001b[0m\u001b[0;34m.\u001b[0m\u001b[0m_report\u001b[0m \u001b[0;34m=\u001b[0m \u001b[0mget_report_structure\u001b[0m\u001b[0;34m(\u001b[0m\u001b[0mself\u001b[0m\u001b[0;34m.\u001b[0m\u001b[0mdescription_set\u001b[0m\u001b[0;34m)\u001b[0m\u001b[0;34m\u001b[0m\u001b[0;34m\u001b[0m\u001b[0m\n\u001b[0m\u001b[1;32m    196\u001b[0m         \u001b[0;32mreturn\u001b[0m \u001b[0mself\u001b[0m\u001b[0;34m.\u001b[0m\u001b[0m_report\u001b[0m\u001b[0;34m\u001b[0m\u001b[0;34m\u001b[0m\u001b[0m\n\u001b[1;32m    197\u001b[0m \u001b[0;34m\u001b[0m\u001b[0m\n",
      "\u001b[0;32m/Library/Frameworks/Python.framework/Versions/3.8/lib/python3.8/site-packages/pandas_profiling/profile_report.py\u001b[0m in \u001b[0;36mdescription_set\u001b[0;34m(self)\u001b[0m\n\u001b[1;32m    172\u001b[0m     \u001b[0;32mdef\u001b[0m \u001b[0mdescription_set\u001b[0m\u001b[0;34m(\u001b[0m\u001b[0mself\u001b[0m\u001b[0;34m)\u001b[0m\u001b[0;34m:\u001b[0m\u001b[0;34m\u001b[0m\u001b[0;34m\u001b[0m\u001b[0m\n\u001b[1;32m    173\u001b[0m         \u001b[0;32mif\u001b[0m \u001b[0mself\u001b[0m\u001b[0;34m.\u001b[0m\u001b[0m_description_set\u001b[0m \u001b[0;32mis\u001b[0m \u001b[0;32mNone\u001b[0m\u001b[0;34m:\u001b[0m\u001b[0;34m\u001b[0m\u001b[0;34m\u001b[0m\u001b[0m\n\u001b[0;32m--> 174\u001b[0;31m             self._description_set = describe_df(\n\u001b[0m\u001b[1;32m    175\u001b[0m                 \u001b[0mself\u001b[0m\u001b[0;34m.\u001b[0m\u001b[0mtitle\u001b[0m\u001b[0;34m,\u001b[0m \u001b[0mself\u001b[0m\u001b[0;34m.\u001b[0m\u001b[0mdf\u001b[0m\u001b[0;34m,\u001b[0m \u001b[0mself\u001b[0m\u001b[0;34m.\u001b[0m\u001b[0msummarizer\u001b[0m\u001b[0;34m,\u001b[0m \u001b[0mself\u001b[0m\u001b[0;34m.\u001b[0m\u001b[0mtypeset\u001b[0m\u001b[0;34m,\u001b[0m \u001b[0mself\u001b[0m\u001b[0;34m.\u001b[0m\u001b[0m_sample\u001b[0m\u001b[0;34m\u001b[0m\u001b[0;34m\u001b[0m\u001b[0m\n\u001b[1;32m    176\u001b[0m             )\n",
      "\u001b[0;32m/Library/Frameworks/Python.framework/Versions/3.8/lib/python3.8/site-packages/pandas_profiling/model/describe.py\u001b[0m in \u001b[0;36mdescribe\u001b[0;34m(title, df, summarizer, typeset, sample)\u001b[0m\n\u001b[1;32m     93\u001b[0m         \u001b[0;32mfor\u001b[0m \u001b[0mcorrelation_name\u001b[0m \u001b[0;32min\u001b[0m \u001b[0mcorrelation_names\u001b[0m\u001b[0;34m:\u001b[0m\u001b[0;34m\u001b[0m\u001b[0;34m\u001b[0m\u001b[0m\n\u001b[1;32m     94\u001b[0m             \u001b[0mpbar\u001b[0m\u001b[0;34m.\u001b[0m\u001b[0mset_postfix_str\u001b[0m\u001b[0;34m(\u001b[0m\u001b[0;34mf\"Calculate {correlation_name} correlation\"\u001b[0m\u001b[0;34m)\u001b[0m\u001b[0;34m\u001b[0m\u001b[0;34m\u001b[0m\u001b[0m\n\u001b[0;32m---> 95\u001b[0;31m             correlations[correlation_name] = calculate_correlation(\n\u001b[0m\u001b[1;32m     96\u001b[0m                 \u001b[0mdf\u001b[0m\u001b[0;34m,\u001b[0m \u001b[0mcorrelation_name\u001b[0m\u001b[0;34m,\u001b[0m \u001b[0mseries_description\u001b[0m\u001b[0;34m\u001b[0m\u001b[0;34m\u001b[0m\u001b[0m\n\u001b[1;32m     97\u001b[0m             )\n",
      "\u001b[0;32m/Library/Frameworks/Python.framework/Versions/3.8/lib/python3.8/site-packages/pandas_profiling/model/correlations.py\u001b[0m in \u001b[0;36mcalculate_correlation\u001b[0;34m(df, correlation_name, summary)\u001b[0m\n\u001b[1;32m    166\u001b[0m     \u001b[0mcorrelation\u001b[0m \u001b[0;34m=\u001b[0m \u001b[0;32mNone\u001b[0m\u001b[0;34m\u001b[0m\u001b[0;34m\u001b[0m\u001b[0m\n\u001b[1;32m    167\u001b[0m     \u001b[0;32mtry\u001b[0m\u001b[0;34m:\u001b[0m\u001b[0;34m\u001b[0m\u001b[0;34m\u001b[0m\u001b[0m\n\u001b[0;32m--> 168\u001b[0;31m         \u001b[0mcorrelation\u001b[0m \u001b[0;34m=\u001b[0m \u001b[0mcorrelation_measures\u001b[0m\u001b[0;34m[\u001b[0m\u001b[0mcorrelation_name\u001b[0m\u001b[0;34m]\u001b[0m\u001b[0;34m.\u001b[0m\u001b[0mcompute\u001b[0m\u001b[0;34m(\u001b[0m\u001b[0mdf\u001b[0m\u001b[0;34m,\u001b[0m \u001b[0msummary\u001b[0m\u001b[0;34m)\u001b[0m\u001b[0;34m\u001b[0m\u001b[0;34m\u001b[0m\u001b[0m\n\u001b[0m\u001b[1;32m    169\u001b[0m     \u001b[0;32mexcept\u001b[0m \u001b[0;34m(\u001b[0m\u001b[0mValueError\u001b[0m\u001b[0;34m,\u001b[0m \u001b[0mAssertionError\u001b[0m\u001b[0;34m,\u001b[0m \u001b[0mTypeError\u001b[0m\u001b[0;34m,\u001b[0m \u001b[0mDataError\u001b[0m\u001b[0;34m,\u001b[0m \u001b[0mIndexError\u001b[0m\u001b[0;34m)\u001b[0m \u001b[0;32mas\u001b[0m \u001b[0me\u001b[0m\u001b[0;34m:\u001b[0m\u001b[0;34m\u001b[0m\u001b[0;34m\u001b[0m\u001b[0m\n\u001b[1;32m    170\u001b[0m         \u001b[0mwarn_correlation\u001b[0m\u001b[0;34m(\u001b[0m\u001b[0mcorrelation_name\u001b[0m\u001b[0;34m,\u001b[0m \u001b[0me\u001b[0m\u001b[0;34m)\u001b[0m\u001b[0;34m\u001b[0m\u001b[0;34m\u001b[0m\u001b[0m\n",
      "\u001b[0;32m/Library/Frameworks/Python.framework/Versions/3.8/lib/python3.8/site-packages/pandas_profiling/model/correlations.py\u001b[0m in \u001b[0;36mcompute\u001b[0;34m(df, summary)\u001b[0m\n\u001b[1;32m    125\u001b[0m             \u001b[0;32mimport\u001b[0m \u001b[0mphik\u001b[0m\u001b[0;34m\u001b[0m\u001b[0;34m\u001b[0m\u001b[0m\n\u001b[1;32m    126\u001b[0m \u001b[0;34m\u001b[0m\u001b[0m\n\u001b[0;32m--> 127\u001b[0;31m             \u001b[0mcorrelation\u001b[0m \u001b[0;34m=\u001b[0m \u001b[0mdf\u001b[0m\u001b[0;34m[\u001b[0m\u001b[0mselcols\u001b[0m\u001b[0;34m]\u001b[0m\u001b[0;34m.\u001b[0m\u001b[0mphik_matrix\u001b[0m\u001b[0;34m(\u001b[0m\u001b[0minterval_cols\u001b[0m\u001b[0;34m=\u001b[0m\u001b[0mintcols\u001b[0m\u001b[0;34m)\u001b[0m\u001b[0;34m\u001b[0m\u001b[0;34m\u001b[0m\u001b[0m\n\u001b[0m\u001b[1;32m    128\u001b[0m \u001b[0;34m\u001b[0m\u001b[0m\n\u001b[1;32m    129\u001b[0m         \u001b[0;32mreturn\u001b[0m \u001b[0mcorrelation\u001b[0m\u001b[0;34m\u001b[0m\u001b[0;34m\u001b[0m\u001b[0m\n",
      "\u001b[0;32m/Library/Frameworks/Python.framework/Versions/3.8/lib/python3.8/site-packages/phik/phik.py\u001b[0m in \u001b[0;36mphik_matrix\u001b[0;34m(df, interval_cols, bins, quantile, noise_correction, dropna, drop_underflow, drop_overflow, verbose)\u001b[0m\n\u001b[1;32m    214\u001b[0m     \u001b[0mdf_clean\u001b[0m\u001b[0;34m,\u001b[0m \u001b[0minterval_cols_clean\u001b[0m \u001b[0;34m=\u001b[0m \u001b[0mdq_check_nunique_values\u001b[0m\u001b[0;34m(\u001b[0m\u001b[0mdf\u001b[0m\u001b[0;34m,\u001b[0m \u001b[0minterval_cols\u001b[0m\u001b[0;34m,\u001b[0m \u001b[0mdropna\u001b[0m\u001b[0;34m=\u001b[0m\u001b[0mdropna\u001b[0m\u001b[0;34m)\u001b[0m\u001b[0;34m\u001b[0m\u001b[0;34m\u001b[0m\u001b[0m\n\u001b[1;32m    215\u001b[0m \u001b[0;34m\u001b[0m\u001b[0m\n\u001b[0;32m--> 216\u001b[0;31m     \u001b[0mdata_binned\u001b[0m\u001b[0;34m,\u001b[0m \u001b[0mbinning_dict\u001b[0m \u001b[0;34m=\u001b[0m \u001b[0mbin_data\u001b[0m\u001b[0;34m(\u001b[0m\u001b[0mdf_clean\u001b[0m\u001b[0;34m,\u001b[0m \u001b[0mcols\u001b[0m\u001b[0;34m=\u001b[0m\u001b[0minterval_cols_clean\u001b[0m\u001b[0;34m,\u001b[0m \u001b[0mbins\u001b[0m\u001b[0;34m=\u001b[0m\u001b[0mbins\u001b[0m\u001b[0;34m,\u001b[0m \u001b[0mquantile\u001b[0m\u001b[0;34m=\u001b[0m\u001b[0mquantile\u001b[0m\u001b[0;34m,\u001b[0m \u001b[0mretbins\u001b[0m\u001b[0;34m=\u001b[0m\u001b[0;32mTrue\u001b[0m\u001b[0;34m)\u001b[0m\u001b[0;34m\u001b[0m\u001b[0;34m\u001b[0m\u001b[0m\n\u001b[0m\u001b[1;32m    217\u001b[0m \u001b[0;34m\u001b[0m\u001b[0m\n\u001b[1;32m    218\u001b[0m     return phik_from_rebinned_df(\n",
      "\u001b[0;32m/Library/Frameworks/Python.framework/Versions/3.8/lib/python3.8/site-packages/phik/binning.py\u001b[0m in \u001b[0;36mbin_data\u001b[0;34m(data, cols, bins, quantile, retbins)\u001b[0m\n\u001b[1;32m    111\u001b[0m             \u001b[0;32melif\u001b[0m \u001b[0misinstance\u001b[0m\u001b[0;34m(\u001b[0m\u001b[0mbins\u001b[0m\u001b[0;34m[\u001b[0m\u001b[0mcol\u001b[0m\u001b[0;34m]\u001b[0m\u001b[0;34m,\u001b[0m \u001b[0;34m(\u001b[0m\u001b[0mlist\u001b[0m\u001b[0;34m,\u001b[0m \u001b[0mnp\u001b[0m\u001b[0;34m.\u001b[0m\u001b[0mndarray\u001b[0m\u001b[0;34m)\u001b[0m\u001b[0;34m)\u001b[0m\u001b[0;34m:\u001b[0m\u001b[0;34m\u001b[0m\u001b[0;34m\u001b[0m\u001b[0m\n\u001b[1;32m    112\u001b[0m                 \u001b[0mxbins\u001b[0m \u001b[0;34m=\u001b[0m \u001b[0mbins\u001b[0m\u001b[0;34m[\u001b[0m\u001b[0mcol\u001b[0m\u001b[0;34m]\u001b[0m\u001b[0;34m\u001b[0m\u001b[0;34m\u001b[0m\u001b[0m\n\u001b[0;32m--> 113\u001b[0;31m         \u001b[0mbinned_data\u001b[0m\u001b[0;34m[\u001b[0m\u001b[0mcol\u001b[0m\u001b[0;34m]\u001b[0m\u001b[0;34m,\u001b[0m \u001b[0mbin_labels\u001b[0m \u001b[0;34m=\u001b[0m \u001b[0mbin_array\u001b[0m\u001b[0;34m(\u001b[0m\u001b[0mdata\u001b[0m\u001b[0;34m[\u001b[0m\u001b[0mcol\u001b[0m\u001b[0;34m]\u001b[0m\u001b[0;34m.\u001b[0m\u001b[0mastype\u001b[0m\u001b[0;34m(\u001b[0m\u001b[0mfloat\u001b[0m\u001b[0;34m)\u001b[0m\u001b[0;34m.\u001b[0m\u001b[0mvalues\u001b[0m\u001b[0;34m,\u001b[0m \u001b[0mxbins\u001b[0m\u001b[0;34m)\u001b[0m\u001b[0;34m\u001b[0m\u001b[0;34m\u001b[0m\u001b[0m\n\u001b[0m\u001b[1;32m    114\u001b[0m         \u001b[0;32mif\u001b[0m \u001b[0mretbins\u001b[0m\u001b[0;34m:\u001b[0m\u001b[0;34m\u001b[0m\u001b[0;34m\u001b[0m\u001b[0m\n\u001b[1;32m    115\u001b[0m             \u001b[0mbins_dict\u001b[0m\u001b[0;34m[\u001b[0m\u001b[0mcol\u001b[0m\u001b[0;34m]\u001b[0m \u001b[0;34m=\u001b[0m \u001b[0mbin_labels\u001b[0m\u001b[0;34m\u001b[0m\u001b[0;34m\u001b[0m\u001b[0m\n",
      "\u001b[0;32m/Library/Frameworks/Python.framework/Versions/3.8/lib/python3.8/site-packages/phik/binning.py\u001b[0m in \u001b[0;36mbin_array\u001b[0;34m(arr, bin_edges)\u001b[0m\n\u001b[1;32m     59\u001b[0m     \u001b[0;31m# Check if all bins are filled and store bin-labels\u001b[0m\u001b[0;34m\u001b[0m\u001b[0;34m\u001b[0m\u001b[0;34m\u001b[0m\u001b[0m\n\u001b[1;32m     60\u001b[0m     \u001b[0mbin_labels\u001b[0m \u001b[0;34m=\u001b[0m \u001b[0;34m[\u001b[0m\u001b[0;34m]\u001b[0m\u001b[0;34m\u001b[0m\u001b[0;34m\u001b[0m\u001b[0m\n\u001b[0;32m---> 61\u001b[0;31m     \u001b[0mbin_indices\u001b[0m \u001b[0;34m=\u001b[0m \u001b[0mpd\u001b[0m\u001b[0;34m.\u001b[0m\u001b[0mSeries\u001b[0m\u001b[0;34m(\u001b[0m\u001b[0mbinned_arr\u001b[0m\u001b[0;34m)\u001b[0m\u001b[0;34m.\u001b[0m\u001b[0mvalue_counts\u001b[0m\u001b[0;34m(\u001b[0m\u001b[0;34m)\u001b[0m\u001b[0;34m.\u001b[0m\u001b[0mindex\u001b[0m\u001b[0;34m\u001b[0m\u001b[0;34m\u001b[0m\u001b[0m\n\u001b[0m\u001b[1;32m     62\u001b[0m     \u001b[0;32mfor\u001b[0m \u001b[0mi\u001b[0m \u001b[0;32min\u001b[0m \u001b[0mrange\u001b[0m\u001b[0;34m(\u001b[0m\u001b[0;36m1\u001b[0m\u001b[0;34m,\u001b[0m \u001b[0mlen\u001b[0m\u001b[0;34m(\u001b[0m\u001b[0mbin_edges\u001b[0m\u001b[0;34m)\u001b[0m\u001b[0;34m)\u001b[0m\u001b[0;34m:\u001b[0m\u001b[0;34m\u001b[0m\u001b[0;34m\u001b[0m\u001b[0m\n\u001b[1;32m     63\u001b[0m         \u001b[0;32mif\u001b[0m \u001b[0mi\u001b[0m \u001b[0;32min\u001b[0m \u001b[0mbin_indices\u001b[0m\u001b[0;34m:\u001b[0m\u001b[0;34m\u001b[0m\u001b[0;34m\u001b[0m\u001b[0m\n",
      "\u001b[0;32m/Library/Frameworks/Python.framework/Versions/3.8/lib/python3.8/site-packages/pandas/core/base.py\u001b[0m in \u001b[0;36mvalue_counts\u001b[0;34m(self, normalize, sort, ascending, bins, dropna)\u001b[0m\n\u001b[1;32m   1243\u001b[0m         \u001b[0mdtype\u001b[0m\u001b[0;34m:\u001b[0m \u001b[0mint64\u001b[0m\u001b[0;34m\u001b[0m\u001b[0;34m\u001b[0m\u001b[0m\n\u001b[1;32m   1244\u001b[0m         \"\"\"\n\u001b[0;32m-> 1245\u001b[0;31m         result = value_counts(\n\u001b[0m\u001b[1;32m   1246\u001b[0m             \u001b[0mself\u001b[0m\u001b[0;34m,\u001b[0m\u001b[0;34m\u001b[0m\u001b[0;34m\u001b[0m\u001b[0m\n\u001b[1;32m   1247\u001b[0m             \u001b[0msort\u001b[0m\u001b[0;34m=\u001b[0m\u001b[0msort\u001b[0m\u001b[0;34m,\u001b[0m\u001b[0;34m\u001b[0m\u001b[0;34m\u001b[0m\u001b[0m\n",
      "\u001b[0;32m/Library/Frameworks/Python.framework/Versions/3.8/lib/python3.8/site-packages/pandas/core/algorithms.py\u001b[0m in \u001b[0;36mvalue_counts\u001b[0;34m(values, sort, ascending, normalize, bins, dropna)\u001b[0m\n\u001b[1;32m    771\u001b[0m \u001b[0;34m\u001b[0m\u001b[0m\n\u001b[1;32m    772\u001b[0m         \u001b[0;32melse\u001b[0m\u001b[0;34m:\u001b[0m\u001b[0;34m\u001b[0m\u001b[0;34m\u001b[0m\u001b[0m\n\u001b[0;32m--> 773\u001b[0;31m             \u001b[0mkeys\u001b[0m\u001b[0;34m,\u001b[0m \u001b[0mcounts\u001b[0m \u001b[0;34m=\u001b[0m \u001b[0m_value_counts_arraylike\u001b[0m\u001b[0;34m(\u001b[0m\u001b[0mvalues\u001b[0m\u001b[0;34m,\u001b[0m \u001b[0mdropna\u001b[0m\u001b[0;34m)\u001b[0m\u001b[0;34m\u001b[0m\u001b[0;34m\u001b[0m\u001b[0m\n\u001b[0m\u001b[1;32m    774\u001b[0m \u001b[0;34m\u001b[0m\u001b[0m\n\u001b[1;32m    775\u001b[0m             \u001b[0mresult\u001b[0m \u001b[0;34m=\u001b[0m \u001b[0mSeries\u001b[0m\u001b[0;34m(\u001b[0m\u001b[0mcounts\u001b[0m\u001b[0;34m,\u001b[0m \u001b[0mindex\u001b[0m\u001b[0;34m=\u001b[0m\u001b[0mkeys\u001b[0m\u001b[0;34m,\u001b[0m \u001b[0mname\u001b[0m\u001b[0;34m=\u001b[0m\u001b[0mname\u001b[0m\u001b[0;34m)\u001b[0m\u001b[0;34m\u001b[0m\u001b[0;34m\u001b[0m\u001b[0m\n",
      "\u001b[0;32m/Library/Frameworks/Python.framework/Versions/3.8/lib/python3.8/site-packages/pandas/core/algorithms.py\u001b[0m in \u001b[0;36m_value_counts_arraylike\u001b[0;34m(values, dropna)\u001b[0m\n\u001b[1;32m    818\u001b[0m         \u001b[0mkeys\u001b[0m\u001b[0;34m,\u001b[0m \u001b[0mcounts\u001b[0m \u001b[0;34m=\u001b[0m \u001b[0mf\u001b[0m\u001b[0;34m(\u001b[0m\u001b[0mvalues\u001b[0m\u001b[0;34m,\u001b[0m \u001b[0mdropna\u001b[0m\u001b[0;34m)\u001b[0m\u001b[0;34m\u001b[0m\u001b[0;34m\u001b[0m\u001b[0m\n\u001b[1;32m    819\u001b[0m \u001b[0;34m\u001b[0m\u001b[0m\n\u001b[0;32m--> 820\u001b[0;31m         \u001b[0mmask\u001b[0m \u001b[0;34m=\u001b[0m \u001b[0misna\u001b[0m\u001b[0;34m(\u001b[0m\u001b[0mvalues\u001b[0m\u001b[0;34m)\u001b[0m\u001b[0;34m\u001b[0m\u001b[0;34m\u001b[0m\u001b[0m\n\u001b[0m\u001b[1;32m    821\u001b[0m         \u001b[0;32mif\u001b[0m \u001b[0;32mnot\u001b[0m \u001b[0mdropna\u001b[0m \u001b[0;32mand\u001b[0m \u001b[0mmask\u001b[0m\u001b[0;34m.\u001b[0m\u001b[0many\u001b[0m\u001b[0;34m(\u001b[0m\u001b[0;34m)\u001b[0m\u001b[0;34m:\u001b[0m\u001b[0;34m\u001b[0m\u001b[0;34m\u001b[0m\u001b[0m\n\u001b[1;32m    822\u001b[0m             \u001b[0;32mif\u001b[0m \u001b[0;32mnot\u001b[0m \u001b[0misna\u001b[0m\u001b[0;34m(\u001b[0m\u001b[0mkeys\u001b[0m\u001b[0;34m)\u001b[0m\u001b[0;34m.\u001b[0m\u001b[0many\u001b[0m\u001b[0;34m(\u001b[0m\u001b[0;34m)\u001b[0m\u001b[0;34m:\u001b[0m\u001b[0;34m\u001b[0m\u001b[0;34m\u001b[0m\u001b[0m\n",
      "\u001b[0;32m/Library/Frameworks/Python.framework/Versions/3.8/lib/python3.8/site-packages/pandas/core/dtypes/missing.py\u001b[0m in \u001b[0;36misna\u001b[0;34m(obj)\u001b[0m\n\u001b[1;32m    122\u001b[0m     \u001b[0mName\u001b[0m\u001b[0;34m:\u001b[0m \u001b[0;36m1\u001b[0m\u001b[0;34m,\u001b[0m \u001b[0mdtype\u001b[0m\u001b[0;34m:\u001b[0m \u001b[0mbool\u001b[0m\u001b[0;34m\u001b[0m\u001b[0;34m\u001b[0m\u001b[0m\n\u001b[1;32m    123\u001b[0m     \"\"\"\n\u001b[0;32m--> 124\u001b[0;31m     \u001b[0;32mreturn\u001b[0m \u001b[0m_isna\u001b[0m\u001b[0;34m(\u001b[0m\u001b[0mobj\u001b[0m\u001b[0;34m)\u001b[0m\u001b[0;34m\u001b[0m\u001b[0;34m\u001b[0m\u001b[0m\n\u001b[0m\u001b[1;32m    125\u001b[0m \u001b[0;34m\u001b[0m\u001b[0m\n\u001b[1;32m    126\u001b[0m \u001b[0;34m\u001b[0m\u001b[0m\n",
      "\u001b[0;32m/Library/Frameworks/Python.framework/Versions/3.8/lib/python3.8/site-packages/pandas/core/dtypes/missing.py\u001b[0m in \u001b[0;36m_isna\u001b[0;34m(obj, inf_as_na)\u001b[0m\n\u001b[1;32m    155\u001b[0m         \u001b[0;32mreturn\u001b[0m \u001b[0;32mFalse\u001b[0m\u001b[0;34m\u001b[0m\u001b[0;34m\u001b[0m\u001b[0m\n\u001b[1;32m    156\u001b[0m     \u001b[0;32melif\u001b[0m \u001b[0misinstance\u001b[0m\u001b[0;34m(\u001b[0m\u001b[0mobj\u001b[0m\u001b[0;34m,\u001b[0m \u001b[0;34m(\u001b[0m\u001b[0mABCSeries\u001b[0m\u001b[0;34m,\u001b[0m \u001b[0mnp\u001b[0m\u001b[0;34m.\u001b[0m\u001b[0mndarray\u001b[0m\u001b[0;34m,\u001b[0m \u001b[0mABCIndexClass\u001b[0m\u001b[0;34m,\u001b[0m \u001b[0mABCExtensionArray\u001b[0m\u001b[0;34m)\u001b[0m\u001b[0;34m)\u001b[0m\u001b[0;34m:\u001b[0m\u001b[0;34m\u001b[0m\u001b[0;34m\u001b[0m\u001b[0m\n\u001b[0;32m--> 157\u001b[0;31m         \u001b[0;32mreturn\u001b[0m \u001b[0m_isna_ndarraylike\u001b[0m\u001b[0;34m(\u001b[0m\u001b[0mobj\u001b[0m\u001b[0;34m,\u001b[0m \u001b[0minf_as_na\u001b[0m\u001b[0;34m=\u001b[0m\u001b[0minf_as_na\u001b[0m\u001b[0;34m)\u001b[0m\u001b[0;34m\u001b[0m\u001b[0;34m\u001b[0m\u001b[0m\n\u001b[0m\u001b[1;32m    158\u001b[0m     \u001b[0;32melif\u001b[0m \u001b[0misinstance\u001b[0m\u001b[0;34m(\u001b[0m\u001b[0mobj\u001b[0m\u001b[0;34m,\u001b[0m \u001b[0mABCDataFrame\u001b[0m\u001b[0;34m)\u001b[0m\u001b[0;34m:\u001b[0m\u001b[0;34m\u001b[0m\u001b[0;34m\u001b[0m\u001b[0m\n\u001b[1;32m    159\u001b[0m         \u001b[0;32mreturn\u001b[0m \u001b[0mobj\u001b[0m\u001b[0;34m.\u001b[0m\u001b[0misna\u001b[0m\u001b[0;34m(\u001b[0m\u001b[0;34m)\u001b[0m\u001b[0;34m\u001b[0m\u001b[0;34m\u001b[0m\u001b[0m\n",
      "\u001b[0;32m/Library/Frameworks/Python.framework/Versions/3.8/lib/python3.8/site-packages/pandas/core/dtypes/missing.py\u001b[0m in \u001b[0;36m_isna_ndarraylike\u001b[0;34m(obj, inf_as_na)\u001b[0m\n\u001b[1;32m    216\u001b[0m             \u001b[0mresult\u001b[0m \u001b[0;34m=\u001b[0m \u001b[0mvalues\u001b[0m\u001b[0;34m.\u001b[0m\u001b[0misna\u001b[0m\u001b[0;34m(\u001b[0m\u001b[0;34m)\u001b[0m\u001b[0;34m\u001b[0m\u001b[0;34m\u001b[0m\u001b[0m\n\u001b[1;32m    217\u001b[0m     \u001b[0;32melif\u001b[0m \u001b[0mis_string_dtype\u001b[0m\u001b[0;34m(\u001b[0m\u001b[0mdtype\u001b[0m\u001b[0;34m)\u001b[0m\u001b[0;34m:\u001b[0m\u001b[0;34m\u001b[0m\u001b[0;34m\u001b[0m\u001b[0m\n\u001b[0;32m--> 218\u001b[0;31m         \u001b[0mresult\u001b[0m \u001b[0;34m=\u001b[0m \u001b[0m_isna_string_dtype\u001b[0m\u001b[0;34m(\u001b[0m\u001b[0mvalues\u001b[0m\u001b[0;34m,\u001b[0m \u001b[0mdtype\u001b[0m\u001b[0;34m,\u001b[0m \u001b[0minf_as_na\u001b[0m\u001b[0;34m=\u001b[0m\u001b[0minf_as_na\u001b[0m\u001b[0;34m)\u001b[0m\u001b[0;34m\u001b[0m\u001b[0;34m\u001b[0m\u001b[0m\n\u001b[0m\u001b[1;32m    219\u001b[0m     \u001b[0;32melif\u001b[0m \u001b[0mneeds_i8_conversion\u001b[0m\u001b[0;34m(\u001b[0m\u001b[0mdtype\u001b[0m\u001b[0;34m)\u001b[0m\u001b[0;34m:\u001b[0m\u001b[0;34m\u001b[0m\u001b[0;34m\u001b[0m\u001b[0m\n\u001b[1;32m    220\u001b[0m         \u001b[0;31m# this is the NaT pattern\u001b[0m\u001b[0;34m\u001b[0m\u001b[0;34m\u001b[0m\u001b[0;34m\u001b[0m\u001b[0m\n",
      "\u001b[0;32m/Library/Frameworks/Python.framework/Versions/3.8/lib/python3.8/site-packages/pandas/core/dtypes/missing.py\u001b[0m in \u001b[0;36m_isna_string_dtype\u001b[0;34m(values, dtype, inf_as_na)\u001b[0m\n\u001b[1;32m    246\u001b[0m             \u001b[0mvec\u001b[0m \u001b[0;34m=\u001b[0m \u001b[0mlibmissing\u001b[0m\u001b[0;34m.\u001b[0m\u001b[0misnaobj_old\u001b[0m\u001b[0;34m(\u001b[0m\u001b[0mvalues\u001b[0m\u001b[0;34m.\u001b[0m\u001b[0mravel\u001b[0m\u001b[0;34m(\u001b[0m\u001b[0;34m)\u001b[0m\u001b[0;34m)\u001b[0m\u001b[0;34m\u001b[0m\u001b[0;34m\u001b[0m\u001b[0m\n\u001b[1;32m    247\u001b[0m         \u001b[0;32melse\u001b[0m\u001b[0;34m:\u001b[0m\u001b[0;34m\u001b[0m\u001b[0;34m\u001b[0m\u001b[0m\n\u001b[0;32m--> 248\u001b[0;31m             \u001b[0mvec\u001b[0m \u001b[0;34m=\u001b[0m \u001b[0mlibmissing\u001b[0m\u001b[0;34m.\u001b[0m\u001b[0misnaobj\u001b[0m\u001b[0;34m(\u001b[0m\u001b[0mvalues\u001b[0m\u001b[0;34m.\u001b[0m\u001b[0mravel\u001b[0m\u001b[0;34m(\u001b[0m\u001b[0;34m)\u001b[0m\u001b[0;34m)\u001b[0m\u001b[0;34m\u001b[0m\u001b[0;34m\u001b[0m\u001b[0m\n\u001b[0m\u001b[1;32m    249\u001b[0m \u001b[0;34m\u001b[0m\u001b[0m\n\u001b[1;32m    250\u001b[0m         \u001b[0mresult\u001b[0m\u001b[0;34m[\u001b[0m\u001b[0;34m...\u001b[0m\u001b[0;34m]\u001b[0m \u001b[0;34m=\u001b[0m \u001b[0mvec\u001b[0m\u001b[0;34m.\u001b[0m\u001b[0mreshape\u001b[0m\u001b[0;34m(\u001b[0m\u001b[0mshape\u001b[0m\u001b[0;34m)\u001b[0m\u001b[0;34m\u001b[0m\u001b[0;34m\u001b[0m\u001b[0m\n",
      "\u001b[0;31mKeyboardInterrupt\u001b[0m: "
     ]
    }
   ],
   "source": [
    "from pandas_profiling import ProfileReport\n",
    "prof = ProfileReport(df5)\n",
    "prof.to_file(output_file='report.html')"
   ]
  },
  {
   "cell_type": "code",
   "execution_count": null,
   "metadata": {},
   "outputs": [],
   "source": [
    "#!pip3 install pandas_profiling"
   ]
  },
  {
   "cell_type": "code",
   "execution_count": 126,
   "metadata": {},
   "outputs": [
    {
     "name": "stdout",
     "output_type": "stream",
     "text": [
      "<class 'pandas.core.frame.DataFrame'>\n",
      "RangeIndex: 58690 entries, 0 to 58689\n",
      "Data columns (total 12 columns):\n",
      " #   Column                                                      Non-Null Count  Dtype  \n",
      "---  ------                                                      --------------  -----  \n",
      " 0   dateRep                                                     58690 non-null  object \n",
      " 1   day                                                         58690 non-null  int64  \n",
      " 2   month                                                       58690 non-null  int64  \n",
      " 3   year                                                        58690 non-null  int64  \n",
      " 4   cases                                                       58690 non-null  int64  \n",
      " 5   deaths                                                      58690 non-null  int64  \n",
      " 6   countriesAndTerritories                                     58690 non-null  object \n",
      " 7   geoId                                                       58430 non-null  object \n",
      " 8   countryterritoryCode                                        58582 non-null  object \n",
      " 9   popData2019                                                 58582 non-null  float64\n",
      " 10  continentExp                                                58690 non-null  object \n",
      " 11  Cumulative_number_for_14_days_of_COVID-19_cases_per_100000  55826 non-null  float64\n",
      "dtypes: float64(2), int64(5), object(5)\n",
      "memory usage: 5.4+ MB\n"
     ]
    }
   ],
   "source": [
    "df5.info()"
   ]
  },
  {
   "cell_type": "code",
   "execution_count": 133,
   "metadata": {},
   "outputs": [],
   "source": [
    "df5['Fecha'] = (df5['day'].astype(str) + \"/\" + df5['month'].astype(str) + \"/\" + df5['year'].astype(str))\n",
    "df5= df5.sort_values(by = \"Fecha\")\n",
    "df5['Fecha'] = df5['Fecha'].map(lambda x : datetime.strptime(x, '%d/%m/%Y'))"
   ]
  },
  {
   "cell_type": "markdown",
   "metadata": {},
   "source": [
    "Se quitan los outliers"
   ]
  },
  {
   "cell_type": "code",
   "execution_count": 163,
   "metadata": {},
   "outputs": [],
   "source": [
    "df5 = df5.drop(df5[df5['cases'] < 0].index)\n",
    "df5 = df5.drop(df5[df5['deaths'] < 0].index)"
   ]
  },
  {
   "cell_type": "code",
   "execution_count": 194,
   "metadata": {},
   "outputs": [],
   "source": [
    "spain= df5.loc[df5['countriesAndTerritories'] == 'Spain']"
   ]
  },
  {
   "cell_type": "code",
   "execution_count": 165,
   "metadata": {},
   "outputs": [
    {
     "data": {
      "text/plain": [
       "<AxesSubplot:xlabel='cases'>"
      ]
     },
     "execution_count": 165,
     "metadata": {},
     "output_type": "execute_result"
    },
    {
     "data": {
      "image/png": "[encoded data removed]",
      "text/plain": [
       "<Figure size 432x288 with 1 Axes>"
      ]
     },
     "metadata": {
      "needs_background": "light"
     },
     "output_type": "display_data"
    }
   ],
   "source": [
    "import seaborn as sns\n",
    "sns.boxplot(x=spain.cases)"
   ]
  },
  {
   "cell_type": "code",
   "execution_count": 195,
   "metadata": {},
   "outputs": [
    {
     "data": {
      "application/vnd.plotly.v1+json": {
       "config": {
        "plotlyServerURL": "https://plot.ly"
       },
       "data": [
        {
         "alignmentgroup": "True",
         "hovertemplate": "Fecha=%{x}<br>cases=%{y}<extra></extra>",
         "legendgroup": "",
         "marker": {
          "color": "#636efa"
         },
         "name": "",
         "offsetgroup": "",
         "orientation": "v",
         "showlegend": false,
         "textposition": "auto",
         "type": "bar",
         "x": [
          "2020-01-01T00:00:00",
          "2020-10-01T00:00:00",
          "2020-11-01T00:00:00",
          "2020-02-01T00:00:00",
          "2020-03-01T00:00:00",
          "2020-04-01T00:00:00",
          "2020-05-01T00:00:00",
          "2020-06-01T00:00:00",
          "2020-07-01T00:00:00",
          "2020-08-01T00:00:00",
          "2020-09-01T00:00:00",
          "2020-01-10T00:00:00",
          "2020-10-10T00:00:00",
          "2020-11-10T00:00:00",
          "2020-02-10T00:00:00",
          "2020-03-10T00:00:00",
          "2020-04-10T00:00:00",
          "2020-05-10T00:00:00",
          "2020-06-10T00:00:00",
          "2020-07-10T00:00:00",
          "2020-08-10T00:00:00",
          "2020-09-10T00:00:00",
          "2020-01-11T00:00:00",
          "2020-10-11T00:00:00",
          "2020-11-11T00:00:00",
          "2020-02-11T00:00:00",
          "2020-03-11T00:00:00",
          "2020-04-11T00:00:00",
          "2020-05-11T00:00:00",
          "2020-06-11T00:00:00",
          "2020-07-11T00:00:00",
          "2020-08-11T00:00:00",
          "2020-09-11T00:00:00",
          "2020-01-12T00:00:00",
          "2020-10-12T00:00:00",
          "2020-11-12T00:00:00",
          "2020-02-12T00:00:00",
          "2020-03-12T00:00:00",
          "2020-04-12T00:00:00",
          "2020-05-12T00:00:00",
          "2020-06-12T00:00:00",
          "2020-07-12T00:00:00",
          "2020-09-12T00:00:00",
          "2020-01-13T00:00:00",
          "2020-10-13T00:00:00",
          "2020-11-13T00:00:00",
          "2020-02-13T00:00:00",
          "2020-03-13T00:00:00",
          "2020-04-13T00:00:00",
          "2020-05-13T00:00:00",
          "2020-06-13T00:00:00",
          "2020-07-13T00:00:00",
          "2020-08-13T00:00:00",
          "2020-09-13T00:00:00",
          "2020-01-14T00:00:00",
          "2020-10-14T00:00:00",
          "2020-11-14T00:00:00",
          "2020-02-14T00:00:00",
          "2020-03-14T00:00:00",
          "2020-04-14T00:00:00",
          "2020-05-14T00:00:00",
          "2020-06-14T00:00:00",
          "2020-07-14T00:00:00",
          "2020-08-14T00:00:00",
          "2020-09-14T00:00:00",
          "2020-01-15T00:00:00",
          "2020-10-15T00:00:00",
          "2020-11-15T00:00:00",
          "2020-02-15T00:00:00",
          "2020-03-15T00:00:00",
          "2020-04-15T00:00:00",
          "2020-05-15T00:00:00",
          "2020-06-15T00:00:00",
          "2020-07-15T00:00:00",
          "2020-08-15T00:00:00",
          "2020-09-15T00:00:00",
          "2020-01-16T00:00:00",
          "2020-10-16T00:00:00",
          "2020-11-16T00:00:00",
          "2020-02-16T00:00:00",
          "2020-03-16T00:00:00",
          "2020-04-16T00:00:00",
          "2020-05-16T00:00:00",
          "2020-06-16T00:00:00",
          "2020-07-16T00:00:00",
          "2020-08-16T00:00:00",
          "2020-09-16T00:00:00",
          "2020-01-17T00:00:00",
          "2020-10-17T00:00:00",
          "2020-11-17T00:00:00",
          "2020-02-17T00:00:00",
          "2020-03-17T00:00:00",
          "2020-04-17T00:00:00",
          "2020-05-17T00:00:00",
          "2020-06-17T00:00:00",
          "2020-07-17T00:00:00",
          "2020-08-17T00:00:00",
          "2020-09-17T00:00:00",
          "2020-01-18T00:00:00",
          "2020-10-18T00:00:00",
          "2020-11-18T00:00:00",
          "2020-02-18T00:00:00",
          "2020-03-18T00:00:00",
          "2020-04-18T00:00:00",
          "2020-05-18T00:00:00",
          "2020-06-18T00:00:00",
          "2020-07-18T00:00:00",
          "2020-08-18T00:00:00",
          "2020-09-18T00:00:00",
          "2020-01-19T00:00:00",
          "2020-10-19T00:00:00",
          "2020-11-19T00:00:00",
          "2020-02-19T00:00:00",
          "2020-03-19T00:00:00",
          "2020-05-19T00:00:00",
          "2020-06-19T00:00:00",
          "2020-07-19T00:00:00",
          "2020-08-19T00:00:00",
          "2020-09-19T00:00:00",
          "2020-01-02T00:00:00",
          "2020-10-02T00:00:00",
          "2020-11-02T00:00:00",
          "2020-02-02T00:00:00",
          "2020-03-02T00:00:00",
          "2020-04-02T00:00:00",
          "2020-05-02T00:00:00",
          "2020-06-02T00:00:00",
          "2020-07-02T00:00:00",
          "2020-08-02T00:00:00",
          "2020-09-02T00:00:00",
          "2020-01-20T00:00:00",
          "2020-10-20T00:00:00",
          "2020-11-20T00:00:00",
          "2020-02-20T00:00:00",
          "2020-03-20T00:00:00",
          "2020-04-20T00:00:00",
          "2020-05-20T00:00:00",
          "2020-06-20T00:00:00",
          "2020-07-20T00:00:00",
          "2020-08-20T00:00:00",
          "2020-09-20T00:00:00",
          "2020-01-21T00:00:00",
          "2020-10-21T00:00:00",
          "2020-11-21T00:00:00",
          "2020-02-21T00:00:00",
          "2020-03-21T00:00:00",
          "2020-04-21T00:00:00",
          "2020-05-21T00:00:00",
          "2020-06-21T00:00:00",
          "2020-07-21T00:00:00",
          "2020-08-21T00:00:00",
          "2020-09-21T00:00:00",
          "2020-01-22T00:00:00",
          "2020-10-22T00:00:00",
          "2020-11-22T00:00:00",
          "2020-02-22T00:00:00",
          "2020-03-22T00:00:00",
          "2020-04-22T00:00:00",
          "2020-05-22T00:00:00",
          "2020-06-22T00:00:00",
          "2020-07-22T00:00:00",
          "2020-08-22T00:00:00",
          "2020-09-22T00:00:00",
          "2020-01-23T00:00:00",
          "2020-10-23T00:00:00",
          "2020-11-23T00:00:00",
          "2020-02-23T00:00:00",
          "2020-03-23T00:00:00",
          "2020-04-23T00:00:00",
          "2020-05-23T00:00:00",
          "2020-06-23T00:00:00",
          "2020-07-23T00:00:00",
          "2020-08-23T00:00:00",
          "2020-09-23T00:00:00",
          "2020-01-24T00:00:00",
          "2020-10-24T00:00:00",
          "2020-11-24T00:00:00",
          "2020-02-24T00:00:00",
          "2020-03-24T00:00:00",
          "2020-04-24T00:00:00",
          "2020-05-24T00:00:00",
          "2020-06-24T00:00:00",
          "2020-07-24T00:00:00",
          "2020-08-24T00:00:00",
          "2020-09-24T00:00:00",
          "2020-01-25T00:00:00",
          "2020-10-25T00:00:00",
          "2020-11-25T00:00:00",
          "2020-02-25T00:00:00",
          "2020-03-25T00:00:00",
          "2020-04-25T00:00:00",
          "2020-06-25T00:00:00",
          "2020-07-25T00:00:00",
          "2020-08-25T00:00:00",
          "2020-09-25T00:00:00",
          "2020-01-26T00:00:00",
          "2020-10-26T00:00:00",
          "2020-11-26T00:00:00",
          "2020-02-26T00:00:00",
          "2020-03-26T00:00:00",
          "2020-04-26T00:00:00",
          "2020-05-26T00:00:00",
          "2020-06-26T00:00:00",
          "2020-07-26T00:00:00",
          "2020-08-26T00:00:00",
          "2020-09-26T00:00:00",
          "2020-01-27T00:00:00",
          "2020-10-27T00:00:00",
          "2020-11-27T00:00:00",
          "2020-02-27T00:00:00",
          "2020-03-27T00:00:00",
          "2020-04-27T00:00:00",
          "2020-05-27T00:00:00",
          "2020-06-27T00:00:00",
          "2020-07-27T00:00:00",
          "2020-08-27T00:00:00",
          "2020-09-27T00:00:00",
          "2020-01-28T00:00:00",
          "2020-10-28T00:00:00",
          "2020-11-28T00:00:00",
          "2020-02-28T00:00:00",
          "2020-03-28T00:00:00",
          "2020-04-28T00:00:00",
          "2020-05-28T00:00:00",
          "2020-06-28T00:00:00",
          "2020-07-28T00:00:00",
          "2020-08-28T00:00:00",
          "2020-09-28T00:00:00",
          "2020-01-29T00:00:00",
          "2020-10-29T00:00:00",
          "2020-02-29T00:00:00",
          "2020-03-29T00:00:00",
          "2020-04-29T00:00:00",
          "2020-05-29T00:00:00",
          "2020-06-29T00:00:00",
          "2020-07-29T00:00:00",
          "2020-08-29T00:00:00",
          "2020-09-29T00:00:00",
          "2020-01-03T00:00:00",
          "2020-10-03T00:00:00",
          "2020-11-03T00:00:00",
          "2020-02-03T00:00:00",
          "2020-03-03T00:00:00",
          "2020-04-03T00:00:00",
          "2020-05-03T00:00:00",
          "2020-06-03T00:00:00",
          "2020-07-03T00:00:00",
          "2020-08-03T00:00:00",
          "2020-09-03T00:00:00",
          "2020-01-30T00:00:00",
          "2020-10-30T00:00:00",
          "2020-03-30T00:00:00",
          "2020-04-30T00:00:00",
          "2020-05-30T00:00:00",
          "2020-06-30T00:00:00",
          "2020-07-30T00:00:00",
          "2020-08-30T00:00:00",
          "2020-09-30T00:00:00",
          "2020-01-31T00:00:00",
          "2020-10-31T00:00:00",
          "2019-12-31T00:00:00",
          "2020-03-31T00:00:00",
          "2020-05-31T00:00:00",
          "2020-07-31T00:00:00",
          "2020-08-31T00:00:00",
          "2020-01-04T00:00:00",
          "2020-10-04T00:00:00",
          "2020-11-04T00:00:00",
          "2020-02-04T00:00:00",
          "2020-03-04T00:00:00",
          "2020-04-04T00:00:00",
          "2020-05-04T00:00:00",
          "2020-06-04T00:00:00",
          "2020-07-04T00:00:00",
          "2020-08-04T00:00:00",
          "2020-09-04T00:00:00",
          "2020-01-05T00:00:00",
          "2020-10-05T00:00:00",
          "2020-11-05T00:00:00",
          "2020-02-05T00:00:00",
          "2020-03-05T00:00:00",
          "2020-04-05T00:00:00",
          "2020-05-05T00:00:00",
          "2020-06-05T00:00:00",
          "2020-07-05T00:00:00",
          "2020-08-05T00:00:00",
          "2020-09-05T00:00:00",
          "2020-01-06T00:00:00",
          "2020-10-06T00:00:00",
          "2020-11-06T00:00:00",
          "2020-02-06T00:00:00",
          "2020-03-06T00:00:00",
          "2020-04-06T00:00:00",
          "2020-05-06T00:00:00",
          "2020-06-06T00:00:00",
          "2020-07-06T00:00:00",
          "2020-08-06T00:00:00",
          "2020-09-06T00:00:00",
          "2020-01-07T00:00:00",
          "2020-10-07T00:00:00",
          "2020-11-07T00:00:00",
          "2020-02-07T00:00:00",
          "2020-03-07T00:00:00",
          "2020-04-07T00:00:00",
          "2020-05-07T00:00:00",
          "2020-06-07T00:00:00",
          "2020-07-07T00:00:00",
          "2020-08-07T00:00:00",
          "2020-09-07T00:00:00",
          "2020-01-08T00:00:00",
          "2020-10-08T00:00:00",
          "2020-11-08T00:00:00",
          "2020-02-08T00:00:00",
          "2020-03-08T00:00:00",
          "2020-04-08T00:00:00",
          "2020-05-08T00:00:00",
          "2020-06-08T00:00:00",
          "2020-07-08T00:00:00",
          "2020-08-08T00:00:00",
          "2020-09-08T00:00:00",
          "2020-01-09T00:00:00",
          "2020-10-09T00:00:00",
          "2020-11-09T00:00:00",
          "2020-02-09T00:00:00",
          "2020-03-09T00:00:00",
          "2020-04-09T00:00:00",
          "2020-05-09T00:00:00",
          "2020-06-09T00:00:00",
          "2020-07-09T00:00:00",
          "2020-08-09T00:00:00",
          "2020-09-09T00:00:00"
         ],
         "xaxis": "x",
         "y": [
          0,
          9419,
          0,
          1,
          28,
          7413,
          1387,
          209,
          388,
          0,
          8115,
          0,
          0,
          17395,
          1,
          772,
          4537,
          3416,
          314,
          852,
          8618,
          10764,
          0,
          0,
          19096,
          0,
          975,
          4550,
          393,
          427,
          0,
          3632,
          12183,
          0,
          27856,
          19511,
          0,
          1153,
          3899,
          482,
          502,
          0,
          0,
          0,
          7118,
          21371,
          0,
          1531,
          3030,
          439,
          396,
          2045,
          7550,
          0,
          0,
          11970,
          0,
          0,
          1683,
          3116,
          849,
          323,
          666,
          5479,
          27404,
          0,
          13318,
          0,
          0,
          2144,
          4424,
          643,
          181,
          875,
          0,
          9437,
          0,
          15186,
          38273,
          0,
          1706,
          3820,
          515,
          219,
          1361,
          0,
          11193,
          0,
          0,
          13159,
          0,
          2503,
          3818,
          652,
          355,
          1400,
          16269,
          11291,
          0,
          0,
          15318,
          0,
          3694,
          3836,
          256,
          585,
          0,
          5114,
          14389,
          0,
          37889,
          16233,
          0,
          4047,
          431,
          307,
          0,
          6671,
          0,
          0,
          11325,
          55019,
          0,
          54,
          7583,
          1234,
          294,
          444,
          0,
          8581,
          0,
          13873,
          15156,
          0,
          4569,
          2218,
          518,
          363,
          4581,
          7039,
          0,
          0,
          16973,
          0,
          0,
          5446,
          2951,
          482,
          334,
          1358,
          8148,
          31428,
          0,
          20986,
          0,
          0,
          4866,
          2312,
          1787,
          232,
          1357,
          0,
          10799,
          0,
          19851,
          25886,
          0,
          4646,
          2916,
          466,
          248,
          2615,
          0,
          11289,
          0,
          0,
          12228,
          0,
          7691,
          2114,
          482,
          334,
          2255,
          19382,
          10653,
          0,
          0,
          10222,
          1,
          8553,
          2506,
          400,
          0,
          7117,
          12272,
          0,
          52188,
          12289,
          6,
          8954,
          1641,
          859,
          419,
          0,
          7296,
          0,
          0,
          18418,
          10853,
          8,
          9181,
          1660,
          510,
          564,
          6361,
          9658,
          0,
          0,
          19765,
          0,
          18,
          8244,
          1525,
          1137,
          301,
          1828,
          9779,
          31785,
          0,
          23580,
          19,
          6424,
          847,
          658,
          200,
          2031,
          0,
          9906,
          0,
          0,
          18669,
          0,
          56,
          7272,
          935,
          394,
          442,
          8532,
          8959,
          0,
          25595,
          5813,
          1241,
          664,
          301,
          2789,
          0,
          11016,
          0,
          0,
          0,
          8145,
          201,
          3092,
          23572,
          0,
          0,
          25042,
          0,
          75,
          6663,
          466,
          334,
          0,
          5760,
          10476,
          0,
          23480,
          21908,
          0,
          81,
          5533,
          1039,
          318,
          0,
          2953,
          0,
          0,
          11998,
          22516,
          0,
          183,
          3667,
          880,
          332,
          1244,
          4088,
          0,
          0,
          10491,
          0,
          0,
          233,
          5209,
          921,
          240,
          341,
          4507,
          26560,
          0,
          12423,
          0,
          0,
          330,
          5583,
          1173,
          167,
          383,
          0,
          8964,
          0,
          12788,
          52386,
          0,
          433,
          5745,
          743,
          249,
          543,
          0,
          8866
         ],
         "yaxis": "y"
        }
       ],
       "layout": {
        "barmode": "relative",
        "legend": {
         "tracegroupgap": 0
        },
        "template": {
         "data": {
          "bar": [
           {
            "error_x": {
             "color": "#2a3f5f"
            },
            "error_y": {
             "color": "#2a3f5f"
            },
            "marker": {
             "line": {
              "color": "#E5ECF6",
              "width": 0.5
             }
            },
            "type": "bar"
           }
          ],
          "barpolar": [
           {
            "marker": {
             "line": {
              "color": "#E5ECF6",
              "width": 0.5
             }
            },
            "type": "barpolar"
           }
          ],
          "carpet": [
           {
            "aaxis": {
             "endlinecolor": "#2a3f5f",
             "gridcolor": "white",
             "linecolor": "white",
             "minorgridcolor": "white",
             "startlinecolor": "#2a3f5f"
            },
            "baxis": {
             "endlinecolor": "#2a3f5f",
             "gridcolor": "white",
             "linecolor": "white",
             "minorgridcolor": "white",
             "startlinecolor": "#2a3f5f"
            },
            "type": "carpet"
           }
          ],
          "choropleth": [
           {
            "colorbar": {
             "outlinewidth": 0,
             "ticks": ""
            },
            "type": "choropleth"
           }
          ],
          "contour": [
           {
            "colorbar": {
             "outlinewidth": 0,
             "ticks": ""
            },
            "colorscale": [
             [
              0,
              "#0d0887"
             ],
             [
              0.1111111111111111,
              "#46039f"
             ],
             [
              0.2222222222222222,
              "#7201a8"
             ],
             [
              0.3333333333333333,
              "#9c179e"
             ],
             [
              0.4444444444444444,
              "#bd3786"
             ],
             [
              0.5555555555555556,
              "#d8576b"
             ],
             [
              0.6666666666666666,
              "#ed7953"
             ],
             [
              0.7777777777777778,
              "#fb9f3a"
             ],
             [
              0.8888888888888888,
              "#fdca26"
             ],
             [
              1,
              "#f0f921"
             ]
            ],
            "type": "contour"
           }
          ],
          "contourcarpet": [
           {
            "colorbar": {
             "outlinewidth": 0,
             "ticks": ""
            },
            "type": "contourcarpet"
           }
          ],
          "heatmap": [
           {
            "colorbar": {
             "outlinewidth": 0,
             "ticks": ""
            },
            "colorscale": [
             [
              0,
              "#0d0887"
             ],
             [
              0.1111111111111111,
              "#46039f"
             ],
             [
              0.2222222222222222,
              "#7201a8"
             ],
             [
              0.3333333333333333,
              "#9c179e"
             ],
             [
              0.4444444444444444,
              "#bd3786"
             ],
             [
              0.5555555555555556,
              "#d8576b"
             ],
             [
              0.6666666666666666,
              "#ed7953"
             ],
             [
              0.7777777777777778,
              "#fb9f3a"
             ],
             [
              0.8888888888888888,
              "#fdca26"
             ],
             [
              1,
              "#f0f921"
             ]
            ],
            "type": "heatmap"
           }
          ],
          "heatmapgl": [
           {
            "colorbar": {
             "outlinewidth": 0,
             "ticks": ""
            },
            "colorscale": [
             [
              0,
              "#0d0887"
             ],
             [
              0.1111111111111111,
              "#46039f"
             ],
             [
              0.2222222222222222,
              "#7201a8"
             ],
             [
              0.3333333333333333,
              "#9c179e"
             ],
             [
              0.4444444444444444,
              "#bd3786"
             ],
             [
              0.5555555555555556,
              "#d8576b"
             ],
             [
              0.6666666666666666,
              "#ed7953"
             ],
             [
              0.7777777777777778,
              "#fb9f3a"
             ],
             [
              0.8888888888888888,
              "#fdca26"
             ],
             [
              1,
              "#f0f921"
             ]
            ],
            "type": "heatmapgl"
           }
          ],
          "histogram": [
           {
            "marker": {
             "colorbar": {
              "outlinewidth": 0,
              "ticks": ""
             }
            },
            "type": "histogram"
           }
          ],
          "histogram2d": [
           {
            "colorbar": {
             "outlinewidth": 0,
             "ticks": ""
            },
            "colorscale": [
             [
              0,
              "#0d0887"
             ],
             [
              0.1111111111111111,
              "#46039f"
             ],
             [
              0.2222222222222222,
              "#7201a8"
             ],
             [
              0.3333333333333333,
              "#9c179e"
             ],
             [
              0.4444444444444444,
              "#bd3786"
             ],
             [
              0.5555555555555556,
              "#d8576b"
             ],
             [
              0.6666666666666666,
              "#ed7953"
             ],
             [
              0.7777777777777778,
              "#fb9f3a"
             ],
             [
              0.8888888888888888,
              "#fdca26"
             ],
             [
              1,
              "#f0f921"
             ]
            ],
            "type": "histogram2d"
           }
          ],
          "histogram2dcontour": [
           {
            "colorbar": {
             "outlinewidth": 0,
             "ticks": ""
            },
            "colorscale": [
             [
              0,
              "#0d0887"
             ],
             [
              0.1111111111111111,
              "#46039f"
             ],
             [
              0.2222222222222222,
              "#7201a8"
             ],
             [
              0.3333333333333333,
              "#9c179e"
             ],
             [
              0.4444444444444444,
              "#bd3786"
             ],
             [
              0.5555555555555556,
              "#d8576b"
             ],
             [
              0.6666666666666666,
              "#ed7953"
             ],
             [
              0.7777777777777778,
              "#fb9f3a"
             ],
             [
              0.8888888888888888,
              "#fdca26"
             ],
             [
              1,
              "#f0f921"
             ]
            ],
            "type": "histogram2dcontour"
           }
          ],
          "mesh3d": [
           {
            "colorbar": {
             "outlinewidth": 0,
             "ticks": ""
            },
            "type": "mesh3d"
           }
          ],
          "parcoords": [
           {
            "line": {
             "colorbar": {
              "outlinewidth": 0,
              "ticks": ""
             }
            },
            "type": "parcoords"
           }
          ],
          "pie": [
           {
            "automargin": true,
            "type": "pie"
           }
          ],
          "scatter": [
           {
            "marker": {
             "colorbar": {
              "outlinewidth": 0,
              "ticks": ""
             }
            },
            "type": "scatter"
           }
          ],
          "scatter3d": [
           {
            "line": {
             "colorbar": {
              "outlinewidth": 0,
              "ticks": ""
             }
            },
            "marker": {
             "colorbar": {
              "outlinewidth": 0,
              "ticks": ""
             }
            },
            "type": "scatter3d"
           }
          ],
          "scattercarpet": [
           {
            "marker": {
             "colorbar": {
              "outlinewidth": 0,
              "ticks": ""
             }
            },
            "type": "scattercarpet"
           }
          ],
          "scattergeo": [
           {
            "marker": {
             "colorbar": {
              "outlinewidth": 0,
              "ticks": ""
             }
            },
            "type": "scattergeo"
           }
          ],
          "scattergl": [
           {
            "marker": {
             "colorbar": {
              "outlinewidth": 0,
              "ticks": ""
             }
            },
            "type": "scattergl"
           }
          ],
          "scattermapbox": [
           {
            "marker": {
             "colorbar": {
              "outlinewidth": 0,
              "ticks": ""
             }
            },
            "type": "scattermapbox"
           }
          ],
          "scatterpolar": [
           {
            "marker": {
             "colorbar": {
              "outlinewidth": 0,
              "ticks": ""
             }
            },
            "type": "scatterpolar"
           }
          ],
          "scatterpolargl": [
           {
            "marker": {
             "colorbar": {
              "outlinewidth": 0,
              "ticks": ""
             }
            },
            "type": "scatterpolargl"
           }
          ],
          "scatterternary": [
           {
            "marker": {
             "colorbar": {
              "outlinewidth": 0,
              "ticks": ""
             }
            },
            "type": "scatterternary"
           }
          ],
          "surface": [
           {
            "colorbar": {
             "outlinewidth": 0,
             "ticks": ""
            },
            "colorscale": [
             [
              0,
              "#0d0887"
             ],
             [
              0.1111111111111111,
              "#46039f"
             ],
             [
              0.2222222222222222,
              "#7201a8"
             ],
             [
              0.3333333333333333,
              "#9c179e"
             ],
             [
              0.4444444444444444,
              "#bd3786"
             ],
             [
              0.5555555555555556,
              "#d8576b"
             ],
             [
              0.6666666666666666,
              "#ed7953"
             ],
             [
              0.7777777777777778,
              "#fb9f3a"
             ],
             [
              0.8888888888888888,
              "#fdca26"
             ],
             [
              1,
              "#f0f921"
             ]
            ],
            "type": "surface"
           }
          ],
          "table": [
           {
            "cells": {
             "fill": {
              "color": "#EBF0F8"
             },
             "line": {
              "color": "white"
             }
            },
            "header": {
             "fill": {
              "color": "#C8D4E3"
             },
             "line": {
              "color": "white"
             }
            },
            "type": "table"
           }
          ]
         },
         "layout": {
          "annotationdefaults": {
           "arrowcolor": "#2a3f5f",
           "arrowhead": 0,
           "arrowwidth": 1
          },
          "autotypenumbers": "strict",
          "coloraxis": {
           "colorbar": {
            "outlinewidth": 0,
            "ticks": ""
           }
          },
          "colorscale": {
           "diverging": [
            [
             0,
             "#8e0152"
            ],
            [
             0.1,
             "#c51b7d"
            ],
            [
             0.2,
             "#de77ae"
            ],
            [
             0.3,
             "#f1b6da"
            ],
            [
             0.4,
             "#fde0ef"
            ],
            [
             0.5,
             "#f7f7f7"
            ],
            [
             0.6,
             "#e6f5d0"
            ],
            [
             0.7,
             "#b8e186"
            ],
            [
             0.8,
             "#7fbc41"
            ],
            [
             0.9,
             "#4d9221"
            ],
            [
             1,
             "#276419"
            ]
           ],
           "sequential": [
            [
             0,
             "#0d0887"
            ],
            [
             0.1111111111111111,
             "#46039f"
            ],
            [
             0.2222222222222222,
             "#7201a8"
            ],
            [
             0.3333333333333333,
             "#9c179e"
            ],
            [
             0.4444444444444444,
             "#bd3786"
            ],
            [
             0.5555555555555556,
             "#d8576b"
            ],
            [
             0.6666666666666666,
             "#ed7953"
            ],
            [
             0.7777777777777778,
             "#fb9f3a"
            ],
            [
             0.8888888888888888,
             "#fdca26"
            ],
            [
             1,
             "#f0f921"
            ]
           ],
           "sequentialminus": [
            [
             0,
             "#0d0887"
            ],
            [
             0.1111111111111111,
             "#46039f"
            ],
            [
             0.2222222222222222,
             "#7201a8"
            ],
            [
             0.3333333333333333,
             "#9c179e"
            ],
            [
             0.4444444444444444,
             "#bd3786"
            ],
            [
             0.5555555555555556,
             "#d8576b"
            ],
            [
             0.6666666666666666,
             "#ed7953"
            ],
            [
             0.7777777777777778,
             "#fb9f3a"
            ],
            [
             0.8888888888888888,
             "#fdca26"
            ],
            [
             1,
             "#f0f921"
            ]
           ]
          },
          "colorway": [
           "#636efa",
           "#EF553B",
           "#00cc96",
           "#ab63fa",
           "#FFA15A",
           "#19d3f3",
           "#FF6692",
           "#B6E880",
           "#FF97FF",
           "#FECB52"
          ],
          "font": {
           "color": "#2a3f5f"
          },
          "geo": {
           "bgcolor": "white",
           "lakecolor": "white",
           "landcolor": "#E5ECF6",
           "showlakes": true,
           "showland": true,
           "subunitcolor": "white"
          },
          "hoverlabel": {
           "align": "left"
          },
          "hovermode": "closest",
          "mapbox": {
           "style": "light"
          },
          "paper_bgcolor": "white",
          "plot_bgcolor": "#E5ECF6",
          "polar": {
           "angularaxis": {
            "gridcolor": "white",
            "linecolor": "white",
            "ticks": ""
           },
           "bgcolor": "#E5ECF6",
           "radialaxis": {
            "gridcolor": "white",
            "linecolor": "white",
            "ticks": ""
           }
          },
          "scene": {
           "xaxis": {
            "backgroundcolor": "#E5ECF6",
            "gridcolor": "white",
            "gridwidth": 2,
            "linecolor": "white",
            "showbackground": true,
            "ticks": "",
            "zerolinecolor": "white"
           },
           "yaxis": {
            "backgroundcolor": "#E5ECF6",
            "gridcolor": "white",
            "gridwidth": 2,
            "linecolor": "white",
            "showbackground": true,
            "ticks": "",
            "zerolinecolor": "white"
           },
           "zaxis": {
            "backgroundcolor": "#E5ECF6",
            "gridcolor": "white",
            "gridwidth": 2,
            "linecolor": "white",
            "showbackground": true,
            "ticks": "",
            "zerolinecolor": "white"
           }
          },
          "shapedefaults": {
           "line": {
            "color": "#2a3f5f"
           }
          },
          "ternary": {
           "aaxis": {
            "gridcolor": "white",
            "linecolor": "white",
            "ticks": ""
           },
           "baxis": {
            "gridcolor": "white",
            "linecolor": "white",
            "ticks": ""
           },
           "bgcolor": "#E5ECF6",
           "caxis": {
            "gridcolor": "white",
            "linecolor": "white",
            "ticks": ""
           }
          },
          "title": {
           "x": 0.05
          },
          "xaxis": {
           "automargin": true,
           "gridcolor": "white",
           "linecolor": "white",
           "ticks": "",
           "title": {
            "standoff": 15
           },
           "zerolinecolor": "white",
           "zerolinewidth": 2
          },
          "yaxis": {
           "automargin": true,
           "gridcolor": "white",
           "linecolor": "white",
           "ticks": "",
           "title": {
            "standoff": 15
           },
           "zerolinecolor": "white",
           "zerolinewidth": 2
          }
         }
        },
        "title": {
         "text": "Casos por covid"
        },
        "xaxis": {
         "anchor": "y",
         "domain": [
          0,
          1
         ],
         "title": {
          "text": "Fecha"
         }
        },
        "yaxis": {
         "anchor": "x",
         "domain": [
          0,
          1
         ],
         "title": {
          "text": "cases"
         }
        }
       }
      },
      "text/html": [
       "<div>                            <div id=\"4bd41e3f-e41d-43be-9a9e-c91ce28040d5\" class=\"plotly-graph-div\" style=\"height:525px; width:100%;\"></div>            <script type=\"text/javascript\">                require([\"plotly\"], function(Plotly) {                    window.PLOTLYENV=window.PLOTLYENV || {};                                    if (document.getElementById(\"4bd41e3f-e41d-43be-9a9e-c91ce28040d5\")) {                    Plotly.newPlot(                        \"4bd41e3f-e41d-43be-9a9e-c91ce28040d5\",                        [{\"alignmentgroup\": \"True\", \"hovertemplate\": \"Fecha=%{x}<br>cases=%{y}<extra></extra>\", \"legendgroup\": \"\", \"marker\": {\"color\": \"#636efa\"}, \"name\": \"\", \"offsetgroup\": \"\", \"orientation\": \"v\", \"showlegend\": false, \"textposition\": \"auto\", \"type\": \"bar\", \"x\": [\"2020-01-01T00:00:00\", \"2020-10-01T00:00:00\", \"2020-11-01T00:00:00\", \"2020-02-01T00:00:00\", \"2020-03-01T00:00:00\", \"2020-04-01T00:00:00\", \"2020-05-01T00:00:00\", \"2020-06-01T00:00:00\", \"2020-07-01T00:00:00\", \"2020-08-01T00:00:00\", \"2020-09-01T00:00:00\", \"2020-01-10T00:00:00\", \"2020-10-10T00:00:00\", \"2020-11-10T00:00:00\", \"2020-02-10T00:00:00\", \"2020-03-10T00:00:00\", \"2020-04-10T00:00:00\", \"2020-05-10T00:00:00\", \"2020-06-10T00:00:00\", \"2020-07-10T00:00:00\", \"2020-08-10T00:00:00\", \"2020-09-10T00:00:00\", \"2020-01-11T00:00:00\", \"2020-10-11T00:00:00\", \"2020-11-11T00:00:00\", \"2020-02-11T00:00:00\", \"2020-03-11T00:00:00\", \"2020-04-11T00:00:00\", \"2020-05-11T00:00:00\", \"2020-06-11T00:00:00\", \"2020-07-11T00:00:00\", \"2020-08-11T00:00:00\", \"2020-09-11T00:00:00\", \"2020-01-12T00:00:00\", \"2020-10-12T00:00:00\", \"2020-11-12T00:00:00\", \"2020-02-12T00:00:00\", \"2020-03-12T00:00:00\", \"2020-04-12T00:00:00\", \"2020-05-12T00:00:00\", \"2020-06-12T00:00:00\", \"2020-07-12T00:00:00\", \"2020-09-12T00:00:00\", \"2020-01-13T00:00:00\", \"2020-10-13T00:00:00\", \"2020-11-13T00:00:00\", \"2020-02-13T00:00:00\", \"2020-03-13T00:00:00\", \"2020-04-13T00:00:00\", \"2020-05-13T00:00:00\", \"2020-06-13T00:00:00\", \"2020-07-13T00:00:00\", \"2020-08-13T00:00:00\", \"2020-09-13T00:00:00\", \"2020-01-14T00:00:00\", \"2020-10-14T00:00:00\", \"2020-11-14T00:00:00\", \"2020-02-14T00:00:00\", \"2020-03-14T00:00:00\", \"2020-04-14T00:00:00\", \"2020-05-14T00:00:00\", \"2020-06-14T00:00:00\", \"2020-07-14T00:00:00\", \"2020-08-14T00:00:00\", \"2020-09-14T00:00:00\", \"2020-01-15T00:00:00\", \"2020-10-15T00:00:00\", \"2020-11-15T00:00:00\", \"2020-02-15T00:00:00\", \"2020-03-15T00:00:00\", \"2020-04-15T00:00:00\", \"2020-05-15T00:00:00\", \"2020-06-15T00:00:00\", \"2020-07-15T00:00:00\", \"2020-08-15T00:00:00\", \"2020-09-15T00:00:00\", \"2020-01-16T00:00:00\", \"2020-10-16T00:00:00\", \"2020-11-16T00:00:00\", \"2020-02-16T00:00:00\", \"2020-03-16T00:00:00\", \"2020-04-16T00:00:00\", \"2020-05-16T00:00:00\", \"2020-06-16T00:00:00\", \"2020-07-16T00:00:00\", \"2020-08-16T00:00:00\", \"2020-09-16T00:00:00\", \"2020-01-17T00:00:00\", \"2020-10-17T00:00:00\", \"2020-11-17T00:00:00\", \"2020-02-17T00:00:00\", \"2020-03-17T00:00:00\", \"2020-04-17T00:00:00\", \"2020-05-17T00:00:00\", \"2020-06-17T00:00:00\", \"2020-07-17T00:00:00\", \"2020-08-17T00:00:00\", \"2020-09-17T00:00:00\", \"2020-01-18T00:00:00\", \"2020-10-18T00:00:00\", \"2020-11-18T00:00:00\", \"2020-02-18T00:00:00\", \"2020-03-18T00:00:00\", \"2020-04-18T00:00:00\", \"2020-05-18T00:00:00\", \"2020-06-18T00:00:00\", \"2020-07-18T00:00:00\", \"2020-08-18T00:00:00\", \"2020-09-18T00:00:00\", \"2020-01-19T00:00:00\", \"2020-10-19T00:00:00\", \"2020-11-19T00:00:00\", \"2020-02-19T00:00:00\", \"2020-03-19T00:00:00\", \"2020-05-19T00:00:00\", \"2020-06-19T00:00:00\", \"2020-07-19T00:00:00\", \"2020-08-19T00:00:00\", \"2020-09-19T00:00:00\", \"2020-01-02T00:00:00\", \"2020-10-02T00:00:00\", \"2020-11-02T00:00:00\", \"2020-02-02T00:00:00\", \"2020-03-02T00:00:00\", \"2020-04-02T00:00:00\", \"2020-05-02T00:00:00\", \"2020-06-02T00:00:00\", \"2020-07-02T00:00:00\", \"2020-08-02T00:00:00\", \"2020-09-02T00:00:00\", \"2020-01-20T00:00:00\", \"2020-10-20T00:00:00\", \"2020-11-20T00:00:00\", \"2020-02-20T00:00:00\", \"2020-03-20T00:00:00\", \"2020-04-20T00:00:00\", \"2020-05-20T00:00:00\", \"2020-06-20T00:00:00\", \"2020-07-20T00:00:00\", \"2020-08-20T00:00:00\", \"2020-09-20T00:00:00\", \"2020-01-21T00:00:00\", \"2020-10-21T00:00:00\", \"2020-11-21T00:00:00\", \"2020-02-21T00:00:00\", \"2020-03-21T00:00:00\", \"2020-04-21T00:00:00\", \"2020-05-21T00:00:00\", \"2020-06-21T00:00:00\", \"2020-07-21T00:00:00\", \"2020-08-21T00:00:00\", \"2020-09-21T00:00:00\", \"2020-01-22T00:00:00\", \"2020-10-22T00:00:00\", \"2020-11-22T00:00:00\", \"2020-02-22T00:00:00\", \"2020-03-22T00:00:00\", \"2020-04-22T00:00:00\", \"2020-05-22T00:00:00\", \"2020-06-22T00:00:00\", \"2020-07-22T00:00:00\", \"2020-08-22T00:00:00\", \"2020-09-22T00:00:00\", \"2020-01-23T00:00:00\", \"2020-10-23T00:00:00\", \"2020-11-23T00:00:00\", \"2020-02-23T00:00:00\", \"2020-03-23T00:00:00\", \"2020-04-23T00:00:00\", \"2020-05-23T00:00:00\", \"2020-06-23T00:00:00\", \"2020-07-23T00:00:00\", \"2020-08-23T00:00:00\", \"2020-09-23T00:00:00\", \"2020-01-24T00:00:00\", \"2020-10-24T00:00:00\", \"2020-11-24T00:00:00\", \"2020-02-24T00:00:00\", \"2020-03-24T00:00:00\", \"2020-04-24T00:00:00\", \"2020-05-24T00:00:00\", \"2020-06-24T00:00:00\", \"2020-07-24T00:00:00\", \"2020-08-24T00:00:00\", \"2020-09-24T00:00:00\", \"2020-01-25T00:00:00\", \"2020-10-25T00:00:00\", \"2020-11-25T00:00:00\", \"2020-02-25T00:00:00\", \"2020-03-25T00:00:00\", \"2020-04-25T00:00:00\", \"2020-06-25T00:00:00\", \"2020-07-25T00:00:00\", \"2020-08-25T00:00:00\", \"2020-09-25T00:00:00\", \"2020-01-26T00:00:00\", \"2020-10-26T00:00:00\", \"2020-11-26T00:00:00\", \"2020-02-26T00:00:00\", \"2020-03-26T00:00:00\", \"2020-04-26T00:00:00\", \"2020-05-26T00:00:00\", \"2020-06-26T00:00:00\", \"2020-07-26T00:00:00\", \"2020-08-26T00:00:00\", \"2020-09-26T00:00:00\", \"2020-01-27T00:00:00\", \"2020-10-27T00:00:00\", \"2020-11-27T00:00:00\", \"2020-02-27T00:00:00\", \"2020-03-27T00:00:00\", \"2020-04-27T00:00:00\", \"2020-05-27T00:00:00\", \"2020-06-27T00:00:00\", \"2020-07-27T00:00:00\", \"2020-08-27T00:00:00\", \"2020-09-27T00:00:00\", \"2020-01-28T00:00:00\", \"2020-10-28T00:00:00\", \"2020-11-28T00:00:00\", \"2020-02-28T00:00:00\", \"2020-03-28T00:00:00\", \"2020-04-28T00:00:00\", \"2020-05-28T00:00:00\", \"2020-06-28T00:00:00\", \"2020-07-28T00:00:00\", \"2020-08-28T00:00:00\", \"2020-09-28T00:00:00\", \"2020-01-29T00:00:00\", \"2020-10-29T00:00:00\", \"2020-02-29T00:00:00\", \"2020-03-29T00:00:00\", \"2020-04-29T00:00:00\", \"2020-05-29T00:00:00\", \"2020-06-29T00:00:00\", \"2020-07-29T00:00:00\", \"2020-08-29T00:00:00\", \"2020-09-29T00:00:00\", \"2020-01-03T00:00:00\", \"2020-10-03T00:00:00\", \"2020-11-03T00:00:00\", \"2020-02-03T00:00:00\", \"2020-03-03T00:00:00\", \"2020-04-03T00:00:00\", \"2020-05-03T00:00:00\", \"2020-06-03T00:00:00\", \"2020-07-03T00:00:00\", \"2020-08-03T00:00:00\", \"2020-09-03T00:00:00\", \"2020-01-30T00:00:00\", \"2020-10-30T00:00:00\", \"2020-03-30T00:00:00\", \"2020-04-30T00:00:00\", \"2020-05-30T00:00:00\", \"2020-06-30T00:00:00\", \"2020-07-30T00:00:00\", \"2020-08-30T00:00:00\", \"2020-09-30T00:00:00\", \"2020-01-31T00:00:00\", \"2020-10-31T00:00:00\", \"2019-12-31T00:00:00\", \"2020-03-31T00:00:00\", \"2020-05-31T00:00:00\", \"2020-07-31T00:00:00\", \"2020-08-31T00:00:00\", \"2020-01-04T00:00:00\", \"2020-10-04T00:00:00\", \"2020-11-04T00:00:00\", \"2020-02-04T00:00:00\", \"2020-03-04T00:00:00\", \"2020-04-04T00:00:00\", \"2020-05-04T00:00:00\", \"2020-06-04T00:00:00\", \"2020-07-04T00:00:00\", \"2020-08-04T00:00:00\", \"2020-09-04T00:00:00\", \"2020-01-05T00:00:00\", \"2020-10-05T00:00:00\", \"2020-11-05T00:00:00\", \"2020-02-05T00:00:00\", \"2020-03-05T00:00:00\", \"2020-04-05T00:00:00\", \"2020-05-05T00:00:00\", \"2020-06-05T00:00:00\", \"2020-07-05T00:00:00\", \"2020-08-05T00:00:00\", \"2020-09-05T00:00:00\", \"2020-01-06T00:00:00\", \"2020-10-06T00:00:00\", \"2020-11-06T00:00:00\", \"2020-02-06T00:00:00\", \"2020-03-06T00:00:00\", \"2020-04-06T00:00:00\", \"2020-05-06T00:00:00\", \"2020-06-06T00:00:00\", \"2020-07-06T00:00:00\", \"2020-08-06T00:00:00\", \"2020-09-06T00:00:00\", \"2020-01-07T00:00:00\", \"2020-10-07T00:00:00\", \"2020-11-07T00:00:00\", \"2020-02-07T00:00:00\", \"2020-03-07T00:00:00\", \"2020-04-07T00:00:00\", \"2020-05-07T00:00:00\", \"2020-06-07T00:00:00\", \"2020-07-07T00:00:00\", \"2020-08-07T00:00:00\", \"2020-09-07T00:00:00\", \"2020-01-08T00:00:00\", \"2020-10-08T00:00:00\", \"2020-11-08T00:00:00\", \"2020-02-08T00:00:00\", \"2020-03-08T00:00:00\", \"2020-04-08T00:00:00\", \"2020-05-08T00:00:00\", \"2020-06-08T00:00:00\", \"2020-07-08T00:00:00\", \"2020-08-08T00:00:00\", \"2020-09-08T00:00:00\", \"2020-01-09T00:00:00\", \"2020-10-09T00:00:00\", \"2020-11-09T00:00:00\", \"2020-02-09T00:00:00\", \"2020-03-09T00:00:00\", \"2020-04-09T00:00:00\", \"2020-05-09T00:00:00\", \"2020-06-09T00:00:00\", \"2020-07-09T00:00:00\", \"2020-08-09T00:00:00\", \"2020-09-09T00:00:00\"], \"xaxis\": \"x\", \"y\": [0, 9419, 0, 1, 28, 7413, 1387, 209, 388, 0, 8115, 0, 0, 17395, 1, 772, 4537, 3416, 314, 852, 8618, 10764, 0, 0, 19096, 0, 975, 4550, 393, 427, 0, 3632, 12183, 0, 27856, 19511, 0, 1153, 3899, 482, 502, 0, 0, 0, 7118, 21371, 0, 1531, 3030, 439, 396, 2045, 7550, 0, 0, 11970, 0, 0, 1683, 3116, 849, 323, 666, 5479, 27404, 0, 13318, 0, 0, 2144, 4424, 643, 181, 875, 0, 9437, 0, 15186, 38273, 0, 1706, 3820, 515, 219, 1361, 0, 11193, 0, 0, 13159, 0, 2503, 3818, 652, 355, 1400, 16269, 11291, 0, 0, 15318, 0, 3694, 3836, 256, 585, 0, 5114, 14389, 0, 37889, 16233, 0, 4047, 431, 307, 0, 6671, 0, 0, 11325, 55019, 0, 54, 7583, 1234, 294, 444, 0, 8581, 0, 13873, 15156, 0, 4569, 2218, 518, 363, 4581, 7039, 0, 0, 16973, 0, 0, 5446, 2951, 482, 334, 1358, 8148, 31428, 0, 20986, 0, 0, 4866, 2312, 1787, 232, 1357, 0, 10799, 0, 19851, 25886, 0, 4646, 2916, 466, 248, 2615, 0, 11289, 0, 0, 12228, 0, 7691, 2114, 482, 334, 2255, 19382, 10653, 0, 0, 10222, 1, 8553, 2506, 400, 0, 7117, 12272, 0, 52188, 12289, 6, 8954, 1641, 859, 419, 0, 7296, 0, 0, 18418, 10853, 8, 9181, 1660, 510, 564, 6361, 9658, 0, 0, 19765, 0, 18, 8244, 1525, 1137, 301, 1828, 9779, 31785, 0, 23580, 19, 6424, 847, 658, 200, 2031, 0, 9906, 0, 0, 18669, 0, 56, 7272, 935, 394, 442, 8532, 8959, 0, 25595, 5813, 1241, 664, 301, 2789, 0, 11016, 0, 0, 0, 8145, 201, 3092, 23572, 0, 0, 25042, 0, 75, 6663, 466, 334, 0, 5760, 10476, 0, 23480, 21908, 0, 81, 5533, 1039, 318, 0, 2953, 0, 0, 11998, 22516, 0, 183, 3667, 880, 332, 1244, 4088, 0, 0, 10491, 0, 0, 233, 5209, 921, 240, 341, 4507, 26560, 0, 12423, 0, 0, 330, 5583, 1173, 167, 383, 0, 8964, 0, 12788, 52386, 0, 433, 5745, 743, 249, 543, 0, 8866], \"yaxis\": \"y\"}],                        {\"barmode\": \"relative\", \"legend\": {\"tracegroupgap\": 0}, \"template\": {\"data\": {\"bar\": [{\"error_x\": {\"color\": \"#2a3f5f\"}, \"error_y\": {\"color\": \"#2a3f5f\"}, \"marker\": {\"line\": {\"color\": \"#E5ECF6\", \"width\": 0.5}}, \"type\": \"bar\"}], \"barpolar\": [{\"marker\": {\"line\": {\"color\": \"#E5ECF6\", \"width\": 0.5}}, \"type\": \"barpolar\"}], \"carpet\": [{\"aaxis\": {\"endlinecolor\": \"#2a3f5f\", \"gridcolor\": \"white\", \"linecolor\": \"white\", \"minorgridcolor\": \"white\", \"startlinecolor\": \"#2a3f5f\"}, \"baxis\": {\"endlinecolor\": \"#2a3f5f\", \"gridcolor\": \"white\", \"linecolor\": \"white\", \"minorgridcolor\": \"white\", \"startlinecolor\": \"#2a3f5f\"}, \"type\": \"carpet\"}], \"choropleth\": [{\"colorbar\": {\"outlinewidth\": 0, \"ticks\": \"\"}, \"type\": \"choropleth\"}], \"contour\": [{\"colorbar\": {\"outlinewidth\": 0, \"ticks\": \"\"}, \"colorscale\": [[0.0, \"#0d0887\"], [0.1111111111111111, \"#46039f\"], [0.2222222222222222, \"#7201a8\"], [0.3333333333333333, \"#9c179e\"], [0.4444444444444444, \"#bd3786\"], [0.5555555555555556, \"#d8576b\"], [0.6666666666666666, \"#ed7953\"], [0.7777777777777778, \"#fb9f3a\"], [0.8888888888888888, \"#fdca26\"], [1.0, \"#f0f921\"]], \"type\": \"contour\"}], \"contourcarpet\": [{\"colorbar\": {\"outlinewidth\": 0, \"ticks\": \"\"}, \"type\": \"contourcarpet\"}], \"heatmap\": [{\"colorbar\": {\"outlinewidth\": 0, \"ticks\": \"\"}, \"colorscale\": [[0.0, \"#0d0887\"], [0.1111111111111111, \"#46039f\"], [0.2222222222222222, \"#7201a8\"], [0.3333333333333333, \"#9c179e\"], [0.4444444444444444, \"#bd3786\"], [0.5555555555555556, \"#d8576b\"], [0.6666666666666666, \"#ed7953\"], [0.7777777777777778, \"#fb9f3a\"], [0.8888888888888888, \"#fdca26\"], [1.0, \"#f0f921\"]], \"type\": \"heatmap\"}], \"heatmapgl\": [{\"colorbar\": {\"outlinewidth\": 0, \"ticks\": \"\"}, \"colorscale\": [[0.0, \"#0d0887\"], [0.1111111111111111, \"#46039f\"], [0.2222222222222222, \"#7201a8\"], [0.3333333333333333, \"#9c179e\"], [0.4444444444444444, \"#bd3786\"], [0.5555555555555556, \"#d8576b\"], [0.6666666666666666, \"#ed7953\"], [0.7777777777777778, \"#fb9f3a\"], [0.8888888888888888, \"#fdca26\"], [1.0, \"#f0f921\"]], \"type\": \"heatmapgl\"}], \"histogram\": [{\"marker\": {\"colorbar\": {\"outlinewidth\": 0, \"ticks\": \"\"}}, \"type\": \"histogram\"}], \"histogram2d\": [{\"colorbar\": {\"outlinewidth\": 0, \"ticks\": \"\"}, \"colorscale\": [[0.0, \"#0d0887\"], [0.1111111111111111, \"#46039f\"], [0.2222222222222222, \"#7201a8\"], [0.3333333333333333, \"#9c179e\"], [0.4444444444444444, \"#bd3786\"], [0.5555555555555556, \"#d8576b\"], [0.6666666666666666, \"#ed7953\"], [0.7777777777777778, \"#fb9f3a\"], [0.8888888888888888, \"#fdca26\"], [1.0, \"#f0f921\"]], \"type\": \"histogram2d\"}], \"histogram2dcontour\": [{\"colorbar\": {\"outlinewidth\": 0, \"ticks\": \"\"}, \"colorscale\": [[0.0, \"#0d0887\"], [0.1111111111111111, \"#46039f\"], [0.2222222222222222, \"#7201a8\"], [0.3333333333333333, \"#9c179e\"], [0.4444444444444444, \"#bd3786\"], [0.5555555555555556, \"#d8576b\"], [0.6666666666666666, \"#ed7953\"], [0.7777777777777778, \"#fb9f3a\"], [0.8888888888888888, \"#fdca26\"], [1.0, \"#f0f921\"]], \"type\": \"histogram2dcontour\"}], \"mesh3d\": [{\"colorbar\": {\"outlinewidth\": 0, \"ticks\": \"\"}, \"type\": \"mesh3d\"}], \"parcoords\": [{\"line\": {\"colorbar\": {\"outlinewidth\": 0, \"ticks\": \"\"}}, \"type\": \"parcoords\"}], \"pie\": [{\"automargin\": true, \"type\": \"pie\"}], \"scatter\": [{\"marker\": {\"colorbar\": {\"outlinewidth\": 0, \"ticks\": \"\"}}, \"type\": \"scatter\"}], \"scatter3d\": [{\"line\": {\"colorbar\": {\"outlinewidth\": 0, \"ticks\": \"\"}}, \"marker\": {\"colorbar\": {\"outlinewidth\": 0, \"ticks\": \"\"}}, \"type\": \"scatter3d\"}], \"scattercarpet\": [{\"marker\": {\"colorbar\": {\"outlinewidth\": 0, \"ticks\": \"\"}}, \"type\": \"scattercarpet\"}], \"scattergeo\": [{\"marker\": {\"colorbar\": {\"outlinewidth\": 0, \"ticks\": \"\"}}, \"type\": \"scattergeo\"}], \"scattergl\": [{\"marker\": {\"colorbar\": {\"outlinewidth\": 0, \"ticks\": \"\"}}, \"type\": \"scattergl\"}], \"scattermapbox\": [{\"marker\": {\"colorbar\": {\"outlinewidth\": 0, \"ticks\": \"\"}}, \"type\": \"scattermapbox\"}], \"scatterpolar\": [{\"marker\": {\"colorbar\": {\"outlinewidth\": 0, \"ticks\": \"\"}}, \"type\": \"scatterpolar\"}], \"scatterpolargl\": [{\"marker\": {\"colorbar\": {\"outlinewidth\": 0, \"ticks\": \"\"}}, \"type\": \"scatterpolargl\"}], \"scatterternary\": [{\"marker\": {\"colorbar\": {\"outlinewidth\": 0, \"ticks\": \"\"}}, \"type\": \"scatterternary\"}], \"surface\": [{\"colorbar\": {\"outlinewidth\": 0, \"ticks\": \"\"}, \"colorscale\": [[0.0, \"#0d0887\"], [0.1111111111111111, \"#46039f\"], [0.2222222222222222, \"#7201a8\"], [0.3333333333333333, \"#9c179e\"], [0.4444444444444444, \"#bd3786\"], [0.5555555555555556, \"#d8576b\"], [0.6666666666666666, \"#ed7953\"], [0.7777777777777778, \"#fb9f3a\"], [0.8888888888888888, \"#fdca26\"], [1.0, \"#f0f921\"]], \"type\": \"surface\"}], \"table\": [{\"cells\": {\"fill\": {\"color\": \"#EBF0F8\"}, \"line\": {\"color\": \"white\"}}, \"header\": {\"fill\": {\"color\": \"#C8D4E3\"}, \"line\": {\"color\": \"white\"}}, \"type\": \"table\"}]}, \"layout\": {\"annotationdefaults\": {\"arrowcolor\": \"#2a3f5f\", \"arrowhead\": 0, \"arrowwidth\": 1}, \"autotypenumbers\": \"strict\", \"coloraxis\": {\"colorbar\": {\"outlinewidth\": 0, \"ticks\": \"\"}}, \"colorscale\": {\"diverging\": [[0, \"#8e0152\"], [0.1, \"#c51b7d\"], [0.2, \"#de77ae\"], [0.3, \"#f1b6da\"], [0.4, \"#fde0ef\"], [0.5, \"#f7f7f7\"], [0.6, \"#e6f5d0\"], [0.7, \"#b8e186\"], [0.8, \"#7fbc41\"], [0.9, \"#4d9221\"], [1, \"#276419\"]], \"sequential\": [[0.0, \"#0d0887\"], [0.1111111111111111, \"#46039f\"], [0.2222222222222222, \"#7201a8\"], [0.3333333333333333, \"#9c179e\"], [0.4444444444444444, \"#bd3786\"], [0.5555555555555556, \"#d8576b\"], [0.6666666666666666, \"#ed7953\"], [0.7777777777777778, \"#fb9f3a\"], [0.8888888888888888, \"#fdca26\"], [1.0, \"#f0f921\"]], \"sequentialminus\": [[0.0, \"#0d0887\"], [0.1111111111111111, \"#46039f\"], [0.2222222222222222, \"#7201a8\"], [0.3333333333333333, \"#9c179e\"], [0.4444444444444444, \"#bd3786\"], [0.5555555555555556, \"#d8576b\"], [0.6666666666666666, \"#ed7953\"], [0.7777777777777778, \"#fb9f3a\"], [0.8888888888888888, \"#fdca26\"], [1.0, \"#f0f921\"]]}, \"colorway\": [\"#636efa\", \"#EF553B\", \"#00cc96\", \"#ab63fa\", \"#FFA15A\", \"#19d3f3\", \"#FF6692\", \"#B6E880\", \"#FF97FF\", \"#FECB52\"], \"font\": {\"color\": \"#2a3f5f\"}, \"geo\": {\"bgcolor\": \"white\", \"lakecolor\": \"white\", \"landcolor\": \"#E5ECF6\", \"showlakes\": true, \"showland\": true, \"subunitcolor\": \"white\"}, \"hoverlabel\": {\"align\": \"left\"}, \"hovermode\": \"closest\", \"mapbox\": {\"style\": \"light\"}, \"paper_bgcolor\": \"white\", \"plot_bgcolor\": \"#E5ECF6\", \"polar\": {\"angularaxis\": {\"gridcolor\": \"white\", \"linecolor\": \"white\", \"ticks\": \"\"}, \"bgcolor\": \"#E5ECF6\", \"radialaxis\": {\"gridcolor\": \"white\", \"linecolor\": \"white\", \"ticks\": \"\"}}, \"scene\": {\"xaxis\": {\"backgroundcolor\": \"#E5ECF6\", \"gridcolor\": \"white\", \"gridwidth\": 2, \"linecolor\": \"white\", \"showbackground\": true, \"ticks\": \"\", \"zerolinecolor\": \"white\"}, \"yaxis\": {\"backgroundcolor\": \"#E5ECF6\", \"gridcolor\": \"white\", \"gridwidth\": 2, \"linecolor\": \"white\", \"showbackground\": true, \"ticks\": \"\", \"zerolinecolor\": \"white\"}, \"zaxis\": {\"backgroundcolor\": \"#E5ECF6\", \"gridcolor\": \"white\", \"gridwidth\": 2, \"linecolor\": \"white\", \"showbackground\": true, \"ticks\": \"\", \"zerolinecolor\": \"white\"}}, \"shapedefaults\": {\"line\": {\"color\": \"#2a3f5f\"}}, \"ternary\": {\"aaxis\": {\"gridcolor\": \"white\", \"linecolor\": \"white\", \"ticks\": \"\"}, \"baxis\": {\"gridcolor\": \"white\", \"linecolor\": \"white\", \"ticks\": \"\"}, \"bgcolor\": \"#E5ECF6\", \"caxis\": {\"gridcolor\": \"white\", \"linecolor\": \"white\", \"ticks\": \"\"}}, \"title\": {\"x\": 0.05}, \"xaxis\": {\"automargin\": true, \"gridcolor\": \"white\", \"linecolor\": \"white\", \"ticks\": \"\", \"title\": {\"standoff\": 15}, \"zerolinecolor\": \"white\", \"zerolinewidth\": 2}, \"yaxis\": {\"automargin\": true, \"gridcolor\": \"white\", \"linecolor\": \"white\", \"ticks\": \"\", \"title\": {\"standoff\": 15}, \"zerolinecolor\": \"white\", \"zerolinewidth\": 2}}}, \"title\": {\"text\": \"Casos por covid\"}, \"xaxis\": {\"anchor\": \"y\", \"domain\": [0.0, 1.0], \"title\": {\"text\": \"Fecha\"}}, \"yaxis\": {\"anchor\": \"x\", \"domain\": [0.0, 1.0], \"title\": {\"text\": \"cases\"}}},                        {\"responsive\": true}                    ).then(function(){\n",
       "                            \n",
       "var gd = document.getElementById('4bd41e3f-e41d-43be-9a9e-c91ce28040d5');\n",
       "var x = new MutationObserver(function (mutations, observer) {{\n",
       "        var display = window.getComputedStyle(gd).display;\n",
       "        if (!display || display === 'none') {{\n",
       "            console.log([gd, 'removed!']);\n",
       "            Plotly.purge(gd);\n",
       "            observer.disconnect();\n",
       "        }}\n",
       "}});\n",
       "\n",
       "// Listen for the removal of the full notebook cells\n",
       "var notebookContainer = gd.closest('#notebook-container');\n",
       "if (notebookContainer) {{\n",
       "    x.observe(notebookContainer, {childList: true});\n",
       "}}\n",
       "\n",
       "// Listen for the clearing of the current output cell\n",
       "var outputEl = gd.closest('.output');\n",
       "if (outputEl) {{\n",
       "    x.observe(outputEl, {childList: true});\n",
       "}}\n",
       "\n",
       "                        })                };                });            </script>        </div>"
      ]
     },
     "metadata": {},
     "output_type": "display_data"
    }
   ],
   "source": [
    "fig = px.bar(spain, x=\"Fecha\", y=\"cases\", title='Casos por covid')\n",
    "fig.show()"
   ]
  },
  {
   "cell_type": "code",
   "execution_count": 196,
   "metadata": {},
   "outputs": [
    {
     "ename": "TypeError",
     "evalue": "add_trace() missing 1 required positional argument: 'trace'",
     "output_type": "error",
     "traceback": [
      "\u001b[0;31m---------------------------------------------------------------------------\u001b[0m",
      "\u001b[0;31mTypeError\u001b[0m                                 Traceback (most recent call last)",
      "\u001b[0;32m<ipython-input-196-2818a17d0079>\u001b[0m in \u001b[0;36m<module>\u001b[0;34m\u001b[0m\n\u001b[1;32m      1\u001b[0m \u001b[0mfig\u001b[0m \u001b[0;34m=\u001b[0m \u001b[0mpx\u001b[0m\u001b[0;34m.\u001b[0m\u001b[0mbar\u001b[0m\u001b[0;34m(\u001b[0m\u001b[0mspain\u001b[0m\u001b[0;34m,\u001b[0m \u001b[0mx\u001b[0m\u001b[0;34m=\u001b[0m\u001b[0;34m\"Fecha\"\u001b[0m\u001b[0;34m,\u001b[0m \u001b[0my\u001b[0m\u001b[0;34m=\u001b[0m\u001b[0;34m\"deaths\"\u001b[0m\u001b[0;34m,\u001b[0m \u001b[0mtitle\u001b[0m\u001b[0;34m=\u001b[0m\u001b[0;34m'Muertes por covid'\u001b[0m\u001b[0;34m)\u001b[0m\u001b[0;34m\u001b[0m\u001b[0;34m\u001b[0m\u001b[0m\n\u001b[0;32m----> 2\u001b[0;31m \u001b[0mfig\u001b[0m\u001b[0;34m.\u001b[0m\u001b[0madd_trace\u001b[0m\u001b[0;34m(\u001b[0m\u001b[0;34m)\u001b[0m\u001b[0;34m\u001b[0m\u001b[0;34m\u001b[0m\u001b[0m\n\u001b[0m\u001b[1;32m      3\u001b[0m \u001b[0mfig\u001b[0m\u001b[0;34m.\u001b[0m\u001b[0mshow\u001b[0m\u001b[0;34m(\u001b[0m\u001b[0;34m)\u001b[0m\u001b[0;34m\u001b[0m\u001b[0;34m\u001b[0m\u001b[0m\n",
      "\u001b[0;31mTypeError\u001b[0m: add_trace() missing 1 required positional argument: 'trace'"
     ]
    }
   ],
   "source": [
    "fig = px.bar(spain, x=\"Fecha\", y=\"deaths\", title='Muertes por covid')\n",
    "fig.add_trace()\n",
    "fig.show()"
   ]
  },
  {
   "cell_type": "code",
   "execution_count": 192,
   "metadata": {},
   "outputs": [
    {
     "data": {
      "text/plain": [
       "<AxesSubplot:xlabel='Fecha'>"
      ]
     },
     "execution_count": 192,
     "metadata": {},
     "output_type": "execute_result"
    },
    {
     "data": {
      "image/png": "[encoded data removed]",
      "text/plain": [
       "<Figure size 720x720 with 1 Axes>"
      ]
     },
     "metadata": {
      "needs_background": "light"
     },
     "output_type": "display_data"
    }
   ],
   "source": [
    "fig = plt.figure()\n",
    "fig.set_size_inches(10,10)\n",
    "g2020.groupby(['Fecha'])['price_mean'].sum().plot()\n"
   ]
  },
  {
   "cell_type": "code",
   "execution_count": null,
   "metadata": {},
   "outputs": [],
   "source": []
  }
 ],
 "metadata": {
  "kernelspec": {
   "display_name": "Python 3",
   "language": "python",
   "name": "python3"
  },
  "language_info": {
   "codemirror_mode": {
    "name": "ipython",
    "version": 3
   },
   "file_extension": ".py",
   "mimetype": "text/x-python",
   "name": "python",
   "nbconvert_exporter": "python",
   "pygments_lexer": "ipython3",
   "version": "3.8.6"
  }
 },
 "nbformat": 4,
 "nbformat_minor": 4
}
